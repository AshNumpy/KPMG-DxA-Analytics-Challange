{
 "cells": [
  {
   "attachments": {},
   "cell_type": "markdown",
   "metadata": {},
   "source": [
    "load data and starting to do hypothesis tests"
   ]
  },
  {
   "cell_type": "code",
   "execution_count": 8,
   "metadata": {},
   "outputs": [],
   "source": [
    "import pandas as pd\n",
    "import numpy as np\n",
    "import matplotlib.pyplot as plt\n",
    "from scipy.stats import shapiro"
   ]
  },
  {
   "cell_type": "code",
   "execution_count": 2,
   "metadata": {},
   "outputs": [
    {
     "data": {
      "text/html": [
       "<div>\n",
       "<style scoped>\n",
       "    .dataframe tbody tr th:only-of-type {\n",
       "        vertical-align: middle;\n",
       "    }\n",
       "\n",
       "    .dataframe tbody tr th {\n",
       "        vertical-align: top;\n",
       "    }\n",
       "\n",
       "    .dataframe thead th {\n",
       "        text-align: right;\n",
       "    }\n",
       "</style>\n",
       "<table border=\"1\" class=\"dataframe\">\n",
       "  <thead>\n",
       "    <tr style=\"text-align: right;\">\n",
       "      <th></th>\n",
       "      <th>Date</th>\n",
       "      <th>Omerli</th>\n",
       "      <th>Darlik</th>\n",
       "      <th>Elmali</th>\n",
       "      <th>Terkos</th>\n",
       "      <th>Alibey</th>\n",
       "      <th>Buyukcekmece</th>\n",
       "      <th>Sazlidere</th>\n",
       "      <th>Kazandere</th>\n",
       "      <th>Pabucdere</th>\n",
       "      <th>Istrancalar</th>\n",
       "    </tr>\n",
       "  </thead>\n",
       "  <tbody>\n",
       "    <tr>\n",
       "      <th>0</th>\n",
       "      <td>01-01-2017</td>\n",
       "      <td>81.07</td>\n",
       "      <td>72.94</td>\n",
       "      <td>0.52</td>\n",
       "      <td>44.45</td>\n",
       "      <td>56.18</td>\n",
       "      <td>33.13</td>\n",
       "      <td>34.07</td>\n",
       "      <td>28.84</td>\n",
       "      <td>13.07</td>\n",
       "      <td>40.24</td>\n",
       "    </tr>\n",
       "    <tr>\n",
       "      <th>1</th>\n",
       "      <td>01-02-2017</td>\n",
       "      <td>82.16</td>\n",
       "      <td>74.11</td>\n",
       "      <td>0.51</td>\n",
       "      <td>44.93</td>\n",
       "      <td>58.38</td>\n",
       "      <td>33.63</td>\n",
       "      <td>34.64</td>\n",
       "      <td>28.57</td>\n",
       "      <td>12.99</td>\n",
       "      <td>34.68</td>\n",
       "    </tr>\n",
       "    <tr>\n",
       "      <th>2</th>\n",
       "      <td>01-03-2017</td>\n",
       "      <td>82.63</td>\n",
       "      <td>74.59</td>\n",
       "      <td>0.51</td>\n",
       "      <td>45.09</td>\n",
       "      <td>59.26</td>\n",
       "      <td>33.63</td>\n",
       "      <td>34.87</td>\n",
       "      <td>28.17</td>\n",
       "      <td>12.93</td>\n",
       "      <td>29.18</td>\n",
       "    </tr>\n",
       "  </tbody>\n",
       "</table>\n",
       "</div>"
      ],
      "text/plain": [
       "         Date  Omerli  Darlik  Elmali  Terkos  Alibey  Buyukcekmece  \\\n",
       "0  01-01-2017   81.07   72.94    0.52   44.45   56.18         33.13   \n",
       "1  01-02-2017   82.16   74.11    0.51   44.93   58.38         33.63   \n",
       "2  01-03-2017   82.63   74.59    0.51   45.09   59.26         33.63   \n",
       "\n",
       "   Sazlidere  Kazandere  Pabucdere  Istrancalar  \n",
       "0      34.07      28.84      13.07        40.24  \n",
       "1      34.64      28.57      12.99        34.68  \n",
       "2      34.87      28.17      12.93        29.18  "
      ]
     },
     "execution_count": 2,
     "metadata": {},
     "output_type": "execute_result"
    }
   ],
   "source": [
    "path = '../Datasets/dataframe.csv'\n",
    "df = pd.read_csv(path);df.head(3)"
   ]
  },
  {
   "attachments": {},
   "cell_type": "markdown",
   "metadata": {},
   "source": [
    "### Normality test  \n",
    "$ H_0: $ Zero difference between data distribution and normal distribution"
   ]
  },
  {
   "cell_type": "code",
   "execution_count": 7,
   "metadata": {},
   "outputs": [
    {
     "name": "stdout",
     "output_type": "stream",
     "text": [
      "Omerli is not Normally distributed\n",
      "Darlik is not Normally distributed\n",
      "Elmali is not Normally distributed\n",
      "Terkos is not Normally distributed\n",
      "Alibey is not Normally distributed\n",
      "Buyukcekmece is not Normally distributed\n",
      "Sazlidere is not Normally distributed\n",
      "Kazandere is not Normally distributed\n",
      "Pabucdere is not Normally distributed\n",
      "Istrancalar is not Normally distributed\n"
     ]
    }
   ],
   "source": [
    "for i in df.columns[1:].tolist():\n",
    "    stat, p = shapiro(df[i])\n",
    "    alpha = 0.05\n",
    "    if p > alpha:\n",
    "        print(f'{i} Normally distributed')\n",
    "    else:\n",
    "        print(f'{i} is not Normally distributed')"
   ]
  },
  {
   "attachments": {},
   "cell_type": "markdown",
   "metadata": {},
   "source": [
    "We can't use regression because of normality test results. Dataset must be normally distributed."
   ]
  },
  {
   "attachments": {},
   "cell_type": "markdown",
   "metadata": {},
   "source": [
    "### Time Series Analysis"
   ]
  },
  {
   "cell_type": "code",
   "execution_count": 39,
   "metadata": {},
   "outputs": [
    {
     "data": {
      "text/html": [
       "<div>\n",
       "<style scoped>\n",
       "    .dataframe tbody tr th:only-of-type {\n",
       "        vertical-align: middle;\n",
       "    }\n",
       "\n",
       "    .dataframe tbody tr th {\n",
       "        vertical-align: top;\n",
       "    }\n",
       "\n",
       "    .dataframe thead th {\n",
       "        text-align: right;\n",
       "    }\n",
       "</style>\n",
       "<table border=\"1\" class=\"dataframe\">\n",
       "  <thead>\n",
       "    <tr style=\"text-align: right;\">\n",
       "      <th></th>\n",
       "      <th>Omerli</th>\n",
       "      <th>Darlik</th>\n",
       "      <th>Elmali</th>\n",
       "      <th>Terkos</th>\n",
       "      <th>Alibey</th>\n",
       "      <th>Buyukcekmece</th>\n",
       "      <th>Sazlidere</th>\n",
       "      <th>Kazandere</th>\n",
       "      <th>Pabucdere</th>\n",
       "      <th>Istrancalar</th>\n",
       "    </tr>\n",
       "    <tr>\n",
       "      <th>Date</th>\n",
       "      <th></th>\n",
       "      <th></th>\n",
       "      <th></th>\n",
       "      <th></th>\n",
       "      <th></th>\n",
       "      <th></th>\n",
       "      <th></th>\n",
       "      <th></th>\n",
       "      <th></th>\n",
       "      <th></th>\n",
       "    </tr>\n",
       "  </thead>\n",
       "  <tbody>\n",
       "    <tr>\n",
       "      <th>2017-01-01</th>\n",
       "      <td>81.07</td>\n",
       "      <td>72.94</td>\n",
       "      <td>0.52</td>\n",
       "      <td>44.45</td>\n",
       "      <td>56.18</td>\n",
       "      <td>33.13</td>\n",
       "      <td>34.07</td>\n",
       "      <td>28.84</td>\n",
       "      <td>13.07</td>\n",
       "      <td>40.24</td>\n",
       "    </tr>\n",
       "    <tr>\n",
       "      <th>2017-01-02</th>\n",
       "      <td>82.16</td>\n",
       "      <td>74.11</td>\n",
       "      <td>0.51</td>\n",
       "      <td>44.93</td>\n",
       "      <td>58.38</td>\n",
       "      <td>33.63</td>\n",
       "      <td>34.64</td>\n",
       "      <td>28.57</td>\n",
       "      <td>12.99</td>\n",
       "      <td>34.68</td>\n",
       "    </tr>\n",
       "    <tr>\n",
       "      <th>2017-01-03</th>\n",
       "      <td>82.63</td>\n",
       "      <td>74.59</td>\n",
       "      <td>0.51</td>\n",
       "      <td>45.09</td>\n",
       "      <td>59.26</td>\n",
       "      <td>33.63</td>\n",
       "      <td>34.87</td>\n",
       "      <td>28.17</td>\n",
       "      <td>12.93</td>\n",
       "      <td>29.18</td>\n",
       "    </tr>\n",
       "  </tbody>\n",
       "</table>\n",
       "</div>"
      ],
      "text/plain": [
       "            Omerli  Darlik  Elmali  Terkos  Alibey  Buyukcekmece  Sazlidere  \\\n",
       "Date                                                                          \n",
       "2017-01-01   81.07   72.94    0.52   44.45   56.18         33.13      34.07   \n",
       "2017-01-02   82.16   74.11    0.51   44.93   58.38         33.63      34.64   \n",
       "2017-01-03   82.63   74.59    0.51   45.09   59.26         33.63      34.87   \n",
       "\n",
       "            Kazandere  Pabucdere  Istrancalar  \n",
       "Date                                           \n",
       "2017-01-01      28.84      13.07        40.24  \n",
       "2017-01-02      28.57      12.99        34.68  \n",
       "2017-01-03      28.17      12.93        29.18  "
      ]
     },
     "execution_count": 39,
     "metadata": {},
     "output_type": "execute_result"
    }
   ],
   "source": [
    "df['Date'] = pd.to_datetime(df['Date'])\n",
    "df = df.sort_values('Date')\n",
    "df.set_index('Date',inplace=True);df.head(3)"
   ]
  },
  {
   "attachments": {},
   "cell_type": "markdown",
   "metadata": {},
   "source": [
    "check stationary to time-series"
   ]
  },
  {
   "cell_type": "code",
   "execution_count": 41,
   "metadata": {},
   "outputs": [],
   "source": [
    "from statsmodels.tsa.stattools import adfuller\n",
    "\n",
    "def adf_test(timeseries):\n",
    "    print('ADF Test Results:')\n",
    "    dftest = adfuller(timeseries, autolag='AIC')\n",
    "    dfoutput = pd.Series(dftest[0:4], index=['Test Statistic', 'p-value', '#Lags Used', 'Number of Observations Used'])\n",
    "    for key, value in dftest[4].items():\n",
    "        dfoutput['Critical Value (%s)'%key] = value\n",
    "    print(dfoutput)"
   ]
  },
  {
   "cell_type": "code",
   "execution_count": 45,
   "metadata": {},
   "outputs": [],
   "source": [
    "train = df[df.index < '2020-01-01']\n",
    "test = df[df.index >='2020-01-01']"
   ]
  },
  {
   "cell_type": "code",
   "execution_count": 49,
   "metadata": {},
   "outputs": [
    {
     "name": "stdout",
     "output_type": "stream",
     "text": [
      "ADF Test Results:\n",
      "Test Statistic                   -2.787614\n",
      "p-value                           0.060065\n",
      "#Lags Used                       23.000000\n",
      "Number of Observations Used    1437.000000\n",
      "Critical Value (1%)              -3.434909\n",
      "Critical Value (5%)              -2.863553\n",
      "Critical Value (10%)             -2.567842\n",
      "dtype: float64\n"
     ]
    }
   ],
   "source": [
    "adf_test(df['Omerli'])"
   ]
  },
  {
   "attachments": {},
   "cell_type": "markdown",
   "metadata": {},
   "source": [
    "Omerli data is not stationary"
   ]
  },
  {
   "cell_type": "code",
   "execution_count": 55,
   "metadata": {},
   "outputs": [
    {
     "name": "stdout",
     "output_type": "stream",
     "text": [
      "ADF Test Results:\n",
      "Test Statistic                   -4.070736\n",
      "p-value                           0.001082\n",
      "#Lags Used                       22.000000\n",
      "Number of Observations Used    1437.000000\n",
      "Critical Value (1%)              -3.434909\n",
      "Critical Value (5%)              -2.863553\n",
      "Critical Value (10%)             -2.567842\n",
      "dtype: float64\n"
     ]
    }
   ],
   "source": [
    "omerli = df['Omerli'].diff().dropna();adf_test(omerli)"
   ]
  },
  {
   "attachments": {},
   "cell_type": "markdown",
   "metadata": {},
   "source": [
    "set the ARIMA models"
   ]
  },
  {
   "cell_type": "code",
   "execution_count": 57,
   "metadata": {},
   "outputs": [
    {
     "data": {
      "image/png": "[encoded data removed]",
      "text/plain": [
       "<Figure size 1200x600 with 1 Axes>"
      ]
     },
     "metadata": {},
     "output_type": "display_data"
    },
    {
     "name": "stderr",
     "output_type": "stream",
     "text": [
      "c:\\Users\\ramaz\\AppData\\Local\\Programs\\Python\\Python311\\Lib\\site-packages\\statsmodels\\graphics\\tsaplots.py:348: FutureWarning: The default method 'yw' can produce PACF values outside of the [-1,1] interval. After 0.13, the default will change tounadjusted Yule-Walker ('ywm'). You can use this method now by setting method='ywm'.\n",
      "  warnings.warn(\n"
     ]
    },
    {
     "data": {
      "image/png": "[encoded data removed]",
      "text/plain": [
       "<Figure size 1200x600 with 1 Axes>"
      ]
     },
     "metadata": {},
     "output_type": "display_data"
    }
   ],
   "source": [
    "from statsmodels.graphics.tsaplots import plot_acf, plot_pacf\n",
    "\n",
    "fig, ax = plt.subplots(figsize=(12, 6))\n",
    "plot_acf(omerli.diff().dropna(), lags=50, ax=ax)\n",
    "plt.show()\n",
    "\n",
    "fig, ax = plt.subplots(figsize=(12, 6))\n",
    "plot_pacf(omerli.diff().dropna(), lags=50, ax=ax)\n",
    "plt.show()"
   ]
  },
  {
   "attachments": {},
   "cell_type": "markdown",
   "metadata": {},
   "source": [
    "Data is stationary and there is no seasonality. Also ACF graph is faster than PACF so the model is MA(q). q=3, p=0 and d=2 ARIMA(3,2,0)"
   ]
  },
  {
   "cell_type": "code",
   "execution_count": 58,
   "metadata": {},
   "outputs": [],
   "source": [
    "import statsmodels.api as sm"
   ]
  },
  {
   "cell_type": "code",
   "execution_count": 66,
   "metadata": {},
   "outputs": [
    {
     "name": "stderr",
     "output_type": "stream",
     "text": [
      "c:\\Users\\ramaz\\AppData\\Local\\Programs\\Python\\Python311\\Lib\\site-packages\\statsmodels\\tsa\\base\\tsa_model.py:471: ValueWarning: No frequency information was provided, so inferred frequency D will be used.\n",
      "  self._init_dates(dates, freq)\n",
      "c:\\Users\\ramaz\\AppData\\Local\\Programs\\Python\\Python311\\Lib\\site-packages\\statsmodels\\tsa\\base\\tsa_model.py:471: ValueWarning: No frequency information was provided, so inferred frequency D will be used.\n",
      "  self._init_dates(dates, freq)\n",
      "c:\\Users\\ramaz\\AppData\\Local\\Programs\\Python\\Python311\\Lib\\site-packages\\statsmodels\\tsa\\base\\tsa_model.py:471: ValueWarning: No frequency information was provided, so inferred frequency D will be used.\n",
      "  self._init_dates(dates, freq)\n"
     ]
    }
   ],
   "source": [
    "import statsmodels.api as sm\n",
    "model = sm.tsa.ARIMA(train['Omerli'], order=(3,2,0))"
   ]
  },
  {
   "cell_type": "code",
   "execution_count": 67,
   "metadata": {},
   "outputs": [],
   "source": [
    "results = model.fit()\n",
    "forecast = results.forecast(steps=365)"
   ]
  },
  {
   "cell_type": "code",
   "execution_count": 82,
   "metadata": {},
   "outputs": [
    {
     "name": "stdout",
     "output_type": "stream",
     "text": [
      "RMSE: 401.14\n"
     ]
    }
   ],
   "source": [
    "from sklearn.metrics import mean_squared_error\n",
    "\n",
    "mse = mean_squared_error(test['Omerli'].iloc[:-1].values, forecast.values)\n",
    "rmse = np.sqrt(mse)\n",
    "print('RMSE:', round(rmse, 2))"
   ]
  },
  {
   "attachments": {},
   "cell_type": "markdown",
   "metadata": {},
   "source": [
    "RMSE value is too high for me and I've no time for developing the model and researching. That why I'll try outo arima and FbProphet."
   ]
  },
  {
   "attachments": {},
   "cell_type": "markdown",
   "metadata": {},
   "source": [
    "Auto ARIMA Model"
   ]
  },
  {
   "cell_type": "code",
   "execution_count": 83,
   "metadata": {},
   "outputs": [
    {
     "name": "stdout",
     "output_type": "stream",
     "text": [
      "Performing stepwise search to minimize aic\n",
      " ARIMA(0,1,0)(0,1,1)[12]             : AIC=1572.601, Time=0.38 sec\n",
      " ARIMA(0,1,0)(0,1,0)[12]             : AIC=1930.794, Time=0.08 sec\n",
      " ARIMA(1,1,0)(1,1,0)[12]             : AIC=1231.258, Time=0.66 sec\n",
      " ARIMA(0,1,1)(0,1,1)[12]             : AIC=1181.167, Time=1.10 sec\n",
      " ARIMA(0,1,1)(0,1,0)[12]             : AIC=1604.105, Time=0.16 sec\n",
      " ARIMA(0,1,1)(1,1,1)[12]             : AIC=inf, Time=3.50 sec\n",
      " ARIMA(0,1,1)(0,1,2)[12]             : AIC=inf, Time=11.43 sec\n",
      " ARIMA(0,1,1)(1,1,0)[12]             : AIC=1328.281, Time=0.60 sec\n",
      " ARIMA(0,1,1)(1,1,2)[12]             : AIC=inf, Time=19.05 sec\n",
      " ARIMA(1,1,1)(0,1,1)[12]             : AIC=inf, Time=5.61 sec\n",
      " ARIMA(0,1,2)(0,1,1)[12]             : AIC=inf, Time=2.34 sec\n",
      " ARIMA(1,1,0)(0,1,1)[12]             : AIC=inf, Time=2.41 sec\n",
      " ARIMA(1,1,2)(0,1,1)[12]             : AIC=inf, Time=4.56 sec\n",
      " ARIMA(0,1,1)(0,1,1)[12] intercept   : AIC=1182.712, Time=2.58 sec\n",
      "\n",
      "Best model:  ARIMA(0,1,1)(0,1,1)[12]          \n",
      "Total fit time: 54.501 seconds\n"
     ]
    },
    {
     "data": {
      "text/html": [
       "<table class=\"simpletable\">\n",
       "<caption>SARIMAX Results</caption>\n",
       "<tr>\n",
       "  <th>Dep. Variable:</th>                  <td>y</td>               <th>  No. Observations:  </th>   <td>1095</td>  \n",
       "</tr>\n",
       "<tr>\n",
       "  <th>Model:</th>           <td>SARIMAX(0, 1, 1)x(0, 1, 1, 12)</td> <th>  Log Likelihood     </th> <td>-587.583</td>\n",
       "</tr>\n",
       "<tr>\n",
       "  <th>Date:</th>                   <td>Fri, 07 Apr 2023</td>        <th>  AIC                </th> <td>1181.167</td>\n",
       "</tr>\n",
       "<tr>\n",
       "  <th>Time:</th>                       <td>23:08:54</td>            <th>  BIC                </th> <td>1196.126</td>\n",
       "</tr>\n",
       "<tr>\n",
       "  <th>Sample:</th>                    <td>01-01-2017</td>           <th>  HQIC               </th> <td>1186.831</td>\n",
       "</tr>\n",
       "<tr>\n",
       "  <th></th>                          <td>- 12-31-2019</td>          <th>                     </th>     <td> </td>   \n",
       "</tr>\n",
       "<tr>\n",
       "  <th>Covariance Type:</th>               <td>opg</td>              <th>                     </th>     <td> </td>   \n",
       "</tr>\n",
       "</table>\n",
       "<table class=\"simpletable\">\n",
       "<tr>\n",
       "      <td></td>        <th>coef</th>     <th>std err</th>      <th>z</th>      <th>P>|z|</th>  <th>[0.025</th>    <th>0.975]</th>  \n",
       "</tr>\n",
       "<tr>\n",
       "  <th>ma.L1</th>    <td>    0.5313</td> <td>    0.015</td> <td>   36.243</td> <td> 0.000</td> <td>    0.503</td> <td>    0.560</td>\n",
       "</tr>\n",
       "<tr>\n",
       "  <th>ma.S.L12</th> <td>   -0.7987</td> <td>    0.014</td> <td>  -59.039</td> <td> 0.000</td> <td>   -0.825</td> <td>   -0.772</td>\n",
       "</tr>\n",
       "<tr>\n",
       "  <th>sigma2</th>   <td>    0.1715</td> <td>    0.003</td> <td>   66.951</td> <td> 0.000</td> <td>    0.166</td> <td>    0.176</td>\n",
       "</tr>\n",
       "</table>\n",
       "<table class=\"simpletable\">\n",
       "<tr>\n",
       "  <th>Ljung-Box (L1) (Q):</th>     <td>37.28</td> <th>  Jarque-Bera (JB):  </th> <td>14477.17</td>\n",
       "</tr>\n",
       "<tr>\n",
       "  <th>Prob(Q):</th>                <td>0.00</td>  <th>  Prob(JB):          </th>   <td>0.00</td>  \n",
       "</tr>\n",
       "<tr>\n",
       "  <th>Heteroskedasticity (H):</th> <td>0.79</td>  <th>  Skew:              </th>   <td>2.36</td>  \n",
       "</tr>\n",
       "<tr>\n",
       "  <th>Prob(H) (two-sided):</th>    <td>0.03</td>  <th>  Kurtosis:          </th>   <td>20.29</td> \n",
       "</tr>\n",
       "</table><br/><br/>Warnings:<br/>[1] Covariance matrix calculated using the outer product of gradients (complex-step)."
      ],
      "text/plain": [
       "<class 'statsmodels.iolib.summary.Summary'>\n",
       "\"\"\"\n",
       "                                     SARIMAX Results                                      \n",
       "==========================================================================================\n",
       "Dep. Variable:                                  y   No. Observations:                 1095\n",
       "Model:             SARIMAX(0, 1, 1)x(0, 1, 1, 12)   Log Likelihood                -587.583\n",
       "Date:                            Fri, 07 Apr 2023   AIC                           1181.167\n",
       "Time:                                    23:08:54   BIC                           1196.126\n",
       "Sample:                                01-01-2017   HQIC                          1186.831\n",
       "                                     - 12-31-2019                                         \n",
       "Covariance Type:                              opg                                         \n",
       "==============================================================================\n",
       "                 coef    std err          z      P>|z|      [0.025      0.975]\n",
       "------------------------------------------------------------------------------\n",
       "ma.L1          0.5313      0.015     36.243      0.000       0.503       0.560\n",
       "ma.S.L12      -0.7987      0.014    -59.039      0.000      -0.825      -0.772\n",
       "sigma2         0.1715      0.003     66.951      0.000       0.166       0.176\n",
       "===================================================================================\n",
       "Ljung-Box (L1) (Q):                  37.28   Jarque-Bera (JB):             14477.17\n",
       "Prob(Q):                              0.00   Prob(JB):                         0.00\n",
       "Heteroskedasticity (H):               0.79   Skew:                             2.36\n",
       "Prob(H) (two-sided):                  0.03   Kurtosis:                        20.29\n",
       "===================================================================================\n",
       "\n",
       "Warnings:\n",
       "[1] Covariance matrix calculated using the outer product of gradients (complex-step).\n",
       "\"\"\""
      ]
     },
     "execution_count": 83,
     "metadata": {},
     "output_type": "execute_result"
    }
   ],
   "source": [
    "from pmdarima.arima import auto_arima\n",
    "\n",
    "model = auto_arima(train['Omerli'], start_p=0, start_q=0,\n",
    "                   max_p=5, max_q=5, m=12,\n",
    "                   start_P=0, seasonal=True,\n",
    "                   d=None, D=1, trace=True,\n",
    "                   error_action='ignore',  \n",
    "                   suppress_warnings=True, \n",
    "                   stepwise=True)\n",
    "\n",
    "model.summary()"
   ]
  },
  {
   "attachments": {},
   "cell_type": "markdown",
   "metadata": {},
   "source": [
    "When I look at the ARIMA results, I can tell use the ARIMA model is not seems a good idea. ARIMA models are not good at the long term datasets."
   ]
  },
  {
   "attachments": {},
   "cell_type": "markdown",
   "metadata": {},
   "source": [
    "I would like to keep ressearching and develop the models or using FbProphet but I've just less time. So I'll share my opinion on `../Reporting_ideas.md` and I'll close the project."
   ]
  }
 ],
 "metadata": {
  "kernelspec": {
   "display_name": "Python 3",
   "language": "python",
   "name": "python3"
  },
  "language_info": {
   "codemirror_mode": {
    "name": "ipython",
    "version": 3
   },
   "file_extension": ".py",
   "mimetype": "text/x-python",
   "name": "python",
   "nbconvert_exporter": "python",
   "pygments_lexer": "ipython3",
   "version": "3.11.2"
  },
  "orig_nbformat": 4
 },
 "nbformat": 4,
 "nbformat_minor": 2
}
