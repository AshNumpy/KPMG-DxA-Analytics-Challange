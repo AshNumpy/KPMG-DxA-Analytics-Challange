{
 "cells": [
  {
   "cell_type": "code",
   "execution_count": 1,
   "metadata": {},
   "outputs": [],
   "source": [
    "import pandas as pd \n",
    "import numpy as np "
   ]
  },
  {
   "cell_type": "code",
   "execution_count": 2,
   "metadata": {},
   "outputs": [
    {
     "data": {
      "text/html": [
       "<div>\n",
       "<style scoped>\n",
       "    .dataframe tbody tr th:only-of-type {\n",
       "        vertical-align: middle;\n",
       "    }\n",
       "\n",
       "    .dataframe tbody tr th {\n",
       "        vertical-align: top;\n",
       "    }\n",
       "\n",
       "    .dataframe thead th {\n",
       "        text-align: right;\n",
       "    }\n",
       "</style>\n",
       "<table border=\"1\" class=\"dataframe\">\n",
       "  <thead>\n",
       "    <tr style=\"text-align: right;\">\n",
       "      <th></th>\n",
       "      <th>#</th>\n",
       "      <th>İLÇE</th>\n",
       "      <th>KAHVE DÜKKANI AÇMA MALİYETİ</th>\n",
       "    </tr>\n",
       "  </thead>\n",
       "  <tbody>\n",
       "    <tr>\n",
       "      <th>0</th>\n",
       "      <td>1</td>\n",
       "      <td>ADALAR</td>\n",
       "      <td>429000</td>\n",
       "    </tr>\n",
       "    <tr>\n",
       "      <th>1</th>\n",
       "      <td>2</td>\n",
       "      <td>ARNAVUTKÖY</td>\n",
       "      <td>201000</td>\n",
       "    </tr>\n",
       "    <tr>\n",
       "      <th>2</th>\n",
       "      <td>3</td>\n",
       "      <td>ATAŞEHİR</td>\n",
       "      <td>486000</td>\n",
       "    </tr>\n",
       "    <tr>\n",
       "      <th>3</th>\n",
       "      <td>4</td>\n",
       "      <td>AVCILAR</td>\n",
       "      <td>252000</td>\n",
       "    </tr>\n",
       "    <tr>\n",
       "      <th>4</th>\n",
       "      <td>5</td>\n",
       "      <td>BAĞCILAR</td>\n",
       "      <td>315000</td>\n",
       "    </tr>\n",
       "  </tbody>\n",
       "</table>\n",
       "</div>"
      ],
      "text/plain": [
       "   #        İLÇE  KAHVE DÜKKANI AÇMA MALİYETİ\n",
       "0  1      ADALAR                       429000\n",
       "1  2  ARNAVUTKÖY                       201000\n",
       "2  3    ATAŞEHİR                       486000\n",
       "3  4     AVCILAR                       252000\n",
       "4  5    BAĞCILAR                       315000"
      ]
     },
     "execution_count": 2,
     "metadata": {},
     "output_type": "execute_result"
    }
   ],
   "source": [
    "path = \"../Datasets/RAW/DxA23' Veri Seti.xlsx\"\n",
    "\n",
    "maaliyetler = pd.read_excel(path, sheet_name=\"İlçe Bazlı Maliyetler\", skipfooter=0)\n",
    "nufus = pd.read_excel(path, sheet_name=\"Mahalle Bazlı Nüfus Bilgisi\", skipfooter=0)\n",
    "brewstation = pd.read_excel(path, sheet_name=\"BrewStation Lokasyonları\", skipfooter=0)\n",
    "\n",
    "maaliyetler.head()"
   ]
  },
  {
   "cell_type": "code",
   "execution_count": 3,
   "metadata": {},
   "outputs": [
    {
     "data": {
      "text/html": [
       "<div>\n",
       "<style scoped>\n",
       "    .dataframe tbody tr th:only-of-type {\n",
       "        vertical-align: middle;\n",
       "    }\n",
       "\n",
       "    .dataframe tbody tr th {\n",
       "        vertical-align: top;\n",
       "    }\n",
       "\n",
       "    .dataframe thead th {\n",
       "        text-align: right;\n",
       "    }\n",
       "</style>\n",
       "<table border=\"1\" class=\"dataframe\">\n",
       "  <thead>\n",
       "    <tr style=\"text-align: right;\">\n",
       "      <th></th>\n",
       "      <th>#</th>\n",
       "      <th>İLÇE</th>\n",
       "      <th>MAHALLE</th>\n",
       "      <th>NÜFUS YOĞUNLUĞU (KİŞİ/KM2)</th>\n",
       "      <th>NÜFUS</th>\n",
       "      <th>YÜZÖLÇÜMÜ(KM2)</th>\n",
       "    </tr>\n",
       "  </thead>\n",
       "  <tbody>\n",
       "    <tr>\n",
       "      <th>0</th>\n",
       "      <td>1</td>\n",
       "      <td>Arnavutköy</td>\n",
       "      <td>Anadolu</td>\n",
       "      <td>21607.0</td>\n",
       "      <td>33177</td>\n",
       "      <td>1.50</td>\n",
       "    </tr>\n",
       "    <tr>\n",
       "      <th>1</th>\n",
       "      <td>2</td>\n",
       "      <td>Arnavutköy</td>\n",
       "      <td>Yunus Emre</td>\n",
       "      <td>14919.0</td>\n",
       "      <td>16085</td>\n",
       "      <td>1.10</td>\n",
       "    </tr>\n",
       "    <tr>\n",
       "      <th>2</th>\n",
       "      <td>3</td>\n",
       "      <td>Arnavutköy</td>\n",
       "      <td>Boğazköy Atatürk</td>\n",
       "      <td>11965.0</td>\n",
       "      <td>7726</td>\n",
       "      <td>0.65</td>\n",
       "    </tr>\n",
       "    <tr>\n",
       "      <th>3</th>\n",
       "      <td>4</td>\n",
       "      <td>Arnavutköy</td>\n",
       "      <td>Arnavutköy İslambey</td>\n",
       "      <td>11923.0</td>\n",
       "      <td>18832</td>\n",
       "      <td>1.60</td>\n",
       "    </tr>\n",
       "    <tr>\n",
       "      <th>4</th>\n",
       "      <td>5</td>\n",
       "      <td>Arnavutköy</td>\n",
       "      <td>Mustafa Kemal Paşa</td>\n",
       "      <td>9630.0</td>\n",
       "      <td>12585</td>\n",
       "      <td>1.30</td>\n",
       "    </tr>\n",
       "  </tbody>\n",
       "</table>\n",
       "</div>"
      ],
      "text/plain": [
       "   #        İLÇE              MAHALLE  NÜFUS YOĞUNLUĞU (KİŞİ/KM2)  NÜFUS  \\\n",
       "0  1  Arnavutköy              Anadolu                     21607.0  33177   \n",
       "1  2  Arnavutköy           Yunus Emre                     14919.0  16085   \n",
       "2  3  Arnavutköy     Boğazköy Atatürk                     11965.0   7726   \n",
       "3  4  Arnavutköy  Arnavutköy İslambey                     11923.0  18832   \n",
       "4  5  Arnavutköy   Mustafa Kemal Paşa                      9630.0  12585   \n",
       "\n",
       "   YÜZÖLÇÜMÜ(KM2)  \n",
       "0            1.50  \n",
       "1            1.10  \n",
       "2            0.65  \n",
       "3            1.60  \n",
       "4            1.30  "
      ]
     },
     "execution_count": 3,
     "metadata": {},
     "output_type": "execute_result"
    }
   ],
   "source": [
    "nufus.head()"
   ]
  },
  {
   "cell_type": "code",
   "execution_count": 4,
   "metadata": {},
   "outputs": [],
   "source": [
    "#set upper case\n",
    "maaliyetler = maaliyetler.apply(lambda x: x.astype(str).str.upper())\n",
    "nufus = nufus.apply(lambda x: x.astype(str).str.upper())\n",
    "brewstation = brewstation.apply(lambda x: x.astype(str).str.upper())"
   ]
  },
  {
   "cell_type": "code",
   "execution_count": 5,
   "metadata": {},
   "outputs": [],
   "source": [
    "maaliyetler = maaliyetler[['İLÇE', 'KAHVE DÜKKANI AÇMA MALİYETİ']]\n",
    "maaliyetler.columns = ['ilce', 'maliyet']\n",
    "\n",
    "nufus = nufus[['İLÇE', 'MAHALLE', 'NÜFUS YOĞUNLUĞU (KİŞİ/KM2)', 'NÜFUS', 'YÜZÖLÇÜMÜ(KM2)']]\n",
    "nufus.columns = ['ilce', 'mahalle', 'nufus_yogunlugu', 'nufus', 'yuzolcumu']\n",
    "\n",
    "brewstation = brewstation[['ŞEHİR', 'AÇIK ADRES', 'İLÇE', 'MAHALLE']]\n",
    "brewstation.columns = ['sehir', 'acik_adres', 'ilce', 'mahalle']"
   ]
  },
  {
   "attachments": {},
   "cell_type": "markdown",
   "metadata": {},
   "source": [
    "<hr>"
   ]
  },
  {
   "cell_type": "code",
   "execution_count": 6,
   "metadata": {},
   "outputs": [],
   "source": [
    "turkish_chars = {\n",
    "    'ü': 'u',\n",
    "    'Ü': 'U',\n",
    "    'ğ': 'g',\n",
    "    'Ğ': 'G',\n",
    "    'ş': 's',\n",
    "    'Ş': 'S',\n",
    "    'ı': 'i',\n",
    "    'İ': 'I',\n",
    "    'ö': 'o',\n",
    "    'Ö': 'O',\n",
    "    'ç': 'c',\n",
    "    'Ç': 'C'\n",
    "}"
   ]
  },
  {
   "cell_type": "code",
   "execution_count": 7,
   "metadata": {},
   "outputs": [
    {
     "data": {
      "text/html": [
       "<div>\n",
       "<style scoped>\n",
       "    .dataframe tbody tr th:only-of-type {\n",
       "        vertical-align: middle;\n",
       "    }\n",
       "\n",
       "    .dataframe tbody tr th {\n",
       "        vertical-align: top;\n",
       "    }\n",
       "\n",
       "    .dataframe thead th {\n",
       "        text-align: right;\n",
       "    }\n",
       "</style>\n",
       "<table border=\"1\" class=\"dataframe\">\n",
       "  <thead>\n",
       "    <tr style=\"text-align: right;\">\n",
       "      <th></th>\n",
       "      <th>ilce</th>\n",
       "      <th>mahalle</th>\n",
       "      <th>nufus_yogunlugu</th>\n",
       "      <th>nufus</th>\n",
       "      <th>yuzolcumu</th>\n",
       "    </tr>\n",
       "  </thead>\n",
       "  <tbody>\n",
       "    <tr>\n",
       "      <th>0</th>\n",
       "      <td>ARNAVUTKOY</td>\n",
       "      <td>ANADOLU</td>\n",
       "      <td>21607.0</td>\n",
       "      <td>33177</td>\n",
       "      <td>1.5</td>\n",
       "    </tr>\n",
       "    <tr>\n",
       "      <th>1</th>\n",
       "      <td>ARNAVUTKOY</td>\n",
       "      <td>YUNUS EMRE</td>\n",
       "      <td>14919.0</td>\n",
       "      <td>16085</td>\n",
       "      <td>1.1</td>\n",
       "    </tr>\n",
       "    <tr>\n",
       "      <th>2</th>\n",
       "      <td>ARNAVUTKOY</td>\n",
       "      <td>BOGAZKOY ATATURK</td>\n",
       "      <td>11965.0</td>\n",
       "      <td>7726</td>\n",
       "      <td>0.65</td>\n",
       "    </tr>\n",
       "    <tr>\n",
       "      <th>3</th>\n",
       "      <td>ARNAVUTKOY</td>\n",
       "      <td>ARNAVUTKOY ISLAMBEY</td>\n",
       "      <td>11923.0</td>\n",
       "      <td>18832</td>\n",
       "      <td>1.6</td>\n",
       "    </tr>\n",
       "    <tr>\n",
       "      <th>4</th>\n",
       "      <td>ARNAVUTKOY</td>\n",
       "      <td>MUSTAFA KEMAL PASA</td>\n",
       "      <td>9630.0</td>\n",
       "      <td>12585</td>\n",
       "      <td>1.3</td>\n",
       "    </tr>\n",
       "  </tbody>\n",
       "</table>\n",
       "</div>"
      ],
      "text/plain": [
       "         ilce              mahalle nufus_yogunlugu  nufus yuzolcumu\n",
       "0  ARNAVUTKOY              ANADOLU         21607.0  33177       1.5\n",
       "1  ARNAVUTKOY           YUNUS EMRE         14919.0  16085       1.1\n",
       "2  ARNAVUTKOY     BOGAZKOY ATATURK         11965.0   7726      0.65\n",
       "3  ARNAVUTKOY  ARNAVUTKOY ISLAMBEY         11923.0  18832       1.6\n",
       "4  ARNAVUTKOY   MUSTAFA KEMAL PASA          9630.0  12585       1.3"
      ]
     },
     "execution_count": 7,
     "metadata": {},
     "output_type": "execute_result"
    }
   ],
   "source": [
    "nufus['ilce'] = nufus['ilce'].replace(turkish_chars, regex=True)\n",
    "nufus['mahalle'] = nufus['mahalle'].replace(turkish_chars, regex=True)\n",
    "\n",
    "nufus.head()"
   ]
  },
  {
   "cell_type": "code",
   "execution_count": 8,
   "metadata": {},
   "outputs": [
    {
     "data": {
      "text/html": [
       "<div>\n",
       "<style scoped>\n",
       "    .dataframe tbody tr th:only-of-type {\n",
       "        vertical-align: middle;\n",
       "    }\n",
       "\n",
       "    .dataframe tbody tr th {\n",
       "        vertical-align: top;\n",
       "    }\n",
       "\n",
       "    .dataframe thead th {\n",
       "        text-align: right;\n",
       "    }\n",
       "</style>\n",
       "<table border=\"1\" class=\"dataframe\">\n",
       "  <thead>\n",
       "    <tr style=\"text-align: right;\">\n",
       "      <th></th>\n",
       "      <th>ilce</th>\n",
       "      <th>maliyet</th>\n",
       "    </tr>\n",
       "  </thead>\n",
       "  <tbody>\n",
       "    <tr>\n",
       "      <th>0</th>\n",
       "      <td>ADALAR</td>\n",
       "      <td>429000</td>\n",
       "    </tr>\n",
       "    <tr>\n",
       "      <th>1</th>\n",
       "      <td>ARNAVUTKOY</td>\n",
       "      <td>201000</td>\n",
       "    </tr>\n",
       "    <tr>\n",
       "      <th>2</th>\n",
       "      <td>ATASEHIR</td>\n",
       "      <td>486000</td>\n",
       "    </tr>\n",
       "    <tr>\n",
       "      <th>3</th>\n",
       "      <td>AVCILAR</td>\n",
       "      <td>252000</td>\n",
       "    </tr>\n",
       "    <tr>\n",
       "      <th>4</th>\n",
       "      <td>BAGCILAR</td>\n",
       "      <td>315000</td>\n",
       "    </tr>\n",
       "  </tbody>\n",
       "</table>\n",
       "</div>"
      ],
      "text/plain": [
       "         ilce maliyet\n",
       "0      ADALAR  429000\n",
       "1  ARNAVUTKOY  201000\n",
       "2    ATASEHIR  486000\n",
       "3     AVCILAR  252000\n",
       "4    BAGCILAR  315000"
      ]
     },
     "execution_count": 8,
     "metadata": {},
     "output_type": "execute_result"
    }
   ],
   "source": [
    "maaliyetler['ilce'] = maaliyetler['ilce'].replace(turkish_chars, regex=True)\n",
    "maaliyetler.head()"
   ]
  },
  {
   "cell_type": "code",
   "execution_count": 9,
   "metadata": {},
   "outputs": [
    {
     "data": {
      "text/html": [
       "<div>\n",
       "<style scoped>\n",
       "    .dataframe tbody tr th:only-of-type {\n",
       "        vertical-align: middle;\n",
       "    }\n",
       "\n",
       "    .dataframe tbody tr th {\n",
       "        vertical-align: top;\n",
       "    }\n",
       "\n",
       "    .dataframe thead th {\n",
       "        text-align: right;\n",
       "    }\n",
       "</style>\n",
       "<table border=\"1\" class=\"dataframe\">\n",
       "  <thead>\n",
       "    <tr style=\"text-align: right;\">\n",
       "      <th></th>\n",
       "      <th>sehir</th>\n",
       "      <th>acik_adres</th>\n",
       "      <th>ilce</th>\n",
       "      <th>mahalle</th>\n",
       "    </tr>\n",
       "  </thead>\n",
       "  <tbody>\n",
       "    <tr>\n",
       "      <th>0</th>\n",
       "      <td>İSTANBUL</td>\n",
       "      <td>KOCATEPE MAH PAŞA CAD NO:3, FORUM ISTANBUL AVM...</td>\n",
       "      <td>BAYRAMPASA</td>\n",
       "      <td>KOCATEPE</td>\n",
       "    </tr>\n",
       "    <tr>\n",
       "      <th>1</th>\n",
       "      <td>İSTANBUL</td>\n",
       "      <td>MAHMUTBEY MAHALLESİ TAŞOCAĞI YOLU CAD. A BLOK ...</td>\n",
       "      <td>BAGCILAR</td>\n",
       "      <td>MAHMUTBEY</td>\n",
       "    </tr>\n",
       "    <tr>\n",
       "      <th>2</th>\n",
       "      <td>İSTANBUL</td>\n",
       "      <td>MASLAK MAHALLESI, AHİ EVRAN CAD NO:6/A 42 SHOP...</td>\n",
       "      <td>SARIYER</td>\n",
       "      <td>MASLAK</td>\n",
       "    </tr>\n",
       "    <tr>\n",
       "      <th>3</th>\n",
       "      <td>İSTANBUL</td>\n",
       "      <td>MALTEPE MAHALLESI, YEDIKULE ÇIRPICI YOLU NO:82...</td>\n",
       "      <td>ZEYTINBURNU</td>\n",
       "      <td>MALTEPE</td>\n",
       "    </tr>\n",
       "    <tr>\n",
       "      <th>4</th>\n",
       "      <td>İSTANBUL</td>\n",
       "      <td>ACARLAR MAH. ACARKENT 3.KISIM 9.CAD.DE ACARKEN...</td>\n",
       "      <td>BEYKOZ</td>\n",
       "      <td>ACARLAR</td>\n",
       "    </tr>\n",
       "  </tbody>\n",
       "</table>\n",
       "</div>"
      ],
      "text/plain": [
       "      sehir                                         acik_adres         ilce  \\\n",
       "0  İSTANBUL  KOCATEPE MAH PAŞA CAD NO:3, FORUM ISTANBUL AVM...   BAYRAMPASA   \n",
       "1  İSTANBUL  MAHMUTBEY MAHALLESİ TAŞOCAĞI YOLU CAD. A BLOK ...     BAGCILAR   \n",
       "2  İSTANBUL  MASLAK MAHALLESI, AHİ EVRAN CAD NO:6/A 42 SHOP...      SARIYER   \n",
       "3  İSTANBUL  MALTEPE MAHALLESI, YEDIKULE ÇIRPICI YOLU NO:82...  ZEYTINBURNU   \n",
       "4  İSTANBUL  ACARLAR MAH. ACARKENT 3.KISIM 9.CAD.DE ACARKEN...       BEYKOZ   \n",
       "\n",
       "     mahalle  \n",
       "0   KOCATEPE  \n",
       "1  MAHMUTBEY  \n",
       "2     MASLAK  \n",
       "3    MALTEPE  \n",
       "4    ACARLAR  "
      ]
     },
     "execution_count": 9,
     "metadata": {},
     "output_type": "execute_result"
    }
   ],
   "source": [
    "brewstation['ilce'] = brewstation['ilce'].replace(turkish_chars, regex=True)\n",
    "brewstation['mahalle'] = brewstation['mahalle'].replace(turkish_chars, regex=True)\n",
    "brewstation.head()"
   ]
  },
  {
   "cell_type": "code",
   "execution_count": 10,
   "metadata": {},
   "outputs": [
    {
     "data": {
      "text/html": [
       "<div>\n",
       "<style scoped>\n",
       "    .dataframe tbody tr th:only-of-type {\n",
       "        vertical-align: middle;\n",
       "    }\n",
       "\n",
       "    .dataframe tbody tr th {\n",
       "        vertical-align: top;\n",
       "    }\n",
       "\n",
       "    .dataframe thead th {\n",
       "        text-align: right;\n",
       "    }\n",
       "</style>\n",
       "<table border=\"1\" class=\"dataframe\">\n",
       "  <thead>\n",
       "    <tr style=\"text-align: right;\">\n",
       "      <th></th>\n",
       "      <th>ilce</th>\n",
       "      <th>mahalle</th>\n",
       "      <th>nufus_yogunlugu</th>\n",
       "      <th>nufus</th>\n",
       "      <th>yuzolcumu</th>\n",
       "      <th>maliyet</th>\n",
       "    </tr>\n",
       "  </thead>\n",
       "  <tbody>\n",
       "    <tr>\n",
       "      <th>0</th>\n",
       "      <td>ARNAVUTKOY</td>\n",
       "      <td>ANADOLU</td>\n",
       "      <td>21607.0</td>\n",
       "      <td>33177</td>\n",
       "      <td>1.5</td>\n",
       "      <td>201000</td>\n",
       "    </tr>\n",
       "    <tr>\n",
       "      <th>1</th>\n",
       "      <td>ARNAVUTKOY</td>\n",
       "      <td>YUNUS EMRE</td>\n",
       "      <td>14919.0</td>\n",
       "      <td>16085</td>\n",
       "      <td>1.1</td>\n",
       "      <td>201000</td>\n",
       "    </tr>\n",
       "    <tr>\n",
       "      <th>2</th>\n",
       "      <td>ARNAVUTKOY</td>\n",
       "      <td>BOGAZKOY ATATURK</td>\n",
       "      <td>11965.0</td>\n",
       "      <td>7726</td>\n",
       "      <td>0.65</td>\n",
       "      <td>201000</td>\n",
       "    </tr>\n",
       "    <tr>\n",
       "      <th>3</th>\n",
       "      <td>ARNAVUTKOY</td>\n",
       "      <td>ARNAVUTKOY ISLAMBEY</td>\n",
       "      <td>11923.0</td>\n",
       "      <td>18832</td>\n",
       "      <td>1.6</td>\n",
       "      <td>201000</td>\n",
       "    </tr>\n",
       "    <tr>\n",
       "      <th>4</th>\n",
       "      <td>ARNAVUTKOY</td>\n",
       "      <td>MUSTAFA KEMAL PASA</td>\n",
       "      <td>9630.0</td>\n",
       "      <td>12585</td>\n",
       "      <td>1.3</td>\n",
       "      <td>201000</td>\n",
       "    </tr>\n",
       "  </tbody>\n",
       "</table>\n",
       "</div>"
      ],
      "text/plain": [
       "         ilce              mahalle nufus_yogunlugu  nufus yuzolcumu maliyet\n",
       "0  ARNAVUTKOY              ANADOLU         21607.0  33177       1.5  201000\n",
       "1  ARNAVUTKOY           YUNUS EMRE         14919.0  16085       1.1  201000\n",
       "2  ARNAVUTKOY     BOGAZKOY ATATURK         11965.0   7726      0.65  201000\n",
       "3  ARNAVUTKOY  ARNAVUTKOY ISLAMBEY         11923.0  18832       1.6  201000\n",
       "4  ARNAVUTKOY   MUSTAFA KEMAL PASA          9630.0  12585       1.3  201000"
      ]
     },
     "execution_count": 10,
     "metadata": {},
     "output_type": "execute_result"
    }
   ],
   "source": [
    "df = pd.merge(nufus, maaliyetler, on='ilce', how='left')\n",
    "df.head()"
   ]
  },
  {
   "cell_type": "code",
   "execution_count": 11,
   "metadata": {},
   "outputs": [
    {
     "data": {
      "text/plain": [
       "ilce                0\n",
       "mahalle             0\n",
       "nufus_yogunlugu     0\n",
       "nufus               0\n",
       "yuzolcumu           0\n",
       "maliyet            28\n",
       "dtype: int64"
      ]
     },
     "execution_count": 11,
     "metadata": {},
     "output_type": "execute_result"
    }
   ],
   "source": [
    "df.isnull().sum()"
   ]
  },
  {
   "cell_type": "code",
   "execution_count": 12,
   "metadata": {},
   "outputs": [
    {
     "data": {
      "text/plain": [
       "array(['EYUP'], dtype=object)"
      ]
     },
     "execution_count": 12,
     "metadata": {},
     "output_type": "execute_result"
    }
   ],
   "source": [
    "df[df['maliyet'].isnull()]['ilce'].unique()"
   ]
  },
  {
   "cell_type": "code",
   "execution_count": 13,
   "metadata": {},
   "outputs": [],
   "source": [
    "nufus['ilce'] = nufus['ilce'].replace('EYUP', 'EYUPSULTAN')"
   ]
  },
  {
   "cell_type": "code",
   "execution_count": 14,
   "metadata": {},
   "outputs": [
    {
     "data": {
      "text/plain": [
       "0"
      ]
     },
     "execution_count": 14,
     "metadata": {},
     "output_type": "execute_result"
    }
   ],
   "source": [
    "df = pd.merge(nufus, maaliyetler, on='ilce', how='left')\n",
    "df.isnull().sum().sum()"
   ]
  },
  {
   "cell_type": "code",
   "execution_count": 15,
   "metadata": {},
   "outputs": [],
   "source": [
    "df.to_csv('../Datasets/PROCESSED/nufus_maaliyet.csv', index=False)"
   ]
  },
  {
   "cell_type": "code",
   "execution_count": 16,
   "metadata": {},
   "outputs": [],
   "source": [
    "df2 = pd.merge(brewstation, df, on=['ilce', 'mahalle'], how='left')"
   ]
  },
  {
   "cell_type": "code",
   "execution_count": 17,
   "metadata": {},
   "outputs": [
    {
     "data": {
      "text/plain": [
       "sehir               0\n",
       "acik_adres          0\n",
       "ilce                0\n",
       "mahalle             0\n",
       "nufus_yogunlugu    13\n",
       "nufus              13\n",
       "yuzolcumu          13\n",
       "maliyet            13\n",
       "dtype: int64"
      ]
     },
     "execution_count": 17,
     "metadata": {},
     "output_type": "execute_result"
    }
   ],
   "source": [
    "df2.isnull().sum()"
   ]
  },
  {
   "cell_type": "code",
   "execution_count": 18,
   "metadata": {},
   "outputs": [
    {
     "data": {
      "text/plain": [
       "array(['ATASEHIR', 'EYUP', 'BEYOGLU', 'EYUP ', 'TUZLA'], dtype=object)"
      ]
     },
     "execution_count": 18,
     "metadata": {},
     "output_type": "execute_result"
    }
   ],
   "source": [
    "df2[df2['nufus_yogunlugu'].isnull()]['ilce'].unique()"
   ]
  },
  {
   "cell_type": "code",
   "execution_count": 19,
   "metadata": {},
   "outputs": [
    {
     "data": {
      "text/plain": [
       "array(['BARBAROS ', 'TOPCULAR', 'KEMENKES KARAMUSTAFAPASA',\n",
       "       'KEMENKES KARA MUSTAFA PASA', 'GOKTURK MERKEZ', 'DEFTERDAR',\n",
       "       'EMNIYETTEPE', 'FATIH ', 'YESILPINAR'], dtype=object)"
      ]
     },
     "execution_count": 19,
     "metadata": {},
     "output_type": "execute_result"
    }
   ],
   "source": [
    "df2[df2['nufus_yogunlugu'].isnull()]['mahalle'].unique()"
   ]
  },
  {
   "cell_type": "code",
   "execution_count": 20,
   "metadata": {},
   "outputs": [
    {
     "data": {
      "text/html": [
       "<div>\n",
       "<style scoped>\n",
       "    .dataframe tbody tr th:only-of-type {\n",
       "        vertical-align: middle;\n",
       "    }\n",
       "\n",
       "    .dataframe tbody tr th {\n",
       "        vertical-align: top;\n",
       "    }\n",
       "\n",
       "    .dataframe thead th {\n",
       "        text-align: right;\n",
       "    }\n",
       "</style>\n",
       "<table border=\"1\" class=\"dataframe\">\n",
       "  <thead>\n",
       "    <tr style=\"text-align: right;\">\n",
       "      <th></th>\n",
       "      <th>ilce</th>\n",
       "      <th>mahalle</th>\n",
       "    </tr>\n",
       "  </thead>\n",
       "  <tbody>\n",
       "    <tr>\n",
       "      <th>12</th>\n",
       "      <td>ATASEHIR</td>\n",
       "      <td>BARBAROS</td>\n",
       "    </tr>\n",
       "    <tr>\n",
       "      <th>35</th>\n",
       "      <td>EYUP</td>\n",
       "      <td>TOPCULAR</td>\n",
       "    </tr>\n",
       "    <tr>\n",
       "      <th>81</th>\n",
       "      <td>BEYOGLU</td>\n",
       "      <td>KEMENKES KARAMUSTAFAPASA</td>\n",
       "    </tr>\n",
       "    <tr>\n",
       "      <th>83</th>\n",
       "      <td>BEYOGLU</td>\n",
       "      <td>KEMENKES KARA MUSTAFA PASA</td>\n",
       "    </tr>\n",
       "    <tr>\n",
       "      <th>100</th>\n",
       "      <td>EYUP</td>\n",
       "      <td>GOKTURK MERKEZ</td>\n",
       "    </tr>\n",
       "    <tr>\n",
       "      <th>102</th>\n",
       "      <td>EYUP</td>\n",
       "      <td>DEFTERDAR</td>\n",
       "    </tr>\n",
       "    <tr>\n",
       "      <th>109</th>\n",
       "      <td>EYUP</td>\n",
       "      <td>EMNIYETTEPE</td>\n",
       "    </tr>\n",
       "    <tr>\n",
       "      <th>219</th>\n",
       "      <td>TUZLA</td>\n",
       "      <td>FATIH</td>\n",
       "    </tr>\n",
       "    <tr>\n",
       "      <th>268</th>\n",
       "      <td>EYUP</td>\n",
       "      <td>YESILPINAR</td>\n",
       "    </tr>\n",
       "  </tbody>\n",
       "</table>\n",
       "</div>"
      ],
      "text/plain": [
       "         ilce                     mahalle\n",
       "12   ATASEHIR                   BARBAROS \n",
       "35       EYUP                    TOPCULAR\n",
       "81    BEYOGLU    KEMENKES KARAMUSTAFAPASA\n",
       "83    BEYOGLU  KEMENKES KARA MUSTAFA PASA\n",
       "100      EYUP              GOKTURK MERKEZ\n",
       "102      EYUP                   DEFTERDAR\n",
       "109     EYUP                  EMNIYETTEPE\n",
       "219     TUZLA                      FATIH \n",
       "268      EYUP                  YESILPINAR"
      ]
     },
     "execution_count": 20,
     "metadata": {},
     "output_type": "execute_result"
    }
   ],
   "source": [
    "df2[df2['nufus_yogunlugu'].isnull()][['ilce', 'mahalle']].drop_duplicates()"
   ]
  },
  {
   "cell_type": "code",
   "execution_count": 21,
   "metadata": {},
   "outputs": [],
   "source": [
    "brewstation['ilce'] = brewstation['ilce'].replace('EYUP', 'EYUPSULTAN')\n",
    "brewstation['ilce'] = brewstation['ilce'].replace('EYUP ', 'EYUPSULTAN')\n",
    "brewstation['mahalle'] = brewstation['mahalle'].replace('BARBAROS ', 'BARBAROS')"
   ]
  },
  {
   "cell_type": "code",
   "execution_count": 22,
   "metadata": {},
   "outputs": [
    {
     "data": {
      "text/html": [
       "<div>\n",
       "<style scoped>\n",
       "    .dataframe tbody tr th:only-of-type {\n",
       "        vertical-align: middle;\n",
       "    }\n",
       "\n",
       "    .dataframe tbody tr th {\n",
       "        vertical-align: top;\n",
       "    }\n",
       "\n",
       "    .dataframe thead th {\n",
       "        text-align: right;\n",
       "    }\n",
       "</style>\n",
       "<table border=\"1\" class=\"dataframe\">\n",
       "  <thead>\n",
       "    <tr style=\"text-align: right;\">\n",
       "      <th></th>\n",
       "      <th>ilce</th>\n",
       "      <th>mahalle</th>\n",
       "      <th>nufus_yogunlugu</th>\n",
       "      <th>nufus</th>\n",
       "      <th>yuzolcumu</th>\n",
       "      <th>maliyet</th>\n",
       "    </tr>\n",
       "  </thead>\n",
       "  <tbody>\n",
       "    <tr>\n",
       "      <th>53</th>\n",
       "      <td>ATASEHIR</td>\n",
       "      <td>BARBAROS</td>\n",
       "      <td>11065.0</td>\n",
       "      <td>32487</td>\n",
       "      <td>2.9</td>\n",
       "      <td>486000</td>\n",
       "    </tr>\n",
       "    <tr>\n",
       "      <th>404</th>\n",
       "      <td>EYUPSULTAN</td>\n",
       "      <td>YESILPINAR</td>\n",
       "      <td>30091.0</td>\n",
       "      <td>38497</td>\n",
       "      <td>1.3</td>\n",
       "      <td>471000</td>\n",
       "    </tr>\n",
       "    <tr>\n",
       "      <th>412</th>\n",
       "      <td>EYUPSULTAN</td>\n",
       "      <td>EMNIYETTEPE</td>\n",
       "      <td>12719.0</td>\n",
       "      <td>9397</td>\n",
       "      <td>0.74</td>\n",
       "      <td>471000</td>\n",
       "    </tr>\n",
       "    <tr>\n",
       "      <th>415</th>\n",
       "      <td>EYUPSULTAN</td>\n",
       "      <td>DEFTERDAR</td>\n",
       "      <td>5012.0</td>\n",
       "      <td>4709</td>\n",
       "      <td>0.94</td>\n",
       "      <td>471000</td>\n",
       "    </tr>\n",
       "    <tr>\n",
       "      <th>417</th>\n",
       "      <td>EYUPSULTAN</td>\n",
       "      <td>TOPCULAR</td>\n",
       "      <td>2820.0</td>\n",
       "      <td>4673</td>\n",
       "      <td>1.7</td>\n",
       "      <td>471000</td>\n",
       "    </tr>\n",
       "    <tr>\n",
       "      <th>418</th>\n",
       "      <td>EYUPSULTAN</td>\n",
       "      <td>GOKTURK MERKEZ</td>\n",
       "      <td>1261.0</td>\n",
       "      <td>36843</td>\n",
       "      <td>29.2</td>\n",
       "      <td>471000</td>\n",
       "    </tr>\n",
       "  </tbody>\n",
       "</table>\n",
       "</div>"
      ],
      "text/plain": [
       "           ilce         mahalle nufus_yogunlugu  nufus yuzolcumu maliyet\n",
       "53     ATASEHIR        BARBAROS         11065.0  32487       2.9  486000\n",
       "404  EYUPSULTAN      YESILPINAR         30091.0  38497       1.3  471000\n",
       "412  EYUPSULTAN     EMNIYETTEPE         12719.0   9397      0.74  471000\n",
       "415  EYUPSULTAN       DEFTERDAR          5012.0   4709      0.94  471000\n",
       "417  EYUPSULTAN        TOPCULAR          2820.0   4673       1.7  471000\n",
       "418  EYUPSULTAN  GOKTURK MERKEZ          1261.0  36843      29.2  471000"
      ]
     },
     "execution_count": 22,
     "metadata": {},
     "output_type": "execute_result"
    }
   ],
   "source": [
    "df[(df['ilce'].isin(['ATASEHIR', 'EYUP', 'BEYOGLU', 'EYUPSULTAN', 'TUZLA'])&\n",
    "    (df['mahalle'].isin(['BARBAROS', 'TOPCULAR', 'KEMENKES KARAMUSTAFAPASA',\n",
    "       'KEMENKES KARA MUSTAFA PASA', 'GOKTURK MERKEZ', 'DEFTERDAR',\n",
    "       'EMNIYETTEPE', 'FATIH ', 'YESILPINAR'])))]"
   ]
  },
  {
   "cell_type": "code",
   "execution_count": 23,
   "metadata": {},
   "outputs": [],
   "source": [
    "df2 = pd.merge(brewstation, df, on=['ilce', 'mahalle'], how='left')"
   ]
  },
  {
   "cell_type": "code",
   "execution_count": 24,
   "metadata": {},
   "outputs": [
    {
     "data": {
      "text/plain": [
       "sehir              0\n",
       "acik_adres         0\n",
       "ilce               0\n",
       "mahalle            0\n",
       "nufus_yogunlugu    4\n",
       "nufus              4\n",
       "yuzolcumu          4\n",
       "maliyet            4\n",
       "dtype: int64"
      ]
     },
     "execution_count": 24,
     "metadata": {},
     "output_type": "execute_result"
    }
   ],
   "source": [
    "df2.isnull().sum()"
   ]
  },
  {
   "cell_type": "code",
   "execution_count": 25,
   "metadata": {},
   "outputs": [
    {
     "data": {
      "text/html": [
       "<div>\n",
       "<style scoped>\n",
       "    .dataframe tbody tr th:only-of-type {\n",
       "        vertical-align: middle;\n",
       "    }\n",
       "\n",
       "    .dataframe tbody tr th {\n",
       "        vertical-align: top;\n",
       "    }\n",
       "\n",
       "    .dataframe thead th {\n",
       "        text-align: right;\n",
       "    }\n",
       "</style>\n",
       "<table border=\"1\" class=\"dataframe\">\n",
       "  <thead>\n",
       "    <tr style=\"text-align: right;\">\n",
       "      <th></th>\n",
       "      <th>ilce</th>\n",
       "      <th>mahalle</th>\n",
       "    </tr>\n",
       "  </thead>\n",
       "  <tbody>\n",
       "    <tr>\n",
       "      <th>81</th>\n",
       "      <td>BEYOGLU</td>\n",
       "      <td>KEMENKES KARAMUSTAFAPASA</td>\n",
       "    </tr>\n",
       "    <tr>\n",
       "      <th>83</th>\n",
       "      <td>BEYOGLU</td>\n",
       "      <td>KEMENKES KARA MUSTAFA PASA</td>\n",
       "    </tr>\n",
       "    <tr>\n",
       "      <th>219</th>\n",
       "      <td>TUZLA</td>\n",
       "      <td>FATIH</td>\n",
       "    </tr>\n",
       "  </tbody>\n",
       "</table>\n",
       "</div>"
      ],
      "text/plain": [
       "        ilce                     mahalle\n",
       "81   BEYOGLU    KEMENKES KARAMUSTAFAPASA\n",
       "83   BEYOGLU  KEMENKES KARA MUSTAFA PASA\n",
       "219    TUZLA                      FATIH "
      ]
     },
     "execution_count": 25,
     "metadata": {},
     "output_type": "execute_result"
    }
   ],
   "source": [
    "df2[df2['nufus_yogunlugu'].isnull()][['ilce', 'mahalle']].drop_duplicates()"
   ]
  },
  {
   "cell_type": "code",
   "execution_count": 26,
   "metadata": {},
   "outputs": [
    {
     "data": {
      "text/plain": [
       "array(['BEYOGLU', 'TUZLA'], dtype=object)"
      ]
     },
     "execution_count": 26,
     "metadata": {},
     "output_type": "execute_result"
    }
   ],
   "source": [
    "df2[df2['nufus_yogunlugu'].isnull()]['ilce'].unique()"
   ]
  },
  {
   "cell_type": "code",
   "execution_count": 27,
   "metadata": {},
   "outputs": [
    {
     "data": {
      "text/plain": [
       "array(['KEMENKES KARAMUSTAFAPASA', 'KEMENKES KARA MUSTAFA PASA', 'FATIH '],\n",
       "      dtype=object)"
      ]
     },
     "execution_count": 27,
     "metadata": {},
     "output_type": "execute_result"
    }
   ],
   "source": [
    "df2[df2['nufus_yogunlugu'].isnull()]['mahalle'].unique()"
   ]
  },
  {
   "cell_type": "code",
   "execution_count": 28,
   "metadata": {},
   "outputs": [],
   "source": [
    "brewstation['mahalle'] = brewstation['mahalle'].replace('FATIH ', 'FATIH')\n",
    "brewstation['mahalle'] = brewstation['mahalle'].replace('KEMENKES KARAMUSTAFAPASA', 'KEMANKES KARA MUSTAFA PASA')\n",
    "brewstation['mahalle'] = brewstation['mahalle'].replace('KEMENKES KARA MUSTAFA PASA', 'KEMANKES KARA MUSTAFA PASA')"
   ]
  },
  {
   "cell_type": "code",
   "execution_count": 29,
   "metadata": {},
   "outputs": [
    {
     "data": {
      "text/html": [
       "<div>\n",
       "<style scoped>\n",
       "    .dataframe tbody tr th:only-of-type {\n",
       "        vertical-align: middle;\n",
       "    }\n",
       "\n",
       "    .dataframe tbody tr th {\n",
       "        vertical-align: top;\n",
       "    }\n",
       "\n",
       "    .dataframe thead th {\n",
       "        text-align: right;\n",
       "    }\n",
       "</style>\n",
       "<table border=\"1\" class=\"dataframe\">\n",
       "  <thead>\n",
       "    <tr style=\"text-align: right;\">\n",
       "      <th></th>\n",
       "      <th>ilce</th>\n",
       "      <th>mahalle</th>\n",
       "      <th>nufus_yogunlugu</th>\n",
       "      <th>nufus</th>\n",
       "      <th>yuzolcumu</th>\n",
       "      <th>maliyet</th>\n",
       "    </tr>\n",
       "  </thead>\n",
       "  <tbody>\n",
       "    <tr>\n",
       "      <th>869</th>\n",
       "      <td>TUZLA</td>\n",
       "      <td>FATIH</td>\n",
       "      <td>377.0</td>\n",
       "      <td>1045</td>\n",
       "      <td>2.8</td>\n",
       "      <td>294000</td>\n",
       "    </tr>\n",
       "  </tbody>\n",
       "</table>\n",
       "</div>"
      ],
      "text/plain": [
       "      ilce mahalle nufus_yogunlugu nufus yuzolcumu maliyet\n",
       "869  TUZLA   FATIH           377.0  1045       2.8  294000"
      ]
     },
     "execution_count": 29,
     "metadata": {},
     "output_type": "execute_result"
    }
   ],
   "source": [
    "df[df['ilce'].isin(['TUZLA', 'BEYOGLU'])&\n",
    "   df['mahalle'].isin([\"KEMENKES KARA MUSTAFA PASA\", 'FATIH'])]"
   ]
  },
  {
   "cell_type": "code",
   "execution_count": 30,
   "metadata": {},
   "outputs": [
    {
     "data": {
      "text/plain": [
       "array(['KARLIBAYIR', 'KARABURUN', 'KAYISDAGI', 'KUCUKBAKKALKOY',\n",
       "       'KEMALPASA', 'KÂZIM KARABEKIR', 'KIRAZLI', 'KOCASINAN',\n",
       "       'KARTALTEPE', 'KAYABASI', 'KOCATEPE', 'KULTUR', 'KONAKLAR',\n",
       "       'KURUCESME', 'KAVACIK', 'KANLICA', 'KAYNARCA', 'KILICLI',\n",
       "       'KAVAKLI', 'KADI MEHMET EFENDI', 'KALYONCUKULLUGU', 'KAPTANPASA',\n",
       "       'KUCUKPIYALE', 'KULAKSIZ', 'KECECIPIRI', 'KULOGLU', 'KAMERHATUN',\n",
       "       'KILICALIPASA', 'KATIP MUSTAFA CELEBI',\n",
       "       'KEMANKES KARA MUSTAFA PASA', 'KUMBURGAZ MERKEZ', 'KAMILOBA',\n",
       "       'KARAAGAC', 'KALEICI', 'KESTANELIK', 'KABAKCA', 'KARACAKOY',\n",
       "       'KALFA', 'KARAMANDERE', 'KIZILCAALI', 'KIRAZLIDERE', 'KOCULLU',\n",
       "       'KEMER', 'KOZA', 'KARADOLAP', 'KOCAMUSTAFAPASA', 'KARAGUMRUK',\n",
       "       'KATIP KASIM', 'KALENDERHANE', 'KUCUKAYASOFYA', 'KARLITEPE',\n",
       "       'KARADENIZ', 'KARAYOLLARI', 'KOZYATAGI', 'KOSUYOLU', 'KARLIKTEPE',\n",
       "       'KORDONBOYU', 'KANARYA', 'KUCUKYALI', 'KAVAKPINAR', 'KURTKOY',\n",
       "       'KURNA', 'KURTDOGMUS', 'KEMAL TURKLER', 'KIRECBURNU', 'KOCATAS',\n",
       "       'KUMKOY', 'KISIRKAYA', 'KUMBABA', 'KURFALLI', 'KADIKOY', 'KABAKOZ',\n",
       "       'KORUCU', 'KIZILCA', 'KOMURLUK', 'KARABEYLI', 'KARAKIRAZ', 'KALEM',\n",
       "       'KERVANSARAY', 'KUCUK KILICLI', 'KUCUK SINEKLI', 'KUSTEPE',\n",
       "       'KUPLUCE', 'KIRAZLITEPE', 'KISIKLI', 'KUCUKSU', 'KUCUK CAMLICA',\n",
       "       'KULELI', 'KUZGUNCUK', 'KANDILLI', 'KAZLICESME'], dtype=object)"
      ]
     },
     "execution_count": 30,
     "metadata": {},
     "output_type": "execute_result"
    }
   ],
   "source": [
    "#find mahalles start with 'K'\n",
    "df[df['mahalle'].str.startswith('K')]['mahalle'].unique()"
   ]
  },
  {
   "cell_type": "code",
   "execution_count": 31,
   "metadata": {},
   "outputs": [
    {
     "data": {
      "text/plain": [
       "sehir              0\n",
       "acik_adres         0\n",
       "ilce               0\n",
       "mahalle            0\n",
       "nufus_yogunlugu    0\n",
       "nufus              0\n",
       "yuzolcumu          0\n",
       "maliyet            0\n",
       "dtype: int64"
      ]
     },
     "execution_count": 31,
     "metadata": {},
     "output_type": "execute_result"
    }
   ],
   "source": [
    "df2 = pd.merge(brewstation, df, on=['ilce', 'mahalle'], how='left')\n",
    "df2.isnull().sum()"
   ]
  },
  {
   "cell_type": "code",
   "execution_count": 32,
   "metadata": {},
   "outputs": [],
   "source": [
    "df2.to_csv('../Datasets/PROCESSED/brewstation.csv', index=False)"
   ]
  }
 ],
 "metadata": {
  "kernelspec": {
   "display_name": "Python 3",
   "language": "python",
   "name": "python3"
  },
  "language_info": {
   "codemirror_mode": {
    "name": "ipython",
    "version": 3
   },
   "file_extension": ".py",
   "mimetype": "text/x-python",
   "name": "python",
   "nbconvert_exporter": "python",
   "pygments_lexer": "ipython3",
   "version": "3.11.2"
  },
  "orig_nbformat": 4
 },
 "nbformat": 4,
 "nbformat_minor": 2
}
