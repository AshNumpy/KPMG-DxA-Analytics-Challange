{
 "cells": [
  {
   "cell_type": "code",
   "execution_count": 90,
   "metadata": {},
   "outputs": [],
   "source": [
    "import pandas as pd \n",
    "import numpy as np \n",
    "import plotly.express as px"
   ]
  },
  {
   "cell_type": "code",
   "execution_count": 91,
   "metadata": {},
   "outputs": [
    {
     "data": {
      "text/html": [
       "<div>\n",
       "<style scoped>\n",
       "    .dataframe tbody tr th:only-of-type {\n",
       "        vertical-align: middle;\n",
       "    }\n",
       "\n",
       "    .dataframe tbody tr th {\n",
       "        vertical-align: top;\n",
       "    }\n",
       "\n",
       "    .dataframe thead th {\n",
       "        text-align: right;\n",
       "    }\n",
       "</style>\n",
       "<table border=\"1\" class=\"dataframe\">\n",
       "  <thead>\n",
       "    <tr style=\"text-align: right;\">\n",
       "      <th></th>\n",
       "      <th>İLÇE ADI</th>\n",
       "      <th>MAHALLE ADI</th>\n",
       "      <th>SES</th>\n",
       "      <th>SES SKORU</th>\n",
       "    </tr>\n",
       "  </thead>\n",
       "  <tbody>\n",
       "    <tr>\n",
       "      <th>0</th>\n",
       "      <td>ADALAR</td>\n",
       "      <td>BURGAZADA</td>\n",
       "      <td>B</td>\n",
       "      <td>62.5</td>\n",
       "    </tr>\n",
       "    <tr>\n",
       "      <th>1</th>\n",
       "      <td>ADALAR</td>\n",
       "      <td>HEYBELİADA</td>\n",
       "      <td>B</td>\n",
       "      <td>62.5</td>\n",
       "    </tr>\n",
       "    <tr>\n",
       "      <th>2</th>\n",
       "      <td>ADALAR</td>\n",
       "      <td>KINALIADA</td>\n",
       "      <td>C</td>\n",
       "      <td>37.5</td>\n",
       "    </tr>\n",
       "  </tbody>\n",
       "</table>\n",
       "</div>"
      ],
      "text/plain": [
       "  İLÇE ADI MAHALLE ADI SES  SES SKORU\n",
       "0   ADALAR   BURGAZADA   B       62.5\n",
       "1   ADALAR  HEYBELİADA   B       62.5\n",
       "2   ADALAR   KINALIADA   C       37.5"
      ]
     },
     "execution_count": 91,
     "metadata": {},
     "output_type": "execute_result"
    }
   ],
   "source": [
    "ses = pd.read_csv('../Datasets/PROCESSED/ses_skorlari.csv')\n",
    "ses.head(3)"
   ]
  },
  {
   "cell_type": "code",
   "execution_count": 92,
   "metadata": {},
   "outputs": [],
   "source": [
    "ilk10 = ses.groupby('İLÇE ADI')['SES SKORU'].mean().reset_index().sort_values('SES SKORU', ascending=False).head(5)\n",
    "ilk10['SES SKORU'] = np.round(ilk10['SES SKORU'], 2)"
   ]
  },
  {
   "cell_type": "code",
   "execution_count": 93,
   "metadata": {},
   "outputs": [],
   "source": [
    "son15 = ses.groupby('İLÇE ADI')['SES SKORU'].mean().reset_index().sort_values('SES SKORU', ascending=True).head(15)\n",
    "son15['SES SKORU'] = np.round(son15['SES SKORU'], 2)"
   ]
  },
  {
   "cell_type": "code",
   "execution_count": 94,
   "metadata": {},
   "outputs": [
    {
     "data": {
      "application/vnd.plotly.v1+json": {
       "config": {
        "plotlyServerURL": "https://plot.ly"
       },
       "data": [
        {
         "alignmentgroup": "True",
         "hovertemplate": "İLÇE ADI=%{y}<br>SES SKORU=%{x}<extra></extra>",
         "legendgroup": "BEŞİKTAŞ",
         "marker": {
          "color": "#636efa",
          "pattern": {
           "shape": ""
          }
         },
         "name": "BEŞİKTAŞ",
         "offsetgroup": "BEŞİKTAŞ",
         "orientation": "h",
         "showlegend": true,
         "textposition": "auto",
         "type": "bar",
         "x": [
          91.3
         ],
         "xaxis": "x",
         "y": [
          "BEŞİKTAŞ"
         ],
         "yaxis": "y"
        },
        {
         "alignmentgroup": "True",
         "hovertemplate": "İLÇE ADI=%{y}<br>SES SKORU=%{x}<extra></extra>",
         "legendgroup": "KADIKÖY",
         "marker": {
          "color": "#EF553B",
          "pattern": {
           "shape": ""
          }
         },
         "name": "KADIKÖY",
         "offsetgroup": "KADIKÖY",
         "orientation": "h",
         "showlegend": true,
         "textposition": "auto",
         "type": "bar",
         "x": [
          82.14
         ],
         "xaxis": "x",
         "y": [
          "KADIKÖY"
         ],
         "yaxis": "y"
        },
        {
         "alignmentgroup": "True",
         "hovertemplate": "İLÇE ADI=%{y}<br>SES SKORU=%{x}<extra></extra>",
         "legendgroup": "BAKIRKÖY",
         "marker": {
          "color": "#00cc96",
          "pattern": {
           "shape": ""
          }
         },
         "name": "BAKIRKÖY",
         "offsetgroup": "BAKIRKÖY",
         "orientation": "h",
         "showlegend": true,
         "textposition": "auto",
         "type": "bar",
         "x": [
          79.17
         ],
         "xaxis": "x",
         "y": [
          "BAKIRKÖY"
         ],
         "yaxis": "y"
        },
        {
         "alignmentgroup": "True",
         "hovertemplate": "İLÇE ADI=%{y}<br>SES SKORU=%{x}<extra></extra>",
         "legendgroup": "ŞİŞLİ",
         "marker": {
          "color": "#ab63fa",
          "pattern": {
           "shape": ""
          }
         },
         "name": "ŞİŞLİ",
         "offsetgroup": "ŞİŞLİ",
         "orientation": "h",
         "showlegend": true,
         "textposition": "auto",
         "type": "bar",
         "x": [
          68.5
         ],
         "xaxis": "x",
         "y": [
          "ŞİŞLİ"
         ],
         "yaxis": "y"
        },
        {
         "alignmentgroup": "True",
         "hovertemplate": "İLÇE ADI=%{y}<br>SES SKORU=%{x}<extra></extra>",
         "legendgroup": "ÜSKÜDAR",
         "marker": {
          "color": "#FFA15A",
          "pattern": {
           "shape": ""
          }
         },
         "name": "ÜSKÜDAR",
         "offsetgroup": "ÜSKÜDAR",
         "orientation": "h",
         "showlegend": true,
         "textposition": "auto",
         "type": "bar",
         "x": [
          64.02
         ],
         "xaxis": "x",
         "y": [
          "ÜSKÜDAR"
         ],
         "yaxis": "y"
        }
       ],
       "layout": {
        "barmode": "relative",
        "legend": {
         "title": {
          "text": "İLÇE ADI"
         },
         "tracegroupgap": 0
        },
        "template": {
         "data": {
          "bar": [
           {
            "error_x": {
             "color": "#2a3f5f"
            },
            "error_y": {
             "color": "#2a3f5f"
            },
            "marker": {
             "line": {
              "color": "#E5ECF6",
              "width": 0.5
             },
             "pattern": {
              "fillmode": "overlay",
              "size": 10,
              "solidity": 0.2
             }
            },
            "type": "bar"
           }
          ],
          "barpolar": [
           {
            "marker": {
             "line": {
              "color": "#E5ECF6",
              "width": 0.5
             },
             "pattern": {
              "fillmode": "overlay",
              "size": 10,
              "solidity": 0.2
             }
            },
            "type": "barpolar"
           }
          ],
          "carpet": [
           {
            "aaxis": {
             "endlinecolor": "#2a3f5f",
             "gridcolor": "white",
             "linecolor": "white",
             "minorgridcolor": "white",
             "startlinecolor": "#2a3f5f"
            },
            "baxis": {
             "endlinecolor": "#2a3f5f",
             "gridcolor": "white",
             "linecolor": "white",
             "minorgridcolor": "white",
             "startlinecolor": "#2a3f5f"
            },
            "type": "carpet"
           }
          ],
          "choropleth": [
           {
            "colorbar": {
             "outlinewidth": 0,
             "ticks": ""
            },
            "type": "choropleth"
           }
          ],
          "contour": [
           {
            "colorbar": {
             "outlinewidth": 0,
             "ticks": ""
            },
            "colorscale": [
             [
              0,
              "#0d0887"
             ],
             [
              0.1111111111111111,
              "#46039f"
             ],
             [
              0.2222222222222222,
              "#7201a8"
             ],
             [
              0.3333333333333333,
              "#9c179e"
             ],
             [
              0.4444444444444444,
              "#bd3786"
             ],
             [
              0.5555555555555556,
              "#d8576b"
             ],
             [
              0.6666666666666666,
              "#ed7953"
             ],
             [
              0.7777777777777778,
              "#fb9f3a"
             ],
             [
              0.8888888888888888,
              "#fdca26"
             ],
             [
              1,
              "#f0f921"
             ]
            ],
            "type": "contour"
           }
          ],
          "contourcarpet": [
           {
            "colorbar": {
             "outlinewidth": 0,
             "ticks": ""
            },
            "type": "contourcarpet"
           }
          ],
          "heatmap": [
           {
            "colorbar": {
             "outlinewidth": 0,
             "ticks": ""
            },
            "colorscale": [
             [
              0,
              "#0d0887"
             ],
             [
              0.1111111111111111,
              "#46039f"
             ],
             [
              0.2222222222222222,
              "#7201a8"
             ],
             [
              0.3333333333333333,
              "#9c179e"
             ],
             [
              0.4444444444444444,
              "#bd3786"
             ],
             [
              0.5555555555555556,
              "#d8576b"
             ],
             [
              0.6666666666666666,
              "#ed7953"
             ],
             [
              0.7777777777777778,
              "#fb9f3a"
             ],
             [
              0.8888888888888888,
              "#fdca26"
             ],
             [
              1,
              "#f0f921"
             ]
            ],
            "type": "heatmap"
           }
          ],
          "heatmapgl": [
           {
            "colorbar": {
             "outlinewidth": 0,
             "ticks": ""
            },
            "colorscale": [
             [
              0,
              "#0d0887"
             ],
             [
              0.1111111111111111,
              "#46039f"
             ],
             [
              0.2222222222222222,
              "#7201a8"
             ],
             [
              0.3333333333333333,
              "#9c179e"
             ],
             [
              0.4444444444444444,
              "#bd3786"
             ],
             [
              0.5555555555555556,
              "#d8576b"
             ],
             [
              0.6666666666666666,
              "#ed7953"
             ],
             [
              0.7777777777777778,
              "#fb9f3a"
             ],
             [
              0.8888888888888888,
              "#fdca26"
             ],
             [
              1,
              "#f0f921"
             ]
            ],
            "type": "heatmapgl"
           }
          ],
          "histogram": [
           {
            "marker": {
             "pattern": {
              "fillmode": "overlay",
              "size": 10,
              "solidity": 0.2
             }
            },
            "type": "histogram"
           }
          ],
          "histogram2d": [
           {
            "colorbar": {
             "outlinewidth": 0,
             "ticks": ""
            },
            "colorscale": [
             [
              0,
              "#0d0887"
             ],
             [
              0.1111111111111111,
              "#46039f"
             ],
             [
              0.2222222222222222,
              "#7201a8"
             ],
             [
              0.3333333333333333,
              "#9c179e"
             ],
             [
              0.4444444444444444,
              "#bd3786"
             ],
             [
              0.5555555555555556,
              "#d8576b"
             ],
             [
              0.6666666666666666,
              "#ed7953"
             ],
             [
              0.7777777777777778,
              "#fb9f3a"
             ],
             [
              0.8888888888888888,
              "#fdca26"
             ],
             [
              1,
              "#f0f921"
             ]
            ],
            "type": "histogram2d"
           }
          ],
          "histogram2dcontour": [
           {
            "colorbar": {
             "outlinewidth": 0,
             "ticks": ""
            },
            "colorscale": [
             [
              0,
              "#0d0887"
             ],
             [
              0.1111111111111111,
              "#46039f"
             ],
             [
              0.2222222222222222,
              "#7201a8"
             ],
             [
              0.3333333333333333,
              "#9c179e"
             ],
             [
              0.4444444444444444,
              "#bd3786"
             ],
             [
              0.5555555555555556,
              "#d8576b"
             ],
             [
              0.6666666666666666,
              "#ed7953"
             ],
             [
              0.7777777777777778,
              "#fb9f3a"
             ],
             [
              0.8888888888888888,
              "#fdca26"
             ],
             [
              1,
              "#f0f921"
             ]
            ],
            "type": "histogram2dcontour"
           }
          ],
          "mesh3d": [
           {
            "colorbar": {
             "outlinewidth": 0,
             "ticks": ""
            },
            "type": "mesh3d"
           }
          ],
          "parcoords": [
           {
            "line": {
             "colorbar": {
              "outlinewidth": 0,
              "ticks": ""
             }
            },
            "type": "parcoords"
           }
          ],
          "pie": [
           {
            "automargin": true,
            "type": "pie"
           }
          ],
          "scatter": [
           {
            "fillpattern": {
             "fillmode": "overlay",
             "size": 10,
             "solidity": 0.2
            },
            "type": "scatter"
           }
          ],
          "scatter3d": [
           {
            "line": {
             "colorbar": {
              "outlinewidth": 0,
              "ticks": ""
             }
            },
            "marker": {
             "colorbar": {
              "outlinewidth": 0,
              "ticks": ""
             }
            },
            "type": "scatter3d"
           }
          ],
          "scattercarpet": [
           {
            "marker": {
             "colorbar": {
              "outlinewidth": 0,
              "ticks": ""
             }
            },
            "type": "scattercarpet"
           }
          ],
          "scattergeo": [
           {
            "marker": {
             "colorbar": {
              "outlinewidth": 0,
              "ticks": ""
             }
            },
            "type": "scattergeo"
           }
          ],
          "scattergl": [
           {
            "marker": {
             "colorbar": {
              "outlinewidth": 0,
              "ticks": ""
             }
            },
            "type": "scattergl"
           }
          ],
          "scattermapbox": [
           {
            "marker": {
             "colorbar": {
              "outlinewidth": 0,
              "ticks": ""
             }
            },
            "type": "scattermapbox"
           }
          ],
          "scatterpolar": [
           {
            "marker": {
             "colorbar": {
              "outlinewidth": 0,
              "ticks": ""
             }
            },
            "type": "scatterpolar"
           }
          ],
          "scatterpolargl": [
           {
            "marker": {
             "colorbar": {
              "outlinewidth": 0,
              "ticks": ""
             }
            },
            "type": "scatterpolargl"
           }
          ],
          "scatterternary": [
           {
            "marker": {
             "colorbar": {
              "outlinewidth": 0,
              "ticks": ""
             }
            },
            "type": "scatterternary"
           }
          ],
          "surface": [
           {
            "colorbar": {
             "outlinewidth": 0,
             "ticks": ""
            },
            "colorscale": [
             [
              0,
              "#0d0887"
             ],
             [
              0.1111111111111111,
              "#46039f"
             ],
             [
              0.2222222222222222,
              "#7201a8"
             ],
             [
              0.3333333333333333,
              "#9c179e"
             ],
             [
              0.4444444444444444,
              "#bd3786"
             ],
             [
              0.5555555555555556,
              "#d8576b"
             ],
             [
              0.6666666666666666,
              "#ed7953"
             ],
             [
              0.7777777777777778,
              "#fb9f3a"
             ],
             [
              0.8888888888888888,
              "#fdca26"
             ],
             [
              1,
              "#f0f921"
             ]
            ],
            "type": "surface"
           }
          ],
          "table": [
           {
            "cells": {
             "fill": {
              "color": "#EBF0F8"
             },
             "line": {
              "color": "white"
             }
            },
            "header": {
             "fill": {
              "color": "#C8D4E3"
             },
             "line": {
              "color": "white"
             }
            },
            "type": "table"
           }
          ]
         },
         "layout": {
          "annotationdefaults": {
           "arrowcolor": "#2a3f5f",
           "arrowhead": 0,
           "arrowwidth": 1
          },
          "autotypenumbers": "strict",
          "coloraxis": {
           "colorbar": {
            "outlinewidth": 0,
            "ticks": ""
           }
          },
          "colorscale": {
           "diverging": [
            [
             0,
             "#8e0152"
            ],
            [
             0.1,
             "#c51b7d"
            ],
            [
             0.2,
             "#de77ae"
            ],
            [
             0.3,
             "#f1b6da"
            ],
            [
             0.4,
             "#fde0ef"
            ],
            [
             0.5,
             "#f7f7f7"
            ],
            [
             0.6,
             "#e6f5d0"
            ],
            [
             0.7,
             "#b8e186"
            ],
            [
             0.8,
             "#7fbc41"
            ],
            [
             0.9,
             "#4d9221"
            ],
            [
             1,
             "#276419"
            ]
           ],
           "sequential": [
            [
             0,
             "#0d0887"
            ],
            [
             0.1111111111111111,
             "#46039f"
            ],
            [
             0.2222222222222222,
             "#7201a8"
            ],
            [
             0.3333333333333333,
             "#9c179e"
            ],
            [
             0.4444444444444444,
             "#bd3786"
            ],
            [
             0.5555555555555556,
             "#d8576b"
            ],
            [
             0.6666666666666666,
             "#ed7953"
            ],
            [
             0.7777777777777778,
             "#fb9f3a"
            ],
            [
             0.8888888888888888,
             "#fdca26"
            ],
            [
             1,
             "#f0f921"
            ]
           ],
           "sequentialminus": [
            [
             0,
             "#0d0887"
            ],
            [
             0.1111111111111111,
             "#46039f"
            ],
            [
             0.2222222222222222,
             "#7201a8"
            ],
            [
             0.3333333333333333,
             "#9c179e"
            ],
            [
             0.4444444444444444,
             "#bd3786"
            ],
            [
             0.5555555555555556,
             "#d8576b"
            ],
            [
             0.6666666666666666,
             "#ed7953"
            ],
            [
             0.7777777777777778,
             "#fb9f3a"
            ],
            [
             0.8888888888888888,
             "#fdca26"
            ],
            [
             1,
             "#f0f921"
            ]
           ]
          },
          "colorway": [
           "#636efa",
           "#EF553B",
           "#00cc96",
           "#ab63fa",
           "#FFA15A",
           "#19d3f3",
           "#FF6692",
           "#B6E880",
           "#FF97FF",
           "#FECB52"
          ],
          "font": {
           "color": "#2a3f5f"
          },
          "geo": {
           "bgcolor": "white",
           "lakecolor": "white",
           "landcolor": "#E5ECF6",
           "showlakes": true,
           "showland": true,
           "subunitcolor": "white"
          },
          "hoverlabel": {
           "align": "left"
          },
          "hovermode": "closest",
          "mapbox": {
           "style": "light"
          },
          "paper_bgcolor": "white",
          "plot_bgcolor": "#E5ECF6",
          "polar": {
           "angularaxis": {
            "gridcolor": "white",
            "linecolor": "white",
            "ticks": ""
           },
           "bgcolor": "#E5ECF6",
           "radialaxis": {
            "gridcolor": "white",
            "linecolor": "white",
            "ticks": ""
           }
          },
          "scene": {
           "xaxis": {
            "backgroundcolor": "#E5ECF6",
            "gridcolor": "white",
            "gridwidth": 2,
            "linecolor": "white",
            "showbackground": true,
            "ticks": "",
            "zerolinecolor": "white"
           },
           "yaxis": {
            "backgroundcolor": "#E5ECF6",
            "gridcolor": "white",
            "gridwidth": 2,
            "linecolor": "white",
            "showbackground": true,
            "ticks": "",
            "zerolinecolor": "white"
           },
           "zaxis": {
            "backgroundcolor": "#E5ECF6",
            "gridcolor": "white",
            "gridwidth": 2,
            "linecolor": "white",
            "showbackground": true,
            "ticks": "",
            "zerolinecolor": "white"
           }
          },
          "shapedefaults": {
           "line": {
            "color": "#2a3f5f"
           }
          },
          "ternary": {
           "aaxis": {
            "gridcolor": "white",
            "linecolor": "white",
            "ticks": ""
           },
           "baxis": {
            "gridcolor": "white",
            "linecolor": "white",
            "ticks": ""
           },
           "bgcolor": "#E5ECF6",
           "caxis": {
            "gridcolor": "white",
            "linecolor": "white",
            "ticks": ""
           }
          },
          "title": {
           "x": 0.05
          },
          "xaxis": {
           "automargin": true,
           "gridcolor": "white",
           "linecolor": "white",
           "ticks": "",
           "title": {
            "standoff": 15
           },
           "zerolinecolor": "white",
           "zerolinewidth": 2
          },
          "yaxis": {
           "automargin": true,
           "gridcolor": "white",
           "linecolor": "white",
           "ticks": "",
           "title": {
            "standoff": 15
           },
           "zerolinecolor": "white",
           "zerolinewidth": 2
          }
         }
        },
        "title": {
         "text": "En Yüksek SES Skorları",
         "x": 0.15
        },
        "width": 600,
        "xaxis": {
         "anchor": "y",
         "domain": [
          0,
          1
         ],
         "title": {
          "text": "SES SKORU"
         }
        },
        "yaxis": {
         "anchor": "x",
         "categoryarray": [
          "ÜSKÜDAR",
          "ŞİŞLİ",
          "BAKIRKÖY",
          "KADIKÖY",
          "BEŞİKTAŞ"
         ],
         "categoryorder": "array",
         "domain": [
          0,
          1
         ],
         "title": {
          "text": "İLÇE ADI"
         }
        }
       }
      }
     },
     "metadata": {},
     "output_type": "display_data"
    }
   ],
   "source": [
    "fig = px.bar(ilk10, y='İLÇE ADI', x='SES SKORU', color='İLÇE ADI', title=\"En Yüksek SES Skorları\")\n",
    "fig.update_layout(title_x=0.15)\n",
    "\n",
    "# set graph width smaller\n",
    "fig.update_layout(width=600) \n",
    "fig.show()"
   ]
  },
  {
   "cell_type": "code",
   "execution_count": 95,
   "metadata": {},
   "outputs": [
    {
     "data": {
      "application/vnd.plotly.v1+json": {
       "config": {
        "plotlyServerURL": "https://plot.ly"
       },
       "data": [
        {
         "alignmentgroup": "True",
         "hovertemplate": "İLÇE ADI=%{x}<br>SES SKORU=%{y}<extra></extra>",
         "legendgroup": "ÇATALCA",
         "marker": {
          "color": "#636efa",
          "pattern": {
           "shape": ""
          }
         },
         "name": "ÇATALCA",
         "offsetgroup": "ÇATALCA",
         "orientation": "v",
         "showlegend": true,
         "textposition": "auto",
         "type": "bar",
         "x": [
          "ÇATALCA"
         ],
         "xaxis": "x",
         "y": [
          13.78
         ],
         "yaxis": "y"
        },
        {
         "alignmentgroup": "True",
         "hovertemplate": "İLÇE ADI=%{x}<br>SES SKORU=%{y}<extra></extra>",
         "legendgroup": "ŞİLE",
         "marker": {
          "color": "#EF553B",
          "pattern": {
           "shape": ""
          }
         },
         "name": "ŞİLE",
         "offsetgroup": "ŞİLE",
         "orientation": "v",
         "showlegend": true,
         "textposition": "auto",
         "type": "bar",
         "x": [
          "ŞİLE"
         ],
         "xaxis": "x",
         "y": [
          15.73
         ],
         "yaxis": "y"
        },
        {
         "alignmentgroup": "True",
         "hovertemplate": "İLÇE ADI=%{x}<br>SES SKORU=%{y}<extra></extra>",
         "legendgroup": "ARNAVUTKÖY",
         "marker": {
          "color": "#00cc96",
          "pattern": {
           "shape": ""
          }
         },
         "name": "ARNAVUTKÖY",
         "offsetgroup": "ARNAVUTKÖY",
         "orientation": "v",
         "showlegend": true,
         "textposition": "auto",
         "type": "bar",
         "x": [
          "ARNAVUTKÖY"
         ],
         "xaxis": "x",
         "y": [
          16.78
         ],
         "yaxis": "y"
        },
        {
         "alignmentgroup": "True",
         "hovertemplate": "İLÇE ADI=%{x}<br>SES SKORU=%{y}<extra></extra>",
         "legendgroup": "SİLİVRİ",
         "marker": {
          "color": "#ab63fa",
          "pattern": {
           "shape": ""
          }
         },
         "name": "SİLİVRİ",
         "offsetgroup": "SİLİVRİ",
         "orientation": "v",
         "showlegend": true,
         "textposition": "auto",
         "type": "bar",
         "x": [
          "SİLİVRİ"
         ],
         "xaxis": "x",
         "y": [
          17.5
         ],
         "yaxis": "y"
        },
        {
         "alignmentgroup": "True",
         "hovertemplate": "İLÇE ADI=%{x}<br>SES SKORU=%{y}<extra></extra>",
         "legendgroup": "SULTANBEYLİ",
         "marker": {
          "color": "#FFA15A",
          "pattern": {
           "shape": ""
          }
         },
         "name": "SULTANBEYLİ",
         "offsetgroup": "SULTANBEYLİ",
         "orientation": "v",
         "showlegend": true,
         "textposition": "auto",
         "type": "bar",
         "x": [
          "SULTANBEYLİ"
         ],
         "xaxis": "x",
         "y": [
          18.33
         ],
         "yaxis": "y"
        },
        {
         "alignmentgroup": "True",
         "hovertemplate": "İLÇE ADI=%{x}<br>SES SKORU=%{y}<extra></extra>",
         "legendgroup": "SULTANGAZİ",
         "marker": {
          "color": "#19d3f3",
          "pattern": {
           "shape": ""
          }
         },
         "name": "SULTANGAZİ",
         "offsetgroup": "SULTANGAZİ",
         "orientation": "v",
         "showlegend": true,
         "textposition": "auto",
         "type": "bar",
         "x": [
          "SULTANGAZİ"
         ],
         "xaxis": "x",
         "y": [
          23.33
         ],
         "yaxis": "y"
        },
        {
         "alignmentgroup": "True",
         "hovertemplate": "İLÇE ADI=%{x}<br>SES SKORU=%{y}<extra></extra>",
         "legendgroup": "ESENLER",
         "marker": {
          "color": "#FF6692",
          "pattern": {
           "shape": ""
          }
         },
         "name": "ESENLER",
         "offsetgroup": "ESENLER",
         "orientation": "v",
         "showlegend": true,
         "textposition": "auto",
         "type": "bar",
         "x": [
          "ESENLER"
         ],
         "xaxis": "x",
         "y": [
          23.44
         ],
         "yaxis": "y"
        },
        {
         "alignmentgroup": "True",
         "hovertemplate": "İLÇE ADI=%{x}<br>SES SKORU=%{y}<extra></extra>",
         "legendgroup": "SANCAKTEPE",
         "marker": {
          "color": "#B6E880",
          "pattern": {
           "shape": ""
          }
         },
         "name": "SANCAKTEPE",
         "offsetgroup": "SANCAKTEPE",
         "orientation": "v",
         "showlegend": true,
         "textposition": "auto",
         "type": "bar",
         "x": [
          "SANCAKTEPE"
         ],
         "xaxis": "x",
         "y": [
          26.97
         ],
         "yaxis": "y"
        },
        {
         "alignmentgroup": "True",
         "hovertemplate": "İLÇE ADI=%{x}<br>SES SKORU=%{y}<extra></extra>",
         "legendgroup": "BAĞCILAR",
         "marker": {
          "color": "#FF97FF",
          "pattern": {
           "shape": ""
          }
         },
         "name": "BAĞCILAR",
         "offsetgroup": "BAĞCILAR",
         "orientation": "v",
         "showlegend": true,
         "textposition": "auto",
         "type": "bar",
         "x": [
          "BAĞCILAR"
         ],
         "xaxis": "x",
         "y": [
          28.41
         ],
         "yaxis": "y"
        },
        {
         "alignmentgroup": "True",
         "hovertemplate": "İLÇE ADI=%{x}<br>SES SKORU=%{y}<extra></extra>",
         "legendgroup": "ESENYURT",
         "marker": {
          "color": "#FECB52",
          "pattern": {
           "shape": ""
          }
         },
         "name": "ESENYURT",
         "offsetgroup": "ESENYURT",
         "orientation": "v",
         "showlegend": true,
         "textposition": "auto",
         "type": "bar",
         "x": [
          "ESENYURT"
         ],
         "xaxis": "x",
         "y": [
          31.1
         ],
         "yaxis": "y"
        },
        {
         "alignmentgroup": "True",
         "hovertemplate": "İLÇE ADI=%{x}<br>SES SKORU=%{y}<extra></extra>",
         "legendgroup": "PENDİK",
         "marker": {
          "color": "#636efa",
          "pattern": {
           "shape": ""
          }
         },
         "name": "PENDİK",
         "offsetgroup": "PENDİK",
         "orientation": "v",
         "showlegend": true,
         "textposition": "auto",
         "type": "bar",
         "x": [
          "PENDİK"
         ],
         "xaxis": "x",
         "y": [
          32.29
         ],
         "yaxis": "y"
        },
        {
         "alignmentgroup": "True",
         "hovertemplate": "İLÇE ADI=%{x}<br>SES SKORU=%{y}<extra></extra>",
         "legendgroup": "BAYRAMPAŞA",
         "marker": {
          "color": "#EF553B",
          "pattern": {
           "shape": ""
          }
         },
         "name": "BAYRAMPAŞA",
         "offsetgroup": "BAYRAMPAŞA",
         "orientation": "v",
         "showlegend": true,
         "textposition": "auto",
         "type": "bar",
         "x": [
          "BAYRAMPAŞA"
         ],
         "xaxis": "x",
         "y": [
          32.95
         ],
         "yaxis": "y"
        },
        {
         "alignmentgroup": "True",
         "hovertemplate": "İLÇE ADI=%{x}<br>SES SKORU=%{y}<extra></extra>",
         "legendgroup": "GAZİOSMANPAŞA",
         "marker": {
          "color": "#00cc96",
          "pattern": {
           "shape": ""
          }
         },
         "name": "GAZİOSMANPAŞA",
         "offsetgroup": "GAZİOSMANPAŞA",
         "orientation": "v",
         "showlegend": true,
         "textposition": "auto",
         "type": "bar",
         "x": [
          "GAZİOSMANPAŞA"
         ],
         "xaxis": "x",
         "y": [
          33.59
         ],
         "yaxis": "y"
        },
        {
         "alignmentgroup": "True",
         "hovertemplate": "İLÇE ADI=%{x}<br>SES SKORU=%{y}<extra></extra>",
         "legendgroup": "EYÜP",
         "marker": {
          "color": "#ab63fa",
          "pattern": {
           "shape": ""
          }
         },
         "name": "EYÜP",
         "offsetgroup": "EYÜP",
         "orientation": "v",
         "showlegend": true,
         "textposition": "auto",
         "type": "bar",
         "x": [
          "EYÜP"
         ],
         "xaxis": "x",
         "y": [
          35.27
         ],
         "yaxis": "y"
        },
        {
         "alignmentgroup": "True",
         "hovertemplate": "İLÇE ADI=%{x}<br>SES SKORU=%{y}<extra></extra>",
         "legendgroup": "KÜÇÜKÇEKMECE",
         "marker": {
          "color": "#FFA15A",
          "pattern": {
           "shape": ""
          }
         },
         "name": "KÜÇÜKÇEKMECE",
         "offsetgroup": "KÜÇÜKÇEKMECE",
         "orientation": "v",
         "showlegend": true,
         "textposition": "auto",
         "type": "bar",
         "x": [
          "KÜÇÜKÇEKMECE"
         ],
         "xaxis": "x",
         "y": [
          35.71
         ],
         "yaxis": "y"
        }
       ],
       "layout": {
        "barmode": "relative",
        "height": 350,
        "legend": {
         "title": {
          "text": "İLÇE ADI"
         },
         "tracegroupgap": 0
        },
        "showlegend": false,
        "template": {
         "data": {
          "bar": [
           {
            "error_x": {
             "color": "#2a3f5f"
            },
            "error_y": {
             "color": "#2a3f5f"
            },
            "marker": {
             "line": {
              "color": "#E5ECF6",
              "width": 0.5
             },
             "pattern": {
              "fillmode": "overlay",
              "size": 10,
              "solidity": 0.2
             }
            },
            "type": "bar"
           }
          ],
          "barpolar": [
           {
            "marker": {
             "line": {
              "color": "#E5ECF6",
              "width": 0.5
             },
             "pattern": {
              "fillmode": "overlay",
              "size": 10,
              "solidity": 0.2
             }
            },
            "type": "barpolar"
           }
          ],
          "carpet": [
           {
            "aaxis": {
             "endlinecolor": "#2a3f5f",
             "gridcolor": "white",
             "linecolor": "white",
             "minorgridcolor": "white",
             "startlinecolor": "#2a3f5f"
            },
            "baxis": {
             "endlinecolor": "#2a3f5f",
             "gridcolor": "white",
             "linecolor": "white",
             "minorgridcolor": "white",
             "startlinecolor": "#2a3f5f"
            },
            "type": "carpet"
           }
          ],
          "choropleth": [
           {
            "colorbar": {
             "outlinewidth": 0,
             "ticks": ""
            },
            "type": "choropleth"
           }
          ],
          "contour": [
           {
            "colorbar": {
             "outlinewidth": 0,
             "ticks": ""
            },
            "colorscale": [
             [
              0,
              "#0d0887"
             ],
             [
              0.1111111111111111,
              "#46039f"
             ],
             [
              0.2222222222222222,
              "#7201a8"
             ],
             [
              0.3333333333333333,
              "#9c179e"
             ],
             [
              0.4444444444444444,
              "#bd3786"
             ],
             [
              0.5555555555555556,
              "#d8576b"
             ],
             [
              0.6666666666666666,
              "#ed7953"
             ],
             [
              0.7777777777777778,
              "#fb9f3a"
             ],
             [
              0.8888888888888888,
              "#fdca26"
             ],
             [
              1,
              "#f0f921"
             ]
            ],
            "type": "contour"
           }
          ],
          "contourcarpet": [
           {
            "colorbar": {
             "outlinewidth": 0,
             "ticks": ""
            },
            "type": "contourcarpet"
           }
          ],
          "heatmap": [
           {
            "colorbar": {
             "outlinewidth": 0,
             "ticks": ""
            },
            "colorscale": [
             [
              0,
              "#0d0887"
             ],
             [
              0.1111111111111111,
              "#46039f"
             ],
             [
              0.2222222222222222,
              "#7201a8"
             ],
             [
              0.3333333333333333,
              "#9c179e"
             ],
             [
              0.4444444444444444,
              "#bd3786"
             ],
             [
              0.5555555555555556,
              "#d8576b"
             ],
             [
              0.6666666666666666,
              "#ed7953"
             ],
             [
              0.7777777777777778,
              "#fb9f3a"
             ],
             [
              0.8888888888888888,
              "#fdca26"
             ],
             [
              1,
              "#f0f921"
             ]
            ],
            "type": "heatmap"
           }
          ],
          "heatmapgl": [
           {
            "colorbar": {
             "outlinewidth": 0,
             "ticks": ""
            },
            "colorscale": [
             [
              0,
              "#0d0887"
             ],
             [
              0.1111111111111111,
              "#46039f"
             ],
             [
              0.2222222222222222,
              "#7201a8"
             ],
             [
              0.3333333333333333,
              "#9c179e"
             ],
             [
              0.4444444444444444,
              "#bd3786"
             ],
             [
              0.5555555555555556,
              "#d8576b"
             ],
             [
              0.6666666666666666,
              "#ed7953"
             ],
             [
              0.7777777777777778,
              "#fb9f3a"
             ],
             [
              0.8888888888888888,
              "#fdca26"
             ],
             [
              1,
              "#f0f921"
             ]
            ],
            "type": "heatmapgl"
           }
          ],
          "histogram": [
           {
            "marker": {
             "pattern": {
              "fillmode": "overlay",
              "size": 10,
              "solidity": 0.2
             }
            },
            "type": "histogram"
           }
          ],
          "histogram2d": [
           {
            "colorbar": {
             "outlinewidth": 0,
             "ticks": ""
            },
            "colorscale": [
             [
              0,
              "#0d0887"
             ],
             [
              0.1111111111111111,
              "#46039f"
             ],
             [
              0.2222222222222222,
              "#7201a8"
             ],
             [
              0.3333333333333333,
              "#9c179e"
             ],
             [
              0.4444444444444444,
              "#bd3786"
             ],
             [
              0.5555555555555556,
              "#d8576b"
             ],
             [
              0.6666666666666666,
              "#ed7953"
             ],
             [
              0.7777777777777778,
              "#fb9f3a"
             ],
             [
              0.8888888888888888,
              "#fdca26"
             ],
             [
              1,
              "#f0f921"
             ]
            ],
            "type": "histogram2d"
           }
          ],
          "histogram2dcontour": [
           {
            "colorbar": {
             "outlinewidth": 0,
             "ticks": ""
            },
            "colorscale": [
             [
              0,
              "#0d0887"
             ],
             [
              0.1111111111111111,
              "#46039f"
             ],
             [
              0.2222222222222222,
              "#7201a8"
             ],
             [
              0.3333333333333333,
              "#9c179e"
             ],
             [
              0.4444444444444444,
              "#bd3786"
             ],
             [
              0.5555555555555556,
              "#d8576b"
             ],
             [
              0.6666666666666666,
              "#ed7953"
             ],
             [
              0.7777777777777778,
              "#fb9f3a"
             ],
             [
              0.8888888888888888,
              "#fdca26"
             ],
             [
              1,
              "#f0f921"
             ]
            ],
            "type": "histogram2dcontour"
           }
          ],
          "mesh3d": [
           {
            "colorbar": {
             "outlinewidth": 0,
             "ticks": ""
            },
            "type": "mesh3d"
           }
          ],
          "parcoords": [
           {
            "line": {
             "colorbar": {
              "outlinewidth": 0,
              "ticks": ""
             }
            },
            "type": "parcoords"
           }
          ],
          "pie": [
           {
            "automargin": true,
            "type": "pie"
           }
          ],
          "scatter": [
           {
            "fillpattern": {
             "fillmode": "overlay",
             "size": 10,
             "solidity": 0.2
            },
            "type": "scatter"
           }
          ],
          "scatter3d": [
           {
            "line": {
             "colorbar": {
              "outlinewidth": 0,
              "ticks": ""
             }
            },
            "marker": {
             "colorbar": {
              "outlinewidth": 0,
              "ticks": ""
             }
            },
            "type": "scatter3d"
           }
          ],
          "scattercarpet": [
           {
            "marker": {
             "colorbar": {
              "outlinewidth": 0,
              "ticks": ""
             }
            },
            "type": "scattercarpet"
           }
          ],
          "scattergeo": [
           {
            "marker": {
             "colorbar": {
              "outlinewidth": 0,
              "ticks": ""
             }
            },
            "type": "scattergeo"
           }
          ],
          "scattergl": [
           {
            "marker": {
             "colorbar": {
              "outlinewidth": 0,
              "ticks": ""
             }
            },
            "type": "scattergl"
           }
          ],
          "scattermapbox": [
           {
            "marker": {
             "colorbar": {
              "outlinewidth": 0,
              "ticks": ""
             }
            },
            "type": "scattermapbox"
           }
          ],
          "scatterpolar": [
           {
            "marker": {
             "colorbar": {
              "outlinewidth": 0,
              "ticks": ""
             }
            },
            "type": "scatterpolar"
           }
          ],
          "scatterpolargl": [
           {
            "marker": {
             "colorbar": {
              "outlinewidth": 0,
              "ticks": ""
             }
            },
            "type": "scatterpolargl"
           }
          ],
          "scatterternary": [
           {
            "marker": {
             "colorbar": {
              "outlinewidth": 0,
              "ticks": ""
             }
            },
            "type": "scatterternary"
           }
          ],
          "surface": [
           {
            "colorbar": {
             "outlinewidth": 0,
             "ticks": ""
            },
            "colorscale": [
             [
              0,
              "#0d0887"
             ],
             [
              0.1111111111111111,
              "#46039f"
             ],
             [
              0.2222222222222222,
              "#7201a8"
             ],
             [
              0.3333333333333333,
              "#9c179e"
             ],
             [
              0.4444444444444444,
              "#bd3786"
             ],
             [
              0.5555555555555556,
              "#d8576b"
             ],
             [
              0.6666666666666666,
              "#ed7953"
             ],
             [
              0.7777777777777778,
              "#fb9f3a"
             ],
             [
              0.8888888888888888,
              "#fdca26"
             ],
             [
              1,
              "#f0f921"
             ]
            ],
            "type": "surface"
           }
          ],
          "table": [
           {
            "cells": {
             "fill": {
              "color": "#EBF0F8"
             },
             "line": {
              "color": "white"
             }
            },
            "header": {
             "fill": {
              "color": "#C8D4E3"
             },
             "line": {
              "color": "white"
             }
            },
            "type": "table"
           }
          ]
         },
         "layout": {
          "annotationdefaults": {
           "arrowcolor": "#2a3f5f",
           "arrowhead": 0,
           "arrowwidth": 1
          },
          "autotypenumbers": "strict",
          "coloraxis": {
           "colorbar": {
            "outlinewidth": 0,
            "ticks": ""
           }
          },
          "colorscale": {
           "diverging": [
            [
             0,
             "#8e0152"
            ],
            [
             0.1,
             "#c51b7d"
            ],
            [
             0.2,
             "#de77ae"
            ],
            [
             0.3,
             "#f1b6da"
            ],
            [
             0.4,
             "#fde0ef"
            ],
            [
             0.5,
             "#f7f7f7"
            ],
            [
             0.6,
             "#e6f5d0"
            ],
            [
             0.7,
             "#b8e186"
            ],
            [
             0.8,
             "#7fbc41"
            ],
            [
             0.9,
             "#4d9221"
            ],
            [
             1,
             "#276419"
            ]
           ],
           "sequential": [
            [
             0,
             "#0d0887"
            ],
            [
             0.1111111111111111,
             "#46039f"
            ],
            [
             0.2222222222222222,
             "#7201a8"
            ],
            [
             0.3333333333333333,
             "#9c179e"
            ],
            [
             0.4444444444444444,
             "#bd3786"
            ],
            [
             0.5555555555555556,
             "#d8576b"
            ],
            [
             0.6666666666666666,
             "#ed7953"
            ],
            [
             0.7777777777777778,
             "#fb9f3a"
            ],
            [
             0.8888888888888888,
             "#fdca26"
            ],
            [
             1,
             "#f0f921"
            ]
           ],
           "sequentialminus": [
            [
             0,
             "#0d0887"
            ],
            [
             0.1111111111111111,
             "#46039f"
            ],
            [
             0.2222222222222222,
             "#7201a8"
            ],
            [
             0.3333333333333333,
             "#9c179e"
            ],
            [
             0.4444444444444444,
             "#bd3786"
            ],
            [
             0.5555555555555556,
             "#d8576b"
            ],
            [
             0.6666666666666666,
             "#ed7953"
            ],
            [
             0.7777777777777778,
             "#fb9f3a"
            ],
            [
             0.8888888888888888,
             "#fdca26"
            ],
            [
             1,
             "#f0f921"
            ]
           ]
          },
          "colorway": [
           "#636efa",
           "#EF553B",
           "#00cc96",
           "#ab63fa",
           "#FFA15A",
           "#19d3f3",
           "#FF6692",
           "#B6E880",
           "#FF97FF",
           "#FECB52"
          ],
          "font": {
           "color": "#2a3f5f"
          },
          "geo": {
           "bgcolor": "white",
           "lakecolor": "white",
           "landcolor": "#E5ECF6",
           "showlakes": true,
           "showland": true,
           "subunitcolor": "white"
          },
          "hoverlabel": {
           "align": "left"
          },
          "hovermode": "closest",
          "mapbox": {
           "style": "light"
          },
          "paper_bgcolor": "white",
          "plot_bgcolor": "#E5ECF6",
          "polar": {
           "angularaxis": {
            "gridcolor": "white",
            "linecolor": "white",
            "ticks": ""
           },
           "bgcolor": "#E5ECF6",
           "radialaxis": {
            "gridcolor": "white",
            "linecolor": "white",
            "ticks": ""
           }
          },
          "scene": {
           "xaxis": {
            "backgroundcolor": "#E5ECF6",
            "gridcolor": "white",
            "gridwidth": 2,
            "linecolor": "white",
            "showbackground": true,
            "ticks": "",
            "zerolinecolor": "white"
           },
           "yaxis": {
            "backgroundcolor": "#E5ECF6",
            "gridcolor": "white",
            "gridwidth": 2,
            "linecolor": "white",
            "showbackground": true,
            "ticks": "",
            "zerolinecolor": "white"
           },
           "zaxis": {
            "backgroundcolor": "#E5ECF6",
            "gridcolor": "white",
            "gridwidth": 2,
            "linecolor": "white",
            "showbackground": true,
            "ticks": "",
            "zerolinecolor": "white"
           }
          },
          "shapedefaults": {
           "line": {
            "color": "#2a3f5f"
           }
          },
          "ternary": {
           "aaxis": {
            "gridcolor": "white",
            "linecolor": "white",
            "ticks": ""
           },
           "baxis": {
            "gridcolor": "white",
            "linecolor": "white",
            "ticks": ""
           },
           "bgcolor": "#E5ECF6",
           "caxis": {
            "gridcolor": "white",
            "linecolor": "white",
            "ticks": ""
           }
          },
          "title": {
           "x": 0.05
          },
          "xaxis": {
           "automargin": true,
           "gridcolor": "white",
           "linecolor": "white",
           "ticks": "",
           "title": {
            "standoff": 15
           },
           "zerolinecolor": "white",
           "zerolinewidth": 2
          },
          "yaxis": {
           "automargin": true,
           "gridcolor": "white",
           "linecolor": "white",
           "ticks": "",
           "title": {
            "standoff": 15
           },
           "zerolinecolor": "white",
           "zerolinewidth": 2
          }
         }
        },
        "title": {
         "text": "İstanbul'un En Düşük SES Skoruna Sahip İlçeleri",
         "x": 0.07
        },
        "xaxis": {
         "anchor": "y",
         "categoryarray": [
          "ÇATALCA",
          "ŞİLE",
          "ARNAVUTKÖY",
          "SİLİVRİ",
          "SULTANBEYLİ",
          "SULTANGAZİ",
          "ESENLER",
          "SANCAKTEPE",
          "BAĞCILAR",
          "ESENYURT",
          "PENDİK",
          "BAYRAMPAŞA",
          "GAZİOSMANPAŞA",
          "EYÜP",
          "KÜÇÜKÇEKMECE"
         ],
         "categoryorder": "array",
         "domain": [
          0,
          1
         ],
         "title": {
          "text": "İLÇE ADI"
         }
        },
        "yaxis": {
         "anchor": "x",
         "domain": [
          0,
          1
         ],
         "title": {
          "text": "SES SKORU"
         }
        }
       }
      }
     },
     "metadata": {},
     "output_type": "display_data"
    }
   ],
   "source": [
    "fig = px.bar(son15, x='İLÇE ADI', y='SES SKORU', color='İLÇE ADI', title='İstanbul\\'un En Düşük SES Skoruna Sahip İlçeleri')\n",
    "fig.update_layout(title_x=0.07, height=350)\n",
    "# no legends\n",
    "fig.update_layout(showlegend=False)\n",
    "fig.show()"
   ]
  },
  {
   "cell_type": "code",
   "execution_count": 96,
   "metadata": {},
   "outputs": [
    {
     "data": {
      "text/plain": [
       "array(['B', 'C', 'B+', 'E', 'D', 'A', 'C+', 'A+'], dtype=object)"
      ]
     },
     "execution_count": 96,
     "metadata": {},
     "output_type": "execute_result"
    }
   ],
   "source": [
    "ses['SES'].unique()"
   ]
  },
  {
   "cell_type": "code",
   "execution_count": 97,
   "metadata": {},
   "outputs": [],
   "source": [
    "ses_kategorisi = ses[ses['SES'].isin(['A+','A', 'B+'])].groupby(['İLÇE ADI','SES']).size().reset_index(name='SES Adeti').sort_values('SES', ascending=True).sort_values('SES Adeti', ascending=False).head(20)"
   ]
  },
  {
   "cell_type": "code",
   "execution_count": 98,
   "metadata": {},
   "outputs": [
    {
     "data": {
      "application/vnd.plotly.v1+json": {
       "config": {
        "plotlyServerURL": "https://plot.ly"
       },
       "data": [
        {
         "alignmentgroup": "True",
         "hovertemplate": "SES=A<br>İLÇE ADI=%{x}<br>SES Adeti=%{y}<extra></extra>",
         "legendgroup": "A",
         "marker": {
          "color": "#636efa",
          "pattern": {
           "shape": ""
          }
         },
         "name": "A",
         "offsetgroup": "A",
         "orientation": "v",
         "showlegend": true,
         "textposition": "auto",
         "type": "bar",
         "x": [
          "BEŞİKTAŞ",
          "KADIKÖY",
          "SARIYER",
          "ÜSKÜDAR",
          "ŞİŞLİ",
          "BEYOĞLU",
          "BAKIRKÖY",
          "BEYKOZ"
         ],
         "xaxis": "x",
         "y": [
          10,
          10,
          9,
          7,
          7,
          4,
          4,
          3
         ],
         "yaxis": "y"
        },
        {
         "alignmentgroup": "True",
         "hovertemplate": "SES=A+<br>İLÇE ADI=%{x}<br>SES Adeti=%{y}<extra></extra>",
         "legendgroup": "A+",
         "marker": {
          "color": "#EF553B",
          "pattern": {
           "shape": ""
          }
         },
         "name": "A+",
         "offsetgroup": "A+",
         "orientation": "v",
         "showlegend": true,
         "textposition": "auto",
         "type": "bar",
         "x": [
          "BEŞİKTAŞ",
          "KADIKÖY",
          "BEYOĞLU"
         ],
         "xaxis": "x",
         "y": [
          10,
          4,
          2
         ],
         "yaxis": "y"
        },
        {
         "alignmentgroup": "True",
         "hovertemplate": "SES=B+<br>İLÇE ADI=%{x}<br>SES Adeti=%{y}<extra></extra>",
         "legendgroup": "B+",
         "marker": {
          "color": "#00cc96",
          "pattern": {
           "shape": ""
          }
         },
         "name": "B+",
         "offsetgroup": "B+",
         "orientation": "v",
         "showlegend": true,
         "textposition": "auto",
         "type": "bar",
         "x": [
          "ŞİŞLİ",
          "BAKIRKÖY",
          "SARIYER",
          "ÜSKÜDAR",
          "MALTEPE",
          "BEYOĞLU",
          "KADIKÖY",
          "ÜMRANİYE",
          "BEŞİKTAŞ"
         ],
         "xaxis": "x",
         "y": [
          6,
          6,
          5,
          5,
          5,
          4,
          4,
          4,
          3
         ],
         "yaxis": "y"
        }
       ],
       "layout": {
        "barmode": "relative",
        "legend": {
         "title": {
          "text": "SES"
         },
         "tracegroupgap": 0
        },
        "template": {
         "data": {
          "bar": [
           {
            "error_x": {
             "color": "#2a3f5f"
            },
            "error_y": {
             "color": "#2a3f5f"
            },
            "marker": {
             "line": {
              "color": "#E5ECF6",
              "width": 0.5
             },
             "pattern": {
              "fillmode": "overlay",
              "size": 10,
              "solidity": 0.2
             }
            },
            "type": "bar"
           }
          ],
          "barpolar": [
           {
            "marker": {
             "line": {
              "color": "#E5ECF6",
              "width": 0.5
             },
             "pattern": {
              "fillmode": "overlay",
              "size": 10,
              "solidity": 0.2
             }
            },
            "type": "barpolar"
           }
          ],
          "carpet": [
           {
            "aaxis": {
             "endlinecolor": "#2a3f5f",
             "gridcolor": "white",
             "linecolor": "white",
             "minorgridcolor": "white",
             "startlinecolor": "#2a3f5f"
            },
            "baxis": {
             "endlinecolor": "#2a3f5f",
             "gridcolor": "white",
             "linecolor": "white",
             "minorgridcolor": "white",
             "startlinecolor": "#2a3f5f"
            },
            "type": "carpet"
           }
          ],
          "choropleth": [
           {
            "colorbar": {
             "outlinewidth": 0,
             "ticks": ""
            },
            "type": "choropleth"
           }
          ],
          "contour": [
           {
            "colorbar": {
             "outlinewidth": 0,
             "ticks": ""
            },
            "colorscale": [
             [
              0,
              "#0d0887"
             ],
             [
              0.1111111111111111,
              "#46039f"
             ],
             [
              0.2222222222222222,
              "#7201a8"
             ],
             [
              0.3333333333333333,
              "#9c179e"
             ],
             [
              0.4444444444444444,
              "#bd3786"
             ],
             [
              0.5555555555555556,
              "#d8576b"
             ],
             [
              0.6666666666666666,
              "#ed7953"
             ],
             [
              0.7777777777777778,
              "#fb9f3a"
             ],
             [
              0.8888888888888888,
              "#fdca26"
             ],
             [
              1,
              "#f0f921"
             ]
            ],
            "type": "contour"
           }
          ],
          "contourcarpet": [
           {
            "colorbar": {
             "outlinewidth": 0,
             "ticks": ""
            },
            "type": "contourcarpet"
           }
          ],
          "heatmap": [
           {
            "colorbar": {
             "outlinewidth": 0,
             "ticks": ""
            },
            "colorscale": [
             [
              0,
              "#0d0887"
             ],
             [
              0.1111111111111111,
              "#46039f"
             ],
             [
              0.2222222222222222,
              "#7201a8"
             ],
             [
              0.3333333333333333,
              "#9c179e"
             ],
             [
              0.4444444444444444,
              "#bd3786"
             ],
             [
              0.5555555555555556,
              "#d8576b"
             ],
             [
              0.6666666666666666,
              "#ed7953"
             ],
             [
              0.7777777777777778,
              "#fb9f3a"
             ],
             [
              0.8888888888888888,
              "#fdca26"
             ],
             [
              1,
              "#f0f921"
             ]
            ],
            "type": "heatmap"
           }
          ],
          "heatmapgl": [
           {
            "colorbar": {
             "outlinewidth": 0,
             "ticks": ""
            },
            "colorscale": [
             [
              0,
              "#0d0887"
             ],
             [
              0.1111111111111111,
              "#46039f"
             ],
             [
              0.2222222222222222,
              "#7201a8"
             ],
             [
              0.3333333333333333,
              "#9c179e"
             ],
             [
              0.4444444444444444,
              "#bd3786"
             ],
             [
              0.5555555555555556,
              "#d8576b"
             ],
             [
              0.6666666666666666,
              "#ed7953"
             ],
             [
              0.7777777777777778,
              "#fb9f3a"
             ],
             [
              0.8888888888888888,
              "#fdca26"
             ],
             [
              1,
              "#f0f921"
             ]
            ],
            "type": "heatmapgl"
           }
          ],
          "histogram": [
           {
            "marker": {
             "pattern": {
              "fillmode": "overlay",
              "size": 10,
              "solidity": 0.2
             }
            },
            "type": "histogram"
           }
          ],
          "histogram2d": [
           {
            "colorbar": {
             "outlinewidth": 0,
             "ticks": ""
            },
            "colorscale": [
             [
              0,
              "#0d0887"
             ],
             [
              0.1111111111111111,
              "#46039f"
             ],
             [
              0.2222222222222222,
              "#7201a8"
             ],
             [
              0.3333333333333333,
              "#9c179e"
             ],
             [
              0.4444444444444444,
              "#bd3786"
             ],
             [
              0.5555555555555556,
              "#d8576b"
             ],
             [
              0.6666666666666666,
              "#ed7953"
             ],
             [
              0.7777777777777778,
              "#fb9f3a"
             ],
             [
              0.8888888888888888,
              "#fdca26"
             ],
             [
              1,
              "#f0f921"
             ]
            ],
            "type": "histogram2d"
           }
          ],
          "histogram2dcontour": [
           {
            "colorbar": {
             "outlinewidth": 0,
             "ticks": ""
            },
            "colorscale": [
             [
              0,
              "#0d0887"
             ],
             [
              0.1111111111111111,
              "#46039f"
             ],
             [
              0.2222222222222222,
              "#7201a8"
             ],
             [
              0.3333333333333333,
              "#9c179e"
             ],
             [
              0.4444444444444444,
              "#bd3786"
             ],
             [
              0.5555555555555556,
              "#d8576b"
             ],
             [
              0.6666666666666666,
              "#ed7953"
             ],
             [
              0.7777777777777778,
              "#fb9f3a"
             ],
             [
              0.8888888888888888,
              "#fdca26"
             ],
             [
              1,
              "#f0f921"
             ]
            ],
            "type": "histogram2dcontour"
           }
          ],
          "mesh3d": [
           {
            "colorbar": {
             "outlinewidth": 0,
             "ticks": ""
            },
            "type": "mesh3d"
           }
          ],
          "parcoords": [
           {
            "line": {
             "colorbar": {
              "outlinewidth": 0,
              "ticks": ""
             }
            },
            "type": "parcoords"
           }
          ],
          "pie": [
           {
            "automargin": true,
            "type": "pie"
           }
          ],
          "scatter": [
           {
            "fillpattern": {
             "fillmode": "overlay",
             "size": 10,
             "solidity": 0.2
            },
            "type": "scatter"
           }
          ],
          "scatter3d": [
           {
            "line": {
             "colorbar": {
              "outlinewidth": 0,
              "ticks": ""
             }
            },
            "marker": {
             "colorbar": {
              "outlinewidth": 0,
              "ticks": ""
             }
            },
            "type": "scatter3d"
           }
          ],
          "scattercarpet": [
           {
            "marker": {
             "colorbar": {
              "outlinewidth": 0,
              "ticks": ""
             }
            },
            "type": "scattercarpet"
           }
          ],
          "scattergeo": [
           {
            "marker": {
             "colorbar": {
              "outlinewidth": 0,
              "ticks": ""
             }
            },
            "type": "scattergeo"
           }
          ],
          "scattergl": [
           {
            "marker": {
             "colorbar": {
              "outlinewidth": 0,
              "ticks": ""
             }
            },
            "type": "scattergl"
           }
          ],
          "scattermapbox": [
           {
            "marker": {
             "colorbar": {
              "outlinewidth": 0,
              "ticks": ""
             }
            },
            "type": "scattermapbox"
           }
          ],
          "scatterpolar": [
           {
            "marker": {
             "colorbar": {
              "outlinewidth": 0,
              "ticks": ""
             }
            },
            "type": "scatterpolar"
           }
          ],
          "scatterpolargl": [
           {
            "marker": {
             "colorbar": {
              "outlinewidth": 0,
              "ticks": ""
             }
            },
            "type": "scatterpolargl"
           }
          ],
          "scatterternary": [
           {
            "marker": {
             "colorbar": {
              "outlinewidth": 0,
              "ticks": ""
             }
            },
            "type": "scatterternary"
           }
          ],
          "surface": [
           {
            "colorbar": {
             "outlinewidth": 0,
             "ticks": ""
            },
            "colorscale": [
             [
              0,
              "#0d0887"
             ],
             [
              0.1111111111111111,
              "#46039f"
             ],
             [
              0.2222222222222222,
              "#7201a8"
             ],
             [
              0.3333333333333333,
              "#9c179e"
             ],
             [
              0.4444444444444444,
              "#bd3786"
             ],
             [
              0.5555555555555556,
              "#d8576b"
             ],
             [
              0.6666666666666666,
              "#ed7953"
             ],
             [
              0.7777777777777778,
              "#fb9f3a"
             ],
             [
              0.8888888888888888,
              "#fdca26"
             ],
             [
              1,
              "#f0f921"
             ]
            ],
            "type": "surface"
           }
          ],
          "table": [
           {
            "cells": {
             "fill": {
              "color": "#EBF0F8"
             },
             "line": {
              "color": "white"
             }
            },
            "header": {
             "fill": {
              "color": "#C8D4E3"
             },
             "line": {
              "color": "white"
             }
            },
            "type": "table"
           }
          ]
         },
         "layout": {
          "annotationdefaults": {
           "arrowcolor": "#2a3f5f",
           "arrowhead": 0,
           "arrowwidth": 1
          },
          "autotypenumbers": "strict",
          "coloraxis": {
           "colorbar": {
            "outlinewidth": 0,
            "ticks": ""
           }
          },
          "colorscale": {
           "diverging": [
            [
             0,
             "#8e0152"
            ],
            [
             0.1,
             "#c51b7d"
            ],
            [
             0.2,
             "#de77ae"
            ],
            [
             0.3,
             "#f1b6da"
            ],
            [
             0.4,
             "#fde0ef"
            ],
            [
             0.5,
             "#f7f7f7"
            ],
            [
             0.6,
             "#e6f5d0"
            ],
            [
             0.7,
             "#b8e186"
            ],
            [
             0.8,
             "#7fbc41"
            ],
            [
             0.9,
             "#4d9221"
            ],
            [
             1,
             "#276419"
            ]
           ],
           "sequential": [
            [
             0,
             "#0d0887"
            ],
            [
             0.1111111111111111,
             "#46039f"
            ],
            [
             0.2222222222222222,
             "#7201a8"
            ],
            [
             0.3333333333333333,
             "#9c179e"
            ],
            [
             0.4444444444444444,
             "#bd3786"
            ],
            [
             0.5555555555555556,
             "#d8576b"
            ],
            [
             0.6666666666666666,
             "#ed7953"
            ],
            [
             0.7777777777777778,
             "#fb9f3a"
            ],
            [
             0.8888888888888888,
             "#fdca26"
            ],
            [
             1,
             "#f0f921"
            ]
           ],
           "sequentialminus": [
            [
             0,
             "#0d0887"
            ],
            [
             0.1111111111111111,
             "#46039f"
            ],
            [
             0.2222222222222222,
             "#7201a8"
            ],
            [
             0.3333333333333333,
             "#9c179e"
            ],
            [
             0.4444444444444444,
             "#bd3786"
            ],
            [
             0.5555555555555556,
             "#d8576b"
            ],
            [
             0.6666666666666666,
             "#ed7953"
            ],
            [
             0.7777777777777778,
             "#fb9f3a"
            ],
            [
             0.8888888888888888,
             "#fdca26"
            ],
            [
             1,
             "#f0f921"
            ]
           ]
          },
          "colorway": [
           "#636efa",
           "#EF553B",
           "#00cc96",
           "#ab63fa",
           "#FFA15A",
           "#19d3f3",
           "#FF6692",
           "#B6E880",
           "#FF97FF",
           "#FECB52"
          ],
          "font": {
           "color": "#2a3f5f"
          },
          "geo": {
           "bgcolor": "white",
           "lakecolor": "white",
           "landcolor": "#E5ECF6",
           "showlakes": true,
           "showland": true,
           "subunitcolor": "white"
          },
          "hoverlabel": {
           "align": "left"
          },
          "hovermode": "closest",
          "mapbox": {
           "style": "light"
          },
          "paper_bgcolor": "white",
          "plot_bgcolor": "#E5ECF6",
          "polar": {
           "angularaxis": {
            "gridcolor": "white",
            "linecolor": "white",
            "ticks": ""
           },
           "bgcolor": "#E5ECF6",
           "radialaxis": {
            "gridcolor": "white",
            "linecolor": "white",
            "ticks": ""
           }
          },
          "scene": {
           "xaxis": {
            "backgroundcolor": "#E5ECF6",
            "gridcolor": "white",
            "gridwidth": 2,
            "linecolor": "white",
            "showbackground": true,
            "ticks": "",
            "zerolinecolor": "white"
           },
           "yaxis": {
            "backgroundcolor": "#E5ECF6",
            "gridcolor": "white",
            "gridwidth": 2,
            "linecolor": "white",
            "showbackground": true,
            "ticks": "",
            "zerolinecolor": "white"
           },
           "zaxis": {
            "backgroundcolor": "#E5ECF6",
            "gridcolor": "white",
            "gridwidth": 2,
            "linecolor": "white",
            "showbackground": true,
            "ticks": "",
            "zerolinecolor": "white"
           }
          },
          "shapedefaults": {
           "line": {
            "color": "#2a3f5f"
           }
          },
          "ternary": {
           "aaxis": {
            "gridcolor": "white",
            "linecolor": "white",
            "ticks": ""
           },
           "baxis": {
            "gridcolor": "white",
            "linecolor": "white",
            "ticks": ""
           },
           "bgcolor": "#E5ECF6",
           "caxis": {
            "gridcolor": "white",
            "linecolor": "white",
            "ticks": ""
           }
          },
          "title": {
           "x": 0.05
          },
          "xaxis": {
           "automargin": true,
           "gridcolor": "white",
           "linecolor": "white",
           "ticks": "",
           "title": {
            "standoff": 15
           },
           "zerolinecolor": "white",
           "zerolinewidth": 2
          },
          "yaxis": {
           "automargin": true,
           "gridcolor": "white",
           "linecolor": "white",
           "ticks": "",
           "title": {
            "standoff": 15
           },
           "zerolinecolor": "white",
           "zerolinewidth": 2
          }
         }
        },
        "title": {
         "text": "İstanbul'un SES Skorlarına Göre İlçeleri",
         "x": 0.5
        },
        "width": 800,
        "xaxis": {
         "anchor": "y",
         "domain": [
          0,
          1
         ],
         "title": {
          "text": "İLÇE ADI"
         }
        },
        "yaxis": {
         "anchor": "x",
         "domain": [
          0,
          1
         ],
         "title": {
          "text": "SES Adeti"
         }
        }
       }
      }
     },
     "metadata": {},
     "output_type": "display_data"
    }
   ],
   "source": [
    "fig = px.bar(ses_kategorisi, x='İLÇE ADI', y='SES Adeti', color='SES', title='İstanbul\\'un SES Skorlarına Göre İlçeleri', color_continuous_scale=px.colors.sequential.RdBu)\n",
    "fig.update_layout(title_x=0.5, width=800)\n",
    "fig.show()"
   ]
  },
  {
   "cell_type": "code",
   "execution_count": 99,
   "metadata": {},
   "outputs": [
    {
     "data": {
      "text/html": [
       "<div>\n",
       "<style scoped>\n",
       "    .dataframe tbody tr th:only-of-type {\n",
       "        vertical-align: middle;\n",
       "    }\n",
       "\n",
       "    .dataframe tbody tr th {\n",
       "        vertical-align: top;\n",
       "    }\n",
       "\n",
       "    .dataframe thead th {\n",
       "        text-align: right;\n",
       "    }\n",
       "</style>\n",
       "<table border=\"1\" class=\"dataframe\">\n",
       "  <thead>\n",
       "    <tr style=\"text-align: right;\">\n",
       "      <th></th>\n",
       "      <th>ilce</th>\n",
       "      <th>mahalle</th>\n",
       "      <th>nufus_yogunlugu</th>\n",
       "      <th>nufus</th>\n",
       "      <th>yuzolcumu</th>\n",
       "      <th>maliyet</th>\n",
       "    </tr>\n",
       "  </thead>\n",
       "  <tbody>\n",
       "    <tr>\n",
       "      <th>0</th>\n",
       "      <td>ARNAVUTKOY</td>\n",
       "      <td>ANADOLU</td>\n",
       "      <td>21607.0</td>\n",
       "      <td>33177</td>\n",
       "      <td>1.50</td>\n",
       "      <td>201000</td>\n",
       "    </tr>\n",
       "    <tr>\n",
       "      <th>1</th>\n",
       "      <td>ARNAVUTKOY</td>\n",
       "      <td>YUNUS EMRE</td>\n",
       "      <td>14919.0</td>\n",
       "      <td>16085</td>\n",
       "      <td>1.10</td>\n",
       "      <td>201000</td>\n",
       "    </tr>\n",
       "    <tr>\n",
       "      <th>2</th>\n",
       "      <td>ARNAVUTKOY</td>\n",
       "      <td>BOGAZKOY ATATURK</td>\n",
       "      <td>11965.0</td>\n",
       "      <td>7726</td>\n",
       "      <td>0.65</td>\n",
       "      <td>201000</td>\n",
       "    </tr>\n",
       "  </tbody>\n",
       "</table>\n",
       "</div>"
      ],
      "text/plain": [
       "         ilce           mahalle  nufus_yogunlugu  nufus  yuzolcumu  maliyet\n",
       "0  ARNAVUTKOY           ANADOLU          21607.0  33177       1.50   201000\n",
       "1  ARNAVUTKOY        YUNUS EMRE          14919.0  16085       1.10   201000\n",
       "2  ARNAVUTKOY  BOGAZKOY ATATURK          11965.0   7726       0.65   201000"
      ]
     },
     "execution_count": 99,
     "metadata": {},
     "output_type": "execute_result"
    }
   ],
   "source": [
    "maaliyet = pd.read_csv('../Datasets/PROCESSED/nufus_maaliyet.csv')\n",
    "maaliyet.head(3)"
   ]
  },
  {
   "cell_type": "code",
   "execution_count": 100,
   "metadata": {},
   "outputs": [
    {
     "data": {
      "application/vnd.plotly.v1+json": {
       "config": {
        "plotlyServerURL": "https://plot.ly"
       },
       "data": [
        {
         "alignmentgroup": "True",
         "hovertemplate": "ilce=%{x}<br>maliyet=%{y}<extra></extra>",
         "legendgroup": "SILIVRI",
         "marker": {
          "color": "#636efa",
          "pattern": {
           "shape": ""
          }
         },
         "name": "SILIVRI",
         "offsetgroup": "SILIVRI",
         "orientation": "v",
         "showlegend": true,
         "textposition": "auto",
         "type": "bar",
         "x": [
          "SILIVRI"
         ],
         "xaxis": "x",
         "y": [
          186000
         ],
         "yaxis": "y"
        },
        {
         "alignmentgroup": "True",
         "hovertemplate": "ilce=%{x}<br>maliyet=%{y}<extra></extra>",
         "legendgroup": "ARNAVUTKOY",
         "marker": {
          "color": "#EF553B",
          "pattern": {
           "shape": ""
          }
         },
         "name": "ARNAVUTKOY",
         "offsetgroup": "ARNAVUTKOY",
         "orientation": "v",
         "showlegend": true,
         "textposition": "auto",
         "type": "bar",
         "x": [
          "ARNAVUTKOY"
         ],
         "xaxis": "x",
         "y": [
          201000
         ],
         "yaxis": "y"
        },
        {
         "alignmentgroup": "True",
         "hovertemplate": "ilce=%{x}<br>maliyet=%{y}<extra></extra>",
         "legendgroup": "CATALCA",
         "marker": {
          "color": "#00cc96",
          "pattern": {
           "shape": ""
          }
         },
         "name": "CATALCA",
         "offsetgroup": "CATALCA",
         "orientation": "v",
         "showlegend": true,
         "textposition": "auto",
         "type": "bar",
         "x": [
          "CATALCA"
         ],
         "xaxis": "x",
         "y": [
          213000
         ],
         "yaxis": "y"
        },
        {
         "alignmentgroup": "True",
         "hovertemplate": "ilce=%{x}<br>maliyet=%{y}<extra></extra>",
         "legendgroup": "SULTANBEYLI",
         "marker": {
          "color": "#ab63fa",
          "pattern": {
           "shape": ""
          }
         },
         "name": "SULTANBEYLI",
         "offsetgroup": "SULTANBEYLI",
         "orientation": "v",
         "showlegend": true,
         "textposition": "auto",
         "type": "bar",
         "x": [
          "SULTANBEYLI"
         ],
         "xaxis": "x",
         "y": [
          216000
         ],
         "yaxis": "y"
        },
        {
         "alignmentgroup": "True",
         "hovertemplate": "ilce=%{x}<br>maliyet=%{y}<extra></extra>",
         "legendgroup": "SULTANGAZI",
         "marker": {
          "color": "#FFA15A",
          "pattern": {
           "shape": ""
          }
         },
         "name": "SULTANGAZI",
         "offsetgroup": "SULTANGAZI",
         "orientation": "v",
         "showlegend": true,
         "textposition": "auto",
         "type": "bar",
         "x": [
          "SULTANGAZI"
         ],
         "xaxis": "x",
         "y": [
          231000
         ],
         "yaxis": "y"
        },
        {
         "alignmentgroup": "True",
         "hovertemplate": "ilce=%{x}<br>maliyet=%{y}<extra></extra>",
         "legendgroup": "ESENLER",
         "marker": {
          "color": "#19d3f3",
          "pattern": {
           "shape": ""
          }
         },
         "name": "ESENLER",
         "offsetgroup": "ESENLER",
         "orientation": "v",
         "showlegend": true,
         "textposition": "auto",
         "type": "bar",
         "x": [
          "ESENLER"
         ],
         "xaxis": "x",
         "y": [
          237000
         ],
         "yaxis": "y"
        },
        {
         "alignmentgroup": "True",
         "hovertemplate": "ilce=%{x}<br>maliyet=%{y}<extra></extra>",
         "legendgroup": "ESENYURT",
         "marker": {
          "color": "#FF6692",
          "pattern": {
           "shape": ""
          }
         },
         "name": "ESENYURT",
         "offsetgroup": "ESENYURT",
         "orientation": "v",
         "showlegend": true,
         "textposition": "auto",
         "type": "bar",
         "x": [
          "ESENYURT"
         ],
         "xaxis": "x",
         "y": [
          246000
         ],
         "yaxis": "y"
        },
        {
         "alignmentgroup": "True",
         "hovertemplate": "ilce=%{x}<br>maliyet=%{y}<extra></extra>",
         "legendgroup": "SANCAKTEPE",
         "marker": {
          "color": "#B6E880",
          "pattern": {
           "shape": ""
          }
         },
         "name": "SANCAKTEPE",
         "offsetgroup": "SANCAKTEPE",
         "orientation": "v",
         "showlegend": true,
         "textposition": "auto",
         "type": "bar",
         "x": [
          "SANCAKTEPE"
         ],
         "xaxis": "x",
         "y": [
          252000
         ],
         "yaxis": "y"
        },
        {
         "alignmentgroup": "True",
         "hovertemplate": "ilce=%{x}<br>maliyet=%{y}<extra></extra>",
         "legendgroup": "AVCILAR",
         "marker": {
          "color": "#FF97FF",
          "pattern": {
           "shape": ""
          }
         },
         "name": "AVCILAR",
         "offsetgroup": "AVCILAR",
         "orientation": "v",
         "showlegend": true,
         "textposition": "auto",
         "type": "bar",
         "x": [
          "AVCILAR"
         ],
         "xaxis": "x",
         "y": [
          252000
         ],
         "yaxis": "y"
        },
        {
         "alignmentgroup": "True",
         "hovertemplate": "ilce=%{x}<br>maliyet=%{y}<extra></extra>",
         "legendgroup": "BAHCELIEVLER",
         "marker": {
          "color": "#FECB52",
          "pattern": {
           "shape": ""
          }
         },
         "name": "BAHCELIEVLER",
         "offsetgroup": "BAHCELIEVLER",
         "orientation": "v",
         "showlegend": true,
         "textposition": "auto",
         "type": "bar",
         "x": [
          "BAHCELIEVLER"
         ],
         "xaxis": "x",
         "y": [
          264000
         ],
         "yaxis": "y"
        },
        {
         "alignmentgroup": "True",
         "hovertemplate": "ilce=%{x}<br>maliyet=%{y}<extra></extra>",
         "legendgroup": "BUYUKCEKMECE",
         "marker": {
          "color": "#636efa",
          "pattern": {
           "shape": ""
          }
         },
         "name": "BUYUKCEKMECE",
         "offsetgroup": "BUYUKCEKMECE",
         "orientation": "v",
         "showlegend": true,
         "textposition": "auto",
         "type": "bar",
         "x": [
          "BUYUKCEKMECE"
         ],
         "xaxis": "x",
         "y": [
          267000
         ],
         "yaxis": "y"
        },
        {
         "alignmentgroup": "True",
         "hovertemplate": "ilce=%{x}<br>maliyet=%{y}<extra></extra>",
         "legendgroup": "GUNGOREN",
         "marker": {
          "color": "#EF553B",
          "pattern": {
           "shape": ""
          }
         },
         "name": "GUNGOREN",
         "offsetgroup": "GUNGOREN",
         "orientation": "v",
         "showlegend": true,
         "textposition": "auto",
         "type": "bar",
         "x": [
          "GUNGOREN"
         ],
         "xaxis": "x",
         "y": [
          273000
         ],
         "yaxis": "y"
        },
        {
         "alignmentgroup": "True",
         "hovertemplate": "ilce=%{x}<br>maliyet=%{y}<extra></extra>",
         "legendgroup": "BEYLIKDUZU",
         "marker": {
          "color": "#00cc96",
          "pattern": {
           "shape": ""
          }
         },
         "name": "BEYLIKDUZU",
         "offsetgroup": "BEYLIKDUZU",
         "orientation": "v",
         "showlegend": true,
         "textposition": "auto",
         "type": "bar",
         "x": [
          "BEYLIKDUZU"
         ],
         "xaxis": "x",
         "y": [
          291000
         ],
         "yaxis": "y"
        },
        {
         "alignmentgroup": "True",
         "hovertemplate": "ilce=%{x}<br>maliyet=%{y}<extra></extra>",
         "legendgroup": "TUZLA",
         "marker": {
          "color": "#ab63fa",
          "pattern": {
           "shape": ""
          }
         },
         "name": "TUZLA",
         "offsetgroup": "TUZLA",
         "orientation": "v",
         "showlegend": true,
         "textposition": "auto",
         "type": "bar",
         "x": [
          "TUZLA"
         ],
         "xaxis": "x",
         "y": [
          294000
         ],
         "yaxis": "y"
        },
        {
         "alignmentgroup": "True",
         "hovertemplate": "ilce=%{x}<br>maliyet=%{y}<extra></extra>",
         "legendgroup": "PENDIK",
         "marker": {
          "color": "#FFA15A",
          "pattern": {
           "shape": ""
          }
         },
         "name": "PENDIK",
         "offsetgroup": "PENDIK",
         "orientation": "v",
         "showlegend": true,
         "textposition": "auto",
         "type": "bar",
         "x": [
          "PENDIK"
         ],
         "xaxis": "x",
         "y": [
          294000
         ],
         "yaxis": "y"
        },
        {
         "alignmentgroup": "True",
         "hovertemplate": "ilce=%{x}<br>maliyet=%{y}<extra></extra>",
         "legendgroup": "BAYRAMPASA",
         "marker": {
          "color": "#19d3f3",
          "pattern": {
           "shape": ""
          }
         },
         "name": "BAYRAMPASA",
         "offsetgroup": "BAYRAMPASA",
         "orientation": "v",
         "showlegend": true,
         "textposition": "auto",
         "type": "bar",
         "x": [
          "BAYRAMPASA"
         ],
         "xaxis": "x",
         "y": [
          300000
         ],
         "yaxis": "y"
        },
        {
         "alignmentgroup": "True",
         "hovertemplate": "ilce=%{x}<br>maliyet=%{y}<extra></extra>",
         "legendgroup": "CEKMEKOY",
         "marker": {
          "color": "#FF6692",
          "pattern": {
           "shape": ""
          }
         },
         "name": "CEKMEKOY",
         "offsetgroup": "CEKMEKOY",
         "orientation": "v",
         "showlegend": true,
         "textposition": "auto",
         "type": "bar",
         "x": [
          "CEKMEKOY"
         ],
         "xaxis": "x",
         "y": [
          312000
         ],
         "yaxis": "y"
        },
        {
         "alignmentgroup": "True",
         "hovertemplate": "ilce=%{x}<br>maliyet=%{y}<extra></extra>",
         "legendgroup": "KUCUKCEKMECE",
         "marker": {
          "color": "#B6E880",
          "pattern": {
           "shape": ""
          }
         },
         "name": "KUCUKCEKMECE",
         "offsetgroup": "KUCUKCEKMECE",
         "orientation": "v",
         "showlegend": true,
         "textposition": "auto",
         "type": "bar",
         "x": [
          "KUCUKCEKMECE"
         ],
         "xaxis": "x",
         "y": [
          315000
         ],
         "yaxis": "y"
        },
        {
         "alignmentgroup": "True",
         "hovertemplate": "ilce=%{x}<br>maliyet=%{y}<extra></extra>",
         "legendgroup": "BAGCILAR",
         "marker": {
          "color": "#FF97FF",
          "pattern": {
           "shape": ""
          }
         },
         "name": "BAGCILAR",
         "offsetgroup": "BAGCILAR",
         "orientation": "v",
         "showlegend": true,
         "textposition": "auto",
         "type": "bar",
         "x": [
          "BAGCILAR"
         ],
         "xaxis": "x",
         "y": [
          315000
         ],
         "yaxis": "y"
        },
        {
         "alignmentgroup": "True",
         "hovertemplate": "ilce=%{x}<br>maliyet=%{y}<extra></extra>",
         "legendgroup": "SILE",
         "marker": {
          "color": "#FECB52",
          "pattern": {
           "shape": ""
          }
         },
         "name": "SILE",
         "offsetgroup": "SILE",
         "orientation": "v",
         "showlegend": true,
         "textposition": "auto",
         "type": "bar",
         "x": [
          "SILE"
         ],
         "xaxis": "x",
         "y": [
          327000
         ],
         "yaxis": "y"
        }
       ],
       "layout": {
        "barmode": "relative",
        "legend": {
         "title": {
          "text": "ilce"
         },
         "tracegroupgap": 0
        },
        "template": {
         "data": {
          "bar": [
           {
            "error_x": {
             "color": "#2a3f5f"
            },
            "error_y": {
             "color": "#2a3f5f"
            },
            "marker": {
             "line": {
              "color": "#E5ECF6",
              "width": 0.5
             },
             "pattern": {
              "fillmode": "overlay",
              "size": 10,
              "solidity": 0.2
             }
            },
            "type": "bar"
           }
          ],
          "barpolar": [
           {
            "marker": {
             "line": {
              "color": "#E5ECF6",
              "width": 0.5
             },
             "pattern": {
              "fillmode": "overlay",
              "size": 10,
              "solidity": 0.2
             }
            },
            "type": "barpolar"
           }
          ],
          "carpet": [
           {
            "aaxis": {
             "endlinecolor": "#2a3f5f",
             "gridcolor": "white",
             "linecolor": "white",
             "minorgridcolor": "white",
             "startlinecolor": "#2a3f5f"
            },
            "baxis": {
             "endlinecolor": "#2a3f5f",
             "gridcolor": "white",
             "linecolor": "white",
             "minorgridcolor": "white",
             "startlinecolor": "#2a3f5f"
            },
            "type": "carpet"
           }
          ],
          "choropleth": [
           {
            "colorbar": {
             "outlinewidth": 0,
             "ticks": ""
            },
            "type": "choropleth"
           }
          ],
          "contour": [
           {
            "colorbar": {
             "outlinewidth": 0,
             "ticks": ""
            },
            "colorscale": [
             [
              0,
              "#0d0887"
             ],
             [
              0.1111111111111111,
              "#46039f"
             ],
             [
              0.2222222222222222,
              "#7201a8"
             ],
             [
              0.3333333333333333,
              "#9c179e"
             ],
             [
              0.4444444444444444,
              "#bd3786"
             ],
             [
              0.5555555555555556,
              "#d8576b"
             ],
             [
              0.6666666666666666,
              "#ed7953"
             ],
             [
              0.7777777777777778,
              "#fb9f3a"
             ],
             [
              0.8888888888888888,
              "#fdca26"
             ],
             [
              1,
              "#f0f921"
             ]
            ],
            "type": "contour"
           }
          ],
          "contourcarpet": [
           {
            "colorbar": {
             "outlinewidth": 0,
             "ticks": ""
            },
            "type": "contourcarpet"
           }
          ],
          "heatmap": [
           {
            "colorbar": {
             "outlinewidth": 0,
             "ticks": ""
            },
            "colorscale": [
             [
              0,
              "#0d0887"
             ],
             [
              0.1111111111111111,
              "#46039f"
             ],
             [
              0.2222222222222222,
              "#7201a8"
             ],
             [
              0.3333333333333333,
              "#9c179e"
             ],
             [
              0.4444444444444444,
              "#bd3786"
             ],
             [
              0.5555555555555556,
              "#d8576b"
             ],
             [
              0.6666666666666666,
              "#ed7953"
             ],
             [
              0.7777777777777778,
              "#fb9f3a"
             ],
             [
              0.8888888888888888,
              "#fdca26"
             ],
             [
              1,
              "#f0f921"
             ]
            ],
            "type": "heatmap"
           }
          ],
          "heatmapgl": [
           {
            "colorbar": {
             "outlinewidth": 0,
             "ticks": ""
            },
            "colorscale": [
             [
              0,
              "#0d0887"
             ],
             [
              0.1111111111111111,
              "#46039f"
             ],
             [
              0.2222222222222222,
              "#7201a8"
             ],
             [
              0.3333333333333333,
              "#9c179e"
             ],
             [
              0.4444444444444444,
              "#bd3786"
             ],
             [
              0.5555555555555556,
              "#d8576b"
             ],
             [
              0.6666666666666666,
              "#ed7953"
             ],
             [
              0.7777777777777778,
              "#fb9f3a"
             ],
             [
              0.8888888888888888,
              "#fdca26"
             ],
             [
              1,
              "#f0f921"
             ]
            ],
            "type": "heatmapgl"
           }
          ],
          "histogram": [
           {
            "marker": {
             "pattern": {
              "fillmode": "overlay",
              "size": 10,
              "solidity": 0.2
             }
            },
            "type": "histogram"
           }
          ],
          "histogram2d": [
           {
            "colorbar": {
             "outlinewidth": 0,
             "ticks": ""
            },
            "colorscale": [
             [
              0,
              "#0d0887"
             ],
             [
              0.1111111111111111,
              "#46039f"
             ],
             [
              0.2222222222222222,
              "#7201a8"
             ],
             [
              0.3333333333333333,
              "#9c179e"
             ],
             [
              0.4444444444444444,
              "#bd3786"
             ],
             [
              0.5555555555555556,
              "#d8576b"
             ],
             [
              0.6666666666666666,
              "#ed7953"
             ],
             [
              0.7777777777777778,
              "#fb9f3a"
             ],
             [
              0.8888888888888888,
              "#fdca26"
             ],
             [
              1,
              "#f0f921"
             ]
            ],
            "type": "histogram2d"
           }
          ],
          "histogram2dcontour": [
           {
            "colorbar": {
             "outlinewidth": 0,
             "ticks": ""
            },
            "colorscale": [
             [
              0,
              "#0d0887"
             ],
             [
              0.1111111111111111,
              "#46039f"
             ],
             [
              0.2222222222222222,
              "#7201a8"
             ],
             [
              0.3333333333333333,
              "#9c179e"
             ],
             [
              0.4444444444444444,
              "#bd3786"
             ],
             [
              0.5555555555555556,
              "#d8576b"
             ],
             [
              0.6666666666666666,
              "#ed7953"
             ],
             [
              0.7777777777777778,
              "#fb9f3a"
             ],
             [
              0.8888888888888888,
              "#fdca26"
             ],
             [
              1,
              "#f0f921"
             ]
            ],
            "type": "histogram2dcontour"
           }
          ],
          "mesh3d": [
           {
            "colorbar": {
             "outlinewidth": 0,
             "ticks": ""
            },
            "type": "mesh3d"
           }
          ],
          "parcoords": [
           {
            "line": {
             "colorbar": {
              "outlinewidth": 0,
              "ticks": ""
             }
            },
            "type": "parcoords"
           }
          ],
          "pie": [
           {
            "automargin": true,
            "type": "pie"
           }
          ],
          "scatter": [
           {
            "fillpattern": {
             "fillmode": "overlay",
             "size": 10,
             "solidity": 0.2
            },
            "type": "scatter"
           }
          ],
          "scatter3d": [
           {
            "line": {
             "colorbar": {
              "outlinewidth": 0,
              "ticks": ""
             }
            },
            "marker": {
             "colorbar": {
              "outlinewidth": 0,
              "ticks": ""
             }
            },
            "type": "scatter3d"
           }
          ],
          "scattercarpet": [
           {
            "marker": {
             "colorbar": {
              "outlinewidth": 0,
              "ticks": ""
             }
            },
            "type": "scattercarpet"
           }
          ],
          "scattergeo": [
           {
            "marker": {
             "colorbar": {
              "outlinewidth": 0,
              "ticks": ""
             }
            },
            "type": "scattergeo"
           }
          ],
          "scattergl": [
           {
            "marker": {
             "colorbar": {
              "outlinewidth": 0,
              "ticks": ""
             }
            },
            "type": "scattergl"
           }
          ],
          "scattermapbox": [
           {
            "marker": {
             "colorbar": {
              "outlinewidth": 0,
              "ticks": ""
             }
            },
            "type": "scattermapbox"
           }
          ],
          "scatterpolar": [
           {
            "marker": {
             "colorbar": {
              "outlinewidth": 0,
              "ticks": ""
             }
            },
            "type": "scatterpolar"
           }
          ],
          "scatterpolargl": [
           {
            "marker": {
             "colorbar": {
              "outlinewidth": 0,
              "ticks": ""
             }
            },
            "type": "scatterpolargl"
           }
          ],
          "scatterternary": [
           {
            "marker": {
             "colorbar": {
              "outlinewidth": 0,
              "ticks": ""
             }
            },
            "type": "scatterternary"
           }
          ],
          "surface": [
           {
            "colorbar": {
             "outlinewidth": 0,
             "ticks": ""
            },
            "colorscale": [
             [
              0,
              "#0d0887"
             ],
             [
              0.1111111111111111,
              "#46039f"
             ],
             [
              0.2222222222222222,
              "#7201a8"
             ],
             [
              0.3333333333333333,
              "#9c179e"
             ],
             [
              0.4444444444444444,
              "#bd3786"
             ],
             [
              0.5555555555555556,
              "#d8576b"
             ],
             [
              0.6666666666666666,
              "#ed7953"
             ],
             [
              0.7777777777777778,
              "#fb9f3a"
             ],
             [
              0.8888888888888888,
              "#fdca26"
             ],
             [
              1,
              "#f0f921"
             ]
            ],
            "type": "surface"
           }
          ],
          "table": [
           {
            "cells": {
             "fill": {
              "color": "#EBF0F8"
             },
             "line": {
              "color": "white"
             }
            },
            "header": {
             "fill": {
              "color": "#C8D4E3"
             },
             "line": {
              "color": "white"
             }
            },
            "type": "table"
           }
          ]
         },
         "layout": {
          "annotationdefaults": {
           "arrowcolor": "#2a3f5f",
           "arrowhead": 0,
           "arrowwidth": 1
          },
          "autotypenumbers": "strict",
          "coloraxis": {
           "colorbar": {
            "outlinewidth": 0,
            "ticks": ""
           }
          },
          "colorscale": {
           "diverging": [
            [
             0,
             "#8e0152"
            ],
            [
             0.1,
             "#c51b7d"
            ],
            [
             0.2,
             "#de77ae"
            ],
            [
             0.3,
             "#f1b6da"
            ],
            [
             0.4,
             "#fde0ef"
            ],
            [
             0.5,
             "#f7f7f7"
            ],
            [
             0.6,
             "#e6f5d0"
            ],
            [
             0.7,
             "#b8e186"
            ],
            [
             0.8,
             "#7fbc41"
            ],
            [
             0.9,
             "#4d9221"
            ],
            [
             1,
             "#276419"
            ]
           ],
           "sequential": [
            [
             0,
             "#0d0887"
            ],
            [
             0.1111111111111111,
             "#46039f"
            ],
            [
             0.2222222222222222,
             "#7201a8"
            ],
            [
             0.3333333333333333,
             "#9c179e"
            ],
            [
             0.4444444444444444,
             "#bd3786"
            ],
            [
             0.5555555555555556,
             "#d8576b"
            ],
            [
             0.6666666666666666,
             "#ed7953"
            ],
            [
             0.7777777777777778,
             "#fb9f3a"
            ],
            [
             0.8888888888888888,
             "#fdca26"
            ],
            [
             1,
             "#f0f921"
            ]
           ],
           "sequentialminus": [
            [
             0,
             "#0d0887"
            ],
            [
             0.1111111111111111,
             "#46039f"
            ],
            [
             0.2222222222222222,
             "#7201a8"
            ],
            [
             0.3333333333333333,
             "#9c179e"
            ],
            [
             0.4444444444444444,
             "#bd3786"
            ],
            [
             0.5555555555555556,
             "#d8576b"
            ],
            [
             0.6666666666666666,
             "#ed7953"
            ],
            [
             0.7777777777777778,
             "#fb9f3a"
            ],
            [
             0.8888888888888888,
             "#fdca26"
            ],
            [
             1,
             "#f0f921"
            ]
           ]
          },
          "colorway": [
           "#636efa",
           "#EF553B",
           "#00cc96",
           "#ab63fa",
           "#FFA15A",
           "#19d3f3",
           "#FF6692",
           "#B6E880",
           "#FF97FF",
           "#FECB52"
          ],
          "font": {
           "color": "#2a3f5f"
          },
          "geo": {
           "bgcolor": "white",
           "lakecolor": "white",
           "landcolor": "#E5ECF6",
           "showlakes": true,
           "showland": true,
           "subunitcolor": "white"
          },
          "hoverlabel": {
           "align": "left"
          },
          "hovermode": "closest",
          "mapbox": {
           "style": "light"
          },
          "paper_bgcolor": "white",
          "plot_bgcolor": "#E5ECF6",
          "polar": {
           "angularaxis": {
            "gridcolor": "white",
            "linecolor": "white",
            "ticks": ""
           },
           "bgcolor": "#E5ECF6",
           "radialaxis": {
            "gridcolor": "white",
            "linecolor": "white",
            "ticks": ""
           }
          },
          "scene": {
           "xaxis": {
            "backgroundcolor": "#E5ECF6",
            "gridcolor": "white",
            "gridwidth": 2,
            "linecolor": "white",
            "showbackground": true,
            "ticks": "",
            "zerolinecolor": "white"
           },
           "yaxis": {
            "backgroundcolor": "#E5ECF6",
            "gridcolor": "white",
            "gridwidth": 2,
            "linecolor": "white",
            "showbackground": true,
            "ticks": "",
            "zerolinecolor": "white"
           },
           "zaxis": {
            "backgroundcolor": "#E5ECF6",
            "gridcolor": "white",
            "gridwidth": 2,
            "linecolor": "white",
            "showbackground": true,
            "ticks": "",
            "zerolinecolor": "white"
           }
          },
          "shapedefaults": {
           "line": {
            "color": "#2a3f5f"
           }
          },
          "ternary": {
           "aaxis": {
            "gridcolor": "white",
            "linecolor": "white",
            "ticks": ""
           },
           "baxis": {
            "gridcolor": "white",
            "linecolor": "white",
            "ticks": ""
           },
           "bgcolor": "#E5ECF6",
           "caxis": {
            "gridcolor": "white",
            "linecolor": "white",
            "ticks": ""
           }
          },
          "title": {
           "x": 0.05
          },
          "xaxis": {
           "automargin": true,
           "gridcolor": "white",
           "linecolor": "white",
           "ticks": "",
           "title": {
            "standoff": 15
           },
           "zerolinecolor": "white",
           "zerolinewidth": 2
          },
          "yaxis": {
           "automargin": true,
           "gridcolor": "white",
           "linecolor": "white",
           "ticks": "",
           "title": {
            "standoff": 15
           },
           "zerolinecolor": "white",
           "zerolinewidth": 2
          }
         }
        },
        "title": {
         "text": "İstanbul'un En Düşük Maliyetli İlçeleri",
         "x": 0.5
        },
        "xaxis": {
         "anchor": "y",
         "categoryarray": [
          "SILIVRI",
          "ARNAVUTKOY",
          "CATALCA",
          "SULTANBEYLI",
          "SULTANGAZI",
          "ESENLER",
          "ESENYURT",
          "SANCAKTEPE",
          "AVCILAR",
          "BAHCELIEVLER",
          "BUYUKCEKMECE",
          "GUNGOREN",
          "BEYLIKDUZU",
          "TUZLA",
          "PENDIK",
          "BAYRAMPASA",
          "CEKMEKOY",
          "KUCUKCEKMECE",
          "BAGCILAR",
          "SILE"
         ],
         "categoryorder": "array",
         "domain": [
          0,
          1
         ],
         "title": {
          "text": "ilce"
         }
        },
        "yaxis": {
         "anchor": "x",
         "domain": [
          0,
          1
         ],
         "title": {
          "text": "maliyet"
         }
        }
       }
      }
     },
     "metadata": {},
     "output_type": "display_data"
    }
   ],
   "source": [
    "fig = px.bar(maaliyet.groupby('ilce')['maliyet'].mean().reset_index().sort_values('maliyet', ascending=True).head(20), x='ilce', y='maliyet', color='ilce', title='İstanbul\\'un En Düşük Maliyetli İlçeleri')\n",
    "fig.update_layout(title_x=0.5)\n",
    "fig.show()"
   ]
  },
  {
   "attachments": {},
   "cell_type": "markdown",
   "metadata": {},
   "source": [
    "TEK TEK İNCELEMEK YERİNE VERİ SETLERİNİ BİRLEŞTİRİP SKORLAMA YAPIP EN OPTİMAL MAHALLEYİ BULMAYA ÇALIŞACAĞIM."
   ]
  },
  {
   "cell_type": "code",
   "execution_count": 101,
   "metadata": {},
   "outputs": [],
   "source": [
    "turkish_cases = {\n",
    "    'İ':'I',\n",
    "    'Ç':'C',\n",
    "    'Ş':'S',\n",
    "    'Ğ':'G',\n",
    "    'Ü':'U',\n",
    "    'Ö':'O',\n",
    "    'ı':'i',\n",
    "    'ç':'c',\n",
    "    'ş':'s',\n",
    "    'ğ':'g',\n",
    "    'ü':'u',\n",
    "    'ö':'o'\n",
    "}"
   ]
  },
  {
   "cell_type": "code",
   "execution_count": 102,
   "metadata": {},
   "outputs": [],
   "source": [
    "ses['MAHALLE ADI'] = ses['MAHALLE ADI'].replace(turkish_cases, regex=True)\n",
    "ses['MAHALLE ADI'] = ses['MAHALLE ADI'].str.replace(' ', '')"
   ]
  },
  {
   "cell_type": "code",
   "execution_count": 103,
   "metadata": {},
   "outputs": [],
   "source": [
    "ses['İLÇE ADI'] = ses['İLÇE ADI'].replace(turkish_cases, regex=True)\n",
    "ses['İLÇE ADI'] = ses['İLÇE ADI'].str.replace(' ', '')"
   ]
  },
  {
   "cell_type": "code",
   "execution_count": 104,
   "metadata": {},
   "outputs": [],
   "source": [
    "ses.loc[ses['İLÇE ADI']=='EYUP', 'İLÇE ADI'] = 'EYUPSULTAN'"
   ]
  },
  {
   "cell_type": "code",
   "execution_count": 105,
   "metadata": {},
   "outputs": [],
   "source": [
    "maaliyet['mahalle'] = maaliyet['mahalle'].replace(turkish_cases, regex=True)\n",
    "maaliyet['mahalle'] = maaliyet['mahalle'].str.replace(' ', '')"
   ]
  },
  {
   "cell_type": "code",
   "execution_count": 106,
   "metadata": {},
   "outputs": [
    {
     "data": {
      "text/html": [
       "<div>\n",
       "<style scoped>\n",
       "    .dataframe tbody tr th:only-of-type {\n",
       "        vertical-align: middle;\n",
       "    }\n",
       "\n",
       "    .dataframe tbody tr th {\n",
       "        vertical-align: top;\n",
       "    }\n",
       "\n",
       "    .dataframe thead th {\n",
       "        text-align: right;\n",
       "    }\n",
       "</style>\n",
       "<table border=\"1\" class=\"dataframe\">\n",
       "  <thead>\n",
       "    <tr style=\"text-align: right;\">\n",
       "      <th></th>\n",
       "      <th>İLÇE ADI</th>\n",
       "      <th>MAHALLE ADI</th>\n",
       "      <th>SES</th>\n",
       "      <th>SES SKORU</th>\n",
       "      <th>ilce</th>\n",
       "      <th>mahalle</th>\n",
       "      <th>nufus_yogunlugu</th>\n",
       "      <th>nufus</th>\n",
       "      <th>yuzolcumu</th>\n",
       "      <th>maliyet</th>\n",
       "    </tr>\n",
       "  </thead>\n",
       "  <tbody>\n",
       "    <tr>\n",
       "      <th>0</th>\n",
       "      <td>ARNAVUTKOY</td>\n",
       "      <td>ANADOLU</td>\n",
       "      <td>E</td>\n",
       "      <td>12.5</td>\n",
       "      <td>ARNAVUTKOY</td>\n",
       "      <td>ANADOLU</td>\n",
       "      <td>21607.0</td>\n",
       "      <td>33177</td>\n",
       "      <td>1.5</td>\n",
       "      <td>201000</td>\n",
       "    </tr>\n",
       "    <tr>\n",
       "      <th>1</th>\n",
       "      <td>ARNAVUTKOY</td>\n",
       "      <td>ARNAVUTKOYMERKEZ</td>\n",
       "      <td>D</td>\n",
       "      <td>25.0</td>\n",
       "      <td>ARNAVUTKOY</td>\n",
       "      <td>ARNAVUTKOYMERKEZ</td>\n",
       "      <td>2771.0</td>\n",
       "      <td>18695</td>\n",
       "      <td>6.7</td>\n",
       "      <td>201000</td>\n",
       "    </tr>\n",
       "    <tr>\n",
       "      <th>2</th>\n",
       "      <td>ARNAVUTKOY</td>\n",
       "      <td>BAKLALI</td>\n",
       "      <td>E</td>\n",
       "      <td>12.5</td>\n",
       "      <td>ARNAVUTKOY</td>\n",
       "      <td>BAKLALI</td>\n",
       "      <td>46.9</td>\n",
       "      <td>825</td>\n",
       "      <td>17.6</td>\n",
       "      <td>201000</td>\n",
       "    </tr>\n",
       "  </tbody>\n",
       "</table>\n",
       "</div>"
      ],
      "text/plain": [
       "     İLÇE ADI       MAHALLE ADI SES  SES SKORU        ilce           mahalle  \\\n",
       "0  ARNAVUTKOY           ANADOLU   E       12.5  ARNAVUTKOY           ANADOLU   \n",
       "1  ARNAVUTKOY  ARNAVUTKOYMERKEZ   D       25.0  ARNAVUTKOY  ARNAVUTKOYMERKEZ   \n",
       "2  ARNAVUTKOY           BAKLALI   E       12.5  ARNAVUTKOY           BAKLALI   \n",
       "\n",
       "   nufus_yogunlugu  nufus  yuzolcumu  maliyet  \n",
       "0          21607.0  33177        1.5   201000  \n",
       "1           2771.0  18695        6.7   201000  \n",
       "2             46.9    825       17.6   201000  "
      ]
     },
     "execution_count": 106,
     "metadata": {},
     "output_type": "execute_result"
    }
   ],
   "source": [
    "database = pd.merge(ses, maaliyet, left_on=['MAHALLE ADI', 'İLÇE ADI'], right_on=['mahalle', 'ilce'], how='inner')\n",
    "database.head(3)"
   ]
  },
  {
   "attachments": {},
   "cell_type": "markdown",
   "metadata": {},
   "source": [
    "ağırlıklandırmanın yapılması\n",
    "* Eşit ağırlıklandırma ile:"
   ]
  },
  {
   "cell_type": "code",
   "execution_count": 107,
   "metadata": {},
   "outputs": [],
   "source": [
    "agirlik_dict = {\n",
    "    'Nüfus Yoğunluğu':15,\n",
    "    'Nüfus':15,\n",
    "    'SES SKORU':25,\n",
    "    'Maaliyet':25\n",
    "}\n",
    "agirlik_df = pd.DataFrame(agirlik_dict.items(), columns=['Kriter', 'Ağırlık'])\n",
    "agirlik_df.to_csv('../Datasets/EXTERNAL/agirliklandirma.csv', index=False)"
   ]
  },
  {
   "cell_type": "code",
   "execution_count": 108,
   "metadata": {},
   "outputs": [],
   "source": [
    "from sklearn.preprocessing import MinMaxScaler\n",
    "\n",
    "scaler = MinMaxScaler()\n",
    "database[\"nufus_yogunlugu_agirlik\"] = scaler.fit_transform(database[[\"nufus_yogunlugu\"]])\n",
    "\n",
    "scaler = MinMaxScaler()\n",
    "database[\"nufus_agirlik\"] = scaler.fit_transform(database[[\"nufus\"]])\n",
    "\n",
    "scaler = MinMaxScaler()\n",
    "database[\"maliyet_agirlik\"] = 1 - scaler.fit_transform(database[[\"maliyet\"]])\n",
    "\n",
    "scaler = MinMaxScaler()\n",
    "database[\"ses_agirlik\"] = scaler.fit_transform(database[[\"SES SKORU\"]])\n",
    "\n",
    "database[\"agirlikli_puan\"] = (database[\"nufus_yogunlugu_agirlik\"] * 0.25\n",
    "                            + database[\"nufus_agirlik\"] * 0.25\n",
    "                            + database[\"maliyet_agirlik\"] * 0.25\n",
    "                            + database[\"ses_agirlik\"] * 0.25)"
   ]
  },
  {
   "cell_type": "code",
   "execution_count": 109,
   "metadata": {},
   "outputs": [
    {
     "data": {
      "text/html": [
       "<div>\n",
       "<style scoped>\n",
       "    .dataframe tbody tr th:only-of-type {\n",
       "        vertical-align: middle;\n",
       "    }\n",
       "\n",
       "    .dataframe tbody tr th {\n",
       "        vertical-align: top;\n",
       "    }\n",
       "\n",
       "    .dataframe thead th {\n",
       "        text-align: right;\n",
       "    }\n",
       "</style>\n",
       "<table border=\"1\" class=\"dataframe\">\n",
       "  <thead>\n",
       "    <tr style=\"text-align: right;\">\n",
       "      <th></th>\n",
       "      <th>İLÇE ADI</th>\n",
       "      <th>MAHALLE ADI</th>\n",
       "      <th>SES</th>\n",
       "      <th>SES SKORU</th>\n",
       "      <th>ilce</th>\n",
       "      <th>mahalle</th>\n",
       "      <th>nufus_yogunlugu</th>\n",
       "      <th>nufus</th>\n",
       "      <th>yuzolcumu</th>\n",
       "      <th>maliyet</th>\n",
       "      <th>nufus_yogunlugu_agirlik</th>\n",
       "      <th>nufus_agirlik</th>\n",
       "      <th>maliyet_agirlik</th>\n",
       "      <th>ses_agirlik</th>\n",
       "      <th>agirlikli_puan</th>\n",
       "    </tr>\n",
       "  </thead>\n",
       "  <tbody>\n",
       "    <tr>\n",
       "      <th>0</th>\n",
       "      <td>ARNAVUTKOY</td>\n",
       "      <td>ANADOLU</td>\n",
       "      <td>E</td>\n",
       "      <td>12.5</td>\n",
       "      <td>ARNAVUTKOY</td>\n",
       "      <td>ANADOLU</td>\n",
       "      <td>21607.0</td>\n",
       "      <td>33177</td>\n",
       "      <td>1.5</td>\n",
       "      <td>201000</td>\n",
       "      <td>0.223691</td>\n",
       "      <td>0.355769</td>\n",
       "      <td>0.976303</td>\n",
       "      <td>0.000000</td>\n",
       "      <td>0.388941</td>\n",
       "    </tr>\n",
       "    <tr>\n",
       "      <th>1</th>\n",
       "      <td>ARNAVUTKOY</td>\n",
       "      <td>ARNAVUTKOYMERKEZ</td>\n",
       "      <td>D</td>\n",
       "      <td>25.0</td>\n",
       "      <td>ARNAVUTKOY</td>\n",
       "      <td>ARNAVUTKOYMERKEZ</td>\n",
       "      <td>2771.0</td>\n",
       "      <td>18695</td>\n",
       "      <td>6.7</td>\n",
       "      <td>201000</td>\n",
       "      <td>0.028643</td>\n",
       "      <td>0.200408</td>\n",
       "      <td>0.976303</td>\n",
       "      <td>0.142857</td>\n",
       "      <td>0.337053</td>\n",
       "    </tr>\n",
       "    <tr>\n",
       "      <th>2</th>\n",
       "      <td>ARNAVUTKOY</td>\n",
       "      <td>BAKLALI</td>\n",
       "      <td>E</td>\n",
       "      <td>12.5</td>\n",
       "      <td>ARNAVUTKOY</td>\n",
       "      <td>BAKLALI</td>\n",
       "      <td>46.9</td>\n",
       "      <td>825</td>\n",
       "      <td>17.6</td>\n",
       "      <td>201000</td>\n",
       "      <td>0.000435</td>\n",
       "      <td>0.008700</td>\n",
       "      <td>0.976303</td>\n",
       "      <td>0.000000</td>\n",
       "      <td>0.246360</td>\n",
       "    </tr>\n",
       "    <tr>\n",
       "      <th>3</th>\n",
       "      <td>ARNAVUTKOY</td>\n",
       "      <td>BALABAN</td>\n",
       "      <td>E</td>\n",
       "      <td>12.5</td>\n",
       "      <td>ARNAVUTKOY</td>\n",
       "      <td>BALABAN</td>\n",
       "      <td>13.8</td>\n",
       "      <td>413</td>\n",
       "      <td>29.8</td>\n",
       "      <td>201000</td>\n",
       "      <td>0.000092</td>\n",
       "      <td>0.004280</td>\n",
       "      <td>0.976303</td>\n",
       "      <td>0.000000</td>\n",
       "      <td>0.245169</td>\n",
       "    </tr>\n",
       "    <tr>\n",
       "      <th>4</th>\n",
       "      <td>ARNAVUTKOY</td>\n",
       "      <td>BOGAZKOYISTIKLAL</td>\n",
       "      <td>D</td>\n",
       "      <td>25.0</td>\n",
       "      <td>ARNAVUTKOY</td>\n",
       "      <td>BOGAZKOYISTIKLAL</td>\n",
       "      <td>337.0</td>\n",
       "      <td>9925</td>\n",
       "      <td>29.4</td>\n",
       "      <td>201000</td>\n",
       "      <td>0.003439</td>\n",
       "      <td>0.106324</td>\n",
       "      <td>0.976303</td>\n",
       "      <td>0.142857</td>\n",
       "      <td>0.307231</td>\n",
       "    </tr>\n",
       "  </tbody>\n",
       "</table>\n",
       "</div>"
      ],
      "text/plain": [
       "     İLÇE ADI       MAHALLE ADI SES  SES SKORU        ilce           mahalle  \\\n",
       "0  ARNAVUTKOY           ANADOLU   E       12.5  ARNAVUTKOY           ANADOLU   \n",
       "1  ARNAVUTKOY  ARNAVUTKOYMERKEZ   D       25.0  ARNAVUTKOY  ARNAVUTKOYMERKEZ   \n",
       "2  ARNAVUTKOY           BAKLALI   E       12.5  ARNAVUTKOY           BAKLALI   \n",
       "3  ARNAVUTKOY           BALABAN   E       12.5  ARNAVUTKOY           BALABAN   \n",
       "4  ARNAVUTKOY  BOGAZKOYISTIKLAL   D       25.0  ARNAVUTKOY  BOGAZKOYISTIKLAL   \n",
       "\n",
       "   nufus_yogunlugu  nufus  yuzolcumu  maliyet  nufus_yogunlugu_agirlik  \\\n",
       "0          21607.0  33177        1.5   201000                 0.223691   \n",
       "1           2771.0  18695        6.7   201000                 0.028643   \n",
       "2             46.9    825       17.6   201000                 0.000435   \n",
       "3             13.8    413       29.8   201000                 0.000092   \n",
       "4            337.0   9925       29.4   201000                 0.003439   \n",
       "\n",
       "   nufus_agirlik  maliyet_agirlik  ses_agirlik  agirlikli_puan  \n",
       "0       0.355769         0.976303     0.000000        0.388941  \n",
       "1       0.200408         0.976303     0.142857        0.337053  \n",
       "2       0.008700         0.976303     0.000000        0.246360  \n",
       "3       0.004280         0.976303     0.000000        0.245169  \n",
       "4       0.106324         0.976303     0.142857        0.307231  "
      ]
     },
     "execution_count": 109,
     "metadata": {},
     "output_type": "execute_result"
    }
   ],
   "source": [
    "database.head()"
   ]
  },
  {
   "cell_type": "code",
   "execution_count": 110,
   "metadata": {},
   "outputs": [],
   "source": [
    "en_iyi_esit = database[['İLÇE ADI', 'MAHALLE ADI', 'SES SKORU', 'nufus', 'nufus_yogunlugu', 'maliyet', 'agirlikli_puan']]\n",
    "en_iyi_esit = en_iyi_esit.sort_values('agirlikli_puan', ascending=False)"
   ]
  },
  {
   "cell_type": "code",
   "execution_count": 111,
   "metadata": {},
   "outputs": [
    {
     "data": {
      "application/vnd.plotly.v1+json": {
       "config": {
        "plotlyServerURL": "https://plot.ly"
       },
       "data": [
        {
         "alignmentgroup": "True",
         "hovertemplate": "İLÇE ADI=BAHCELIEVLER<br>agirlikli_puan=%{x}<br>MAHALLE ADI=%{y}<extra></extra>",
         "legendgroup": "BAHCELIEVLER",
         "marker": {
          "color": "#636efa",
          "pattern": {
           "shape": ""
          }
         },
         "name": "BAHCELIEVLER",
         "offsetgroup": "BAHCELIEVLER",
         "orientation": "h",
         "showlegend": true,
         "textposition": "auto",
         "type": "bar",
         "x": [
          0.7237069798063366,
          0.712995544780868,
          0.6748808031290848,
          0.6532692593175502,
          0.6318801312628968,
          0.6139038684666083
         ],
         "xaxis": "x",
         "y": [
          "ZAFER",
          "SIYAVUSPASA",
          "SOGANLI",
          "SIRINEVLER",
          "HURRIYET",
          "BAHCELIEVLER"
         ],
         "yaxis": "y"
        },
        {
         "alignmentgroup": "True",
         "hovertemplate": "İLÇE ADI=KUCUKCEKMECE<br>agirlikli_puan=%{x}<br>MAHALLE ADI=%{y}<extra></extra>",
         "legendgroup": "KUCUKCEKMECE",
         "marker": {
          "color": "#EF553B",
          "pattern": {
           "shape": ""
          }
         },
         "name": "KUCUKCEKMECE",
         "offsetgroup": "KUCUKCEKMECE",
         "orientation": "h",
         "showlegend": true,
         "textposition": "auto",
         "type": "bar",
         "x": [
          0.655955277490228
         ],
         "xaxis": "x",
         "y": [
          "ATAKENT"
         ],
         "yaxis": "y"
        },
        {
         "alignmentgroup": "True",
         "hovertemplate": "İLÇE ADI=BEYLIKDUZU<br>agirlikli_puan=%{x}<br>MAHALLE ADI=%{y}<extra></extra>",
         "legendgroup": "BEYLIKDUZU",
         "marker": {
          "color": "#00cc96",
          "pattern": {
           "shape": ""
          }
         },
         "name": "BEYLIKDUZU",
         "offsetgroup": "BEYLIKDUZU",
         "orientation": "h",
         "showlegend": true,
         "textposition": "auto",
         "type": "bar",
         "x": [
          0.6323906355199231
         ],
         "xaxis": "x",
         "y": [
          "ADNANKAHVECI"
         ],
         "yaxis": "y"
        },
        {
         "alignmentgroup": "True",
         "hovertemplate": "İLÇE ADI=SULTANGAZI<br>agirlikli_puan=%{x}<br>MAHALLE ADI=%{y}<extra></extra>",
         "legendgroup": "SULTANGAZI",
         "marker": {
          "color": "#ab63fa",
          "pattern": {
           "shape": ""
          }
         },
         "name": "SULTANGAZI",
         "offsetgroup": "SULTANGAZI",
         "orientation": "h",
         "showlegend": true,
         "textposition": "auto",
         "type": "bar",
         "x": [
          0.6284506462248677
         ],
         "xaxis": "x",
         "y": [
          "50.YIL"
         ],
         "yaxis": "y"
        },
        {
         "alignmentgroup": "True",
         "hovertemplate": "İLÇE ADI=ESENLER<br>agirlikli_puan=%{x}<br>MAHALLE ADI=%{y}<extra></extra>",
         "legendgroup": "ESENLER",
         "marker": {
          "color": "#FFA15A",
          "pattern": {
           "shape": ""
          }
         },
         "name": "ESENLER",
         "offsetgroup": "ESENLER",
         "orientation": "h",
         "showlegend": true,
         "textposition": "auto",
         "type": "bar",
         "x": [
          0.6202032137246892
         ],
         "xaxis": "x",
         "y": [
          "FATIH"
         ],
         "yaxis": "y"
        }
       ],
       "layout": {
        "barmode": "relative",
        "height": 600,
        "legend": {
         "title": {
          "text": "İLÇE ADI"
         },
         "tracegroupgap": 0
        },
        "margin": {
         "t": 60
        },
        "template": {
         "data": {
          "bar": [
           {
            "error_x": {
             "color": "#2a3f5f"
            },
            "error_y": {
             "color": "#2a3f5f"
            },
            "marker": {
             "line": {
              "color": "#E5ECF6",
              "width": 0.5
             },
             "pattern": {
              "fillmode": "overlay",
              "size": 10,
              "solidity": 0.2
             }
            },
            "type": "bar"
           }
          ],
          "barpolar": [
           {
            "marker": {
             "line": {
              "color": "#E5ECF6",
              "width": 0.5
             },
             "pattern": {
              "fillmode": "overlay",
              "size": 10,
              "solidity": 0.2
             }
            },
            "type": "barpolar"
           }
          ],
          "carpet": [
           {
            "aaxis": {
             "endlinecolor": "#2a3f5f",
             "gridcolor": "white",
             "linecolor": "white",
             "minorgridcolor": "white",
             "startlinecolor": "#2a3f5f"
            },
            "baxis": {
             "endlinecolor": "#2a3f5f",
             "gridcolor": "white",
             "linecolor": "white",
             "minorgridcolor": "white",
             "startlinecolor": "#2a3f5f"
            },
            "type": "carpet"
           }
          ],
          "choropleth": [
           {
            "colorbar": {
             "outlinewidth": 0,
             "ticks": ""
            },
            "type": "choropleth"
           }
          ],
          "contour": [
           {
            "colorbar": {
             "outlinewidth": 0,
             "ticks": ""
            },
            "colorscale": [
             [
              0,
              "#0d0887"
             ],
             [
              0.1111111111111111,
              "#46039f"
             ],
             [
              0.2222222222222222,
              "#7201a8"
             ],
             [
              0.3333333333333333,
              "#9c179e"
             ],
             [
              0.4444444444444444,
              "#bd3786"
             ],
             [
              0.5555555555555556,
              "#d8576b"
             ],
             [
              0.6666666666666666,
              "#ed7953"
             ],
             [
              0.7777777777777778,
              "#fb9f3a"
             ],
             [
              0.8888888888888888,
              "#fdca26"
             ],
             [
              1,
              "#f0f921"
             ]
            ],
            "type": "contour"
           }
          ],
          "contourcarpet": [
           {
            "colorbar": {
             "outlinewidth": 0,
             "ticks": ""
            },
            "type": "contourcarpet"
           }
          ],
          "heatmap": [
           {
            "colorbar": {
             "outlinewidth": 0,
             "ticks": ""
            },
            "colorscale": [
             [
              0,
              "#0d0887"
             ],
             [
              0.1111111111111111,
              "#46039f"
             ],
             [
              0.2222222222222222,
              "#7201a8"
             ],
             [
              0.3333333333333333,
              "#9c179e"
             ],
             [
              0.4444444444444444,
              "#bd3786"
             ],
             [
              0.5555555555555556,
              "#d8576b"
             ],
             [
              0.6666666666666666,
              "#ed7953"
             ],
             [
              0.7777777777777778,
              "#fb9f3a"
             ],
             [
              0.8888888888888888,
              "#fdca26"
             ],
             [
              1,
              "#f0f921"
             ]
            ],
            "type": "heatmap"
           }
          ],
          "heatmapgl": [
           {
            "colorbar": {
             "outlinewidth": 0,
             "ticks": ""
            },
            "colorscale": [
             [
              0,
              "#0d0887"
             ],
             [
              0.1111111111111111,
              "#46039f"
             ],
             [
              0.2222222222222222,
              "#7201a8"
             ],
             [
              0.3333333333333333,
              "#9c179e"
             ],
             [
              0.4444444444444444,
              "#bd3786"
             ],
             [
              0.5555555555555556,
              "#d8576b"
             ],
             [
              0.6666666666666666,
              "#ed7953"
             ],
             [
              0.7777777777777778,
              "#fb9f3a"
             ],
             [
              0.8888888888888888,
              "#fdca26"
             ],
             [
              1,
              "#f0f921"
             ]
            ],
            "type": "heatmapgl"
           }
          ],
          "histogram": [
           {
            "marker": {
             "pattern": {
              "fillmode": "overlay",
              "size": 10,
              "solidity": 0.2
             }
            },
            "type": "histogram"
           }
          ],
          "histogram2d": [
           {
            "colorbar": {
             "outlinewidth": 0,
             "ticks": ""
            },
            "colorscale": [
             [
              0,
              "#0d0887"
             ],
             [
              0.1111111111111111,
              "#46039f"
             ],
             [
              0.2222222222222222,
              "#7201a8"
             ],
             [
              0.3333333333333333,
              "#9c179e"
             ],
             [
              0.4444444444444444,
              "#bd3786"
             ],
             [
              0.5555555555555556,
              "#d8576b"
             ],
             [
              0.6666666666666666,
              "#ed7953"
             ],
             [
              0.7777777777777778,
              "#fb9f3a"
             ],
             [
              0.8888888888888888,
              "#fdca26"
             ],
             [
              1,
              "#f0f921"
             ]
            ],
            "type": "histogram2d"
           }
          ],
          "histogram2dcontour": [
           {
            "colorbar": {
             "outlinewidth": 0,
             "ticks": ""
            },
            "colorscale": [
             [
              0,
              "#0d0887"
             ],
             [
              0.1111111111111111,
              "#46039f"
             ],
             [
              0.2222222222222222,
              "#7201a8"
             ],
             [
              0.3333333333333333,
              "#9c179e"
             ],
             [
              0.4444444444444444,
              "#bd3786"
             ],
             [
              0.5555555555555556,
              "#d8576b"
             ],
             [
              0.6666666666666666,
              "#ed7953"
             ],
             [
              0.7777777777777778,
              "#fb9f3a"
             ],
             [
              0.8888888888888888,
              "#fdca26"
             ],
             [
              1,
              "#f0f921"
             ]
            ],
            "type": "histogram2dcontour"
           }
          ],
          "mesh3d": [
           {
            "colorbar": {
             "outlinewidth": 0,
             "ticks": ""
            },
            "type": "mesh3d"
           }
          ],
          "parcoords": [
           {
            "line": {
             "colorbar": {
              "outlinewidth": 0,
              "ticks": ""
             }
            },
            "type": "parcoords"
           }
          ],
          "pie": [
           {
            "automargin": true,
            "type": "pie"
           }
          ],
          "scatter": [
           {
            "fillpattern": {
             "fillmode": "overlay",
             "size": 10,
             "solidity": 0.2
            },
            "type": "scatter"
           }
          ],
          "scatter3d": [
           {
            "line": {
             "colorbar": {
              "outlinewidth": 0,
              "ticks": ""
             }
            },
            "marker": {
             "colorbar": {
              "outlinewidth": 0,
              "ticks": ""
             }
            },
            "type": "scatter3d"
           }
          ],
          "scattercarpet": [
           {
            "marker": {
             "colorbar": {
              "outlinewidth": 0,
              "ticks": ""
             }
            },
            "type": "scattercarpet"
           }
          ],
          "scattergeo": [
           {
            "marker": {
             "colorbar": {
              "outlinewidth": 0,
              "ticks": ""
             }
            },
            "type": "scattergeo"
           }
          ],
          "scattergl": [
           {
            "marker": {
             "colorbar": {
              "outlinewidth": 0,
              "ticks": ""
             }
            },
            "type": "scattergl"
           }
          ],
          "scattermapbox": [
           {
            "marker": {
             "colorbar": {
              "outlinewidth": 0,
              "ticks": ""
             }
            },
            "type": "scattermapbox"
           }
          ],
          "scatterpolar": [
           {
            "marker": {
             "colorbar": {
              "outlinewidth": 0,
              "ticks": ""
             }
            },
            "type": "scatterpolar"
           }
          ],
          "scatterpolargl": [
           {
            "marker": {
             "colorbar": {
              "outlinewidth": 0,
              "ticks": ""
             }
            },
            "type": "scatterpolargl"
           }
          ],
          "scatterternary": [
           {
            "marker": {
             "colorbar": {
              "outlinewidth": 0,
              "ticks": ""
             }
            },
            "type": "scatterternary"
           }
          ],
          "surface": [
           {
            "colorbar": {
             "outlinewidth": 0,
             "ticks": ""
            },
            "colorscale": [
             [
              0,
              "#0d0887"
             ],
             [
              0.1111111111111111,
              "#46039f"
             ],
             [
              0.2222222222222222,
              "#7201a8"
             ],
             [
              0.3333333333333333,
              "#9c179e"
             ],
             [
              0.4444444444444444,
              "#bd3786"
             ],
             [
              0.5555555555555556,
              "#d8576b"
             ],
             [
              0.6666666666666666,
              "#ed7953"
             ],
             [
              0.7777777777777778,
              "#fb9f3a"
             ],
             [
              0.8888888888888888,
              "#fdca26"
             ],
             [
              1,
              "#f0f921"
             ]
            ],
            "type": "surface"
           }
          ],
          "table": [
           {
            "cells": {
             "fill": {
              "color": "#EBF0F8"
             },
             "line": {
              "color": "white"
             }
            },
            "header": {
             "fill": {
              "color": "#C8D4E3"
             },
             "line": {
              "color": "white"
             }
            },
            "type": "table"
           }
          ]
         },
         "layout": {
          "annotationdefaults": {
           "arrowcolor": "#2a3f5f",
           "arrowhead": 0,
           "arrowwidth": 1
          },
          "autotypenumbers": "strict",
          "coloraxis": {
           "colorbar": {
            "outlinewidth": 0,
            "ticks": ""
           }
          },
          "colorscale": {
           "diverging": [
            [
             0,
             "#8e0152"
            ],
            [
             0.1,
             "#c51b7d"
            ],
            [
             0.2,
             "#de77ae"
            ],
            [
             0.3,
             "#f1b6da"
            ],
            [
             0.4,
             "#fde0ef"
            ],
            [
             0.5,
             "#f7f7f7"
            ],
            [
             0.6,
             "#e6f5d0"
            ],
            [
             0.7,
             "#b8e186"
            ],
            [
             0.8,
             "#7fbc41"
            ],
            [
             0.9,
             "#4d9221"
            ],
            [
             1,
             "#276419"
            ]
           ],
           "sequential": [
            [
             0,
             "#0d0887"
            ],
            [
             0.1111111111111111,
             "#46039f"
            ],
            [
             0.2222222222222222,
             "#7201a8"
            ],
            [
             0.3333333333333333,
             "#9c179e"
            ],
            [
             0.4444444444444444,
             "#bd3786"
            ],
            [
             0.5555555555555556,
             "#d8576b"
            ],
            [
             0.6666666666666666,
             "#ed7953"
            ],
            [
             0.7777777777777778,
             "#fb9f3a"
            ],
            [
             0.8888888888888888,
             "#fdca26"
            ],
            [
             1,
             "#f0f921"
            ]
           ],
           "sequentialminus": [
            [
             0,
             "#0d0887"
            ],
            [
             0.1111111111111111,
             "#46039f"
            ],
            [
             0.2222222222222222,
             "#7201a8"
            ],
            [
             0.3333333333333333,
             "#9c179e"
            ],
            [
             0.4444444444444444,
             "#bd3786"
            ],
            [
             0.5555555555555556,
             "#d8576b"
            ],
            [
             0.6666666666666666,
             "#ed7953"
            ],
            [
             0.7777777777777778,
             "#fb9f3a"
            ],
            [
             0.8888888888888888,
             "#fdca26"
            ],
            [
             1,
             "#f0f921"
            ]
           ]
          },
          "colorway": [
           "#636efa",
           "#EF553B",
           "#00cc96",
           "#ab63fa",
           "#FFA15A",
           "#19d3f3",
           "#FF6692",
           "#B6E880",
           "#FF97FF",
           "#FECB52"
          ],
          "font": {
           "color": "#2a3f5f"
          },
          "geo": {
           "bgcolor": "white",
           "lakecolor": "white",
           "landcolor": "#E5ECF6",
           "showlakes": true,
           "showland": true,
           "subunitcolor": "white"
          },
          "hoverlabel": {
           "align": "left"
          },
          "hovermode": "closest",
          "mapbox": {
           "style": "light"
          },
          "paper_bgcolor": "white",
          "plot_bgcolor": "#E5ECF6",
          "polar": {
           "angularaxis": {
            "gridcolor": "white",
            "linecolor": "white",
            "ticks": ""
           },
           "bgcolor": "#E5ECF6",
           "radialaxis": {
            "gridcolor": "white",
            "linecolor": "white",
            "ticks": ""
           }
          },
          "scene": {
           "xaxis": {
            "backgroundcolor": "#E5ECF6",
            "gridcolor": "white",
            "gridwidth": 2,
            "linecolor": "white",
            "showbackground": true,
            "ticks": "",
            "zerolinecolor": "white"
           },
           "yaxis": {
            "backgroundcolor": "#E5ECF6",
            "gridcolor": "white",
            "gridwidth": 2,
            "linecolor": "white",
            "showbackground": true,
            "ticks": "",
            "zerolinecolor": "white"
           },
           "zaxis": {
            "backgroundcolor": "#E5ECF6",
            "gridcolor": "white",
            "gridwidth": 2,
            "linecolor": "white",
            "showbackground": true,
            "ticks": "",
            "zerolinecolor": "white"
           }
          },
          "shapedefaults": {
           "line": {
            "color": "#2a3f5f"
           }
          },
          "ternary": {
           "aaxis": {
            "gridcolor": "white",
            "linecolor": "white",
            "ticks": ""
           },
           "baxis": {
            "gridcolor": "white",
            "linecolor": "white",
            "ticks": ""
           },
           "bgcolor": "#E5ECF6",
           "caxis": {
            "gridcolor": "white",
            "linecolor": "white",
            "ticks": ""
           }
          },
          "title": {
           "x": 0.05
          },
          "xaxis": {
           "automargin": true,
           "gridcolor": "white",
           "linecolor": "white",
           "ticks": "",
           "title": {
            "standoff": 15
           },
           "zerolinecolor": "white",
           "zerolinewidth": 2
          },
          "yaxis": {
           "automargin": true,
           "gridcolor": "white",
           "linecolor": "white",
           "ticks": "",
           "title": {
            "standoff": 15
           },
           "zerolinecolor": "white",
           "zerolinewidth": 2
          }
         }
        },
        "title": {
         "x": 0.5
        },
        "width": 800,
        "xaxis": {
         "anchor": "y",
         "domain": [
          0,
          1
         ],
         "title": {
          "text": "agirlikli_puan"
         }
        },
        "yaxis": {
         "anchor": "x",
         "domain": [
          0,
          1
         ],
         "title": {
          "text": "MAHALLE ADI"
         }
        }
       }
      }
     },
     "metadata": {},
     "output_type": "display_data"
    }
   ],
   "source": [
    "fig = px.bar(en_iyi_esit.head(10), y='MAHALLE ADI', x='agirlikli_puan', color='İLÇE ADI')\n",
    "fig.update_layout(title_x=0.5, height=600, width = 800)\n",
    "fig.show()"
   ]
  },
  {
   "cell_type": "code",
   "execution_count": 112,
   "metadata": {},
   "outputs": [],
   "source": [
    "x = en_iyi_esit.groupby('İLÇE ADI')['agirlikli_puan'].sum().reset_index().sort_values('agirlikli_puan', ascending=False).head(10)\n",
    "x['agirlikli_puan'] = np.round(x['agirlikli_puan'], 2)\n",
    "x.to_csv('../Datasets/EXTERNAL/en_iyi_esit2.csv', index=False)"
   ]
  },
  {
   "cell_type": "code",
   "execution_count": 113,
   "metadata": {},
   "outputs": [
    {
     "data": {
      "text/plain": [
       "count    900.000000\n",
       "mean       0.341465\n",
       "std        0.106616\n",
       "min        0.000929\n",
       "25%        0.253388\n",
       "50%        0.342297\n",
       "75%        0.418869\n",
       "max        0.723707\n",
       "Name: agirlikli_puan, dtype: float64"
      ]
     },
     "execution_count": 113,
     "metadata": {},
     "output_type": "execute_result"
    }
   ],
   "source": [
    "database['agirlikli_puan'].describe()"
   ]
  },
  {
   "attachments": {},
   "cell_type": "markdown",
   "metadata": {},
   "source": [
    "Hepsine eşit ağırlık verdiğimiz ağırlıklandırma sonucunda mantıklı sonuçlar elde edemedik. Bunun sebebinin SES Segmenti filtrelemesi yapmadan ağırlıklandırma yapmaya girişmek olduğunu düşünüyorum.\n",
    "\n",
    "Bir sonraki adımım şu olacak; Sosyal yardımın en fazla olduğu yerleri inceleyeceğim ve oradaki SES Segmentinin sınırını ve o SES Segmentinin altında kalan yerleri atıp daha yukarıdaki SES Segmentindeki yerleri araştıracağım ve ağırlıklandırılmış puanı ona göre hesaplayacağım."
   ]
  },
  {
   "cell_type": "code",
   "execution_count": 114,
   "metadata": {},
   "outputs": [
    {
     "data": {
      "text/html": [
       "<div>\n",
       "<style scoped>\n",
       "    .dataframe tbody tr th:only-of-type {\n",
       "        vertical-align: middle;\n",
       "    }\n",
       "\n",
       "    .dataframe tbody tr th {\n",
       "        vertical-align: top;\n",
       "    }\n",
       "\n",
       "    .dataframe thead th {\n",
       "        text-align: right;\n",
       "    }\n",
       "</style>\n",
       "<table border=\"1\" class=\"dataframe\">\n",
       "  <thead>\n",
       "    <tr style=\"text-align: right;\">\n",
       "      <th></th>\n",
       "      <th>İLÇE</th>\n",
       "      <th>MAHALLE</th>\n",
       "      <th>HANE SAYISI</th>\n",
       "    </tr>\n",
       "  </thead>\n",
       "  <tbody>\n",
       "    <tr>\n",
       "      <th>0</th>\n",
       "      <td>ADALAR</td>\n",
       "      <td>BURGAZADA</td>\n",
       "      <td>5</td>\n",
       "    </tr>\n",
       "    <tr>\n",
       "      <th>1</th>\n",
       "      <td>ADALAR</td>\n",
       "      <td>HEYBELIADA</td>\n",
       "      <td>22</td>\n",
       "    </tr>\n",
       "    <tr>\n",
       "      <th>2</th>\n",
       "      <td>ADALAR</td>\n",
       "      <td>KINALIADA</td>\n",
       "      <td>13</td>\n",
       "    </tr>\n",
       "    <tr>\n",
       "      <th>3</th>\n",
       "      <td>ADALAR</td>\n",
       "      <td>MADEN</td>\n",
       "      <td>27</td>\n",
       "    </tr>\n",
       "    <tr>\n",
       "      <th>4</th>\n",
       "      <td>ADALAR</td>\n",
       "      <td>NIZAM</td>\n",
       "      <td>20</td>\n",
       "    </tr>\n",
       "  </tbody>\n",
       "</table>\n",
       "</div>"
      ],
      "text/plain": [
       "     İLÇE     MAHALLE  HANE SAYISI\n",
       "0  ADALAR   BURGAZADA            5\n",
       "1  ADALAR  HEYBELIADA           22\n",
       "2  ADALAR   KINALIADA           13\n",
       "3  ADALAR       MADEN           27\n",
       "4  ADALAR       NIZAM           20"
      ]
     },
     "execution_count": 114,
     "metadata": {},
     "output_type": "execute_result"
    }
   ],
   "source": [
    "yardım = pd.read_csv('../Datasets/PROCESSED/sosyal_yardim.csv')\n",
    "yardım.head()"
   ]
  },
  {
   "cell_type": "code",
   "execution_count": 115,
   "metadata": {},
   "outputs": [],
   "source": [
    "yardım['MAHALLE'] = yardım['MAHALLE'].str.replace(' ', '')"
   ]
  },
  {
   "cell_type": "code",
   "execution_count": 116,
   "metadata": {},
   "outputs": [],
   "source": [
    "yardım_grouped = yardım.groupby(['İLÇE','MAHALLE'])['HANE SAYISI'].sum().reset_index().sort_values('HANE SAYISI', ascending=False)"
   ]
  },
  {
   "cell_type": "code",
   "execution_count": 117,
   "metadata": {},
   "outputs": [
    {
     "data": {
      "text/plain": [
       "count     946.000000\n",
       "mean      244.560254\n",
       "std       344.892762\n",
       "min         1.000000\n",
       "25%        13.000000\n",
       "50%       105.000000\n",
       "75%       346.750000\n",
       "max      2987.000000\n",
       "Name: HANE SAYISI, dtype: float64"
      ]
     },
     "execution_count": 117,
     "metadata": {},
     "output_type": "execute_result"
    }
   ],
   "source": [
    "yardım_grouped['HANE SAYISI'].describe()"
   ]
  },
  {
   "cell_type": "code",
   "execution_count": 118,
   "metadata": {},
   "outputs": [
    {
     "data": {
      "application/vnd.plotly.v1+json": {
       "config": {
        "plotlyServerURL": "https://plot.ly"
       },
       "data": [
        {
         "alignmentgroup": "True",
         "hovertemplate": "HANE SAYISI=%{x}<extra></extra>",
         "legendgroup": "",
         "marker": {
          "color": "#636efa"
         },
         "name": "",
         "notched": false,
         "offsetgroup": "",
         "orientation": "h",
         "showlegend": false,
         "type": "box",
         "x": [
          2987,
          2502,
          2392,
          2265,
          2108,
          1822,
          1755,
          1710,
          1636,
          1580,
          1464,
          1441,
          1422,
          1360,
          1317,
          1295,
          1270,
          1226,
          1211,
          1183,
          1177,
          1143,
          1119,
          1114,
          1096,
          1095,
          1090,
          1082,
          1079,
          1063,
          1055,
          1055,
          1054,
          1050,
          1032,
          1008,
          1004,
          998,
          994,
          991,
          981,
          974,
          974,
          967,
          967,
          921,
          918,
          915,
          914,
          912,
          911,
          904,
          897,
          892,
          890,
          879,
          866,
          865,
          853,
          849,
          843,
          833,
          830,
          817,
          813,
          812,
          803,
          790,
          788,
          787,
          774,
          774,
          772,
          758,
          755,
          751,
          751,
          749,
          748,
          729,
          728,
          724,
          724,
          722,
          720,
          715,
          705,
          697,
          694,
          688,
          685,
          681,
          678,
          678,
          677,
          677,
          669,
          666,
          666,
          662,
          650,
          649,
          647,
          646,
          645,
          638,
          637,
          632,
          631,
          624,
          616,
          614,
          611,
          610,
          605,
          588,
          587,
          586,
          585,
          585,
          585,
          584,
          583,
          574,
          574,
          572,
          572,
          567,
          566,
          563,
          563,
          563,
          562,
          562,
          561,
          559,
          555,
          554,
          549,
          546,
          545,
          542,
          540,
          539,
          536,
          534,
          534,
          533,
          531,
          527,
          525,
          521,
          511,
          511,
          506,
          503,
          501,
          498,
          492,
          491,
          490,
          490,
          488,
          481,
          477,
          471,
          467,
          466,
          464,
          464,
          461,
          459,
          454,
          453,
          452,
          451,
          451,
          449,
          449,
          446,
          445,
          444,
          444,
          443,
          443,
          442,
          438,
          435,
          434,
          430,
          426,
          424,
          424,
          422,
          422,
          421,
          420,
          418,
          414,
          411,
          406,
          403,
          402,
          402,
          399,
          397,
          396,
          392,
          391,
          390,
          383,
          381,
          379,
          379,
          379,
          374,
          374,
          371,
          371,
          370,
          368,
          366,
          365,
          363,
          362,
          361,
          359,
          358,
          354,
          353,
          351,
          351,
          351,
          351,
          350,
          348,
          347,
          346,
          344,
          341,
          340,
          338,
          337,
          335,
          333,
          331,
          329,
          329,
          328,
          326,
          325,
          324,
          322,
          321,
          321,
          320,
          320,
          317,
          316,
          316,
          316,
          311,
          309,
          309,
          307,
          307,
          307,
          306,
          304,
          302,
          301,
          301,
          300,
          299,
          298,
          296,
          295,
          294,
          292,
          291,
          291,
          288,
          288,
          287,
          286,
          285,
          285,
          284,
          283,
          278,
          278,
          277,
          276,
          276,
          274,
          272,
          272,
          271,
          270,
          268,
          265,
          263,
          263,
          262,
          261,
          260,
          259,
          258,
          254,
          254,
          252,
          251,
          251,
          250,
          249,
          249,
          248,
          246,
          244,
          244,
          241,
          241,
          240,
          239,
          238,
          237,
          237,
          236,
          231,
          231,
          231,
          231,
          230,
          229,
          229,
          228,
          228,
          227,
          225,
          225,
          225,
          225,
          223,
          219,
          216,
          216,
          216,
          215,
          215,
          212,
          210,
          209,
          209,
          208,
          208,
          207,
          205,
          204,
          201,
          199,
          199,
          199,
          198,
          198,
          197,
          197,
          197,
          196,
          195,
          193,
          192,
          190,
          190,
          189,
          188,
          187,
          187,
          186,
          186,
          185,
          184,
          183,
          180,
          180,
          180,
          179,
          177,
          175,
          175,
          174,
          173,
          172,
          172,
          171,
          170,
          169,
          166,
          165,
          164,
          163,
          160,
          157,
          156,
          154,
          153,
          152,
          151,
          151,
          149,
          147,
          147,
          147,
          146,
          145,
          145,
          145,
          144,
          144,
          144,
          143,
          143,
          143,
          141,
          139,
          138,
          138,
          138,
          137,
          137,
          134,
          133,
          132,
          132,
          132,
          131,
          130,
          129,
          129,
          129,
          128,
          128,
          128,
          127,
          127,
          127,
          127,
          126,
          126,
          126,
          125,
          124,
          123,
          121,
          121,
          120,
          117,
          117,
          117,
          117,
          116,
          115,
          113,
          113,
          113,
          112,
          111,
          110,
          109,
          108,
          108,
          107,
          106,
          105,
          105,
          104,
          104,
          103,
          102,
          102,
          102,
          101,
          101,
          101,
          101,
          100,
          99,
          99,
          98,
          98,
          97,
          96,
          94,
          94,
          93,
          93,
          92,
          91,
          91,
          91,
          90,
          90,
          89,
          88,
          86,
          86,
          84,
          84,
          84,
          83,
          83,
          83,
          83,
          82,
          82,
          82,
          82,
          81,
          79,
          79,
          78,
          78,
          77,
          77,
          77,
          77,
          77,
          76,
          76,
          74,
          74,
          72,
          72,
          72,
          72,
          71,
          71,
          71,
          70,
          70,
          70,
          69,
          68,
          67,
          66,
          66,
          66,
          65,
          63,
          63,
          62,
          60,
          60,
          59,
          59,
          59,
          58,
          58,
          57,
          55,
          55,
          55,
          54,
          54,
          54,
          54,
          54,
          52,
          52,
          51,
          49,
          48,
          48,
          47,
          47,
          47,
          47,
          46,
          46,
          44,
          44,
          44,
          43,
          43,
          42,
          42,
          42,
          42,
          41,
          41,
          40,
          40,
          39,
          39,
          39,
          39,
          39,
          38,
          38,
          37,
          37,
          36,
          36,
          36,
          36,
          36,
          35,
          35,
          35,
          34,
          34,
          34,
          34,
          34,
          33,
          33,
          32,
          32,
          32,
          31,
          31,
          31,
          30,
          30,
          30,
          30,
          30,
          30,
          29,
          29,
          29,
          29,
          29,
          29,
          28,
          28,
          28,
          28,
          27,
          27,
          26,
          25,
          25,
          25,
          24,
          24,
          24,
          23,
          23,
          23,
          22,
          22,
          22,
          22,
          22,
          22,
          22,
          22,
          21,
          21,
          21,
          21,
          21,
          21,
          21,
          21,
          20,
          20,
          20,
          20,
          20,
          20,
          20,
          19,
          19,
          19,
          19,
          19,
          19,
          18,
          18,
          18,
          18,
          17,
          17,
          17,
          16,
          16,
          16,
          16,
          16,
          16,
          16,
          15,
          15,
          15,
          15,
          15,
          15,
          15,
          14,
          14,
          14,
          14,
          14,
          14,
          13,
          13,
          13,
          13,
          13,
          13,
          13,
          13,
          13,
          13,
          13,
          13,
          12,
          12,
          12,
          12,
          11,
          11,
          11,
          11,
          11,
          11,
          11,
          11,
          11,
          10,
          10,
          10,
          10,
          10,
          10,
          10,
          10,
          10,
          10,
          10,
          10,
          10,
          10,
          10,
          9,
          9,
          9,
          9,
          9,
          9,
          9,
          9,
          9,
          9,
          9,
          9,
          8,
          8,
          8,
          8,
          8,
          8,
          8,
          8,
          8,
          8,
          8,
          8,
          8,
          8,
          7,
          7,
          7,
          7,
          7,
          7,
          7,
          7,
          7,
          6,
          6,
          6,
          6,
          6,
          6,
          6,
          6,
          6,
          6,
          6,
          6,
          6,
          5,
          5,
          5,
          5,
          5,
          5,
          5,
          5,
          5,
          5,
          5,
          5,
          5,
          5,
          5,
          5,
          5,
          4,
          4,
          4,
          4,
          4,
          4,
          4,
          4,
          4,
          4,
          4,
          4,
          4,
          4,
          4,
          4,
          4,
          4,
          4,
          4,
          3,
          3,
          3,
          3,
          3,
          3,
          3,
          3,
          3,
          3,
          3,
          3,
          3,
          3,
          3,
          3,
          3,
          3,
          2,
          2,
          2,
          2,
          2,
          2,
          2,
          2,
          2,
          2,
          2,
          2,
          2,
          2,
          2,
          2,
          2,
          2,
          2,
          2,
          2,
          2,
          2,
          2,
          2,
          2,
          2,
          2,
          2,
          1,
          1,
          1,
          1,
          1,
          1,
          1,
          1,
          1,
          1,
          1,
          1,
          1,
          1,
          1,
          1,
          1,
          1,
          1,
          1,
          1,
          1,
          1,
          1,
          1,
          1,
          1,
          1,
          1,
          1,
          1,
          1,
          1,
          1,
          1,
          1,
          1,
          1,
          1,
          1,
          1,
          1,
          1,
          1,
          1,
          1,
          1,
          1,
          1,
          1,
          1,
          1,
          1,
          1,
          1,
          1,
          1,
          1,
          1,
          1,
          1,
          1,
          1,
          1,
          1,
          1,
          1,
          1,
          1
         ],
         "x0": " ",
         "xaxis": "x",
         "y0": " ",
         "yaxis": "y"
        }
       ],
       "layout": {
        "boxmode": "group",
        "legend": {
         "tracegroupgap": 0
        },
        "template": {
         "data": {
          "bar": [
           {
            "error_x": {
             "color": "#2a3f5f"
            },
            "error_y": {
             "color": "#2a3f5f"
            },
            "marker": {
             "line": {
              "color": "#E5ECF6",
              "width": 0.5
             },
             "pattern": {
              "fillmode": "overlay",
              "size": 10,
              "solidity": 0.2
             }
            },
            "type": "bar"
           }
          ],
          "barpolar": [
           {
            "marker": {
             "line": {
              "color": "#E5ECF6",
              "width": 0.5
             },
             "pattern": {
              "fillmode": "overlay",
              "size": 10,
              "solidity": 0.2
             }
            },
            "type": "barpolar"
           }
          ],
          "carpet": [
           {
            "aaxis": {
             "endlinecolor": "#2a3f5f",
             "gridcolor": "white",
             "linecolor": "white",
             "minorgridcolor": "white",
             "startlinecolor": "#2a3f5f"
            },
            "baxis": {
             "endlinecolor": "#2a3f5f",
             "gridcolor": "white",
             "linecolor": "white",
             "minorgridcolor": "white",
             "startlinecolor": "#2a3f5f"
            },
            "type": "carpet"
           }
          ],
          "choropleth": [
           {
            "colorbar": {
             "outlinewidth": 0,
             "ticks": ""
            },
            "type": "choropleth"
           }
          ],
          "contour": [
           {
            "colorbar": {
             "outlinewidth": 0,
             "ticks": ""
            },
            "colorscale": [
             [
              0,
              "#0d0887"
             ],
             [
              0.1111111111111111,
              "#46039f"
             ],
             [
              0.2222222222222222,
              "#7201a8"
             ],
             [
              0.3333333333333333,
              "#9c179e"
             ],
             [
              0.4444444444444444,
              "#bd3786"
             ],
             [
              0.5555555555555556,
              "#d8576b"
             ],
             [
              0.6666666666666666,
              "#ed7953"
             ],
             [
              0.7777777777777778,
              "#fb9f3a"
             ],
             [
              0.8888888888888888,
              "#fdca26"
             ],
             [
              1,
              "#f0f921"
             ]
            ],
            "type": "contour"
           }
          ],
          "contourcarpet": [
           {
            "colorbar": {
             "outlinewidth": 0,
             "ticks": ""
            },
            "type": "contourcarpet"
           }
          ],
          "heatmap": [
           {
            "colorbar": {
             "outlinewidth": 0,
             "ticks": ""
            },
            "colorscale": [
             [
              0,
              "#0d0887"
             ],
             [
              0.1111111111111111,
              "#46039f"
             ],
             [
              0.2222222222222222,
              "#7201a8"
             ],
             [
              0.3333333333333333,
              "#9c179e"
             ],
             [
              0.4444444444444444,
              "#bd3786"
             ],
             [
              0.5555555555555556,
              "#d8576b"
             ],
             [
              0.6666666666666666,
              "#ed7953"
             ],
             [
              0.7777777777777778,
              "#fb9f3a"
             ],
             [
              0.8888888888888888,
              "#fdca26"
             ],
             [
              1,
              "#f0f921"
             ]
            ],
            "type": "heatmap"
           }
          ],
          "heatmapgl": [
           {
            "colorbar": {
             "outlinewidth": 0,
             "ticks": ""
            },
            "colorscale": [
             [
              0,
              "#0d0887"
             ],
             [
              0.1111111111111111,
              "#46039f"
             ],
             [
              0.2222222222222222,
              "#7201a8"
             ],
             [
              0.3333333333333333,
              "#9c179e"
             ],
             [
              0.4444444444444444,
              "#bd3786"
             ],
             [
              0.5555555555555556,
              "#d8576b"
             ],
             [
              0.6666666666666666,
              "#ed7953"
             ],
             [
              0.7777777777777778,
              "#fb9f3a"
             ],
             [
              0.8888888888888888,
              "#fdca26"
             ],
             [
              1,
              "#f0f921"
             ]
            ],
            "type": "heatmapgl"
           }
          ],
          "histogram": [
           {
            "marker": {
             "pattern": {
              "fillmode": "overlay",
              "size": 10,
              "solidity": 0.2
             }
            },
            "type": "histogram"
           }
          ],
          "histogram2d": [
           {
            "colorbar": {
             "outlinewidth": 0,
             "ticks": ""
            },
            "colorscale": [
             [
              0,
              "#0d0887"
             ],
             [
              0.1111111111111111,
              "#46039f"
             ],
             [
              0.2222222222222222,
              "#7201a8"
             ],
             [
              0.3333333333333333,
              "#9c179e"
             ],
             [
              0.4444444444444444,
              "#bd3786"
             ],
             [
              0.5555555555555556,
              "#d8576b"
             ],
             [
              0.6666666666666666,
              "#ed7953"
             ],
             [
              0.7777777777777778,
              "#fb9f3a"
             ],
             [
              0.8888888888888888,
              "#fdca26"
             ],
             [
              1,
              "#f0f921"
             ]
            ],
            "type": "histogram2d"
           }
          ],
          "histogram2dcontour": [
           {
            "colorbar": {
             "outlinewidth": 0,
             "ticks": ""
            },
            "colorscale": [
             [
              0,
              "#0d0887"
             ],
             [
              0.1111111111111111,
              "#46039f"
             ],
             [
              0.2222222222222222,
              "#7201a8"
             ],
             [
              0.3333333333333333,
              "#9c179e"
             ],
             [
              0.4444444444444444,
              "#bd3786"
             ],
             [
              0.5555555555555556,
              "#d8576b"
             ],
             [
              0.6666666666666666,
              "#ed7953"
             ],
             [
              0.7777777777777778,
              "#fb9f3a"
             ],
             [
              0.8888888888888888,
              "#fdca26"
             ],
             [
              1,
              "#f0f921"
             ]
            ],
            "type": "histogram2dcontour"
           }
          ],
          "mesh3d": [
           {
            "colorbar": {
             "outlinewidth": 0,
             "ticks": ""
            },
            "type": "mesh3d"
           }
          ],
          "parcoords": [
           {
            "line": {
             "colorbar": {
              "outlinewidth": 0,
              "ticks": ""
             }
            },
            "type": "parcoords"
           }
          ],
          "pie": [
           {
            "automargin": true,
            "type": "pie"
           }
          ],
          "scatter": [
           {
            "fillpattern": {
             "fillmode": "overlay",
             "size": 10,
             "solidity": 0.2
            },
            "type": "scatter"
           }
          ],
          "scatter3d": [
           {
            "line": {
             "colorbar": {
              "outlinewidth": 0,
              "ticks": ""
             }
            },
            "marker": {
             "colorbar": {
              "outlinewidth": 0,
              "ticks": ""
             }
            },
            "type": "scatter3d"
           }
          ],
          "scattercarpet": [
           {
            "marker": {
             "colorbar": {
              "outlinewidth": 0,
              "ticks": ""
             }
            },
            "type": "scattercarpet"
           }
          ],
          "scattergeo": [
           {
            "marker": {
             "colorbar": {
              "outlinewidth": 0,
              "ticks": ""
             }
            },
            "type": "scattergeo"
           }
          ],
          "scattergl": [
           {
            "marker": {
             "colorbar": {
              "outlinewidth": 0,
              "ticks": ""
             }
            },
            "type": "scattergl"
           }
          ],
          "scattermapbox": [
           {
            "marker": {
             "colorbar": {
              "outlinewidth": 0,
              "ticks": ""
             }
            },
            "type": "scattermapbox"
           }
          ],
          "scatterpolar": [
           {
            "marker": {
             "colorbar": {
              "outlinewidth": 0,
              "ticks": ""
             }
            },
            "type": "scatterpolar"
           }
          ],
          "scatterpolargl": [
           {
            "marker": {
             "colorbar": {
              "outlinewidth": 0,
              "ticks": ""
             }
            },
            "type": "scatterpolargl"
           }
          ],
          "scatterternary": [
           {
            "marker": {
             "colorbar": {
              "outlinewidth": 0,
              "ticks": ""
             }
            },
            "type": "scatterternary"
           }
          ],
          "surface": [
           {
            "colorbar": {
             "outlinewidth": 0,
             "ticks": ""
            },
            "colorscale": [
             [
              0,
              "#0d0887"
             ],
             [
              0.1111111111111111,
              "#46039f"
             ],
             [
              0.2222222222222222,
              "#7201a8"
             ],
             [
              0.3333333333333333,
              "#9c179e"
             ],
             [
              0.4444444444444444,
              "#bd3786"
             ],
             [
              0.5555555555555556,
              "#d8576b"
             ],
             [
              0.6666666666666666,
              "#ed7953"
             ],
             [
              0.7777777777777778,
              "#fb9f3a"
             ],
             [
              0.8888888888888888,
              "#fdca26"
             ],
             [
              1,
              "#f0f921"
             ]
            ],
            "type": "surface"
           }
          ],
          "table": [
           {
            "cells": {
             "fill": {
              "color": "#EBF0F8"
             },
             "line": {
              "color": "white"
             }
            },
            "header": {
             "fill": {
              "color": "#C8D4E3"
             },
             "line": {
              "color": "white"
             }
            },
            "type": "table"
           }
          ]
         },
         "layout": {
          "annotationdefaults": {
           "arrowcolor": "#2a3f5f",
           "arrowhead": 0,
           "arrowwidth": 1
          },
          "autotypenumbers": "strict",
          "coloraxis": {
           "colorbar": {
            "outlinewidth": 0,
            "ticks": ""
           }
          },
          "colorscale": {
           "diverging": [
            [
             0,
             "#8e0152"
            ],
            [
             0.1,
             "#c51b7d"
            ],
            [
             0.2,
             "#de77ae"
            ],
            [
             0.3,
             "#f1b6da"
            ],
            [
             0.4,
             "#fde0ef"
            ],
            [
             0.5,
             "#f7f7f7"
            ],
            [
             0.6,
             "#e6f5d0"
            ],
            [
             0.7,
             "#b8e186"
            ],
            [
             0.8,
             "#7fbc41"
            ],
            [
             0.9,
             "#4d9221"
            ],
            [
             1,
             "#276419"
            ]
           ],
           "sequential": [
            [
             0,
             "#0d0887"
            ],
            [
             0.1111111111111111,
             "#46039f"
            ],
            [
             0.2222222222222222,
             "#7201a8"
            ],
            [
             0.3333333333333333,
             "#9c179e"
            ],
            [
             0.4444444444444444,
             "#bd3786"
            ],
            [
             0.5555555555555556,
             "#d8576b"
            ],
            [
             0.6666666666666666,
             "#ed7953"
            ],
            [
             0.7777777777777778,
             "#fb9f3a"
            ],
            [
             0.8888888888888888,
             "#fdca26"
            ],
            [
             1,
             "#f0f921"
            ]
           ],
           "sequentialminus": [
            [
             0,
             "#0d0887"
            ],
            [
             0.1111111111111111,
             "#46039f"
            ],
            [
             0.2222222222222222,
             "#7201a8"
            ],
            [
             0.3333333333333333,
             "#9c179e"
            ],
            [
             0.4444444444444444,
             "#bd3786"
            ],
            [
             0.5555555555555556,
             "#d8576b"
            ],
            [
             0.6666666666666666,
             "#ed7953"
            ],
            [
             0.7777777777777778,
             "#fb9f3a"
            ],
            [
             0.8888888888888888,
             "#fdca26"
            ],
            [
             1,
             "#f0f921"
            ]
           ]
          },
          "colorway": [
           "#636efa",
           "#EF553B",
           "#00cc96",
           "#ab63fa",
           "#FFA15A",
           "#19d3f3",
           "#FF6692",
           "#B6E880",
           "#FF97FF",
           "#FECB52"
          ],
          "font": {
           "color": "#2a3f5f"
          },
          "geo": {
           "bgcolor": "white",
           "lakecolor": "white",
           "landcolor": "#E5ECF6",
           "showlakes": true,
           "showland": true,
           "subunitcolor": "white"
          },
          "hoverlabel": {
           "align": "left"
          },
          "hovermode": "closest",
          "mapbox": {
           "style": "light"
          },
          "paper_bgcolor": "white",
          "plot_bgcolor": "#E5ECF6",
          "polar": {
           "angularaxis": {
            "gridcolor": "white",
            "linecolor": "white",
            "ticks": ""
           },
           "bgcolor": "#E5ECF6",
           "radialaxis": {
            "gridcolor": "white",
            "linecolor": "white",
            "ticks": ""
           }
          },
          "scene": {
           "xaxis": {
            "backgroundcolor": "#E5ECF6",
            "gridcolor": "white",
            "gridwidth": 2,
            "linecolor": "white",
            "showbackground": true,
            "ticks": "",
            "zerolinecolor": "white"
           },
           "yaxis": {
            "backgroundcolor": "#E5ECF6",
            "gridcolor": "white",
            "gridwidth": 2,
            "linecolor": "white",
            "showbackground": true,
            "ticks": "",
            "zerolinecolor": "white"
           },
           "zaxis": {
            "backgroundcolor": "#E5ECF6",
            "gridcolor": "white",
            "gridwidth": 2,
            "linecolor": "white",
            "showbackground": true,
            "ticks": "",
            "zerolinecolor": "white"
           }
          },
          "shapedefaults": {
           "line": {
            "color": "#2a3f5f"
           }
          },
          "ternary": {
           "aaxis": {
            "gridcolor": "white",
            "linecolor": "white",
            "ticks": ""
           },
           "baxis": {
            "gridcolor": "white",
            "linecolor": "white",
            "ticks": ""
           },
           "bgcolor": "#E5ECF6",
           "caxis": {
            "gridcolor": "white",
            "linecolor": "white",
            "ticks": ""
           }
          },
          "title": {
           "x": 0.05
          },
          "xaxis": {
           "automargin": true,
           "gridcolor": "white",
           "linecolor": "white",
           "ticks": "",
           "title": {
            "standoff": 15
           },
           "zerolinecolor": "white",
           "zerolinewidth": 2
          },
          "yaxis": {
           "automargin": true,
           "gridcolor": "white",
           "linecolor": "white",
           "ticks": "",
           "title": {
            "standoff": 15
           },
           "zerolinecolor": "white",
           "zerolinewidth": 2
          }
         }
        },
        "title": {
         "text": "İstanbul'un İlçelerine Göre Sosyal Yardım Hane Sayıları"
        },
        "xaxis": {
         "anchor": "y",
         "domain": [
          0,
          1
         ],
         "title": {
          "text": "HANE SAYISI"
         }
        },
        "yaxis": {
         "anchor": "x",
         "domain": [
          0,
          1
         ]
        }
       }
      }
     },
     "metadata": {},
     "output_type": "display_data"
    }
   ],
   "source": [
    "fig = px.box(yardım_grouped, x='HANE SAYISI', title='İstanbul\\'un İlçelerine Göre Sosyal Yardım Hane Sayıları')\n",
    "fig.show()"
   ]
  },
  {
   "cell_type": "code",
   "execution_count": 119,
   "metadata": {},
   "outputs": [],
   "source": [
    "will_drop = yardım_grouped[yardım_grouped['HANE SAYISI'] > 13]"
   ]
  },
  {
   "cell_type": "code",
   "execution_count": 120,
   "metadata": {},
   "outputs": [
    {
     "name": "stderr",
     "output_type": "stream",
     "text": [
      "C:\\Users\\ramaz\\AppData\\Local\\Temp\\ipykernel_8928\\2982950659.py:1: SettingWithCopyWarning:\n",
      "\n",
      "\n",
      "A value is trying to be set on a copy of a slice from a DataFrame\n",
      "\n",
      "See the caveats in the documentation: https://pandas.pydata.org/pandas-docs/stable/user_guide/indexing.html#returning-a-view-versus-a-copy\n",
      "\n"
     ]
    },
    {
     "data": {
      "text/html": [
       "<div>\n",
       "<style scoped>\n",
       "    .dataframe tbody tr th:only-of-type {\n",
       "        vertical-align: middle;\n",
       "    }\n",
       "\n",
       "    .dataframe tbody tr th {\n",
       "        vertical-align: top;\n",
       "    }\n",
       "\n",
       "    .dataframe thead th {\n",
       "        text-align: right;\n",
       "    }\n",
       "</style>\n",
       "<table border=\"1\" class=\"dataframe\">\n",
       "  <thead>\n",
       "    <tr style=\"text-align: right;\">\n",
       "      <th></th>\n",
       "      <th>İLÇE</th>\n",
       "      <th>MAHALLE</th>\n",
       "    </tr>\n",
       "  </thead>\n",
       "  <tbody>\n",
       "    <tr>\n",
       "      <th>588</th>\n",
       "      <td>KUCUKCEKMECE</td>\n",
       "      <td>KANARYA</td>\n",
       "    </tr>\n",
       "    <tr>\n",
       "      <th>132</th>\n",
       "      <td>BASAKSEHIR</td>\n",
       "      <td>GUVERCINTEPE</td>\n",
       "    </tr>\n",
       "    <tr>\n",
       "      <th>71</th>\n",
       "      <td>AVCILAR</td>\n",
       "      <td>YESILKENT</td>\n",
       "    </tr>\n",
       "    <tr>\n",
       "      <th>111</th>\n",
       "      <td>BAHCELIEVLER</td>\n",
       "      <td>ZAFER</td>\n",
       "    </tr>\n",
       "    <tr>\n",
       "      <th>835</th>\n",
       "      <td>SULTANGAZI</td>\n",
       "      <td>ESENTEPE</td>\n",
       "    </tr>\n",
       "    <tr>\n",
       "      <th>...</th>\n",
       "      <td>...</td>\n",
       "      <td>...</td>\n",
       "    </tr>\n",
       "    <tr>\n",
       "      <th>149</th>\n",
       "      <td>BESIKTAS</td>\n",
       "      <td>AKAT</td>\n",
       "    </tr>\n",
       "    <tr>\n",
       "      <th>197</th>\n",
       "      <td>BEYKOZ</td>\n",
       "      <td>MAHMUTSEVKETPASA</td>\n",
       "    </tr>\n",
       "    <tr>\n",
       "      <th>857</th>\n",
       "      <td>TUZLA</td>\n",
       "      <td>ORHANLI</td>\n",
       "    </tr>\n",
       "    <tr>\n",
       "      <th>454</th>\n",
       "      <td>FATIH</td>\n",
       "      <td>HACIKADIN</td>\n",
       "    </tr>\n",
       "    <tr>\n",
       "      <th>313</th>\n",
       "      <td>CATALCA</td>\n",
       "      <td>KARAMANDERE</td>\n",
       "    </tr>\n",
       "  </tbody>\n",
       "</table>\n",
       "<p>705 rows × 2 columns</p>\n",
       "</div>"
      ],
      "text/plain": [
       "             İLÇE           MAHALLE\n",
       "588  KUCUKCEKMECE           KANARYA\n",
       "132    BASAKSEHIR      GUVERCINTEPE\n",
       "71        AVCILAR         YESILKENT\n",
       "111  BAHCELIEVLER             ZAFER\n",
       "835    SULTANGAZI          ESENTEPE\n",
       "..            ...               ...\n",
       "149      BESIKTAS              AKAT\n",
       "197        BEYKOZ  MAHMUTSEVKETPASA\n",
       "857         TUZLA           ORHANLI\n",
       "454         FATIH         HACIKADIN\n",
       "313       CATALCA       KARAMANDERE\n",
       "\n",
       "[705 rows x 2 columns]"
      ]
     },
     "execution_count": 120,
     "metadata": {},
     "output_type": "execute_result"
    }
   ],
   "source": [
    "will_drop.drop(['HANE SAYISI'], axis=1, inplace=True)\n",
    "will_drop"
   ]
  },
  {
   "cell_type": "code",
   "execution_count": 121,
   "metadata": {},
   "outputs": [
    {
     "name": "stderr",
     "output_type": "stream",
     "text": [
      "C:\\Users\\ramaz\\AppData\\Local\\Temp\\ipykernel_8928\\4034323817.py:1: SettingWithCopyWarning:\n",
      "\n",
      "\n",
      "A value is trying to be set on a copy of a slice from a DataFrame.\n",
      "Try using .loc[row_indexer,col_indexer] = value instead\n",
      "\n",
      "See the caveats in the documentation: https://pandas.pydata.org/pandas-docs/stable/user_guide/indexing.html#returning-a-view-versus-a-copy\n",
      "\n"
     ]
    }
   ],
   "source": [
    "will_drop['will drop'] = 1"
   ]
  },
  {
   "cell_type": "code",
   "execution_count": 122,
   "metadata": {},
   "outputs": [
    {
     "data": {
      "text/html": [
       "<div>\n",
       "<style scoped>\n",
       "    .dataframe tbody tr th:only-of-type {\n",
       "        vertical-align: middle;\n",
       "    }\n",
       "\n",
       "    .dataframe tbody tr th {\n",
       "        vertical-align: top;\n",
       "    }\n",
       "\n",
       "    .dataframe thead th {\n",
       "        text-align: right;\n",
       "    }\n",
       "</style>\n",
       "<table border=\"1\" class=\"dataframe\">\n",
       "  <thead>\n",
       "    <tr style=\"text-align: right;\">\n",
       "      <th></th>\n",
       "      <th>İLÇE</th>\n",
       "      <th>MAHALLE</th>\n",
       "      <th>will drop</th>\n",
       "    </tr>\n",
       "  </thead>\n",
       "  <tbody>\n",
       "    <tr>\n",
       "      <th>588</th>\n",
       "      <td>KUCUKCEKMECE</td>\n",
       "      <td>KANARYA</td>\n",
       "      <td>1</td>\n",
       "    </tr>\n",
       "    <tr>\n",
       "      <th>132</th>\n",
       "      <td>BASAKSEHIR</td>\n",
       "      <td>GUVERCINTEPE</td>\n",
       "      <td>1</td>\n",
       "    </tr>\n",
       "    <tr>\n",
       "      <th>71</th>\n",
       "      <td>AVCILAR</td>\n",
       "      <td>YESILKENT</td>\n",
       "      <td>1</td>\n",
       "    </tr>\n",
       "    <tr>\n",
       "      <th>111</th>\n",
       "      <td>BAHCELIEVLER</td>\n",
       "      <td>ZAFER</td>\n",
       "      <td>1</td>\n",
       "    </tr>\n",
       "    <tr>\n",
       "      <th>835</th>\n",
       "      <td>SULTANGAZI</td>\n",
       "      <td>ESENTEPE</td>\n",
       "      <td>1</td>\n",
       "    </tr>\n",
       "  </tbody>\n",
       "</table>\n",
       "</div>"
      ],
      "text/plain": [
       "             İLÇE       MAHALLE  will drop\n",
       "588  KUCUKCEKMECE       KANARYA          1\n",
       "132    BASAKSEHIR  GUVERCINTEPE          1\n",
       "71        AVCILAR     YESILKENT          1\n",
       "111  BAHCELIEVLER         ZAFER          1\n",
       "835    SULTANGAZI      ESENTEPE          1"
      ]
     },
     "execution_count": 122,
     "metadata": {},
     "output_type": "execute_result"
    }
   ],
   "source": [
    "will_drop.head()"
   ]
  },
  {
   "cell_type": "code",
   "execution_count": 123,
   "metadata": {},
   "outputs": [
    {
     "data": {
      "text/html": [
       "<div>\n",
       "<style scoped>\n",
       "    .dataframe tbody tr th:only-of-type {\n",
       "        vertical-align: middle;\n",
       "    }\n",
       "\n",
       "    .dataframe tbody tr th {\n",
       "        vertical-align: top;\n",
       "    }\n",
       "\n",
       "    .dataframe thead th {\n",
       "        text-align: right;\n",
       "    }\n",
       "</style>\n",
       "<table border=\"1\" class=\"dataframe\">\n",
       "  <thead>\n",
       "    <tr style=\"text-align: right;\">\n",
       "      <th></th>\n",
       "      <th>İLÇE ADI</th>\n",
       "      <th>MAHALLE ADI</th>\n",
       "      <th>SES</th>\n",
       "      <th>SES SKORU</th>\n",
       "      <th>ilce</th>\n",
       "      <th>mahalle</th>\n",
       "      <th>nufus_yogunlugu</th>\n",
       "      <th>nufus</th>\n",
       "      <th>yuzolcumu</th>\n",
       "      <th>maliyet</th>\n",
       "      <th>nufus_yogunlugu_agirlik</th>\n",
       "      <th>nufus_agirlik</th>\n",
       "      <th>maliyet_agirlik</th>\n",
       "      <th>ses_agirlik</th>\n",
       "      <th>agirlikli_puan</th>\n",
       "      <th>İLÇE</th>\n",
       "      <th>MAHALLE</th>\n",
       "      <th>will drop</th>\n",
       "    </tr>\n",
       "  </thead>\n",
       "  <tbody>\n",
       "    <tr>\n",
       "      <th>0</th>\n",
       "      <td>ARNAVUTKOY</td>\n",
       "      <td>ANADOLU</td>\n",
       "      <td>E</td>\n",
       "      <td>12.5</td>\n",
       "      <td>ARNAVUTKOY</td>\n",
       "      <td>ANADOLU</td>\n",
       "      <td>21607.0</td>\n",
       "      <td>33177</td>\n",
       "      <td>1.5</td>\n",
       "      <td>201000</td>\n",
       "      <td>0.223691</td>\n",
       "      <td>0.355769</td>\n",
       "      <td>0.976303</td>\n",
       "      <td>0.000000</td>\n",
       "      <td>0.388941</td>\n",
       "      <td>ARNAVUTKOY</td>\n",
       "      <td>ANADOLU</td>\n",
       "      <td>1.0</td>\n",
       "    </tr>\n",
       "    <tr>\n",
       "      <th>1</th>\n",
       "      <td>ARNAVUTKOY</td>\n",
       "      <td>ARNAVUTKOYMERKEZ</td>\n",
       "      <td>D</td>\n",
       "      <td>25.0</td>\n",
       "      <td>ARNAVUTKOY</td>\n",
       "      <td>ARNAVUTKOYMERKEZ</td>\n",
       "      <td>2771.0</td>\n",
       "      <td>18695</td>\n",
       "      <td>6.7</td>\n",
       "      <td>201000</td>\n",
       "      <td>0.028643</td>\n",
       "      <td>0.200408</td>\n",
       "      <td>0.976303</td>\n",
       "      <td>0.142857</td>\n",
       "      <td>0.337053</td>\n",
       "      <td>ARNAVUTKOY</td>\n",
       "      <td>ARNAVUTKOYMERKEZ</td>\n",
       "      <td>1.0</td>\n",
       "    </tr>\n",
       "    <tr>\n",
       "      <th>2</th>\n",
       "      <td>ARNAVUTKOY</td>\n",
       "      <td>BAKLALI</td>\n",
       "      <td>E</td>\n",
       "      <td>12.5</td>\n",
       "      <td>ARNAVUTKOY</td>\n",
       "      <td>BAKLALI</td>\n",
       "      <td>46.9</td>\n",
       "      <td>825</td>\n",
       "      <td>17.6</td>\n",
       "      <td>201000</td>\n",
       "      <td>0.000435</td>\n",
       "      <td>0.008700</td>\n",
       "      <td>0.976303</td>\n",
       "      <td>0.000000</td>\n",
       "      <td>0.246360</td>\n",
       "      <td>NaN</td>\n",
       "      <td>NaN</td>\n",
       "      <td>NaN</td>\n",
       "    </tr>\n",
       "  </tbody>\n",
       "</table>\n",
       "</div>"
      ],
      "text/plain": [
       "     İLÇE ADI       MAHALLE ADI SES  SES SKORU        ilce           mahalle  \\\n",
       "0  ARNAVUTKOY           ANADOLU   E       12.5  ARNAVUTKOY           ANADOLU   \n",
       "1  ARNAVUTKOY  ARNAVUTKOYMERKEZ   D       25.0  ARNAVUTKOY  ARNAVUTKOYMERKEZ   \n",
       "2  ARNAVUTKOY           BAKLALI   E       12.5  ARNAVUTKOY           BAKLALI   \n",
       "\n",
       "   nufus_yogunlugu  nufus  yuzolcumu  maliyet  nufus_yogunlugu_agirlik  \\\n",
       "0          21607.0  33177        1.5   201000                 0.223691   \n",
       "1           2771.0  18695        6.7   201000                 0.028643   \n",
       "2             46.9    825       17.6   201000                 0.000435   \n",
       "\n",
       "   nufus_agirlik  maliyet_agirlik  ses_agirlik  agirlikli_puan        İLÇE  \\\n",
       "0       0.355769         0.976303     0.000000        0.388941  ARNAVUTKOY   \n",
       "1       0.200408         0.976303     0.142857        0.337053  ARNAVUTKOY   \n",
       "2       0.008700         0.976303     0.000000        0.246360         NaN   \n",
       "\n",
       "            MAHALLE  will drop  \n",
       "0           ANADOLU        1.0  \n",
       "1  ARNAVUTKOYMERKEZ        1.0  \n",
       "2               NaN        NaN  "
      ]
     },
     "execution_count": 123,
     "metadata": {},
     "output_type": "execute_result"
    }
   ],
   "source": [
    "database = pd.merge(database, will_drop, left_on=['MAHALLE ADI', 'İLÇE ADI'], right_on=['MAHALLE', 'İLÇE'], how='left')\n",
    "database.head(3)"
   ]
  },
  {
   "cell_type": "code",
   "execution_count": 124,
   "metadata": {},
   "outputs": [],
   "source": [
    "database['will drop'].fillna(0, inplace=True)"
   ]
  },
  {
   "cell_type": "code",
   "execution_count": 125,
   "metadata": {},
   "outputs": [],
   "source": [
    "# drop\n",
    "database = database[database['will drop'] == 0]"
   ]
  },
  {
   "cell_type": "code",
   "execution_count": 126,
   "metadata": {},
   "outputs": [
    {
     "data": {
      "text/html": [
       "<div>\n",
       "<style scoped>\n",
       "    .dataframe tbody tr th:only-of-type {\n",
       "        vertical-align: middle;\n",
       "    }\n",
       "\n",
       "    .dataframe tbody tr th {\n",
       "        vertical-align: top;\n",
       "    }\n",
       "\n",
       "    .dataframe thead th {\n",
       "        text-align: right;\n",
       "    }\n",
       "</style>\n",
       "<table border=\"1\" class=\"dataframe\">\n",
       "  <thead>\n",
       "    <tr style=\"text-align: right;\">\n",
       "      <th></th>\n",
       "      <th>İLÇE ADI</th>\n",
       "      <th>MAHALLE ADI</th>\n",
       "      <th>SES</th>\n",
       "      <th>SES SKORU</th>\n",
       "      <th>ilce</th>\n",
       "      <th>mahalle</th>\n",
       "      <th>nufus_yogunlugu</th>\n",
       "      <th>nufus</th>\n",
       "      <th>yuzolcumu</th>\n",
       "      <th>maliyet</th>\n",
       "      <th>nufus_yogunlugu_agirlik</th>\n",
       "      <th>nufus_agirlik</th>\n",
       "      <th>maliyet_agirlik</th>\n",
       "      <th>ses_agirlik</th>\n",
       "      <th>agirlikli_puan</th>\n",
       "      <th>İLÇE</th>\n",
       "      <th>MAHALLE</th>\n",
       "      <th>will drop</th>\n",
       "    </tr>\n",
       "  </thead>\n",
       "  <tbody>\n",
       "    <tr>\n",
       "      <th>2</th>\n",
       "      <td>ARNAVUTKOY</td>\n",
       "      <td>BAKLALI</td>\n",
       "      <td>E</td>\n",
       "      <td>12.5</td>\n",
       "      <td>ARNAVUTKOY</td>\n",
       "      <td>BAKLALI</td>\n",
       "      <td>46.9</td>\n",
       "      <td>825</td>\n",
       "      <td>17.6</td>\n",
       "      <td>201000</td>\n",
       "      <td>0.000435</td>\n",
       "      <td>0.00870</td>\n",
       "      <td>0.976303</td>\n",
       "      <td>0.0</td>\n",
       "      <td>0.246360</td>\n",
       "      <td>NaN</td>\n",
       "      <td>NaN</td>\n",
       "      <td>0.0</td>\n",
       "    </tr>\n",
       "    <tr>\n",
       "      <th>3</th>\n",
       "      <td>ARNAVUTKOY</td>\n",
       "      <td>BALABAN</td>\n",
       "      <td>E</td>\n",
       "      <td>12.5</td>\n",
       "      <td>ARNAVUTKOY</td>\n",
       "      <td>BALABAN</td>\n",
       "      <td>13.8</td>\n",
       "      <td>413</td>\n",
       "      <td>29.8</td>\n",
       "      <td>201000</td>\n",
       "      <td>0.000092</td>\n",
       "      <td>0.00428</td>\n",
       "      <td>0.976303</td>\n",
       "      <td>0.0</td>\n",
       "      <td>0.245169</td>\n",
       "      <td>NaN</td>\n",
       "      <td>NaN</td>\n",
       "      <td>0.0</td>\n",
       "    </tr>\n",
       "    <tr>\n",
       "      <th>5</th>\n",
       "      <td>ARNAVUTKOY</td>\n",
       "      <td>BOYALIK</td>\n",
       "      <td>E</td>\n",
       "      <td>12.5</td>\n",
       "      <td>ARNAVUTKOY</td>\n",
       "      <td>BOYALIK</td>\n",
       "      <td>24.8</td>\n",
       "      <td>674</td>\n",
       "      <td>27.1</td>\n",
       "      <td>201000</td>\n",
       "      <td>0.000206</td>\n",
       "      <td>0.00708</td>\n",
       "      <td>0.976303</td>\n",
       "      <td>0.0</td>\n",
       "      <td>0.245897</td>\n",
       "      <td>NaN</td>\n",
       "      <td>NaN</td>\n",
       "      <td>0.0</td>\n",
       "    </tr>\n",
       "  </tbody>\n",
       "</table>\n",
       "</div>"
      ],
      "text/plain": [
       "     İLÇE ADI MAHALLE ADI SES  SES SKORU        ilce  mahalle  \\\n",
       "2  ARNAVUTKOY     BAKLALI   E       12.5  ARNAVUTKOY  BAKLALI   \n",
       "3  ARNAVUTKOY     BALABAN   E       12.5  ARNAVUTKOY  BALABAN   \n",
       "5  ARNAVUTKOY     BOYALIK   E       12.5  ARNAVUTKOY  BOYALIK   \n",
       "\n",
       "   nufus_yogunlugu  nufus  yuzolcumu  maliyet  nufus_yogunlugu_agirlik  \\\n",
       "2             46.9    825       17.6   201000                 0.000435   \n",
       "3             13.8    413       29.8   201000                 0.000092   \n",
       "5             24.8    674       27.1   201000                 0.000206   \n",
       "\n",
       "   nufus_agirlik  maliyet_agirlik  ses_agirlik  agirlikli_puan İLÇE MAHALLE  \\\n",
       "2        0.00870         0.976303          0.0        0.246360  NaN     NaN   \n",
       "3        0.00428         0.976303          0.0        0.245169  NaN     NaN   \n",
       "5        0.00708         0.976303          0.0        0.245897  NaN     NaN   \n",
       "\n",
       "   will drop  \n",
       "2        0.0  \n",
       "3        0.0  \n",
       "5        0.0  "
      ]
     },
     "execution_count": 126,
     "metadata": {},
     "output_type": "execute_result"
    }
   ],
   "source": [
    "database.head(3)"
   ]
  },
  {
   "cell_type": "code",
   "execution_count": 127,
   "metadata": {},
   "outputs": [
    {
     "data": {
      "text/plain": [
       "(0.0009290699598289741, 0.4638067894294825)"
      ]
     },
     "execution_count": 127,
     "metadata": {},
     "output_type": "execute_result"
    }
   ],
   "source": [
    "database['agirlikli_puan'].min(), database['agirlikli_puan'].max()"
   ]
  },
  {
   "attachments": {},
   "cell_type": "markdown",
   "metadata": {},
   "source": [
    "* Kişiselleştirilmiş Ağırlıklandırmma:"
   ]
  },
  {
   "cell_type": "code",
   "execution_count": 82,
   "metadata": {},
   "outputs": [],
   "source": [
    "agirlik_dict = {\n",
    "    'Nüfus Yoğunluğu':10,\n",
    "    'Nüfus':15,\n",
    "    'Maaliyet':30,\n",
    "    'SES SKORU':45\n",
    "}\n",
    "agirlik_df = pd.DataFrame(agirlik_dict.items(), columns=['Kriter', 'Ağırlık'])\n",
    "agirlik_df.to_csv('../Datasets/EXTERNAL/agirliklandirma.csv', index=False)"
   ]
  },
  {
   "cell_type": "code",
   "execution_count": 83,
   "metadata": {},
   "outputs": [],
   "source": [
    "from sklearn.preprocessing import MinMaxScaler\n",
    "\n",
    "scaler = MinMaxScaler()\n",
    "database[\"nufus_yogunlugu_agirlik\"] = scaler.fit_transform(database[[\"nufus_yogunlugu\"]])\n",
    "\n",
    "scaler = MinMaxScaler()\n",
    "database[\"nufus_agirlik\"] = scaler.fit_transform(database[[\"nufus\"]])\n",
    "\n",
    "scaler = MinMaxScaler()\n",
    "database[\"maliyet_agirlik\"] = 1 - scaler.fit_transform(database[[\"maliyet\"]])\n",
    "\n",
    "scaler = MinMaxScaler()\n",
    "database[\"ses_agirlik\"] = scaler.fit_transform(database[[\"SES SKORU\"]])\n",
    "\n",
    "database[\"agirlikli_puan\"] = (database[\"nufus_yogunlugu_agirlik\"] * 0.20\n",
    "                            + database[\"nufus_agirlik\"] * 0.10\n",
    "                            + database[\"maliyet_agirlik\"] * 0.3\n",
    "                            + database[\"ses_agirlik\"] * 0.40)\n",
    "\n",
    "database = database.sort_values('agirlikli_puan', ascending=False)"
   ]
  },
  {
   "cell_type": "code",
   "execution_count": 84,
   "metadata": {},
   "outputs": [],
   "source": [
    "database = database[['İLÇE ADI', 'MAHALLE ADI', 'SES SKORU', 'nufus', 'nufus_yogunlugu', 'maliyet', 'agirlikli_puan']]"
   ]
  },
  {
   "cell_type": "code",
   "execution_count": 85,
   "metadata": {},
   "outputs": [
    {
     "data": {
      "text/html": [
       "<div>\n",
       "<style scoped>\n",
       "    .dataframe tbody tr th:only-of-type {\n",
       "        vertical-align: middle;\n",
       "    }\n",
       "\n",
       "    .dataframe tbody tr th {\n",
       "        vertical-align: top;\n",
       "    }\n",
       "\n",
       "    .dataframe thead th {\n",
       "        text-align: right;\n",
       "    }\n",
       "</style>\n",
       "<table border=\"1\" class=\"dataframe\">\n",
       "  <thead>\n",
       "    <tr style=\"text-align: right;\">\n",
       "      <th></th>\n",
       "      <th>İLÇE ADI</th>\n",
       "      <th>MAHALLE ADI</th>\n",
       "      <th>SES SKORU</th>\n",
       "      <th>nufus</th>\n",
       "      <th>nufus_yogunlugu</th>\n",
       "      <th>maliyet</th>\n",
       "      <th>agirlikli_puan</th>\n",
       "    </tr>\n",
       "  </thead>\n",
       "  <tbody>\n",
       "    <tr>\n",
       "      <th>482</th>\n",
       "      <td>KADIKOY</td>\n",
       "      <td>CAFERAGA</td>\n",
       "      <td>100.0</td>\n",
       "      <td>23977</td>\n",
       "      <td>19324.0</td>\n",
       "      <td>567000</td>\n",
       "      <td>0.658805</td>\n",
       "    </tr>\n",
       "    <tr>\n",
       "      <th>85</th>\n",
       "      <td>BAKIRKOY</td>\n",
       "      <td>ATAKOY7-8-9-10.KISIM</td>\n",
       "      <td>100.0</td>\n",
       "      <td>24444</td>\n",
       "      <td>11918.0</td>\n",
       "      <td>525000</td>\n",
       "      <td>0.656336</td>\n",
       "    </tr>\n",
       "    <tr>\n",
       "      <th>802</th>\n",
       "      <td>SISLI</td>\n",
       "      <td>TESVIKIYE</td>\n",
       "      <td>100.0</td>\n",
       "      <td>11522</td>\n",
       "      <td>25431.0</td>\n",
       "      <td>543000</td>\n",
       "      <td>0.649799</td>\n",
       "    </tr>\n",
       "    <tr>\n",
       "      <th>139</th>\n",
       "      <td>BEYKOZ</td>\n",
       "      <td>ACARLAR</td>\n",
       "      <td>100.0</td>\n",
       "      <td>7319</td>\n",
       "      <td>1346.0</td>\n",
       "      <td>363000</td>\n",
       "      <td>0.643938</td>\n",
       "    </tr>\n",
       "    <tr>\n",
       "      <th>497</th>\n",
       "      <td>KADIKOY</td>\n",
       "      <td>SUADIYE</td>\n",
       "      <td>100.0</td>\n",
       "      <td>22484</td>\n",
       "      <td>15157.0</td>\n",
       "      <td>567000</td>\n",
       "      <td>0.640568</td>\n",
       "    </tr>\n",
       "    <tr>\n",
       "      <th>485</th>\n",
       "      <td>KADIKOY</td>\n",
       "      <td>ERENKOY</td>\n",
       "      <td>87.5</td>\n",
       "      <td>31098</td>\n",
       "      <td>23013.0</td>\n",
       "      <td>567000</td>\n",
       "      <td>0.636464</td>\n",
       "    </tr>\n",
       "    <tr>\n",
       "      <th>28</th>\n",
       "      <td>ATASEHIR</td>\n",
       "      <td>ATATURK</td>\n",
       "      <td>87.5</td>\n",
       "      <td>30063</td>\n",
       "      <td>11843.0</td>\n",
       "      <td>486000</td>\n",
       "      <td>0.635512</td>\n",
       "    </tr>\n",
       "    <tr>\n",
       "      <th>83</th>\n",
       "      <td>BAKIRKOY</td>\n",
       "      <td>ATAKOY2-5-6.KISIM</td>\n",
       "      <td>100.0</td>\n",
       "      <td>13671</td>\n",
       "      <td>11131.0</td>\n",
       "      <td>525000</td>\n",
       "      <td>0.619141</td>\n",
       "    </tr>\n",
       "    <tr>\n",
       "      <th>487</th>\n",
       "      <td>KADIKOY</td>\n",
       "      <td>FENERYOLU</td>\n",
       "      <td>87.5</td>\n",
       "      <td>24488</td>\n",
       "      <td>24161.0</td>\n",
       "      <td>567000</td>\n",
       "      <td>0.618900</td>\n",
       "    </tr>\n",
       "    <tr>\n",
       "      <th>857</th>\n",
       "      <td>USKUDAR</td>\n",
       "      <td>ALTUNIZADE</td>\n",
       "      <td>87.5</td>\n",
       "      <td>13886</td>\n",
       "      <td>7833.0</td>\n",
       "      <td>393000</td>\n",
       "      <td>0.614617</td>\n",
       "    </tr>\n",
       "    <tr>\n",
       "      <th>481</th>\n",
       "      <td>KADIKOY</td>\n",
       "      <td>CADDEBOSTAN</td>\n",
       "      <td>100.0</td>\n",
       "      <td>18316</td>\n",
       "      <td>11012.0</td>\n",
       "      <td>567000</td>\n",
       "      <td>0.613796</td>\n",
       "    </tr>\n",
       "    <tr>\n",
       "      <th>486</th>\n",
       "      <td>KADIKOY</td>\n",
       "      <td>FENERBAHCE</td>\n",
       "      <td>100.0</td>\n",
       "      <td>17657</td>\n",
       "      <td>10440.0</td>\n",
       "      <td>567000</td>\n",
       "      <td>0.609832</td>\n",
       "    </tr>\n",
       "    <tr>\n",
       "      <th>98</th>\n",
       "      <td>BASAKSEHIR</td>\n",
       "      <td>BAHCESEHIR1.KISIM</td>\n",
       "      <td>75.0</td>\n",
       "      <td>24548</td>\n",
       "      <td>2952.0</td>\n",
       "      <td>345000</td>\n",
       "      <td>0.598788</td>\n",
       "    </tr>\n",
       "    <tr>\n",
       "      <th>163</th>\n",
       "      <td>BEYKOZ</td>\n",
       "      <td>KANLICA</td>\n",
       "      <td>87.5</td>\n",
       "      <td>4242</td>\n",
       "      <td>3215.0</td>\n",
       "      <td>363000</td>\n",
       "      <td>0.582922</td>\n",
       "    </tr>\n",
       "    <tr>\n",
       "      <th>131</th>\n",
       "      <td>BESIKTAS</td>\n",
       "      <td>MURADIYE</td>\n",
       "      <td>87.5</td>\n",
       "      <td>5048</td>\n",
       "      <td>62042.0</td>\n",
       "      <td>777000</td>\n",
       "      <td>0.578957</td>\n",
       "    </tr>\n",
       "  </tbody>\n",
       "</table>\n",
       "</div>"
      ],
      "text/plain": [
       "       İLÇE ADI           MAHALLE ADI  SES SKORU  nufus  nufus_yogunlugu  \\\n",
       "482     KADIKOY              CAFERAGA      100.0  23977          19324.0   \n",
       "85     BAKIRKOY  ATAKOY7-8-9-10.KISIM      100.0  24444          11918.0   \n",
       "802       SISLI             TESVIKIYE      100.0  11522          25431.0   \n",
       "139      BEYKOZ               ACARLAR      100.0   7319           1346.0   \n",
       "497     KADIKOY               SUADIYE      100.0  22484          15157.0   \n",
       "485     KADIKOY               ERENKOY       87.5  31098          23013.0   \n",
       "28     ATASEHIR               ATATURK       87.5  30063          11843.0   \n",
       "83     BAKIRKOY     ATAKOY2-5-6.KISIM      100.0  13671          11131.0   \n",
       "487     KADIKOY             FENERYOLU       87.5  24488          24161.0   \n",
       "857     USKUDAR            ALTUNIZADE       87.5  13886           7833.0   \n",
       "481     KADIKOY           CADDEBOSTAN      100.0  18316          11012.0   \n",
       "486     KADIKOY            FENERBAHCE      100.0  17657          10440.0   \n",
       "98   BASAKSEHIR     BAHCESEHIR1.KISIM       75.0  24548           2952.0   \n",
       "163      BEYKOZ               KANLICA       87.5   4242           3215.0   \n",
       "131    BESIKTAS              MURADIYE       87.5   5048          62042.0   \n",
       "\n",
       "     maliyet  agirlikli_puan  \n",
       "482   567000        0.658805  \n",
       "85    525000        0.656336  \n",
       "802   543000        0.649799  \n",
       "139   363000        0.643938  \n",
       "497   567000        0.640568  \n",
       "485   567000        0.636464  \n",
       "28    486000        0.635512  \n",
       "83    525000        0.619141  \n",
       "487   567000        0.618900  \n",
       "857   393000        0.614617  \n",
       "481   567000        0.613796  \n",
       "486   567000        0.609832  \n",
       "98    345000        0.598788  \n",
       "163   363000        0.582922  \n",
       "131   777000        0.578957  "
      ]
     },
     "execution_count": 85,
     "metadata": {},
     "output_type": "execute_result"
    }
   ],
   "source": [
    "database.head(15)"
   ]
  },
  {
   "cell_type": "code",
   "execution_count": 86,
   "metadata": {},
   "outputs": [
    {
     "data": {
      "application/vnd.plotly.v1+json": {
       "config": {
        "plotlyServerURL": "https://plot.ly"
       },
       "data": [
        {
         "hovertemplate": "İLÇE ADI=KADIKOY<br>agirlikli_puan=%{x}<br>nufus=%{y}<br>SES SKORU=%{marker.size}<extra></extra>",
         "legendgroup": "KADIKOY",
         "marker": {
          "color": "#636efa",
          "size": [
           100,
           100,
           87.5,
           87.5,
           100,
           100,
           87.5,
           87.5
          ],
          "sizemode": "area",
          "sizeref": 0.25,
          "symbol": "circle"
         },
         "mode": "markers",
         "name": "KADIKOY",
         "orientation": "v",
         "showlegend": true,
         "type": "scatter",
         "x": [
          0.6588047960161603,
          0.6405677850604778,
          0.6364637143597893,
          0.6188997660642359,
          0.6137959858555662,
          0.6098318662575425,
          0.5275625399615382,
          0.5236085802494495
         ],
         "xaxis": "x",
         "y": [
          23977,
          22484,
          31098,
          24488,
          18316,
          17657,
          8095,
          7839
         ],
         "yaxis": "y"
        },
        {
         "hovertemplate": "İLÇE ADI=BAKIRKOY<br>agirlikli_puan=%{x}<br>nufus=%{y}<br>SES SKORU=%{marker.size}<extra></extra>",
         "legendgroup": "BAKIRKOY",
         "marker": {
          "color": "#EF553B",
          "size": [
           100,
           100,
           87.5,
           75,
           87.5,
           87.5
          ],
          "sizemode": "area",
          "sizeref": 0.25,
          "symbol": "circle"
         },
         "mode": "markers",
         "name": "BAKIRKOY",
         "orientation": "v",
         "showlegend": true,
         "type": "scatter",
         "x": [
          0.6563363544631957,
          0.6191414612969135,
          0.5491953781297891,
          0.5459969200317333,
          0.5438137702382067,
          0.495948693506206
         ],
         "xaxis": "x",
         "y": [
          24444,
          13671,
          8150,
          28206,
          7816,
          1667
         ],
         "yaxis": "y"
        },
        {
         "hovertemplate": "İLÇE ADI=SISLI<br>agirlikli_puan=%{x}<br>nufus=%{y}<br>SES SKORU=%{marker.size}<extra></extra>",
         "legendgroup": "SISLI",
         "marker": {
          "color": "#00cc96",
          "size": [
           100,
           87.5,
           87.5,
           75,
           87.5,
           87.5,
           75,
           87.5,
           75
          ],
          "sizemode": "area",
          "sizeref": 0.25,
          "symbol": "circle"
         },
         "mode": "markers",
         "name": "SISLI",
         "orientation": "v",
         "showlegend": true,
         "type": "scatter",
         "x": [
          0.6497985767145931,
          0.5612293135360789,
          0.5330355890525003,
          0.5272035768740109,
          0.5187202417746001,
          0.5108543572966302,
          0.5092466738386734,
          0.4921255147888847,
          0.4657212262896444
         ],
         "xaxis": "x",
         "y": [
          11522,
          7255,
          1691,
          7922,
          3312,
          7056,
          2684,
          2504,
          4566
         ],
         "yaxis": "y"
        },
        {
         "hovertemplate": "İLÇE ADI=BEYKOZ<br>agirlikli_puan=%{x}<br>nufus=%{y}<br>SES SKORU=%{marker.size}<extra></extra>",
         "legendgroup": "BEYKOZ",
         "marker": {
          "color": "#ab63fa",
          "size": [
           100,
           87.5,
           87.5,
           62.5,
           50,
           37.5,
           37.5,
           37.5,
           37.5,
           25,
           25,
           25,
           25,
           25,
           25,
           12.5,
           12.5,
           12.5,
           12.5,
           12.5,
           12.5
          ],
          "sizemode": "area",
          "sizeref": 0.25,
          "symbol": "circle"
         },
         "mode": "markers",
         "name": "BEYKOZ",
         "orientation": "v",
         "showlegend": true,
         "type": "scatter",
         "x": [
          0.6439381223995999,
          0.5829217085773855,
          0.5760044436653156,
          0.46614385035145445,
          0.3959497884415857,
          0.34102016646634287,
          0.3378550592353468,
          0.3327135874116657,
          0.33159273036392073,
          0.281257295408545,
          0.28012020347714145,
          0.2772447502618193,
          0.27687156093199883,
          0.2757510772323558,
          0.27403103400508527,
          0.22051571648525536,
          0.21937045989057913,
          0.2187299876183221,
          0.21791357654522497,
          0.2177322114581108,
          0.21768838030278514
         ],
         "xaxis": "x",
         "y": [
          7319,
          4242,
          2644,
          2830,
          2020,
          2726,
          2237,
          627,
          377,
          2104,
          1966,
          980,
          1055,
          750,
          243,
          1283,
          923,
          764,
          545,
          477,
          475
         ],
         "yaxis": "y"
        },
        {
         "hovertemplate": "İLÇE ADI=ATASEHIR<br>agirlikli_puan=%{x}<br>nufus=%{y}<br>SES SKORU=%{marker.size}<extra></extra>",
         "legendgroup": "ATASEHIR",
         "marker": {
          "color": "#FFA15A",
          "size": [
           87.5
          ],
          "sizemode": "area",
          "sizeref": 0.25,
          "symbol": "circle"
         },
         "mode": "markers",
         "name": "ATASEHIR",
         "orientation": "v",
         "showlegend": true,
         "type": "scatter",
         "x": [
          0.6355119429328007
         ],
         "xaxis": "x",
         "y": [
          30063
         ],
         "yaxis": "y"
        },
        {
         "hovertemplate": "İLÇE ADI=USKUDAR<br>agirlikli_puan=%{x}<br>nufus=%{y}<br>SES SKORU=%{marker.size}<extra></extra>",
         "legendgroup": "USKUDAR",
         "marker": {
          "color": "#19d3f3",
          "size": [
           87.5,
           87.5
          ],
          "sizemode": "area",
          "sizeref": 0.25,
          "symbol": "circle"
         },
         "mode": "markers",
         "name": "USKUDAR",
         "orientation": "v",
         "showlegend": true,
         "type": "scatter",
         "x": [
          0.6146171726155096,
          0.5547099022568647
         ],
         "xaxis": "x",
         "y": [
          13886,
          1712
         ],
         "yaxis": "y"
        },
        {
         "hovertemplate": "İLÇE ADI=BASAKSEHIR<br>agirlikli_puan=%{x}<br>nufus=%{y}<br>SES SKORU=%{marker.size}<extra></extra>",
         "legendgroup": "BASAKSEHIR",
         "marker": {
          "color": "#FF6692",
          "size": [
           75,
           12.5
          ],
          "sizemode": "area",
          "sizeref": 0.25,
          "symbol": "circle"
         },
         "mode": "markers",
         "name": "BASAKSEHIR",
         "orientation": "v",
         "showlegend": true,
         "type": "scatter",
         "x": [
          0.5987879902278718,
          0.2292432737233477
         ],
         "xaxis": "x",
         "y": [
          24548,
          1269
         ],
         "yaxis": "y"
        },
        {
         "hovertemplate": "İLÇE ADI=BESIKTAS<br>agirlikli_puan=%{x}<br>nufus=%{y}<br>SES SKORU=%{marker.size}<extra></extra>",
         "legendgroup": "BESIKTAS",
         "marker": {
          "color": "#B6E880",
          "size": [
           87.5,
           100,
           87.5,
           100,
           100,
           87.5,
           100,
           100,
           100,
           100,
           100,
           87.5,
           87.5,
           87.5,
           87.5,
           75
          ],
          "sizemode": "area",
          "sizeref": 0.25,
          "symbol": "circle"
         },
         "mode": "markers",
         "name": "BESIKTAS",
         "orientation": "v",
         "showlegend": true,
         "type": "scatter",
         "x": [
          0.5789571830478873,
          0.49902866207857877,
          0.49817808363683147,
          0.4902915273671404,
          0.48813151253455833,
          0.48774735810214637,
          0.4657783987541063,
          0.46072545861657827,
          0.4576947278435799,
          0.4545287707147607,
          0.43949190385942505,
          0.4202631803385306,
          0.4007428789863425,
          0.3945173571142464,
          0.3836164581585812,
          0.3610050470714133
         ],
         "xaxis": "x",
         "y": [
          5048,
          12435,
          5288,
          12023,
          15350,
          14530,
          6142,
          3933,
          4925,
          5891,
          3145,
          3898,
          6232,
          3889,
          3082,
          2534
         ],
         "yaxis": "y"
        },
        {
         "hovertemplate": "İLÇE ADI=ESENYURT<br>agirlikli_puan=%{x}<br>nufus=%{y}<br>SES SKORU=%{marker.size}<extra></extra>",
         "legendgroup": "ESENYURT",
         "marker": {
          "color": "#FF97FF",
          "size": [
           62.5
          ],
          "sizemode": "area",
          "sizeref": 0.25,
          "symbol": "circle"
         },
         "mode": "markers",
         "name": "ESENYURT",
         "orientation": "v",
         "showlegend": true,
         "type": "scatter",
         "x": [
          0.575121791335631
         ],
         "xaxis": "x",
         "y": [
          10183
         ],
         "yaxis": "y"
        },
        {
         "hovertemplate": "İLÇE ADI=ZEYTINBURNU<br>agirlikli_puan=%{x}<br>nufus=%{y}<br>SES SKORU=%{marker.size}<extra></extra>",
         "legendgroup": "ZEYTINBURNU",
         "marker": {
          "color": "#FECB52",
          "size": [
           87.5,
           62.5
          ],
          "sizemode": "area",
          "sizeref": 0.25,
          "symbol": "circle"
         },
         "mode": "markers",
         "name": "ZEYTINBURNU",
         "orientation": "v",
         "showlegend": true,
         "type": "scatter",
         "x": [
          0.5712722157833797,
          0.4558680812962747
         ],
         "xaxis": "x",
         "y": [
          2592,
          2078
         ],
         "yaxis": "y"
        },
        {
         "hovertemplate": "İLÇE ADI=BEYOGLU<br>agirlikli_puan=%{x}<br>nufus=%{y}<br>SES SKORU=%{marker.size}<extra></extra>",
         "legendgroup": "BEYOGLU",
         "marker": {
          "color": "#636efa",
          "size": [
           87.5,
           100,
           100,
           87.5,
           87.5,
           75,
           75,
           75,
           62.5,
           50,
           37.5,
           37.5,
           37.5,
           25,
           25,
           25
          ],
          "sizemode": "area",
          "sizeref": 0.25,
          "symbol": "circle"
         },
         "mode": "markers",
         "name": "BEYOGLU",
         "orientation": "v",
         "showlegend": true,
         "type": "scatter",
         "x": [
          0.5664831306191194,
          0.5474777692377866,
          0.5390826772849302,
          0.5042437647423975,
          0.49635773216682555,
          0.43327792676830235,
          0.42268000390706967,
          0.41707444829950563,
          0.35965072011682786,
          0.3175479561698629,
          0.24633281390261386,
          0.24180706713080696,
          0.23321330986216743,
          0.1818530291967699,
          0.1727336921708834,
          0.17157657137265162
         ],
         "xaxis": "x",
         "y": [
          3482,
          2092,
          2109,
          1463,
          2476,
          840,
          518,
          405,
          463,
          834,
          368,
          283,
          121,
          752,
          128,
          91
         ],
         "yaxis": "y"
        },
        {
         "hovertemplate": "İLÇE ADI=UMRANIYE<br>agirlikli_puan=%{x}<br>nufus=%{y}<br>SES SKORU=%{marker.size}<extra></extra>",
         "legendgroup": "UMRANIYE",
         "marker": {
          "color": "#EF553B",
          "size": [
           75,
           75
          ],
          "sizemode": "area",
          "sizeref": 0.25,
          "symbol": "circle"
         },
         "mode": "markers",
         "name": "UMRANIYE",
         "orientation": "v",
         "showlegend": true,
         "type": "scatter",
         "x": [
          0.5133717401151097,
          0.5090727455494151
         ],
         "xaxis": "x",
         "y": [
          3976,
          2307
         ],
         "yaxis": "y"
        },
        {
         "hovertemplate": "İLÇE ADI=KUCUKCEKMECE<br>agirlikli_puan=%{x}<br>nufus=%{y}<br>SES SKORU=%{marker.size}<extra></extra>",
         "legendgroup": "KUCUKCEKMECE",
         "marker": {
          "color": "#00cc96",
          "size": [
           50
          ],
          "sizemode": "area",
          "sizeref": 0.25,
          "symbol": "circle"
         },
         "mode": "markers",
         "name": "KUCUKCEKMECE",
         "orientation": "v",
         "showlegend": true,
         "type": "scatter",
         "x": [
          0.4679389363378963
         ],
         "xaxis": "x",
         "y": [
          4092
         ],
         "yaxis": "y"
        },
        {
         "hovertemplate": "İLÇE ADI=FATIH<br>agirlikli_puan=%{x}<br>nufus=%{y}<br>SES SKORU=%{marker.size}<extra></extra>",
         "legendgroup": "FATIH",
         "marker": {
          "color": "#ab63fa",
          "size": [
           50,
           50,
           37.5,
           37.5,
           37.5,
           37.5,
           37.5,
           37.5,
           37.5,
           37.5,
           37.5,
           37.5,
           37.5,
           25,
           25,
           25,
           25,
           25,
           25,
           12.5
          ],
          "sizemode": "area",
          "sizeref": 0.25,
          "symbol": "circle"
         },
         "mode": "markers",
         "name": "FATIH",
         "orientation": "v",
         "showlegend": true,
         "type": "scatter",
         "x": [
          0.43400071293254994,
          0.40479246681092873,
          0.4011882615979933,
          0.38341843256981395,
          0.35050335882211936,
          0.35026567435921796,
          0.34609317659190597,
          0.34205678035877124,
          0.3394751198598664,
          0.3391690144295249,
          0.3390819290128655,
          0.33830823239559726,
          0.3379182179088902,
          0.29521633497416794,
          0.2906087155901879,
          0.28946240683267893,
          0.2852606493034924,
          0.2839824398896972,
          0.28364701409680165,
          0.22473783195164085
         ],
         "xaxis": "x",
         "y": [
          1671,
          709,
          1225,
          1673,
          618,
          488,
          131,
          146,
          48,
          24,
          30,
          25,
          14,
          783,
          411,
          206,
          360,
          114,
          135,
          82
         ],
         "yaxis": "y"
        },
        {
         "hovertemplate": "İLÇE ADI=TUZLA<br>agirlikli_puan=%{x}<br>nufus=%{y}<br>SES SKORU=%{marker.size}<extra></extra>",
         "legendgroup": "TUZLA",
         "marker": {
          "color": "#FFA15A",
          "size": [
           50,
           12.5
          ],
          "sizemode": "area",
          "sizeref": 0.25,
          "symbol": "circle"
         },
         "mode": "markers",
         "name": "TUZLA",
         "orientation": "v",
         "showlegend": true,
         "type": "scatter",
         "x": [
          0.4247601610002097,
          0.2538161215110144
         ],
         "xaxis": "x",
         "y": [
          1045,
          905
         ],
         "yaxis": "y"
        },
        {
         "hovertemplate": "İLÇE ADI=SARIYER<br>agirlikli_puan=%{x}<br>nufus=%{y}<br>SES SKORU=%{marker.size}<extra></extra>",
         "legendgroup": "SARIYER",
         "marker": {
          "color": "#19d3f3",
          "size": [
           87.5,
           87.5,
           87.5,
           87.5,
           75,
           62.5,
           50,
           37.5,
           12.5
          ],
          "sizemode": "area",
          "sizeref": 0.25,
          "symbol": "circle"
         },
         "mode": "markers",
         "name": "SARIYER",
         "orientation": "v",
         "showlegend": true,
         "type": "scatter",
         "x": [
          0.4087254810241623,
          0.3945236935389698,
          0.3731070842342568,
          0.37067891403970094,
          0.30145180106250197,
          0.299139792570185,
          0.18519167697346886,
          0.11581158181767653,
          0.001117809563720699
         ],
         "xaxis": "x",
         "y": [
          18867,
          9458,
          8091,
          8178,
          4550,
          12750,
          3331,
          393,
          333
         ],
         "yaxis": "y"
        },
        {
         "hovertemplate": "İLÇE ADI=SILE<br>agirlikli_puan=%{x}<br>nufus=%{y}<br>SES SKORU=%{marker.size}<extra></extra>",
         "legendgroup": "SILE",
         "marker": {
          "color": "#FF6692",
          "size": [
           50,
           37.5,
           25,
           25,
           25,
           25,
           25,
           12.5,
           12.5,
           12.5,
           12.5,
           12.5,
           12.5,
           12.5,
           12.5,
           12.5,
           12.5,
           12.5,
           12.5,
           12.5,
           12.5,
           12.5,
           12.5,
           12.5,
           12.5,
           12.5,
           12.5,
           12.5,
           12.5,
           12.5,
           12.5,
           12.5,
           12.5,
           12.5,
           12.5,
           12.5,
           12.5,
           12.5,
           12.5,
           12.5,
           12.5,
           12.5,
           12.5,
           12.5,
           12.5,
           12.5,
           12.5,
           12.5,
           12.5,
           12.5,
           12.5,
           12.5,
           12.5,
           12.5,
           12.5,
           12.5,
           12.5
          ],
          "sizemode": "area",
          "sizeref": 0.25,
          "symbol": "circle"
         },
         "mode": "markers",
         "name": "SILE",
         "orientation": "v",
         "showlegend": true,
         "type": "scatter",
         "x": [
          0.4082390717833956,
          0.36391619676823955,
          0.2921913526092283,
          0.29130016460182356,
          0.29119083108681254,
          0.2909980263016727,
          0.2907564086493172,
          0.24000573514672835,
          0.237098931912807,
          0.23570428622240014,
          0.23570292878999707,
          0.23488378593099013,
          0.23486674689819867,
          0.2347795087974895,
          0.23476465859735246,
          0.23473852148176885,
          0.23452716754738467,
          0.2345002464500516,
          0.234394567810455,
          0.23426670206730327,
          0.23424776943700065,
          0.23423770753582002,
          0.23414214844739153,
          0.23409178473483913,
          0.23408906987003295,
          0.2340761370751873,
          0.23405538207365562,
          0.2340470339333471,
          0.2340450181491844,
          0.23403208191100047,
          0.23401803940186386,
          0.2339410973441528,
          0.23392891449179082,
          0.23387901227472607,
          0.23386454555564734,
          0.2338542563007965,
          0.23385204031555284,
          0.23384712982994493,
          0.23383603632743197,
          0.2338352625771681,
          0.2338178468514657,
          0.23381047266250202,
          0.23377949294278355,
          0.23375768932028668,
          0.23375223588142338,
          0.23364964535620564,
          0.23363355312216977,
          0.23361967687337756,
          0.2335966278721728,
          0.2335536959985716,
          0.23353924964393477,
          0.23353285619446318,
          0.23348302864701884,
          0.23346811735355605,
          0.23344661240954073,
          0.23336838080089967,
          0.23332561184283385
         ],
         "xaxis": "x",
         "y": [
          741,
          944,
          574,
          305,
          264,
          219,
          146,
          1636,
          994,
          756,
          766,
          522,
          515,
          496,
          499,
          455,
          388,
          412,
          355,
          337,
          324,
          334,
          306,
          269,
          289,
          247,
          265,
          260,
          272,
          278,
          257,
          241,
          231,
          221,
          215,
          211,
          205,
          216,
          188,
          207,
          208,
          202,
          159,
          189,
          185,
          148,
          144,
          146,
          122,
          130,
          121,
          113,
          92,
          104,
          90,
          74,
          58
         ],
         "yaxis": "y"
        },
        {
         "hovertemplate": "İLÇE ADI=CEKMEKOY<br>agirlikli_puan=%{x}<br>nufus=%{y}<br>SES SKORU=%{marker.size}<extra></extra>",
         "legendgroup": "CEKMEKOY",
         "marker": {
          "color": "#B6E880",
          "size": [
           37.5,
           12.5,
           12.5
          ],
          "sizemode": "area",
          "sizeref": 0.25,
          "symbol": "circle"
         },
         "mode": "markers",
         "name": "CEKMEKOY",
         "orientation": "v",
         "showlegend": true,
         "type": "scatter",
         "x": [
          0.3576697230261742,
          0.2450081637034222,
          0.24289443084811752
         ],
         "xaxis": "x",
         "y": [
          885,
          1365,
          771
         ],
         "yaxis": "y"
        },
        {
         "hovertemplate": "İLÇE ADI=ARNAVUTKOY<br>agirlikli_puan=%{x}<br>nufus=%{y}<br>SES SKORU=%{marker.size}<extra></extra>",
         "legendgroup": "ARNAVUTKOY",
         "marker": {
          "color": "#FF97FF",
          "size": [
           25,
           12.5,
           12.5,
           12.5,
           12.5,
           12.5,
           12.5,
           12.5,
           12.5,
           12.5
          ],
          "sizemode": "area",
          "sizeref": 0.25,
          "symbol": "circle"
         },
         "mode": "markers",
         "name": "ARNAVUTKOY",
         "orientation": "v",
         "showlegend": true,
         "type": "scatter",
         "x": [
          0.3520396396736156,
          0.2983745748722369,
          0.2967429166469828,
          0.2960376954008624,
          0.29563545743143876,
          0.2950784292767213,
          0.2946791131613321,
          0.2946649959825751,
          0.29437962863266165,
          0.29420330635076325
         ],
         "xaxis": "x",
         "y": [
          600,
          1521,
          1149,
          935,
          825,
          674,
          561,
          551,
          464,
          413
         ],
         "yaxis": "y"
        },
        {
         "hovertemplate": "İLÇE ADI=CATALCA<br>agirlikli_puan=%{x}<br>nufus=%{y}<br>SES SKORU=%{marker.size}<extra></extra>",
         "legendgroup": "CATALCA",
         "marker": {
          "color": "#FECB52",
          "size": [
           25,
           12.5,
           12.5,
           12.5,
           12.5,
           12.5,
           12.5,
           12.5,
           12.5,
           12.5,
           12.5,
           12.5,
           12.5,
           12.5,
           12.5,
           12.5,
           12.5,
           12.5,
           12.5,
           12.5,
           12.5,
           12.5,
           12.5,
           12.5,
           12.5,
           12.5,
           12.5,
           12.5
          ],
          "sizemode": "area",
          "sizeref": 0.25,
          "symbol": "circle"
         },
         "mode": "markers",
         "name": "CATALCA",
         "orientation": "v",
         "showlegend": true,
         "type": "scatter",
         "x": [
          0.3479862285363472,
          0.2961715193891137,
          0.2936106485221818,
          0.2934097160637271,
          0.292613489886317,
          0.2925817804900276,
          0.29203796009938643,
          0.2919272114034555,
          0.2919214933253765,
          0.2911577977130216,
          0.29110230294933837,
          0.2908727459626933,
          0.28999482336935234,
          0.28988568326727493,
          0.28983095202236997,
          0.2897937451135244,
          0.2897358103557363,
          0.289726488264083,
          0.28954087104312054,
          0.2890886256896135,
          0.2890673345229738,
          0.2884879157188112,
          0.2884599833845877,
          0.2883514269646496,
          0.28833690594039235,
          0.2879511708386521,
          0.28791067895915573,
          0.28736726575882376
         ],
         "xaxis": "x",
         "y": [
          1085,
          2598,
          1812,
          1872,
          1624,
          1641,
          1444,
          1469,
          1409,
          1213,
          1172,
          1127,
          851,
          829,
          818,
          790,
          776,
          772,
          713,
          561,
          563,
          386,
          369,
          356,
          358,
          239,
          220,
          58
         ],
         "yaxis": "y"
        },
        {
         "hovertemplate": "İLÇE ADI=SILIVRI<br>agirlikli_puan=%{x}<br>nufus=%{y}<br>SES SKORU=%{marker.size}<extra></extra>",
         "legendgroup": "SILIVRI",
         "marker": {
          "color": "#636efa",
          "size": [
           12.5,
           12.5,
           12.5,
           12.5,
           12.5,
           12.5,
           12.5,
           12.5,
           12.5,
           12.5,
           12.5,
           12.5,
           12.5,
           12.5,
           12.5,
           12.5,
           12.5,
           12.5,
           12.5,
           12.5,
           12.5
          ],
          "sizemode": "area",
          "sizeref": 0.25,
          "symbol": "circle"
         },
         "mode": "markers",
         "name": "SILIVRI",
         "orientation": "v",
         "showlegend": true,
         "type": "scatter",
         "x": [
          0.3107920754332798,
          0.30994842077658785,
          0.3066487971916048,
          0.30498318633369914,
          0.30494158139510275,
          0.30471753215249947,
          0.30433194639,
          0.3041292934810551,
          0.3038776614445501,
          0.30383154307769866,
          0.3035984737667326,
          0.3033249668814486,
          0.30328964678196685,
          0.30309756823005973,
          0.302520036235261,
          0.3014686521207303,
          0.3012481050694917,
          0.3010929517675815,
          0.30091413184159077,
          0.3006273866948323,
          0.30052904151531556
         ],
         "xaxis": "x",
         "y": [
          3127,
          3027,
          1790,
          1528,
          1483,
          1434,
          1293,
          1274,
          1204,
          1159,
          1109,
          1032,
          1011,
          954,
          784,
          463,
          373,
          338,
          275,
          201,
          156
         ],
         "yaxis": "y"
        },
        {
         "hovertemplate": "İLÇE ADI=PENDIK<br>agirlikli_puan=%{x}<br>nufus=%{y}<br>SES SKORU=%{marker.size}<extra></extra>",
         "legendgroup": "PENDIK",
         "marker": {
          "color": "#EF553B",
          "size": [
           25,
           25,
           12.5
          ],
          "sizemode": "area",
          "sizeref": 0.25,
          "symbol": "circle"
         },
         "mode": "markers",
         "name": "PENDIK",
         "orientation": "v",
         "showlegend": true,
         "type": "scatter",
         "x": [
          0.307240762684259,
          0.306788140637841,
          0.250228516646758
         ],
         "xaxis": "x",
         "y": [
          400,
          256,
          441
         ],
         "yaxis": "y"
        },
        {
         "hovertemplate": "İLÇE ADI=MALTEPE<br>agirlikli_puan=%{x}<br>nufus=%{y}<br>SES SKORU=%{marker.size}<extra></extra>",
         "legendgroup": "MALTEPE",
         "marker": {
          "color": "#00cc96",
          "size": [
           12.5
          ],
          "sizemode": "area",
          "sizeref": 0.25,
          "symbol": "circle"
         },
         "mode": "markers",
         "name": "MALTEPE",
         "orientation": "v",
         "showlegend": true,
         "type": "scatter",
         "x": [
          0.229439807970747
         ],
         "xaxis": "x",
         "y": [
          7779
         ],
         "yaxis": "y"
        },
        {
         "hovertemplate": "İLÇE ADI=EYUPSULTAN<br>agirlikli_puan=%{x}<br>nufus=%{y}<br>SES SKORU=%{marker.size}<extra></extra>",
         "legendgroup": "EYUPSULTAN",
         "marker": {
          "color": "#ab63fa",
          "size": [
           25,
           12.5,
           12.5,
           12.5,
           12.5,
           12.5
          ],
          "sizemode": "area",
          "sizeref": 0.25,
          "symbol": "circle"
         },
         "mode": "markers",
         "name": "EYUPSULTAN",
         "orientation": "v",
         "showlegend": true,
         "type": "scatter",
         "x": [
          0.22271434674260748,
          0.172454211014765,
          0.16716472249298164,
          0.1668688181701052,
          0.1654869392112581,
          0.16537353339903776
         ],
         "xaxis": "x",
         "y": [
          195,
          2275,
          671,
          569,
          160,
          149
         ],
         "yaxis": "y"
        }
       ],
       "layout": {
        "height": 600,
        "legend": {
         "itemsizing": "constant",
         "orientation": "h",
         "title": {
          "text": "İLÇE ADI"
         },
         "tracegroupgap": 0,
         "x": 1,
         "xanchor": "right",
         "y": 1.02,
         "yanchor": "bottom"
        },
        "margin": {
         "t": 60
        },
        "template": {
         "data": {
          "bar": [
           {
            "error_x": {
             "color": "#2a3f5f"
            },
            "error_y": {
             "color": "#2a3f5f"
            },
            "marker": {
             "line": {
              "color": "#E5ECF6",
              "width": 0.5
             },
             "pattern": {
              "fillmode": "overlay",
              "size": 10,
              "solidity": 0.2
             }
            },
            "type": "bar"
           }
          ],
          "barpolar": [
           {
            "marker": {
             "line": {
              "color": "#E5ECF6",
              "width": 0.5
             },
             "pattern": {
              "fillmode": "overlay",
              "size": 10,
              "solidity": 0.2
             }
            },
            "type": "barpolar"
           }
          ],
          "carpet": [
           {
            "aaxis": {
             "endlinecolor": "#2a3f5f",
             "gridcolor": "white",
             "linecolor": "white",
             "minorgridcolor": "white",
             "startlinecolor": "#2a3f5f"
            },
            "baxis": {
             "endlinecolor": "#2a3f5f",
             "gridcolor": "white",
             "linecolor": "white",
             "minorgridcolor": "white",
             "startlinecolor": "#2a3f5f"
            },
            "type": "carpet"
           }
          ],
          "choropleth": [
           {
            "colorbar": {
             "outlinewidth": 0,
             "ticks": ""
            },
            "type": "choropleth"
           }
          ],
          "contour": [
           {
            "colorbar": {
             "outlinewidth": 0,
             "ticks": ""
            },
            "colorscale": [
             [
              0,
              "#0d0887"
             ],
             [
              0.1111111111111111,
              "#46039f"
             ],
             [
              0.2222222222222222,
              "#7201a8"
             ],
             [
              0.3333333333333333,
              "#9c179e"
             ],
             [
              0.4444444444444444,
              "#bd3786"
             ],
             [
              0.5555555555555556,
              "#d8576b"
             ],
             [
              0.6666666666666666,
              "#ed7953"
             ],
             [
              0.7777777777777778,
              "#fb9f3a"
             ],
             [
              0.8888888888888888,
              "#fdca26"
             ],
             [
              1,
              "#f0f921"
             ]
            ],
            "type": "contour"
           }
          ],
          "contourcarpet": [
           {
            "colorbar": {
             "outlinewidth": 0,
             "ticks": ""
            },
            "type": "contourcarpet"
           }
          ],
          "heatmap": [
           {
            "colorbar": {
             "outlinewidth": 0,
             "ticks": ""
            },
            "colorscale": [
             [
              0,
              "#0d0887"
             ],
             [
              0.1111111111111111,
              "#46039f"
             ],
             [
              0.2222222222222222,
              "#7201a8"
             ],
             [
              0.3333333333333333,
              "#9c179e"
             ],
             [
              0.4444444444444444,
              "#bd3786"
             ],
             [
              0.5555555555555556,
              "#d8576b"
             ],
             [
              0.6666666666666666,
              "#ed7953"
             ],
             [
              0.7777777777777778,
              "#fb9f3a"
             ],
             [
              0.8888888888888888,
              "#fdca26"
             ],
             [
              1,
              "#f0f921"
             ]
            ],
            "type": "heatmap"
           }
          ],
          "heatmapgl": [
           {
            "colorbar": {
             "outlinewidth": 0,
             "ticks": ""
            },
            "colorscale": [
             [
              0,
              "#0d0887"
             ],
             [
              0.1111111111111111,
              "#46039f"
             ],
             [
              0.2222222222222222,
              "#7201a8"
             ],
             [
              0.3333333333333333,
              "#9c179e"
             ],
             [
              0.4444444444444444,
              "#bd3786"
             ],
             [
              0.5555555555555556,
              "#d8576b"
             ],
             [
              0.6666666666666666,
              "#ed7953"
             ],
             [
              0.7777777777777778,
              "#fb9f3a"
             ],
             [
              0.8888888888888888,
              "#fdca26"
             ],
             [
              1,
              "#f0f921"
             ]
            ],
            "type": "heatmapgl"
           }
          ],
          "histogram": [
           {
            "marker": {
             "pattern": {
              "fillmode": "overlay",
              "size": 10,
              "solidity": 0.2
             }
            },
            "type": "histogram"
           }
          ],
          "histogram2d": [
           {
            "colorbar": {
             "outlinewidth": 0,
             "ticks": ""
            },
            "colorscale": [
             [
              0,
              "#0d0887"
             ],
             [
              0.1111111111111111,
              "#46039f"
             ],
             [
              0.2222222222222222,
              "#7201a8"
             ],
             [
              0.3333333333333333,
              "#9c179e"
             ],
             [
              0.4444444444444444,
              "#bd3786"
             ],
             [
              0.5555555555555556,
              "#d8576b"
             ],
             [
              0.6666666666666666,
              "#ed7953"
             ],
             [
              0.7777777777777778,
              "#fb9f3a"
             ],
             [
              0.8888888888888888,
              "#fdca26"
             ],
             [
              1,
              "#f0f921"
             ]
            ],
            "type": "histogram2d"
           }
          ],
          "histogram2dcontour": [
           {
            "colorbar": {
             "outlinewidth": 0,
             "ticks": ""
            },
            "colorscale": [
             [
              0,
              "#0d0887"
             ],
             [
              0.1111111111111111,
              "#46039f"
             ],
             [
              0.2222222222222222,
              "#7201a8"
             ],
             [
              0.3333333333333333,
              "#9c179e"
             ],
             [
              0.4444444444444444,
              "#bd3786"
             ],
             [
              0.5555555555555556,
              "#d8576b"
             ],
             [
              0.6666666666666666,
              "#ed7953"
             ],
             [
              0.7777777777777778,
              "#fb9f3a"
             ],
             [
              0.8888888888888888,
              "#fdca26"
             ],
             [
              1,
              "#f0f921"
             ]
            ],
            "type": "histogram2dcontour"
           }
          ],
          "mesh3d": [
           {
            "colorbar": {
             "outlinewidth": 0,
             "ticks": ""
            },
            "type": "mesh3d"
           }
          ],
          "parcoords": [
           {
            "line": {
             "colorbar": {
              "outlinewidth": 0,
              "ticks": ""
             }
            },
            "type": "parcoords"
           }
          ],
          "pie": [
           {
            "automargin": true,
            "type": "pie"
           }
          ],
          "scatter": [
           {
            "fillpattern": {
             "fillmode": "overlay",
             "size": 10,
             "solidity": 0.2
            },
            "type": "scatter"
           }
          ],
          "scatter3d": [
           {
            "line": {
             "colorbar": {
              "outlinewidth": 0,
              "ticks": ""
             }
            },
            "marker": {
             "colorbar": {
              "outlinewidth": 0,
              "ticks": ""
             }
            },
            "type": "scatter3d"
           }
          ],
          "scattercarpet": [
           {
            "marker": {
             "colorbar": {
              "outlinewidth": 0,
              "ticks": ""
             }
            },
            "type": "scattercarpet"
           }
          ],
          "scattergeo": [
           {
            "marker": {
             "colorbar": {
              "outlinewidth": 0,
              "ticks": ""
             }
            },
            "type": "scattergeo"
           }
          ],
          "scattergl": [
           {
            "marker": {
             "colorbar": {
              "outlinewidth": 0,
              "ticks": ""
             }
            },
            "type": "scattergl"
           }
          ],
          "scattermapbox": [
           {
            "marker": {
             "colorbar": {
              "outlinewidth": 0,
              "ticks": ""
             }
            },
            "type": "scattermapbox"
           }
          ],
          "scatterpolar": [
           {
            "marker": {
             "colorbar": {
              "outlinewidth": 0,
              "ticks": ""
             }
            },
            "type": "scatterpolar"
           }
          ],
          "scatterpolargl": [
           {
            "marker": {
             "colorbar": {
              "outlinewidth": 0,
              "ticks": ""
             }
            },
            "type": "scatterpolargl"
           }
          ],
          "scatterternary": [
           {
            "marker": {
             "colorbar": {
              "outlinewidth": 0,
              "ticks": ""
             }
            },
            "type": "scatterternary"
           }
          ],
          "surface": [
           {
            "colorbar": {
             "outlinewidth": 0,
             "ticks": ""
            },
            "colorscale": [
             [
              0,
              "#0d0887"
             ],
             [
              0.1111111111111111,
              "#46039f"
             ],
             [
              0.2222222222222222,
              "#7201a8"
             ],
             [
              0.3333333333333333,
              "#9c179e"
             ],
             [
              0.4444444444444444,
              "#bd3786"
             ],
             [
              0.5555555555555556,
              "#d8576b"
             ],
             [
              0.6666666666666666,
              "#ed7953"
             ],
             [
              0.7777777777777778,
              "#fb9f3a"
             ],
             [
              0.8888888888888888,
              "#fdca26"
             ],
             [
              1,
              "#f0f921"
             ]
            ],
            "type": "surface"
           }
          ],
          "table": [
           {
            "cells": {
             "fill": {
              "color": "#EBF0F8"
             },
             "line": {
              "color": "white"
             }
            },
            "header": {
             "fill": {
              "color": "#C8D4E3"
             },
             "line": {
              "color": "white"
             }
            },
            "type": "table"
           }
          ]
         },
         "layout": {
          "annotationdefaults": {
           "arrowcolor": "#2a3f5f",
           "arrowhead": 0,
           "arrowwidth": 1
          },
          "autotypenumbers": "strict",
          "coloraxis": {
           "colorbar": {
            "outlinewidth": 0,
            "ticks": ""
           }
          },
          "colorscale": {
           "diverging": [
            [
             0,
             "#8e0152"
            ],
            [
             0.1,
             "#c51b7d"
            ],
            [
             0.2,
             "#de77ae"
            ],
            [
             0.3,
             "#f1b6da"
            ],
            [
             0.4,
             "#fde0ef"
            ],
            [
             0.5,
             "#f7f7f7"
            ],
            [
             0.6,
             "#e6f5d0"
            ],
            [
             0.7,
             "#b8e186"
            ],
            [
             0.8,
             "#7fbc41"
            ],
            [
             0.9,
             "#4d9221"
            ],
            [
             1,
             "#276419"
            ]
           ],
           "sequential": [
            [
             0,
             "#0d0887"
            ],
            [
             0.1111111111111111,
             "#46039f"
            ],
            [
             0.2222222222222222,
             "#7201a8"
            ],
            [
             0.3333333333333333,
             "#9c179e"
            ],
            [
             0.4444444444444444,
             "#bd3786"
            ],
            [
             0.5555555555555556,
             "#d8576b"
            ],
            [
             0.6666666666666666,
             "#ed7953"
            ],
            [
             0.7777777777777778,
             "#fb9f3a"
            ],
            [
             0.8888888888888888,
             "#fdca26"
            ],
            [
             1,
             "#f0f921"
            ]
           ],
           "sequentialminus": [
            [
             0,
             "#0d0887"
            ],
            [
             0.1111111111111111,
             "#46039f"
            ],
            [
             0.2222222222222222,
             "#7201a8"
            ],
            [
             0.3333333333333333,
             "#9c179e"
            ],
            [
             0.4444444444444444,
             "#bd3786"
            ],
            [
             0.5555555555555556,
             "#d8576b"
            ],
            [
             0.6666666666666666,
             "#ed7953"
            ],
            [
             0.7777777777777778,
             "#fb9f3a"
            ],
            [
             0.8888888888888888,
             "#fdca26"
            ],
            [
             1,
             "#f0f921"
            ]
           ]
          },
          "colorway": [
           "#636efa",
           "#EF553B",
           "#00cc96",
           "#ab63fa",
           "#FFA15A",
           "#19d3f3",
           "#FF6692",
           "#B6E880",
           "#FF97FF",
           "#FECB52"
          ],
          "font": {
           "color": "#2a3f5f"
          },
          "geo": {
           "bgcolor": "white",
           "lakecolor": "white",
           "landcolor": "#E5ECF6",
           "showlakes": true,
           "showland": true,
           "subunitcolor": "white"
          },
          "hoverlabel": {
           "align": "left"
          },
          "hovermode": "closest",
          "mapbox": {
           "style": "light"
          },
          "paper_bgcolor": "white",
          "plot_bgcolor": "#E5ECF6",
          "polar": {
           "angularaxis": {
            "gridcolor": "white",
            "linecolor": "white",
            "ticks": ""
           },
           "bgcolor": "#E5ECF6",
           "radialaxis": {
            "gridcolor": "white",
            "linecolor": "white",
            "ticks": ""
           }
          },
          "scene": {
           "xaxis": {
            "backgroundcolor": "#E5ECF6",
            "gridcolor": "white",
            "gridwidth": 2,
            "linecolor": "white",
            "showbackground": true,
            "ticks": "",
            "zerolinecolor": "white"
           },
           "yaxis": {
            "backgroundcolor": "#E5ECF6",
            "gridcolor": "white",
            "gridwidth": 2,
            "linecolor": "white",
            "showbackground": true,
            "ticks": "",
            "zerolinecolor": "white"
           },
           "zaxis": {
            "backgroundcolor": "#E5ECF6",
            "gridcolor": "white",
            "gridwidth": 2,
            "linecolor": "white",
            "showbackground": true,
            "ticks": "",
            "zerolinecolor": "white"
           }
          },
          "shapedefaults": {
           "line": {
            "color": "#2a3f5f"
           }
          },
          "ternary": {
           "aaxis": {
            "gridcolor": "white",
            "linecolor": "white",
            "ticks": ""
           },
           "baxis": {
            "gridcolor": "white",
            "linecolor": "white",
            "ticks": ""
           },
           "bgcolor": "#E5ECF6",
           "caxis": {
            "gridcolor": "white",
            "linecolor": "white",
            "ticks": ""
           }
          },
          "title": {
           "x": 0.05
          },
          "xaxis": {
           "automargin": true,
           "gridcolor": "white",
           "linecolor": "white",
           "ticks": "",
           "title": {
            "standoff": 15
           },
           "zerolinecolor": "white",
           "zerolinewidth": 2
          },
          "yaxis": {
           "automargin": true,
           "gridcolor": "white",
           "linecolor": "white",
           "ticks": "",
           "title": {
            "standoff": 15
           },
           "zerolinecolor": "white",
           "zerolinewidth": 2
          }
         }
        },
        "width": 900,
        "xaxis": {
         "anchor": "y",
         "domain": [
          0,
          1
         ],
         "title": {
          "text": "agirlikli_puan"
         }
        },
        "yaxis": {
         "anchor": "x",
         "domain": [
          0,
          1
         ],
         "title": {
          "text": "nufus"
         }
        }
       }
      }
     },
     "metadata": {},
     "output_type": "display_data"
    }
   ],
   "source": [
    "# 3 özellikli scatter\n",
    "fig = px.scatter(database, x='agirlikli_puan', y='nufus', color='İLÇE ADI', size='SES SKORU')\n",
    "fig.update_layout(legend=dict(orientation=\"h\", yanchor=\"bottom\", y=1.02, xanchor=\"right\", x=1),\n",
    "                  width=900, height=600)\n",
    "fig.show()"
   ]
  },
  {
   "cell_type": "code",
   "execution_count": 87,
   "metadata": {},
   "outputs": [
    {
     "data": {
      "application/vnd.plotly.v1+json": {
       "config": {
        "plotlyServerURL": "https://plot.ly"
       },
       "data": [
        {
         "alignmentgroup": "True",
         "hovertemplate": "İLÇE ADI=KADIKOY<br>agirlikli_puan=%{x}<br>MAHALLE ADI=%{y}<extra></extra>",
         "legendgroup": "KADIKOY",
         "marker": {
          "color": "#636efa",
          "pattern": {
           "shape": ""
          }
         },
         "name": "KADIKOY",
         "offsetgroup": "KADIKOY",
         "orientation": "h",
         "showlegend": true,
         "textposition": "auto",
         "type": "bar",
         "x": [
          0.6588047960161603,
          0.6405677850604778,
          0.6364637143597893,
          0.6188997660642359
         ],
         "xaxis": "x",
         "y": [
          "CAFERAGA",
          "SUADIYE",
          "ERENKOY",
          "FENERYOLU"
         ],
         "yaxis": "y"
        },
        {
         "alignmentgroup": "True",
         "hovertemplate": "İLÇE ADI=BAKIRKOY<br>agirlikli_puan=%{x}<br>MAHALLE ADI=%{y}<extra></extra>",
         "legendgroup": "BAKIRKOY",
         "marker": {
          "color": "#EF553B",
          "pattern": {
           "shape": ""
          }
         },
         "name": "BAKIRKOY",
         "offsetgroup": "BAKIRKOY",
         "orientation": "h",
         "showlegend": true,
         "textposition": "auto",
         "type": "bar",
         "x": [
          0.6563363544631957,
          0.6191414612969135
         ],
         "xaxis": "x",
         "y": [
          "ATAKOY7-8-9-10.KISIM",
          "ATAKOY2-5-6.KISIM"
         ],
         "yaxis": "y"
        },
        {
         "alignmentgroup": "True",
         "hovertemplate": "İLÇE ADI=SISLI<br>agirlikli_puan=%{x}<br>MAHALLE ADI=%{y}<extra></extra>",
         "legendgroup": "SISLI",
         "marker": {
          "color": "#00cc96",
          "pattern": {
           "shape": ""
          }
         },
         "name": "SISLI",
         "offsetgroup": "SISLI",
         "orientation": "h",
         "showlegend": true,
         "textposition": "auto",
         "type": "bar",
         "x": [
          0.6497985767145931
         ],
         "xaxis": "x",
         "y": [
          "TESVIKIYE"
         ],
         "yaxis": "y"
        },
        {
         "alignmentgroup": "True",
         "hovertemplate": "İLÇE ADI=BEYKOZ<br>agirlikli_puan=%{x}<br>MAHALLE ADI=%{y}<extra></extra>",
         "legendgroup": "BEYKOZ",
         "marker": {
          "color": "#ab63fa",
          "pattern": {
           "shape": ""
          }
         },
         "name": "BEYKOZ",
         "offsetgroup": "BEYKOZ",
         "orientation": "h",
         "showlegend": true,
         "textposition": "auto",
         "type": "bar",
         "x": [
          0.6439381223995999
         ],
         "xaxis": "x",
         "y": [
          "ACARLAR"
         ],
         "yaxis": "y"
        },
        {
         "alignmentgroup": "True",
         "hovertemplate": "İLÇE ADI=ATASEHIR<br>agirlikli_puan=%{x}<br>MAHALLE ADI=%{y}<extra></extra>",
         "legendgroup": "ATASEHIR",
         "marker": {
          "color": "#FFA15A",
          "pattern": {
           "shape": ""
          }
         },
         "name": "ATASEHIR",
         "offsetgroup": "ATASEHIR",
         "orientation": "h",
         "showlegend": true,
         "textposition": "auto",
         "type": "bar",
         "x": [
          0.6355119429328007
         ],
         "xaxis": "x",
         "y": [
          "ATATURK"
         ],
         "yaxis": "y"
        },
        {
         "alignmentgroup": "True",
         "hovertemplate": "İLÇE ADI=USKUDAR<br>agirlikli_puan=%{x}<br>MAHALLE ADI=%{y}<extra></extra>",
         "legendgroup": "USKUDAR",
         "marker": {
          "color": "#19d3f3",
          "pattern": {
           "shape": ""
          }
         },
         "name": "USKUDAR",
         "offsetgroup": "USKUDAR",
         "orientation": "h",
         "showlegend": true,
         "textposition": "auto",
         "type": "bar",
         "x": [
          0.6146171726155096
         ],
         "xaxis": "x",
         "y": [
          "ALTUNIZADE"
         ],
         "yaxis": "y"
        }
       ],
       "layout": {
        "barmode": "relative",
        "height": 600,
        "legend": {
         "title": {
          "text": "İLÇE ADI"
         },
         "tracegroupgap": 0
        },
        "margin": {
         "t": 60
        },
        "template": {
         "data": {
          "bar": [
           {
            "error_x": {
             "color": "#2a3f5f"
            },
            "error_y": {
             "color": "#2a3f5f"
            },
            "marker": {
             "line": {
              "color": "#E5ECF6",
              "width": 0.5
             },
             "pattern": {
              "fillmode": "overlay",
              "size": 10,
              "solidity": 0.2
             }
            },
            "type": "bar"
           }
          ],
          "barpolar": [
           {
            "marker": {
             "line": {
              "color": "#E5ECF6",
              "width": 0.5
             },
             "pattern": {
              "fillmode": "overlay",
              "size": 10,
              "solidity": 0.2
             }
            },
            "type": "barpolar"
           }
          ],
          "carpet": [
           {
            "aaxis": {
             "endlinecolor": "#2a3f5f",
             "gridcolor": "white",
             "linecolor": "white",
             "minorgridcolor": "white",
             "startlinecolor": "#2a3f5f"
            },
            "baxis": {
             "endlinecolor": "#2a3f5f",
             "gridcolor": "white",
             "linecolor": "white",
             "minorgridcolor": "white",
             "startlinecolor": "#2a3f5f"
            },
            "type": "carpet"
           }
          ],
          "choropleth": [
           {
            "colorbar": {
             "outlinewidth": 0,
             "ticks": ""
            },
            "type": "choropleth"
           }
          ],
          "contour": [
           {
            "colorbar": {
             "outlinewidth": 0,
             "ticks": ""
            },
            "colorscale": [
             [
              0,
              "#0d0887"
             ],
             [
              0.1111111111111111,
              "#46039f"
             ],
             [
              0.2222222222222222,
              "#7201a8"
             ],
             [
              0.3333333333333333,
              "#9c179e"
             ],
             [
              0.4444444444444444,
              "#bd3786"
             ],
             [
              0.5555555555555556,
              "#d8576b"
             ],
             [
              0.6666666666666666,
              "#ed7953"
             ],
             [
              0.7777777777777778,
              "#fb9f3a"
             ],
             [
              0.8888888888888888,
              "#fdca26"
             ],
             [
              1,
              "#f0f921"
             ]
            ],
            "type": "contour"
           }
          ],
          "contourcarpet": [
           {
            "colorbar": {
             "outlinewidth": 0,
             "ticks": ""
            },
            "type": "contourcarpet"
           }
          ],
          "heatmap": [
           {
            "colorbar": {
             "outlinewidth": 0,
             "ticks": ""
            },
            "colorscale": [
             [
              0,
              "#0d0887"
             ],
             [
              0.1111111111111111,
              "#46039f"
             ],
             [
              0.2222222222222222,
              "#7201a8"
             ],
             [
              0.3333333333333333,
              "#9c179e"
             ],
             [
              0.4444444444444444,
              "#bd3786"
             ],
             [
              0.5555555555555556,
              "#d8576b"
             ],
             [
              0.6666666666666666,
              "#ed7953"
             ],
             [
              0.7777777777777778,
              "#fb9f3a"
             ],
             [
              0.8888888888888888,
              "#fdca26"
             ],
             [
              1,
              "#f0f921"
             ]
            ],
            "type": "heatmap"
           }
          ],
          "heatmapgl": [
           {
            "colorbar": {
             "outlinewidth": 0,
             "ticks": ""
            },
            "colorscale": [
             [
              0,
              "#0d0887"
             ],
             [
              0.1111111111111111,
              "#46039f"
             ],
             [
              0.2222222222222222,
              "#7201a8"
             ],
             [
              0.3333333333333333,
              "#9c179e"
             ],
             [
              0.4444444444444444,
              "#bd3786"
             ],
             [
              0.5555555555555556,
              "#d8576b"
             ],
             [
              0.6666666666666666,
              "#ed7953"
             ],
             [
              0.7777777777777778,
              "#fb9f3a"
             ],
             [
              0.8888888888888888,
              "#fdca26"
             ],
             [
              1,
              "#f0f921"
             ]
            ],
            "type": "heatmapgl"
           }
          ],
          "histogram": [
           {
            "marker": {
             "pattern": {
              "fillmode": "overlay",
              "size": 10,
              "solidity": 0.2
             }
            },
            "type": "histogram"
           }
          ],
          "histogram2d": [
           {
            "colorbar": {
             "outlinewidth": 0,
             "ticks": ""
            },
            "colorscale": [
             [
              0,
              "#0d0887"
             ],
             [
              0.1111111111111111,
              "#46039f"
             ],
             [
              0.2222222222222222,
              "#7201a8"
             ],
             [
              0.3333333333333333,
              "#9c179e"
             ],
             [
              0.4444444444444444,
              "#bd3786"
             ],
             [
              0.5555555555555556,
              "#d8576b"
             ],
             [
              0.6666666666666666,
              "#ed7953"
             ],
             [
              0.7777777777777778,
              "#fb9f3a"
             ],
             [
              0.8888888888888888,
              "#fdca26"
             ],
             [
              1,
              "#f0f921"
             ]
            ],
            "type": "histogram2d"
           }
          ],
          "histogram2dcontour": [
           {
            "colorbar": {
             "outlinewidth": 0,
             "ticks": ""
            },
            "colorscale": [
             [
              0,
              "#0d0887"
             ],
             [
              0.1111111111111111,
              "#46039f"
             ],
             [
              0.2222222222222222,
              "#7201a8"
             ],
             [
              0.3333333333333333,
              "#9c179e"
             ],
             [
              0.4444444444444444,
              "#bd3786"
             ],
             [
              0.5555555555555556,
              "#d8576b"
             ],
             [
              0.6666666666666666,
              "#ed7953"
             ],
             [
              0.7777777777777778,
              "#fb9f3a"
             ],
             [
              0.8888888888888888,
              "#fdca26"
             ],
             [
              1,
              "#f0f921"
             ]
            ],
            "type": "histogram2dcontour"
           }
          ],
          "mesh3d": [
           {
            "colorbar": {
             "outlinewidth": 0,
             "ticks": ""
            },
            "type": "mesh3d"
           }
          ],
          "parcoords": [
           {
            "line": {
             "colorbar": {
              "outlinewidth": 0,
              "ticks": ""
             }
            },
            "type": "parcoords"
           }
          ],
          "pie": [
           {
            "automargin": true,
            "type": "pie"
           }
          ],
          "scatter": [
           {
            "fillpattern": {
             "fillmode": "overlay",
             "size": 10,
             "solidity": 0.2
            },
            "type": "scatter"
           }
          ],
          "scatter3d": [
           {
            "line": {
             "colorbar": {
              "outlinewidth": 0,
              "ticks": ""
             }
            },
            "marker": {
             "colorbar": {
              "outlinewidth": 0,
              "ticks": ""
             }
            },
            "type": "scatter3d"
           }
          ],
          "scattercarpet": [
           {
            "marker": {
             "colorbar": {
              "outlinewidth": 0,
              "ticks": ""
             }
            },
            "type": "scattercarpet"
           }
          ],
          "scattergeo": [
           {
            "marker": {
             "colorbar": {
              "outlinewidth": 0,
              "ticks": ""
             }
            },
            "type": "scattergeo"
           }
          ],
          "scattergl": [
           {
            "marker": {
             "colorbar": {
              "outlinewidth": 0,
              "ticks": ""
             }
            },
            "type": "scattergl"
           }
          ],
          "scattermapbox": [
           {
            "marker": {
             "colorbar": {
              "outlinewidth": 0,
              "ticks": ""
             }
            },
            "type": "scattermapbox"
           }
          ],
          "scatterpolar": [
           {
            "marker": {
             "colorbar": {
              "outlinewidth": 0,
              "ticks": ""
             }
            },
            "type": "scatterpolar"
           }
          ],
          "scatterpolargl": [
           {
            "marker": {
             "colorbar": {
              "outlinewidth": 0,
              "ticks": ""
             }
            },
            "type": "scatterpolargl"
           }
          ],
          "scatterternary": [
           {
            "marker": {
             "colorbar": {
              "outlinewidth": 0,
              "ticks": ""
             }
            },
            "type": "scatterternary"
           }
          ],
          "surface": [
           {
            "colorbar": {
             "outlinewidth": 0,
             "ticks": ""
            },
            "colorscale": [
             [
              0,
              "#0d0887"
             ],
             [
              0.1111111111111111,
              "#46039f"
             ],
             [
              0.2222222222222222,
              "#7201a8"
             ],
             [
              0.3333333333333333,
              "#9c179e"
             ],
             [
              0.4444444444444444,
              "#bd3786"
             ],
             [
              0.5555555555555556,
              "#d8576b"
             ],
             [
              0.6666666666666666,
              "#ed7953"
             ],
             [
              0.7777777777777778,
              "#fb9f3a"
             ],
             [
              0.8888888888888888,
              "#fdca26"
             ],
             [
              1,
              "#f0f921"
             ]
            ],
            "type": "surface"
           }
          ],
          "table": [
           {
            "cells": {
             "fill": {
              "color": "#EBF0F8"
             },
             "line": {
              "color": "white"
             }
            },
            "header": {
             "fill": {
              "color": "#C8D4E3"
             },
             "line": {
              "color": "white"
             }
            },
            "type": "table"
           }
          ]
         },
         "layout": {
          "annotationdefaults": {
           "arrowcolor": "#2a3f5f",
           "arrowhead": 0,
           "arrowwidth": 1
          },
          "autotypenumbers": "strict",
          "coloraxis": {
           "colorbar": {
            "outlinewidth": 0,
            "ticks": ""
           }
          },
          "colorscale": {
           "diverging": [
            [
             0,
             "#8e0152"
            ],
            [
             0.1,
             "#c51b7d"
            ],
            [
             0.2,
             "#de77ae"
            ],
            [
             0.3,
             "#f1b6da"
            ],
            [
             0.4,
             "#fde0ef"
            ],
            [
             0.5,
             "#f7f7f7"
            ],
            [
             0.6,
             "#e6f5d0"
            ],
            [
             0.7,
             "#b8e186"
            ],
            [
             0.8,
             "#7fbc41"
            ],
            [
             0.9,
             "#4d9221"
            ],
            [
             1,
             "#276419"
            ]
           ],
           "sequential": [
            [
             0,
             "#0d0887"
            ],
            [
             0.1111111111111111,
             "#46039f"
            ],
            [
             0.2222222222222222,
             "#7201a8"
            ],
            [
             0.3333333333333333,
             "#9c179e"
            ],
            [
             0.4444444444444444,
             "#bd3786"
            ],
            [
             0.5555555555555556,
             "#d8576b"
            ],
            [
             0.6666666666666666,
             "#ed7953"
            ],
            [
             0.7777777777777778,
             "#fb9f3a"
            ],
            [
             0.8888888888888888,
             "#fdca26"
            ],
            [
             1,
             "#f0f921"
            ]
           ],
           "sequentialminus": [
            [
             0,
             "#0d0887"
            ],
            [
             0.1111111111111111,
             "#46039f"
            ],
            [
             0.2222222222222222,
             "#7201a8"
            ],
            [
             0.3333333333333333,
             "#9c179e"
            ],
            [
             0.4444444444444444,
             "#bd3786"
            ],
            [
             0.5555555555555556,
             "#d8576b"
            ],
            [
             0.6666666666666666,
             "#ed7953"
            ],
            [
             0.7777777777777778,
             "#fb9f3a"
            ],
            [
             0.8888888888888888,
             "#fdca26"
            ],
            [
             1,
             "#f0f921"
            ]
           ]
          },
          "colorway": [
           "#636efa",
           "#EF553B",
           "#00cc96",
           "#ab63fa",
           "#FFA15A",
           "#19d3f3",
           "#FF6692",
           "#B6E880",
           "#FF97FF",
           "#FECB52"
          ],
          "font": {
           "color": "#2a3f5f"
          },
          "geo": {
           "bgcolor": "white",
           "lakecolor": "white",
           "landcolor": "#E5ECF6",
           "showlakes": true,
           "showland": true,
           "subunitcolor": "white"
          },
          "hoverlabel": {
           "align": "left"
          },
          "hovermode": "closest",
          "mapbox": {
           "style": "light"
          },
          "paper_bgcolor": "white",
          "plot_bgcolor": "#E5ECF6",
          "polar": {
           "angularaxis": {
            "gridcolor": "white",
            "linecolor": "white",
            "ticks": ""
           },
           "bgcolor": "#E5ECF6",
           "radialaxis": {
            "gridcolor": "white",
            "linecolor": "white",
            "ticks": ""
           }
          },
          "scene": {
           "xaxis": {
            "backgroundcolor": "#E5ECF6",
            "gridcolor": "white",
            "gridwidth": 2,
            "linecolor": "white",
            "showbackground": true,
            "ticks": "",
            "zerolinecolor": "white"
           },
           "yaxis": {
            "backgroundcolor": "#E5ECF6",
            "gridcolor": "white",
            "gridwidth": 2,
            "linecolor": "white",
            "showbackground": true,
            "ticks": "",
            "zerolinecolor": "white"
           },
           "zaxis": {
            "backgroundcolor": "#E5ECF6",
            "gridcolor": "white",
            "gridwidth": 2,
            "linecolor": "white",
            "showbackground": true,
            "ticks": "",
            "zerolinecolor": "white"
           }
          },
          "shapedefaults": {
           "line": {
            "color": "#2a3f5f"
           }
          },
          "ternary": {
           "aaxis": {
            "gridcolor": "white",
            "linecolor": "white",
            "ticks": ""
           },
           "baxis": {
            "gridcolor": "white",
            "linecolor": "white",
            "ticks": ""
           },
           "bgcolor": "#E5ECF6",
           "caxis": {
            "gridcolor": "white",
            "linecolor": "white",
            "ticks": ""
           }
          },
          "title": {
           "x": 0.05
          },
          "xaxis": {
           "automargin": true,
           "gridcolor": "white",
           "linecolor": "white",
           "ticks": "",
           "title": {
            "standoff": 15
           },
           "zerolinecolor": "white",
           "zerolinewidth": 2
          },
          "yaxis": {
           "automargin": true,
           "gridcolor": "white",
           "linecolor": "white",
           "ticks": "",
           "title": {
            "standoff": 15
           },
           "zerolinecolor": "white",
           "zerolinewidth": 2
          }
         }
        },
        "title": {
         "x": 0.5
        },
        "width": 700,
        "xaxis": {
         "anchor": "y",
         "domain": [
          0,
          1
         ],
         "title": {
          "text": "agirlikli_puan"
         }
        },
        "yaxis": {
         "anchor": "x",
         "domain": [
          0,
          1
         ],
         "title": {
          "text": "MAHALLE ADI"
         }
        }
       }
      }
     },
     "metadata": {},
     "output_type": "display_data"
    }
   ],
   "source": [
    "fig = px.bar(database.head(10), y='MAHALLE ADI', x='agirlikli_puan', color='İLÇE ADI')\n",
    "fig.update_layout(title_x=0.5, height=600, width = 700)\n",
    "fig.show()"
   ]
  },
  {
   "cell_type": "code",
   "execution_count": 88,
   "metadata": {},
   "outputs": [],
   "source": [
    "database.to_csv(\"../Datasets/PROCESSED/database.csv\", index=False)"
   ]
  },
  {
   "cell_type": "code",
   "execution_count": 89,
   "metadata": {},
   "outputs": [],
   "source": [
    "ses.to_csv(\"../Datasets/PROCESSED/ses2.csv\", index=False)"
   ]
  }
 ],
 "metadata": {
  "kernelspec": {
   "display_name": "Python 3",
   "language": "python",
   "name": "python3"
  },
  "language_info": {
   "codemirror_mode": {
    "name": "ipython",
    "version": 3
   },
   "file_extension": ".py",
   "mimetype": "text/x-python",
   "name": "python",
   "nbconvert_exporter": "python",
   "pygments_lexer": "ipython3",
   "version": "3.11.2"
  },
  "orig_nbformat": 4
 },
 "nbformat": 4,
 "nbformat_minor": 2
}
