{
 "cells": [
  {
   "cell_type": "code",
   "execution_count": 214,
   "metadata": {},
   "outputs": [
    {
     "data": {
      "text/html": [
       "<div>\n",
       "<style scoped>\n",
       "    .dataframe tbody tr th:only-of-type {\n",
       "        vertical-align: middle;\n",
       "    }\n",
       "\n",
       "    .dataframe tbody tr th {\n",
       "        vertical-align: top;\n",
       "    }\n",
       "\n",
       "    .dataframe thead th {\n",
       "        text-align: right;\n",
       "    }\n",
       "</style>\n",
       "<table border=\"1\" class=\"dataframe\">\n",
       "  <thead>\n",
       "    <tr style=\"text-align: right;\">\n",
       "      <th></th>\n",
       "      <th>İLÇE ADI</th>\n",
       "      <th>MAHALLE ADI</th>\n",
       "      <th>SES SKORU</th>\n",
       "      <th>nufus</th>\n",
       "      <th>nufus_yogunlugu</th>\n",
       "      <th>maliyet</th>\n",
       "      <th>agirlikli_puan</th>\n",
       "    </tr>\n",
       "  </thead>\n",
       "  <tbody>\n",
       "    <tr>\n",
       "      <th>0</th>\n",
       "      <td>KADIKOY</td>\n",
       "      <td>CAFERAGA</td>\n",
       "      <td>100.0</td>\n",
       "      <td>23977</td>\n",
       "      <td>19324.0</td>\n",
       "      <td>567000</td>\n",
       "      <td>0.658805</td>\n",
       "    </tr>\n",
       "    <tr>\n",
       "      <th>1</th>\n",
       "      <td>BAKIRKOY</td>\n",
       "      <td>ATAKOY7-8-9-10.KISIM</td>\n",
       "      <td>100.0</td>\n",
       "      <td>24444</td>\n",
       "      <td>11918.0</td>\n",
       "      <td>525000</td>\n",
       "      <td>0.656336</td>\n",
       "    </tr>\n",
       "    <tr>\n",
       "      <th>2</th>\n",
       "      <td>SISLI</td>\n",
       "      <td>TESVIKIYE</td>\n",
       "      <td>100.0</td>\n",
       "      <td>11522</td>\n",
       "      <td>25431.0</td>\n",
       "      <td>543000</td>\n",
       "      <td>0.649799</td>\n",
       "    </tr>\n",
       "    <tr>\n",
       "      <th>3</th>\n",
       "      <td>BEYKOZ</td>\n",
       "      <td>ACARLAR</td>\n",
       "      <td>100.0</td>\n",
       "      <td>7319</td>\n",
       "      <td>1346.0</td>\n",
       "      <td>363000</td>\n",
       "      <td>0.643938</td>\n",
       "    </tr>\n",
       "    <tr>\n",
       "      <th>4</th>\n",
       "      <td>KADIKOY</td>\n",
       "      <td>SUADIYE</td>\n",
       "      <td>100.0</td>\n",
       "      <td>22484</td>\n",
       "      <td>15157.0</td>\n",
       "      <td>567000</td>\n",
       "      <td>0.640568</td>\n",
       "    </tr>\n",
       "  </tbody>\n",
       "</table>\n",
       "</div>"
      ],
      "text/plain": [
       "   İLÇE ADI           MAHALLE ADI  SES SKORU  nufus  nufus_yogunlugu  maliyet  \\\n",
       "0   KADIKOY              CAFERAGA      100.0  23977          19324.0   567000   \n",
       "1  BAKIRKOY  ATAKOY7-8-9-10.KISIM      100.0  24444          11918.0   525000   \n",
       "2     SISLI             TESVIKIYE      100.0  11522          25431.0   543000   \n",
       "3    BEYKOZ               ACARLAR      100.0   7319           1346.0   363000   \n",
       "4   KADIKOY               SUADIYE      100.0  22484          15157.0   567000   \n",
       "\n",
       "   agirlikli_puan  \n",
       "0        0.658805  \n",
       "1        0.656336  \n",
       "2        0.649799  \n",
       "3        0.643938  \n",
       "4        0.640568  "
      ]
     },
     "execution_count": 214,
     "metadata": {},
     "output_type": "execute_result"
    }
   ],
   "source": [
    "import pandas as pd \n",
    "import numpy as np \n",
    "\n",
    "df = pd.read_csv(\"../Datasets/PROCESSED/database.csv\")\n",
    "df.head()"
   ]
  },
  {
   "cell_type": "code",
   "execution_count": 215,
   "metadata": {},
   "outputs": [
    {
     "data": {
      "text/html": [
       "<div>\n",
       "<style scoped>\n",
       "    .dataframe tbody tr th:only-of-type {\n",
       "        vertical-align: middle;\n",
       "    }\n",
       "\n",
       "    .dataframe tbody tr th {\n",
       "        vertical-align: top;\n",
       "    }\n",
       "\n",
       "    .dataframe thead th {\n",
       "        text-align: right;\n",
       "    }\n",
       "</style>\n",
       "<table border=\"1\" class=\"dataframe\">\n",
       "  <thead>\n",
       "    <tr style=\"text-align: right;\">\n",
       "      <th></th>\n",
       "      <th>ilce</th>\n",
       "      <th>mahalle</th>\n",
       "      <th>maaliyet</th>\n",
       "      <th>puan</th>\n",
       "    </tr>\n",
       "  </thead>\n",
       "  <tbody>\n",
       "    <tr>\n",
       "      <th>0</th>\n",
       "      <td>KADIKOY</td>\n",
       "      <td>CAFERAGA</td>\n",
       "      <td>567000</td>\n",
       "      <td>0.658805</td>\n",
       "    </tr>\n",
       "    <tr>\n",
       "      <th>1</th>\n",
       "      <td>BAKIRKOY</td>\n",
       "      <td>ATAKOY7-8-9-10.KISIM</td>\n",
       "      <td>525000</td>\n",
       "      <td>0.656336</td>\n",
       "    </tr>\n",
       "    <tr>\n",
       "      <th>2</th>\n",
       "      <td>SISLI</td>\n",
       "      <td>TESVIKIYE</td>\n",
       "      <td>543000</td>\n",
       "      <td>0.649799</td>\n",
       "    </tr>\n",
       "    <tr>\n",
       "      <th>3</th>\n",
       "      <td>BEYKOZ</td>\n",
       "      <td>ACARLAR</td>\n",
       "      <td>363000</td>\n",
       "      <td>0.643938</td>\n",
       "    </tr>\n",
       "    <tr>\n",
       "      <th>4</th>\n",
       "      <td>KADIKOY</td>\n",
       "      <td>SUADIYE</td>\n",
       "      <td>567000</td>\n",
       "      <td>0.640568</td>\n",
       "    </tr>\n",
       "    <tr>\n",
       "      <th>5</th>\n",
       "      <td>KADIKOY</td>\n",
       "      <td>ERENKOY</td>\n",
       "      <td>567000</td>\n",
       "      <td>0.636464</td>\n",
       "    </tr>\n",
       "    <tr>\n",
       "      <th>6</th>\n",
       "      <td>ATASEHIR</td>\n",
       "      <td>ATATURK</td>\n",
       "      <td>486000</td>\n",
       "      <td>0.635512</td>\n",
       "    </tr>\n",
       "    <tr>\n",
       "      <th>7</th>\n",
       "      <td>BAKIRKOY</td>\n",
       "      <td>ATAKOY2-5-6.KISIM</td>\n",
       "      <td>525000</td>\n",
       "      <td>0.619141</td>\n",
       "    </tr>\n",
       "    <tr>\n",
       "      <th>8</th>\n",
       "      <td>KADIKOY</td>\n",
       "      <td>FENERYOLU</td>\n",
       "      <td>567000</td>\n",
       "      <td>0.618900</td>\n",
       "    </tr>\n",
       "    <tr>\n",
       "      <th>9</th>\n",
       "      <td>USKUDAR</td>\n",
       "      <td>ALTUNIZADE</td>\n",
       "      <td>393000</td>\n",
       "      <td>0.614617</td>\n",
       "    </tr>\n",
       "  </tbody>\n",
       "</table>\n",
       "</div>"
      ],
      "text/plain": [
       "       ilce               mahalle  maaliyet      puan\n",
       "0   KADIKOY              CAFERAGA    567000  0.658805\n",
       "1  BAKIRKOY  ATAKOY7-8-9-10.KISIM    525000  0.656336\n",
       "2     SISLI             TESVIKIYE    543000  0.649799\n",
       "3    BEYKOZ               ACARLAR    363000  0.643938\n",
       "4   KADIKOY               SUADIYE    567000  0.640568\n",
       "5   KADIKOY               ERENKOY    567000  0.636464\n",
       "6  ATASEHIR               ATATURK    486000  0.635512\n",
       "7  BAKIRKOY     ATAKOY2-5-6.KISIM    525000  0.619141\n",
       "8   KADIKOY             FENERYOLU    567000  0.618900\n",
       "9   USKUDAR            ALTUNIZADE    393000  0.614617"
      ]
     },
     "execution_count": 215,
     "metadata": {},
     "output_type": "execute_result"
    }
   ],
   "source": [
    "df = df[['İLÇE ADI','MAHALLE ADI', 'maliyet', 'agirlikli_puan']]\n",
    "df.columns = ['ilce','mahalle','maaliyet','puan']\n",
    "df.sort_values(by=['puan','maaliyet'], ascending=[False,True], inplace=True)\n",
    "df.head(10)"
   ]
  },
  {
   "cell_type": "code",
   "execution_count": 216,
   "metadata": {},
   "outputs": [
    {
     "data": {
      "application/vnd.plotly.v1+json": {
       "config": {
        "plotlyServerURL": "https://plot.ly"
       },
       "data": [
        {
         "alignmentgroup": "True",
         "boxpoints": "all",
         "hovertemplate": "puan=%{x}<extra></extra>",
         "legendgroup": "",
         "marker": {
          "color": "#636efa"
         },
         "name": "",
         "notched": false,
         "offsetgroup": "",
         "orientation": "h",
         "showlegend": false,
         "type": "box",
         "x": [
          0.6588047960161603,
          0.6563363544631957,
          0.6497985767145931,
          0.6439381223995999,
          0.6405677850604778,
          0.6364637143597893,
          0.6355119429328007,
          0.6191414612969135,
          0.6188997660642359,
          0.6146171726155096,
          0.6137959858555662,
          0.6098318662575425,
          0.5987879902278718,
          0.5829217085773855,
          0.5789571830478873,
          0.5760044436653156,
          0.575121791335631,
          0.5712722157833797,
          0.5664831306191194,
          0.5612293135360789
         ],
         "x0": " ",
         "xaxis": "x",
         "y0": " ",
         "yaxis": "y"
        }
       ],
       "layout": {
        "boxmode": "group",
        "legend": {
         "tracegroupgap": 0
        },
        "margin": {
         "t": 60
        },
        "template": {
         "data": {
          "bar": [
           {
            "error_x": {
             "color": "#2a3f5f"
            },
            "error_y": {
             "color": "#2a3f5f"
            },
            "marker": {
             "line": {
              "color": "#E5ECF6",
              "width": 0.5
             },
             "pattern": {
              "fillmode": "overlay",
              "size": 10,
              "solidity": 0.2
             }
            },
            "type": "bar"
           }
          ],
          "barpolar": [
           {
            "marker": {
             "line": {
              "color": "#E5ECF6",
              "width": 0.5
             },
             "pattern": {
              "fillmode": "overlay",
              "size": 10,
              "solidity": 0.2
             }
            },
            "type": "barpolar"
           }
          ],
          "carpet": [
           {
            "aaxis": {
             "endlinecolor": "#2a3f5f",
             "gridcolor": "white",
             "linecolor": "white",
             "minorgridcolor": "white",
             "startlinecolor": "#2a3f5f"
            },
            "baxis": {
             "endlinecolor": "#2a3f5f",
             "gridcolor": "white",
             "linecolor": "white",
             "minorgridcolor": "white",
             "startlinecolor": "#2a3f5f"
            },
            "type": "carpet"
           }
          ],
          "choropleth": [
           {
            "colorbar": {
             "outlinewidth": 0,
             "ticks": ""
            },
            "type": "choropleth"
           }
          ],
          "contour": [
           {
            "colorbar": {
             "outlinewidth": 0,
             "ticks": ""
            },
            "colorscale": [
             [
              0,
              "#0d0887"
             ],
             [
              0.1111111111111111,
              "#46039f"
             ],
             [
              0.2222222222222222,
              "#7201a8"
             ],
             [
              0.3333333333333333,
              "#9c179e"
             ],
             [
              0.4444444444444444,
              "#bd3786"
             ],
             [
              0.5555555555555556,
              "#d8576b"
             ],
             [
              0.6666666666666666,
              "#ed7953"
             ],
             [
              0.7777777777777778,
              "#fb9f3a"
             ],
             [
              0.8888888888888888,
              "#fdca26"
             ],
             [
              1,
              "#f0f921"
             ]
            ],
            "type": "contour"
           }
          ],
          "contourcarpet": [
           {
            "colorbar": {
             "outlinewidth": 0,
             "ticks": ""
            },
            "type": "contourcarpet"
           }
          ],
          "heatmap": [
           {
            "colorbar": {
             "outlinewidth": 0,
             "ticks": ""
            },
            "colorscale": [
             [
              0,
              "#0d0887"
             ],
             [
              0.1111111111111111,
              "#46039f"
             ],
             [
              0.2222222222222222,
              "#7201a8"
             ],
             [
              0.3333333333333333,
              "#9c179e"
             ],
             [
              0.4444444444444444,
              "#bd3786"
             ],
             [
              0.5555555555555556,
              "#d8576b"
             ],
             [
              0.6666666666666666,
              "#ed7953"
             ],
             [
              0.7777777777777778,
              "#fb9f3a"
             ],
             [
              0.8888888888888888,
              "#fdca26"
             ],
             [
              1,
              "#f0f921"
             ]
            ],
            "type": "heatmap"
           }
          ],
          "heatmapgl": [
           {
            "colorbar": {
             "outlinewidth": 0,
             "ticks": ""
            },
            "colorscale": [
             [
              0,
              "#0d0887"
             ],
             [
              0.1111111111111111,
              "#46039f"
             ],
             [
              0.2222222222222222,
              "#7201a8"
             ],
             [
              0.3333333333333333,
              "#9c179e"
             ],
             [
              0.4444444444444444,
              "#bd3786"
             ],
             [
              0.5555555555555556,
              "#d8576b"
             ],
             [
              0.6666666666666666,
              "#ed7953"
             ],
             [
              0.7777777777777778,
              "#fb9f3a"
             ],
             [
              0.8888888888888888,
              "#fdca26"
             ],
             [
              1,
              "#f0f921"
             ]
            ],
            "type": "heatmapgl"
           }
          ],
          "histogram": [
           {
            "marker": {
             "pattern": {
              "fillmode": "overlay",
              "size": 10,
              "solidity": 0.2
             }
            },
            "type": "histogram"
           }
          ],
          "histogram2d": [
           {
            "colorbar": {
             "outlinewidth": 0,
             "ticks": ""
            },
            "colorscale": [
             [
              0,
              "#0d0887"
             ],
             [
              0.1111111111111111,
              "#46039f"
             ],
             [
              0.2222222222222222,
              "#7201a8"
             ],
             [
              0.3333333333333333,
              "#9c179e"
             ],
             [
              0.4444444444444444,
              "#bd3786"
             ],
             [
              0.5555555555555556,
              "#d8576b"
             ],
             [
              0.6666666666666666,
              "#ed7953"
             ],
             [
              0.7777777777777778,
              "#fb9f3a"
             ],
             [
              0.8888888888888888,
              "#fdca26"
             ],
             [
              1,
              "#f0f921"
             ]
            ],
            "type": "histogram2d"
           }
          ],
          "histogram2dcontour": [
           {
            "colorbar": {
             "outlinewidth": 0,
             "ticks": ""
            },
            "colorscale": [
             [
              0,
              "#0d0887"
             ],
             [
              0.1111111111111111,
              "#46039f"
             ],
             [
              0.2222222222222222,
              "#7201a8"
             ],
             [
              0.3333333333333333,
              "#9c179e"
             ],
             [
              0.4444444444444444,
              "#bd3786"
             ],
             [
              0.5555555555555556,
              "#d8576b"
             ],
             [
              0.6666666666666666,
              "#ed7953"
             ],
             [
              0.7777777777777778,
              "#fb9f3a"
             ],
             [
              0.8888888888888888,
              "#fdca26"
             ],
             [
              1,
              "#f0f921"
             ]
            ],
            "type": "histogram2dcontour"
           }
          ],
          "mesh3d": [
           {
            "colorbar": {
             "outlinewidth": 0,
             "ticks": ""
            },
            "type": "mesh3d"
           }
          ],
          "parcoords": [
           {
            "line": {
             "colorbar": {
              "outlinewidth": 0,
              "ticks": ""
             }
            },
            "type": "parcoords"
           }
          ],
          "pie": [
           {
            "automargin": true,
            "type": "pie"
           }
          ],
          "scatter": [
           {
            "fillpattern": {
             "fillmode": "overlay",
             "size": 10,
             "solidity": 0.2
            },
            "type": "scatter"
           }
          ],
          "scatter3d": [
           {
            "line": {
             "colorbar": {
              "outlinewidth": 0,
              "ticks": ""
             }
            },
            "marker": {
             "colorbar": {
              "outlinewidth": 0,
              "ticks": ""
             }
            },
            "type": "scatter3d"
           }
          ],
          "scattercarpet": [
           {
            "marker": {
             "colorbar": {
              "outlinewidth": 0,
              "ticks": ""
             }
            },
            "type": "scattercarpet"
           }
          ],
          "scattergeo": [
           {
            "marker": {
             "colorbar": {
              "outlinewidth": 0,
              "ticks": ""
             }
            },
            "type": "scattergeo"
           }
          ],
          "scattergl": [
           {
            "marker": {
             "colorbar": {
              "outlinewidth": 0,
              "ticks": ""
             }
            },
            "type": "scattergl"
           }
          ],
          "scattermapbox": [
           {
            "marker": {
             "colorbar": {
              "outlinewidth": 0,
              "ticks": ""
             }
            },
            "type": "scattermapbox"
           }
          ],
          "scatterpolar": [
           {
            "marker": {
             "colorbar": {
              "outlinewidth": 0,
              "ticks": ""
             }
            },
            "type": "scatterpolar"
           }
          ],
          "scatterpolargl": [
           {
            "marker": {
             "colorbar": {
              "outlinewidth": 0,
              "ticks": ""
             }
            },
            "type": "scatterpolargl"
           }
          ],
          "scatterternary": [
           {
            "marker": {
             "colorbar": {
              "outlinewidth": 0,
              "ticks": ""
             }
            },
            "type": "scatterternary"
           }
          ],
          "surface": [
           {
            "colorbar": {
             "outlinewidth": 0,
             "ticks": ""
            },
            "colorscale": [
             [
              0,
              "#0d0887"
             ],
             [
              0.1111111111111111,
              "#46039f"
             ],
             [
              0.2222222222222222,
              "#7201a8"
             ],
             [
              0.3333333333333333,
              "#9c179e"
             ],
             [
              0.4444444444444444,
              "#bd3786"
             ],
             [
              0.5555555555555556,
              "#d8576b"
             ],
             [
              0.6666666666666666,
              "#ed7953"
             ],
             [
              0.7777777777777778,
              "#fb9f3a"
             ],
             [
              0.8888888888888888,
              "#fdca26"
             ],
             [
              1,
              "#f0f921"
             ]
            ],
            "type": "surface"
           }
          ],
          "table": [
           {
            "cells": {
             "fill": {
              "color": "#EBF0F8"
             },
             "line": {
              "color": "white"
             }
            },
            "header": {
             "fill": {
              "color": "#C8D4E3"
             },
             "line": {
              "color": "white"
             }
            },
            "type": "table"
           }
          ]
         },
         "layout": {
          "annotationdefaults": {
           "arrowcolor": "#2a3f5f",
           "arrowhead": 0,
           "arrowwidth": 1
          },
          "autotypenumbers": "strict",
          "coloraxis": {
           "colorbar": {
            "outlinewidth": 0,
            "ticks": ""
           }
          },
          "colorscale": {
           "diverging": [
            [
             0,
             "#8e0152"
            ],
            [
             0.1,
             "#c51b7d"
            ],
            [
             0.2,
             "#de77ae"
            ],
            [
             0.3,
             "#f1b6da"
            ],
            [
             0.4,
             "#fde0ef"
            ],
            [
             0.5,
             "#f7f7f7"
            ],
            [
             0.6,
             "#e6f5d0"
            ],
            [
             0.7,
             "#b8e186"
            ],
            [
             0.8,
             "#7fbc41"
            ],
            [
             0.9,
             "#4d9221"
            ],
            [
             1,
             "#276419"
            ]
           ],
           "sequential": [
            [
             0,
             "#0d0887"
            ],
            [
             0.1111111111111111,
             "#46039f"
            ],
            [
             0.2222222222222222,
             "#7201a8"
            ],
            [
             0.3333333333333333,
             "#9c179e"
            ],
            [
             0.4444444444444444,
             "#bd3786"
            ],
            [
             0.5555555555555556,
             "#d8576b"
            ],
            [
             0.6666666666666666,
             "#ed7953"
            ],
            [
             0.7777777777777778,
             "#fb9f3a"
            ],
            [
             0.8888888888888888,
             "#fdca26"
            ],
            [
             1,
             "#f0f921"
            ]
           ],
           "sequentialminus": [
            [
             0,
             "#0d0887"
            ],
            [
             0.1111111111111111,
             "#46039f"
            ],
            [
             0.2222222222222222,
             "#7201a8"
            ],
            [
             0.3333333333333333,
             "#9c179e"
            ],
            [
             0.4444444444444444,
             "#bd3786"
            ],
            [
             0.5555555555555556,
             "#d8576b"
            ],
            [
             0.6666666666666666,
             "#ed7953"
            ],
            [
             0.7777777777777778,
             "#fb9f3a"
            ],
            [
             0.8888888888888888,
             "#fdca26"
            ],
            [
             1,
             "#f0f921"
            ]
           ]
          },
          "colorway": [
           "#636efa",
           "#EF553B",
           "#00cc96",
           "#ab63fa",
           "#FFA15A",
           "#19d3f3",
           "#FF6692",
           "#B6E880",
           "#FF97FF",
           "#FECB52"
          ],
          "font": {
           "color": "#2a3f5f"
          },
          "geo": {
           "bgcolor": "white",
           "lakecolor": "white",
           "landcolor": "#E5ECF6",
           "showlakes": true,
           "showland": true,
           "subunitcolor": "white"
          },
          "hoverlabel": {
           "align": "left"
          },
          "hovermode": "closest",
          "mapbox": {
           "style": "light"
          },
          "paper_bgcolor": "white",
          "plot_bgcolor": "#E5ECF6",
          "polar": {
           "angularaxis": {
            "gridcolor": "white",
            "linecolor": "white",
            "ticks": ""
           },
           "bgcolor": "#E5ECF6",
           "radialaxis": {
            "gridcolor": "white",
            "linecolor": "white",
            "ticks": ""
           }
          },
          "scene": {
           "xaxis": {
            "backgroundcolor": "#E5ECF6",
            "gridcolor": "white",
            "gridwidth": 2,
            "linecolor": "white",
            "showbackground": true,
            "ticks": "",
            "zerolinecolor": "white"
           },
           "yaxis": {
            "backgroundcolor": "#E5ECF6",
            "gridcolor": "white",
            "gridwidth": 2,
            "linecolor": "white",
            "showbackground": true,
            "ticks": "",
            "zerolinecolor": "white"
           },
           "zaxis": {
            "backgroundcolor": "#E5ECF6",
            "gridcolor": "white",
            "gridwidth": 2,
            "linecolor": "white",
            "showbackground": true,
            "ticks": "",
            "zerolinecolor": "white"
           }
          },
          "shapedefaults": {
           "line": {
            "color": "#2a3f5f"
           }
          },
          "ternary": {
           "aaxis": {
            "gridcolor": "white",
            "linecolor": "white",
            "ticks": ""
           },
           "baxis": {
            "gridcolor": "white",
            "linecolor": "white",
            "ticks": ""
           },
           "bgcolor": "#E5ECF6",
           "caxis": {
            "gridcolor": "white",
            "linecolor": "white",
            "ticks": ""
           }
          },
          "title": {
           "x": 0.05
          },
          "xaxis": {
           "automargin": true,
           "gridcolor": "white",
           "linecolor": "white",
           "ticks": "",
           "title": {
            "standoff": 15
           },
           "zerolinecolor": "white",
           "zerolinewidth": 2
          },
          "yaxis": {
           "automargin": true,
           "gridcolor": "white",
           "linecolor": "white",
           "ticks": "",
           "title": {
            "standoff": 15
           },
           "zerolinecolor": "white",
           "zerolinewidth": 2
          }
         }
        },
        "xaxis": {
         "anchor": "y",
         "domain": [
          0,
          1
         ],
         "title": {
          "text": "puan"
         }
        },
        "yaxis": {
         "anchor": "x",
         "domain": [
          0,
          1
         ]
        }
       }
      }
     },
     "metadata": {},
     "output_type": "display_data"
    }
   ],
   "source": [
    "import plotly.express as px\n",
    "\n",
    "fig = px.box(df.head(20), x='puan', points='all')\n",
    "fig.show()"
   ]
  },
  {
   "attachments": {},
   "cell_type": "markdown",
   "metadata": {},
   "source": [
    "<hr>"
   ]
  },
  {
   "cell_type": "code",
   "execution_count": 276,
   "metadata": {},
   "outputs": [],
   "source": [
    "data = df.copy()"
   ]
  },
  {
   "cell_type": "code",
   "execution_count": 277,
   "metadata": {},
   "outputs": [
    {
     "data": {
      "text/html": [
       "<div>\n",
       "<style scoped>\n",
       "    .dataframe tbody tr th:only-of-type {\n",
       "        vertical-align: middle;\n",
       "    }\n",
       "\n",
       "    .dataframe tbody tr th {\n",
       "        vertical-align: top;\n",
       "    }\n",
       "\n",
       "    .dataframe thead th {\n",
       "        text-align: right;\n",
       "    }\n",
       "</style>\n",
       "<table border=\"1\" class=\"dataframe\">\n",
       "  <thead>\n",
       "    <tr style=\"text-align: right;\">\n",
       "      <th></th>\n",
       "      <th>ilce</th>\n",
       "      <th>mahalle</th>\n",
       "      <th>maaliyet</th>\n",
       "      <th>puan</th>\n",
       "    </tr>\n",
       "  </thead>\n",
       "  <tbody>\n",
       "    <tr>\n",
       "      <th>0</th>\n",
       "      <td>KADIKOY</td>\n",
       "      <td>CAFERAGA</td>\n",
       "      <td>567000</td>\n",
       "      <td>0.658805</td>\n",
       "    </tr>\n",
       "    <tr>\n",
       "      <th>1</th>\n",
       "      <td>BAKIRKOY</td>\n",
       "      <td>ATAKOY7-8-9-10.KISIM</td>\n",
       "      <td>525000</td>\n",
       "      <td>0.656336</td>\n",
       "    </tr>\n",
       "    <tr>\n",
       "      <th>2</th>\n",
       "      <td>SISLI</td>\n",
       "      <td>TESVIKIYE</td>\n",
       "      <td>543000</td>\n",
       "      <td>0.649799</td>\n",
       "    </tr>\n",
       "    <tr>\n",
       "      <th>3</th>\n",
       "      <td>BEYKOZ</td>\n",
       "      <td>ACARLAR</td>\n",
       "      <td>363000</td>\n",
       "      <td>0.643938</td>\n",
       "    </tr>\n",
       "    <tr>\n",
       "      <th>4</th>\n",
       "      <td>KADIKOY</td>\n",
       "      <td>SUADIYE</td>\n",
       "      <td>567000</td>\n",
       "      <td>0.640568</td>\n",
       "    </tr>\n",
       "  </tbody>\n",
       "</table>\n",
       "</div>"
      ],
      "text/plain": [
       "       ilce               mahalle  maaliyet      puan\n",
       "0   KADIKOY              CAFERAGA    567000  0.658805\n",
       "1  BAKIRKOY  ATAKOY7-8-9-10.KISIM    525000  0.656336\n",
       "2     SISLI             TESVIKIYE    543000  0.649799\n",
       "3    BEYKOZ               ACARLAR    363000  0.643938\n",
       "4   KADIKOY               SUADIYE    567000  0.640568"
      ]
     },
     "execution_count": 277,
     "metadata": {},
     "output_type": "execute_result"
    }
   ],
   "source": [
    "data.head()"
   ]
  },
  {
   "cell_type": "code",
   "execution_count": 278,
   "metadata": {},
   "outputs": [
    {
     "data": {
      "text/html": [
       "<div>\n",
       "<style scoped>\n",
       "    .dataframe tbody tr th:only-of-type {\n",
       "        vertical-align: middle;\n",
       "    }\n",
       "\n",
       "    .dataframe tbody tr th {\n",
       "        vertical-align: top;\n",
       "    }\n",
       "\n",
       "    .dataframe thead th {\n",
       "        text-align: right;\n",
       "    }\n",
       "</style>\n",
       "<table border=\"1\" class=\"dataframe\">\n",
       "  <thead>\n",
       "    <tr style=\"text-align: right;\">\n",
       "      <th></th>\n",
       "      <th>ilce</th>\n",
       "      <th>mahalle</th>\n",
       "      <th>maaliyet</th>\n",
       "      <th>puan</th>\n",
       "    </tr>\n",
       "  </thead>\n",
       "  <tbody>\n",
       "    <tr>\n",
       "      <th>0</th>\n",
       "      <td>KADIKOY</td>\n",
       "      <td>CAFERAGA</td>\n",
       "      <td>567000</td>\n",
       "      <td>0.658805</td>\n",
       "    </tr>\n",
       "    <tr>\n",
       "      <th>1</th>\n",
       "      <td>BAKIRKOY</td>\n",
       "      <td>ATAKOY7-8-9-10.KISIM</td>\n",
       "      <td>525000</td>\n",
       "      <td>0.656336</td>\n",
       "    </tr>\n",
       "    <tr>\n",
       "      <th>2</th>\n",
       "      <td>SISLI</td>\n",
       "      <td>TESVIKIYE</td>\n",
       "      <td>543000</td>\n",
       "      <td>0.649799</td>\n",
       "    </tr>\n",
       "    <tr>\n",
       "      <th>3</th>\n",
       "      <td>BEYKOZ</td>\n",
       "      <td>ACARLAR</td>\n",
       "      <td>363000</td>\n",
       "      <td>0.643938</td>\n",
       "    </tr>\n",
       "    <tr>\n",
       "      <th>4</th>\n",
       "      <td>KADIKOY</td>\n",
       "      <td>SUADIYE</td>\n",
       "      <td>567000</td>\n",
       "      <td>0.640568</td>\n",
       "    </tr>\n",
       "    <tr>\n",
       "      <th>5</th>\n",
       "      <td>KADIKOY</td>\n",
       "      <td>ERENKOY</td>\n",
       "      <td>567000</td>\n",
       "      <td>0.636464</td>\n",
       "    </tr>\n",
       "    <tr>\n",
       "      <th>6</th>\n",
       "      <td>ATASEHIR</td>\n",
       "      <td>ATATURK</td>\n",
       "      <td>486000</td>\n",
       "      <td>0.635512</td>\n",
       "    </tr>\n",
       "    <tr>\n",
       "      <th>7</th>\n",
       "      <td>BAKIRKOY</td>\n",
       "      <td>ATAKOY2-5-6.KISIM</td>\n",
       "      <td>525000</td>\n",
       "      <td>0.619141</td>\n",
       "    </tr>\n",
       "    <tr>\n",
       "      <th>8</th>\n",
       "      <td>KADIKOY</td>\n",
       "      <td>FENERYOLU</td>\n",
       "      <td>567000</td>\n",
       "      <td>0.618900</td>\n",
       "    </tr>\n",
       "    <tr>\n",
       "      <th>9</th>\n",
       "      <td>USKUDAR</td>\n",
       "      <td>ALTUNIZADE</td>\n",
       "      <td>393000</td>\n",
       "      <td>0.614617</td>\n",
       "    </tr>\n",
       "    <tr>\n",
       "      <th>10</th>\n",
       "      <td>KADIKOY</td>\n",
       "      <td>CADDEBOSTAN</td>\n",
       "      <td>567000</td>\n",
       "      <td>0.613796</td>\n",
       "    </tr>\n",
       "    <tr>\n",
       "      <th>11</th>\n",
       "      <td>KADIKOY</td>\n",
       "      <td>FENERBAHCE</td>\n",
       "      <td>567000</td>\n",
       "      <td>0.609832</td>\n",
       "    </tr>\n",
       "    <tr>\n",
       "      <th>12</th>\n",
       "      <td>BASAKSEHIR</td>\n",
       "      <td>BAHCESEHIR1.KISIM</td>\n",
       "      <td>345000</td>\n",
       "      <td>0.598788</td>\n",
       "    </tr>\n",
       "    <tr>\n",
       "      <th>13</th>\n",
       "      <td>BEYKOZ</td>\n",
       "      <td>KANLICA</td>\n",
       "      <td>363000</td>\n",
       "      <td>0.582922</td>\n",
       "    </tr>\n",
       "    <tr>\n",
       "      <th>14</th>\n",
       "      <td>BESIKTAS</td>\n",
       "      <td>MURADIYE</td>\n",
       "      <td>777000</td>\n",
       "      <td>0.578957</td>\n",
       "    </tr>\n",
       "    <tr>\n",
       "      <th>15</th>\n",
       "      <td>BEYKOZ</td>\n",
       "      <td>ANADOLUHISARI</td>\n",
       "      <td>363000</td>\n",
       "      <td>0.576004</td>\n",
       "    </tr>\n",
       "    <tr>\n",
       "      <th>16</th>\n",
       "      <td>ESENYURT</td>\n",
       "      <td>ESENKENT</td>\n",
       "      <td>246000</td>\n",
       "      <td>0.575122</td>\n",
       "    </tr>\n",
       "    <tr>\n",
       "      <th>17</th>\n",
       "      <td>ZEYTINBURNU</td>\n",
       "      <td>MALTEPE</td>\n",
       "      <td>360000</td>\n",
       "      <td>0.571272</td>\n",
       "    </tr>\n",
       "    <tr>\n",
       "      <th>18</th>\n",
       "      <td>BEYOGLU</td>\n",
       "      <td>CIHANGIR</td>\n",
       "      <td>582000</td>\n",
       "      <td>0.566483</td>\n",
       "    </tr>\n",
       "    <tr>\n",
       "      <th>19</th>\n",
       "      <td>SISLI</td>\n",
       "      <td>CUMHURIYET</td>\n",
       "      <td>543000</td>\n",
       "      <td>0.561229</td>\n",
       "    </tr>\n",
       "    <tr>\n",
       "      <th>20</th>\n",
       "      <td>USKUDAR</td>\n",
       "      <td>KANDILLI</td>\n",
       "      <td>393000</td>\n",
       "      <td>0.554710</td>\n",
       "    </tr>\n",
       "    <tr>\n",
       "      <th>21</th>\n",
       "      <td>BAKIRKOY</td>\n",
       "      <td>ATAKOY3-4-11.KISIM</td>\n",
       "      <td>525000</td>\n",
       "      <td>0.549195</td>\n",
       "    </tr>\n",
       "    <tr>\n",
       "      <th>22</th>\n",
       "      <td>BEYOGLU</td>\n",
       "      <td>OMERAVNI</td>\n",
       "      <td>582000</td>\n",
       "      <td>0.547478</td>\n",
       "    </tr>\n",
       "    <tr>\n",
       "      <th>23</th>\n",
       "      <td>BAKIRKOY</td>\n",
       "      <td>SENLIKKOY</td>\n",
       "      <td>525000</td>\n",
       "      <td>0.545997</td>\n",
       "    </tr>\n",
       "    <tr>\n",
       "      <th>24</th>\n",
       "      <td>BAKIRKOY</td>\n",
       "      <td>YESILYURT</td>\n",
       "      <td>525000</td>\n",
       "      <td>0.543814</td>\n",
       "    </tr>\n",
       "    <tr>\n",
       "      <th>25</th>\n",
       "      <td>BEYOGLU</td>\n",
       "      <td>GUMUSSUYU</td>\n",
       "      <td>582000</td>\n",
       "      <td>0.539083</td>\n",
       "    </tr>\n",
       "    <tr>\n",
       "      <th>26</th>\n",
       "      <td>SISLI</td>\n",
       "      <td>HALASKARGAZI</td>\n",
       "      <td>543000</td>\n",
       "      <td>0.533036</td>\n",
       "    </tr>\n",
       "    <tr>\n",
       "      <th>27</th>\n",
       "      <td>KADIKOY</td>\n",
       "      <td>ZUHTUPASA</td>\n",
       "      <td>567000</td>\n",
       "      <td>0.527563</td>\n",
       "    </tr>\n",
       "    <tr>\n",
       "      <th>28</th>\n",
       "      <td>SISLI</td>\n",
       "      <td>MESRUTIYET</td>\n",
       "      <td>543000</td>\n",
       "      <td>0.527204</td>\n",
       "    </tr>\n",
       "    <tr>\n",
       "      <th>29</th>\n",
       "      <td>KADIKOY</td>\n",
       "      <td>KOSUYOLU</td>\n",
       "      <td>567000</td>\n",
       "      <td>0.523609</td>\n",
       "    </tr>\n",
       "    <tr>\n",
       "      <th>30</th>\n",
       "      <td>SISLI</td>\n",
       "      <td>KAPTANPASA</td>\n",
       "      <td>543000</td>\n",
       "      <td>0.518720</td>\n",
       "    </tr>\n",
       "    <tr>\n",
       "      <th>31</th>\n",
       "      <td>UMRANIYE</td>\n",
       "      <td>FATIHSULTANMEHMET</td>\n",
       "      <td>372000</td>\n",
       "      <td>0.513372</td>\n",
       "    </tr>\n",
       "    <tr>\n",
       "      <th>32</th>\n",
       "      <td>SISLI</td>\n",
       "      <td>ESENTEPE</td>\n",
       "      <td>543000</td>\n",
       "      <td>0.510854</td>\n",
       "    </tr>\n",
       "    <tr>\n",
       "      <th>33</th>\n",
       "      <td>SISLI</td>\n",
       "      <td>ERGENEKON</td>\n",
       "      <td>543000</td>\n",
       "      <td>0.509247</td>\n",
       "    </tr>\n",
       "    <tr>\n",
       "      <th>34</th>\n",
       "      <td>UMRANIYE</td>\n",
       "      <td>SARAY</td>\n",
       "      <td>372000</td>\n",
       "      <td>0.509073</td>\n",
       "    </tr>\n",
       "    <tr>\n",
       "      <th>35</th>\n",
       "      <td>BEYOGLU</td>\n",
       "      <td>KULOGLU</td>\n",
       "      <td>582000</td>\n",
       "      <td>0.504244</td>\n",
       "    </tr>\n",
       "    <tr>\n",
       "      <th>36</th>\n",
       "      <td>BESIKTAS</td>\n",
       "      <td>NISBETIYE</td>\n",
       "      <td>777000</td>\n",
       "      <td>0.499029</td>\n",
       "    </tr>\n",
       "  </tbody>\n",
       "</table>\n",
       "</div>"
      ],
      "text/plain": [
       "           ilce               mahalle  maaliyet      puan\n",
       "0       KADIKOY              CAFERAGA    567000  0.658805\n",
       "1      BAKIRKOY  ATAKOY7-8-9-10.KISIM    525000  0.656336\n",
       "2         SISLI             TESVIKIYE    543000  0.649799\n",
       "3        BEYKOZ               ACARLAR    363000  0.643938\n",
       "4       KADIKOY               SUADIYE    567000  0.640568\n",
       "5       KADIKOY               ERENKOY    567000  0.636464\n",
       "6      ATASEHIR               ATATURK    486000  0.635512\n",
       "7      BAKIRKOY     ATAKOY2-5-6.KISIM    525000  0.619141\n",
       "8       KADIKOY             FENERYOLU    567000  0.618900\n",
       "9       USKUDAR            ALTUNIZADE    393000  0.614617\n",
       "10      KADIKOY           CADDEBOSTAN    567000  0.613796\n",
       "11      KADIKOY            FENERBAHCE    567000  0.609832\n",
       "12   BASAKSEHIR     BAHCESEHIR1.KISIM    345000  0.598788\n",
       "13       BEYKOZ               KANLICA    363000  0.582922\n",
       "14     BESIKTAS              MURADIYE    777000  0.578957\n",
       "15       BEYKOZ         ANADOLUHISARI    363000  0.576004\n",
       "16     ESENYURT              ESENKENT    246000  0.575122\n",
       "17  ZEYTINBURNU               MALTEPE    360000  0.571272\n",
       "18      BEYOGLU              CIHANGIR    582000  0.566483\n",
       "19        SISLI            CUMHURIYET    543000  0.561229\n",
       "20      USKUDAR              KANDILLI    393000  0.554710\n",
       "21     BAKIRKOY    ATAKOY3-4-11.KISIM    525000  0.549195\n",
       "22      BEYOGLU              OMERAVNI    582000  0.547478\n",
       "23     BAKIRKOY             SENLIKKOY    525000  0.545997\n",
       "24     BAKIRKOY             YESILYURT    525000  0.543814\n",
       "25      BEYOGLU             GUMUSSUYU    582000  0.539083\n",
       "26        SISLI          HALASKARGAZI    543000  0.533036\n",
       "27      KADIKOY             ZUHTUPASA    567000  0.527563\n",
       "28        SISLI            MESRUTIYET    543000  0.527204\n",
       "29      KADIKOY              KOSUYOLU    567000  0.523609\n",
       "30        SISLI            KAPTANPASA    543000  0.518720\n",
       "31     UMRANIYE     FATIHSULTANMEHMET    372000  0.513372\n",
       "32        SISLI              ESENTEPE    543000  0.510854\n",
       "33        SISLI             ERGENEKON    543000  0.509247\n",
       "34     UMRANIYE                 SARAY    372000  0.509073\n",
       "35      BEYOGLU               KULOGLU    582000  0.504244\n",
       "36     BESIKTAS             NISBETIYE    777000  0.499029"
      ]
     },
     "execution_count": 278,
     "metadata": {},
     "output_type": "execute_result"
    }
   ],
   "source": [
    "data[data['puan']>data['puan'].quantile(0.85)]"
   ]
  },
  {
   "cell_type": "code",
   "execution_count": 279,
   "metadata": {},
   "outputs": [],
   "source": [
    "data['karlılık'] = data['puan']*1000000 / data['maaliyet']"
   ]
  },
  {
   "cell_type": "code",
   "execution_count": 280,
   "metadata": {},
   "outputs": [
    {
     "data": {
      "application/vnd.plotly.v1+json": {
       "config": {
        "plotlyServerURL": "https://plot.ly"
       },
       "data": [
        {
         "hovertemplate": "ilce=KADIKOY<br>maaliyet=%{x}<br>puan=%{y}<br>karlılık=%{marker.size}<extra></extra>",
         "legendgroup": "KADIKOY",
         "marker": {
          "color": "#636efa",
          "size": [
           1.1619132204870553,
           1.1297491800008426,
           1.122510960070175,
           1.0915339789492697,
           1.0825326029198696,
           1.0755412103307629,
           0.9304453967575631,
           0.9234719228385352
          ],
          "sizemode": "area",
          "sizeref": 0.005844733651784868,
          "symbol": "circle"
         },
         "mode": "markers",
         "name": "KADIKOY",
         "orientation": "v",
         "showlegend": true,
         "type": "scatter",
         "x": [
          567000,
          567000,
          567000,
          567000,
          567000,
          567000,
          567000,
          567000
         ],
         "xaxis": "x",
         "y": [
          0.6588047960161603,
          0.6405677850604778,
          0.6364637143597893,
          0.6188997660642359,
          0.6137959858555662,
          0.6098318662575425,
          0.5275625399615382,
          0.5236085802494495
         ],
         "yaxis": "y"
        },
        {
         "hovertemplate": "ilce=BAKIRKOY<br>maaliyet=%{x}<br>puan=%{y}<br>karlılık=%{marker.size}<extra></extra>",
         "legendgroup": "BAKIRKOY",
         "marker": {
          "color": "#EF553B",
          "size": [
           1.2501644846918012,
           1.179317069136978,
           1.0460864345329317,
           1.0399941333937777,
           1.0358357528346793,
           0.9446641781070592
          ],
          "sizemode": "area",
          "sizeref": 0.005844733651784868,
          "symbol": "circle"
         },
         "mode": "markers",
         "name": "BAKIRKOY",
         "orientation": "v",
         "showlegend": true,
         "type": "scatter",
         "x": [
          525000,
          525000,
          525000,
          525000,
          525000,
          525000
         ],
         "xaxis": "x",
         "y": [
          0.6563363544631957,
          0.6191414612969135,
          0.5491953781297891,
          0.5459969200317333,
          0.5438137702382067,
          0.495948693506206
         ],
         "yaxis": "y"
        },
        {
         "hovertemplate": "ilce=SISLI<br>maaliyet=%{x}<br>puan=%{y}<br>karlılık=%{marker.size}<extra></extra>",
         "legendgroup": "SISLI",
         "marker": {
          "color": "#00cc96",
          "size": [
           1.196682461721166,
           1.0335714798086169,
           0.9816493352716394,
           0.9709089813517695,
           0.9552858964541437,
           0.9407999213565934,
           0.9378391783400983,
           0.9063084986903954,
           0.8576818163713525
          ],
          "sizemode": "area",
          "sizeref": 0.005844733651784868,
          "symbol": "circle"
         },
         "mode": "markers",
         "name": "SISLI",
         "orientation": "v",
         "showlegend": true,
         "type": "scatter",
         "x": [
          543000,
          543000,
          543000,
          543000,
          543000,
          543000,
          543000,
          543000,
          543000
         ],
         "xaxis": "x",
         "y": [
          0.6497985767145931,
          0.5612293135360789,
          0.5330355890525003,
          0.5272035768740109,
          0.5187202417746001,
          0.5108543572966302,
          0.5092466738386734,
          0.4921255147888847,
          0.4657212262896444
         ],
         "yaxis": "y"
        },
        {
         "hovertemplate": "ilce=BEYKOZ<br>maaliyet=%{x}<br>puan=%{y}<br>karlılık=%{marker.size}<extra></extra>",
         "legendgroup": "BEYKOZ",
         "marker": {
          "color": "#ab63fa",
          "size": [
           1.773934221486501,
           1.605844927210428,
           1.5867891010063788,
           1.2841428384337588,
           1.0907707670567097,
           0.9394494943976386,
           0.930730190730983,
           0.9165663565059662,
           0.9134785960438586,
           0.7748134859739532,
           0.7716810013144391,
           0.7637596425945434,
           0.7627315728154236,
           0.7596448408604843,
           0.754906429766075,
           0.6074813126315574,
           0.6043263357867193,
           0.6025619493617689,
           0.6003128830446967,
           0.5998132547055394,
           0.599692507721171
          ],
          "sizemode": "area",
          "sizeref": 0.005844733651784868,
          "symbol": "circle"
         },
         "mode": "markers",
         "name": "BEYKOZ",
         "orientation": "v",
         "showlegend": true,
         "type": "scatter",
         "x": [
          363000,
          363000,
          363000,
          363000,
          363000,
          363000,
          363000,
          363000,
          363000,
          363000,
          363000,
          363000,
          363000,
          363000,
          363000,
          363000,
          363000,
          363000,
          363000,
          363000,
          363000
         ],
         "xaxis": "x",
         "y": [
          0.6439381223995999,
          0.5829217085773855,
          0.5760044436653156,
          0.4661438503514544,
          0.3959497884415857,
          0.3410201664663428,
          0.3378550592353468,
          0.3327135874116657,
          0.3315927303639207,
          0.281257295408545,
          0.2801202034771414,
          0.2772447502618193,
          0.2768715609319988,
          0.2757510772323558,
          0.2740310340050852,
          0.2205157164852553,
          0.2193704598905791,
          0.2187299876183221,
          0.2179135765452249,
          0.2177322114581108,
          0.2176883803027851
         ],
         "yaxis": "y"
        },
        {
         "hovertemplate": "ilce=ATASEHIR<br>maaliyet=%{x}<br>puan=%{y}<br>karlılık=%{marker.size}<extra></extra>",
         "legendgroup": "ATASEHIR",
         "marker": {
          "color": "#FFA15A",
          "size": [
           1.3076377426600836
          ],
          "sizemode": "area",
          "sizeref": 0.005844733651784868,
          "symbol": "circle"
         },
         "mode": "markers",
         "name": "ATASEHIR",
         "orientation": "v",
         "showlegend": true,
         "type": "scatter",
         "x": [
          486000
         ],
         "xaxis": "x",
         "y": [
          0.6355119429328007
         ],
         "yaxis": "y"
        },
        {
         "hovertemplate": "ilce=USKUDAR<br>maaliyet=%{x}<br>puan=%{y}<br>karlılık=%{marker.size}<extra></extra>",
         "legendgroup": "USKUDAR",
         "marker": {
          "color": "#19d3f3",
          "size": [
           1.5639113807010423,
           1.4114755782617423
          ],
          "sizemode": "area",
          "sizeref": 0.005844733651784868,
          "symbol": "circle"
         },
         "mode": "markers",
         "name": "USKUDAR",
         "orientation": "v",
         "showlegend": true,
         "type": "scatter",
         "x": [
          393000,
          393000
         ],
         "xaxis": "x",
         "y": [
          0.6146171726155096,
          0.5547099022568647
         ],
         "yaxis": "y"
        },
        {
         "hovertemplate": "ilce=BASAKSEHIR<br>maaliyet=%{x}<br>puan=%{y}<br>karlılık=%{marker.size}<extra></extra>",
         "legendgroup": "BASAKSEHIR",
         "marker": {
          "color": "#FF6692",
          "size": [
           1.7356173629793386,
           0.6644732571691239
          ],
          "sizemode": "area",
          "sizeref": 0.005844733651784868,
          "symbol": "circle"
         },
         "mode": "markers",
         "name": "BASAKSEHIR",
         "orientation": "v",
         "showlegend": true,
         "type": "scatter",
         "x": [
          345000,
          345000
         ],
         "xaxis": "x",
         "y": [
          0.5987879902278718,
          0.2292432737233477
         ],
         "yaxis": "y"
        },
        {
         "hovertemplate": "ilce=BESIKTAS<br>maaliyet=%{x}<br>puan=%{y}<br>karlılık=%{marker.size}<extra></extra>",
         "legendgroup": "BESIKTAS",
         "marker": {
          "color": "#B6E880",
          "size": [
           0.7451186397012708,
           0.6422505303456612,
           0.6411558347964369,
           0.6310058267273364,
           0.6282258848578613,
           0.6277314776089399,
           0.5994573986539334,
           0.5929542581937943,
           0.5890537037883911,
           0.58497911288901,
           0.5656266458937258,
           0.5408792539749429,
           0.5157566010120238,
           0.5077443463503815,
           0.49371487536496933,
           0.4646139601948691
          ],
          "sizemode": "area",
          "sizeref": 0.005844733651784868,
          "symbol": "circle"
         },
         "mode": "markers",
         "name": "BESIKTAS",
         "orientation": "v",
         "showlegend": true,
         "type": "scatter",
         "x": [
          777000,
          777000,
          777000,
          777000,
          777000,
          777000,
          777000,
          777000,
          777000,
          777000,
          777000,
          777000,
          777000,
          777000,
          777000,
          777000
         ],
         "xaxis": "x",
         "y": [
          0.5789571830478873,
          0.4990286620785787,
          0.4981780836368314,
          0.4902915273671404,
          0.4881315125345583,
          0.4877473581021463,
          0.4657783987541063,
          0.4607254586165782,
          0.4576947278435799,
          0.4545287707147607,
          0.439491903859425,
          0.4202631803385306,
          0.4007428789863425,
          0.3945173571142464,
          0.3836164581585812,
          0.3610050470714133
         ],
         "yaxis": "y"
        },
        {
         "hovertemplate": "ilce=ESENYURT<br>maaliyet=%{x}<br>puan=%{y}<br>karlılık=%{marker.size}<extra></extra>",
         "legendgroup": "ESENYURT",
         "marker": {
          "color": "#FF97FF",
          "size": [
           2.337893460713947
          ],
          "sizemode": "area",
          "sizeref": 0.005844733651784868,
          "symbol": "circle"
         },
         "mode": "markers",
         "name": "ESENYURT",
         "orientation": "v",
         "showlegend": true,
         "type": "scatter",
         "x": [
          246000
         ],
         "xaxis": "x",
         "y": [
          0.575121791335631
         ],
         "yaxis": "y"
        },
        {
         "hovertemplate": "ilce=ZEYTINBURNU<br>maaliyet=%{x}<br>puan=%{y}<br>karlılık=%{marker.size}<extra></extra>",
         "legendgroup": "ZEYTINBURNU",
         "marker": {
          "color": "#FECB52",
          "size": [
           1.5868672660649437,
           1.2663002258229854
          ],
          "sizemode": "area",
          "sizeref": 0.005844733651784868,
          "symbol": "circle"
         },
         "mode": "markers",
         "name": "ZEYTINBURNU",
         "orientation": "v",
         "showlegend": true,
         "type": "scatter",
         "x": [
          360000,
          360000
         ],
         "xaxis": "x",
         "y": [
          0.5712722157833797,
          0.4558680812962747
         ],
         "yaxis": "y"
        },
        {
         "hovertemplate": "ilce=BEYOGLU<br>maaliyet=%{x}<br>puan=%{y}<br>karlılık=%{marker.size}<extra></extra>",
         "legendgroup": "BEYOGLU",
         "marker": {
          "color": "#636efa",
          "size": [
           0.9733387124039852,
           0.9406834522986023,
           0.9262588956785743,
           0.8663982212068686,
           0.8528483370564012,
           0.7444637916981138,
           0.7262543022458241,
           0.7166227634012123,
           0.6179565637746183,
           0.5456150449654003,
           0.42325225756462853,
           0.4154760603622112,
           0.40071015440234947,
           0.3124622494789861,
           0.2967932855169818,
           0.2948051054512914
          ],
          "sizemode": "area",
          "sizeref": 0.005844733651784868,
          "symbol": "circle"
         },
         "mode": "markers",
         "name": "BEYOGLU",
         "orientation": "v",
         "showlegend": true,
         "type": "scatter",
         "x": [
          582000,
          582000,
          582000,
          582000,
          582000,
          582000,
          582000,
          582000,
          582000,
          582000,
          582000,
          582000,
          582000,
          582000,
          582000,
          582000
         ],
         "xaxis": "x",
         "y": [
          0.5664831306191194,
          0.5474777692377866,
          0.5390826772849302,
          0.5042437647423975,
          0.4963577321668255,
          0.4332779267683023,
          0.4226800039070696,
          0.4170744482995056,
          0.3596507201168278,
          0.3175479561698629,
          0.2463328139026138,
          0.2418070671308069,
          0.2332133098621674,
          0.1818530291967699,
          0.1727336921708834,
          0.1715765713726516
         ],
         "yaxis": "y"
        },
        {
         "hovertemplate": "ilce=UMRANIYE<br>maaliyet=%{x}<br>puan=%{y}<br>karlılık=%{marker.size}<extra></extra>",
         "legendgroup": "UMRANIYE",
         "marker": {
          "color": "#EF553B",
          "size": [
           1.3800315594492194,
           1.368475122444664
          ],
          "sizemode": "area",
          "sizeref": 0.005844733651784868,
          "symbol": "circle"
         },
         "mode": "markers",
         "name": "UMRANIYE",
         "orientation": "v",
         "showlegend": true,
         "type": "scatter",
         "x": [
          372000,
          372000
         ],
         "xaxis": "x",
         "y": [
          0.5133717401151097,
          0.5090727455494151
         ],
         "yaxis": "y"
        },
        {
         "hovertemplate": "ilce=KUCUKCEKMECE<br>maaliyet=%{x}<br>puan=%{y}<br>karlılık=%{marker.size}<extra></extra>",
         "legendgroup": "KUCUKCEKMECE",
         "marker": {
          "color": "#00cc96",
          "size": [
           1.4855204328187184
          ],
          "sizemode": "area",
          "sizeref": 0.005844733651784868,
          "symbol": "circle"
         },
         "mode": "markers",
         "name": "KUCUKCEKMECE",
         "orientation": "v",
         "showlegend": true,
         "type": "scatter",
         "x": [
          315000
         ],
         "xaxis": "x",
         "y": [
          0.4679389363378963
         ],
         "yaxis": "y"
        },
        {
         "hovertemplate": "ilce=FATIH<br>maaliyet=%{x}<br>puan=%{y}<br>karlılık=%{marker.size}<extra></extra>",
         "legendgroup": "FATIH",
         "marker": {
          "color": "#ab63fa",
          "size": [
           1.2471284854383617,
           1.1631967437095652,
           1.1528398321781417,
           1.1017771050856722,
           1.007193559833676,
           1.0065105585034997,
           0.9945206223905343,
           0.9829217826401472,
           0.9755032179881218,
           0.9746236046825428,
           0.974373359232372,
           0.9721500930907966,
           0.9710293618071558,
           0.8483228016499077,
           0.8350825160637584,
           0.8317885253812611,
           0.8197145094927942,
           0.8160414939359114,
           0.8150776267149471,
           0.6457983676771287
          ],
          "sizemode": "area",
          "sizeref": 0.005844733651784868,
          "symbol": "circle"
         },
         "mode": "markers",
         "name": "FATIH",
         "orientation": "v",
         "showlegend": true,
         "type": "scatter",
         "x": [
          348000,
          348000,
          348000,
          348000,
          348000,
          348000,
          348000,
          348000,
          348000,
          348000,
          348000,
          348000,
          348000,
          348000,
          348000,
          348000,
          348000,
          348000,
          348000,
          348000
         ],
         "xaxis": "x",
         "y": [
          0.4340007129325499,
          0.4047924668109287,
          0.4011882615979933,
          0.3834184325698139,
          0.3505033588221193,
          0.3502656743592179,
          0.3460931765919059,
          0.3420567803587712,
          0.3394751198598664,
          0.3391690144295249,
          0.3390819290128655,
          0.3383082323955972,
          0.3379182179088902,
          0.2952163349741679,
          0.2906087155901879,
          0.2894624068326789,
          0.2852606493034924,
          0.2839824398896972,
          0.2836470140968016,
          0.2247378319516408
         ],
         "yaxis": "y"
        },
        {
         "hovertemplate": "ilce=TUZLA<br>maaliyet=%{x}<br>puan=%{y}<br>karlılık=%{marker.size}<extra></extra>",
         "legendgroup": "TUZLA",
         "marker": {
          "color": "#FFA15A",
          "size": [
           1.4447624523816656,
           0.8633201411939265
          ],
          "sizemode": "area",
          "sizeref": 0.005844733651784868,
          "symbol": "circle"
         },
         "mode": "markers",
         "name": "TUZLA",
         "orientation": "v",
         "showlegend": true,
         "type": "scatter",
         "x": [
          294000,
          294000
         ],
         "xaxis": "x",
         "y": [
          0.4247601610002097,
          0.2538161215110144
         ],
         "yaxis": "y"
        },
        {
         "hovertemplate": "ilce=SARIYER<br>maaliyet=%{x}<br>puan=%{y}<br>karlılık=%{marker.size}<extra></extra>",
         "legendgroup": "SARIYER",
         "marker": {
          "color": "#19d3f3",
          "size": [
           0.4990543113848135,
           0.4817139115249937,
           0.455564205414233,
           0.4525994066418814,
           0.36807301717033203,
           0.3652500519782479,
           0.22611926370386912,
           0.14140608280546582,
           0.0013648468421496947
          ],
          "sizemode": "area",
          "sizeref": 0.005844733651784868,
          "symbol": "circle"
         },
         "mode": "markers",
         "name": "SARIYER",
         "orientation": "v",
         "showlegend": true,
         "type": "scatter",
         "x": [
          819000,
          819000,
          819000,
          819000,
          819000,
          819000,
          819000,
          819000,
          819000
         ],
         "xaxis": "x",
         "y": [
          0.4087254810241623,
          0.3945236935389698,
          0.3731070842342568,
          0.3706789140397009,
          0.3014518010625019,
          0.299139792570185,
          0.1851916769734688,
          0.1158115818176765,
          0.0011178095637206
         ],
         "yaxis": "y"
        },
        {
         "hovertemplate": "ilce=SILE<br>maaliyet=%{x}<br>puan=%{y}<br>karlılık=%{marker.size}<extra></extra>",
         "legendgroup": "SILE",
         "marker": {
          "color": "#FF6692",
          "size": [
           1.248437528389589,
           1.1128935680985916,
           0.8935515370312792,
           0.8908261914428853,
           0.8904918381859709,
           0.8899022211060327,
           0.8891633292028048,
           0.7339624928034504,
           0.7250731862776973,
           0.720808214747401,
           0.7208040635779724,
           0.7182990395443122,
           0.7182469324103933,
           0.7179801492277966,
           0.7179347357717198,
           0.7178548057546447,
           0.7172084634476593,
           0.7171261359328795,
           0.7168029596650001,
           0.7164119329275328,
           0.716354034975537,
           0.7163232646355352,
           0.7160310350073135,
           0.7158770175377343,
           0.7158687151988774,
           0.7158291653675453,
           0.7157656944148488,
           0.7157401649337832,
           0.7157340004562215,
           0.7156944400948024,
           0.7156514966417853,
           0.7154161998292135,
           0.7153789433999718,
           0.715226337231578,
           0.7151820965004505,
           0.715150630889286,
           0.7151438541760025,
           0.7151288374004431,
           0.7150949123163055,
           0.7150925461075478,
           0.7150392870075404,
           0.7150167359709542,
           0.714921996766922,
           0.7148553190222832,
           0.714838641839215,
           0.7145249093461945,
           0.7144756976213141,
           0.7144332626097171,
           0.7143627763675009,
           0.7142314862341639,
           0.7141873077796168,
           0.7141677559463703,
           0.7140153781254398,
           0.7139697778396207,
           0.713904013484834,
           0.7136647730914362,
           0.7135339811707455
          ],
          "sizemode": "area",
          "sizeref": 0.005844733651784868,
          "symbol": "circle"
         },
         "mode": "markers",
         "name": "SILE",
         "orientation": "v",
         "showlegend": true,
         "type": "scatter",
         "x": [
          327000,
          327000,
          327000,
          327000,
          327000,
          327000,
          327000,
          327000,
          327000,
          327000,
          327000,
          327000,
          327000,
          327000,
          327000,
          327000,
          327000,
          327000,
          327000,
          327000,
          327000,
          327000,
          327000,
          327000,
          327000,
          327000,
          327000,
          327000,
          327000,
          327000,
          327000,
          327000,
          327000,
          327000,
          327000,
          327000,
          327000,
          327000,
          327000,
          327000,
          327000,
          327000,
          327000,
          327000,
          327000,
          327000,
          327000,
          327000,
          327000,
          327000,
          327000,
          327000,
          327000,
          327000,
          327000,
          327000,
          327000
         ],
         "xaxis": "x",
         "y": [
          0.4082390717833956,
          0.3639161967682395,
          0.2921913526092283,
          0.2913001646018235,
          0.2911908310868125,
          0.2909980263016727,
          0.2907564086493172,
          0.2400057351467283,
          0.237098931912807,
          0.2357042862224001,
          0.235702928789997,
          0.2348837859309901,
          0.2348667468981986,
          0.2347795087974895,
          0.2347646585973524,
          0.2347385214817688,
          0.2345271675473846,
          0.2345002464500516,
          0.234394567810455,
          0.2342667020673032,
          0.2342477694370006,
          0.23423770753582,
          0.2341421484473915,
          0.2340917847348391,
          0.2340890698700329,
          0.2340761370751873,
          0.2340553820736556,
          0.2340470339333471,
          0.2340450181491844,
          0.2340320819110004,
          0.2340180394018638,
          0.2339410973441528,
          0.2339289144917908,
          0.233879012274726,
          0.2338645455556473,
          0.2338542563007965,
          0.2338520403155528,
          0.2338471298299449,
          0.2338360363274319,
          0.2338352625771681,
          0.2338178468514657,
          0.233810472662502,
          0.2337794929427835,
          0.2337576893202866,
          0.2337522358814233,
          0.2336496453562056,
          0.2336335531221697,
          0.2336196768733775,
          0.2335966278721728,
          0.2335536959985716,
          0.2335392496439347,
          0.2335328561944631,
          0.2334830286470188,
          0.233468117353556,
          0.2334466124095407,
          0.2333683808008996,
          0.2333256118428338
         ],
         "yaxis": "y"
        },
        {
         "hovertemplate": "ilce=CEKMEKOY<br>maaliyet=%{x}<br>puan=%{y}<br>karlılık=%{marker.size}<extra></extra>",
         "legendgroup": "CEKMEKOY",
         "marker": {
          "color": "#B6E880",
          "size": [
           1.146377317391584,
           0.7852825759725071,
           0.7785077911798637
          ],
          "sizemode": "area",
          "sizeref": 0.005844733651784868,
          "symbol": "circle"
         },
         "mode": "markers",
         "name": "CEKMEKOY",
         "orientation": "v",
         "showlegend": true,
         "type": "scatter",
         "x": [
          312000,
          312000,
          312000
         ],
         "xaxis": "x",
         "y": [
          0.3576697230261742,
          0.2450081637034222,
          0.2428944308481175
         ],
         "yaxis": "y"
        },
        {
         "hovertemplate": "ilce=ARNAVUTKOY<br>maaliyet=%{x}<br>puan=%{y}<br>karlılık=%{marker.size}<extra></extra>",
         "legendgroup": "ARNAVUTKOY",
         "marker": {
          "color": "#FF97FF",
          "size": [
           1.7514409934010728,
           1.4844506212549098,
           1.4763329186417056,
           1.472824355228171,
           1.4708231713006903,
           1.468051886948862,
           1.4660652396086173,
           1.4659950048884334,
           1.464575266829162,
           1.4636980415460856
          ],
          "sizemode": "area",
          "sizeref": 0.005844733651784868,
          "symbol": "circle"
         },
         "mode": "markers",
         "name": "ARNAVUTKOY",
         "orientation": "v",
         "showlegend": true,
         "type": "scatter",
         "x": [
          201000,
          201000,
          201000,
          201000,
          201000,
          201000,
          201000,
          201000,
          201000,
          201000
         ],
         "xaxis": "x",
         "y": [
          0.3520396396736156,
          0.2983745748722369,
          0.2967429166469828,
          0.2960376954008624,
          0.2956354574314387,
          0.2950784292767213,
          0.2946791131613321,
          0.2946649959825751,
          0.2943796286326616,
          0.2942033063507632
         ],
         "yaxis": "y"
        },
        {
         "hovertemplate": "ilce=CATALCA<br>maaliyet=%{x}<br>puan=%{y}<br>karlılık=%{marker.size}<extra></extra>",
         "legendgroup": "CATALCA",
         "marker": {
          "color": "#FECB52",
          "size": [
           1.6337381621424751,
           1.390476616850299,
           1.3784537489304312,
           1.3775104040550568,
           1.373772252987404,
           1.373623382582289,
           1.3710702352083868,
           1.3705502882791338,
           1.3705234428421431,
           1.3669380174320263,
           1.3666774786353912,
           1.3655997463037244,
           1.3614780439875693,
           1.3609656491421356,
           1.3607086949407037,
           1.3605340146174854,
           1.3602620204494662,
           1.360218254760953,
           1.3593468124090164,
           1.357223594786918,
           1.357123636258093,
           1.3544033601822123,
           1.3542722224628532,
           1.353762567909153,
           1.3536943940863488,
           1.3518834311673809,
           1.3516933284467403,
           1.3491420927644306
          ],
          "sizemode": "area",
          "sizeref": 0.005844733651784868,
          "symbol": "circle"
         },
         "mode": "markers",
         "name": "CATALCA",
         "orientation": "v",
         "showlegend": true,
         "type": "scatter",
         "x": [
          213000,
          213000,
          213000,
          213000,
          213000,
          213000,
          213000,
          213000,
          213000,
          213000,
          213000,
          213000,
          213000,
          213000,
          213000,
          213000,
          213000,
          213000,
          213000,
          213000,
          213000,
          213000,
          213000,
          213000,
          213000,
          213000,
          213000,
          213000
         ],
         "xaxis": "x",
         "y": [
          0.3479862285363472,
          0.2961715193891137,
          0.2936106485221818,
          0.2934097160637271,
          0.292613489886317,
          0.2925817804900276,
          0.2920379600993864,
          0.2919272114034555,
          0.2919214933253765,
          0.2911577977130216,
          0.2911023029493383,
          0.2908727459626933,
          0.2899948233693523,
          0.2898856832672749,
          0.2898309520223699,
          0.2897937451135244,
          0.2897358103557363,
          0.289726488264083,
          0.2895408710431205,
          0.2890886256896135,
          0.2890673345229738,
          0.2884879157188112,
          0.2884599833845877,
          0.2883514269646496,
          0.2883369059403923,
          0.2879511708386521,
          0.2879106789591557,
          0.2873672657588237
         ],
         "yaxis": "y"
        },
        {
         "hovertemplate": "ilce=SILIVRI<br>maaliyet=%{x}<br>puan=%{y}<br>karlılık=%{marker.size}<extra></extra>",
         "legendgroup": "SILIVRI",
         "marker": {
          "color": "#636efa",
          "size": [
           1.6709251367380633,
           1.666389359013913,
           1.6486494472666924,
           1.639694550181178,
           1.6394708677156058,
           1.6382663018951582,
           1.6361932601612903,
           1.6351037283927694,
           1.633750867981452,
           1.6335029197725732,
           1.632249858960928,
           1.6307793918357454,
           1.6305894988277785,
           1.629556818441181,
           1.6264518077164571,
           1.620799204950163,
           1.6196134681155465,
           1.6187793105783952,
           1.6178179131268315,
           1.6162762725528619,
           1.6157475350285782
          ],
          "sizemode": "area",
          "sizeref": 0.005844733651784868,
          "symbol": "circle"
         },
         "mode": "markers",
         "name": "SILIVRI",
         "orientation": "v",
         "showlegend": true,
         "type": "scatter",
         "x": [
          186000,
          186000,
          186000,
          186000,
          186000,
          186000,
          186000,
          186000,
          186000,
          186000,
          186000,
          186000,
          186000,
          186000,
          186000,
          186000,
          186000,
          186000,
          186000,
          186000,
          186000
         ],
         "xaxis": "x",
         "y": [
          0.3107920754332798,
          0.3099484207765878,
          0.3066487971916048,
          0.3049831863336991,
          0.3049415813951027,
          0.3047175321524994,
          0.30433194639,
          0.3041292934810551,
          0.3038776614445501,
          0.3038315430776986,
          0.3035984737667326,
          0.3033249668814486,
          0.3032896467819668,
          0.3030975682300597,
          0.302520036235261,
          0.3014686521207303,
          0.3012481050694917,
          0.3010929517675815,
          0.3009141318415907,
          0.3006273866948323,
          0.3005290415153155
         ],
         "yaxis": "y"
        },
        {
         "hovertemplate": "ilce=PENDIK<br>maaliyet=%{x}<br>puan=%{y}<br>karlılık=%{marker.size}<extra></extra>",
         "legendgroup": "PENDIK",
         "marker": {
          "color": "#EF553B",
          "size": [
           1.0450366077695883,
           1.0434970769994591,
           0.8511174035604013
          ],
          "sizemode": "area",
          "sizeref": 0.005844733651784868,
          "symbol": "circle"
         },
         "mode": "markers",
         "name": "PENDIK",
         "orientation": "v",
         "showlegend": true,
         "type": "scatter",
         "x": [
          294000,
          294000,
          294000
         ],
         "xaxis": "x",
         "y": [
          0.307240762684259,
          0.306788140637841,
          0.250228516646758
         ],
         "yaxis": "y"
        },
        {
         "hovertemplate": "ilce=MALTEPE<br>maaliyet=%{x}<br>puan=%{y}<br>karlılık=%{marker.size}<extra></extra>",
         "legendgroup": "MALTEPE",
         "marker": {
          "color": "#00cc96",
          "size": [
           0.5883071999249924
          ],
          "sizemode": "area",
          "sizeref": 0.005844733651784868,
          "symbol": "circle"
         },
         "mode": "markers",
         "name": "MALTEPE",
         "orientation": "v",
         "showlegend": true,
         "type": "scatter",
         "x": [
          390000
         ],
         "xaxis": "x",
         "y": [
          0.229439807970747
         ],
         "yaxis": "y"
        },
        {
         "hovertemplate": "ilce=EYUPSULTAN<br>maaliyet=%{x}<br>puan=%{y}<br>karlılık=%{marker.size}<extra></extra>",
         "legendgroup": "EYUPSULTAN",
         "marker": {
          "color": "#ab63fa",
          "size": [
           0.47285423936859317,
           0.36614482168739915,
           0.35491448512310314,
           0.3542862381530896,
           0.3513523125504418,
           0.3511115358790609
          ],
          "sizemode": "area",
          "sizeref": 0.005844733651784868,
          "symbol": "circle"
         },
         "mode": "markers",
         "name": "EYUPSULTAN",
         "orientation": "v",
         "showlegend": true,
         "type": "scatter",
         "x": [
          471000,
          471000,
          471000,
          471000,
          471000,
          471000
         ],
         "xaxis": "x",
         "y": [
          0.2227143467426074,
          0.172454211014765,
          0.1671647224929816,
          0.1668688181701052,
          0.1654869392112581,
          0.1653735333990377
         ],
         "yaxis": "y"
        }
       ],
       "layout": {
        "legend": {
         "itemsizing": "constant",
         "title": {
          "text": "ilce"
         },
         "tracegroupgap": 0
        },
        "margin": {
         "t": 60
        },
        "template": {
         "data": {
          "bar": [
           {
            "error_x": {
             "color": "#2a3f5f"
            },
            "error_y": {
             "color": "#2a3f5f"
            },
            "marker": {
             "line": {
              "color": "#E5ECF6",
              "width": 0.5
             },
             "pattern": {
              "fillmode": "overlay",
              "size": 10,
              "solidity": 0.2
             }
            },
            "type": "bar"
           }
          ],
          "barpolar": [
           {
            "marker": {
             "line": {
              "color": "#E5ECF6",
              "width": 0.5
             },
             "pattern": {
              "fillmode": "overlay",
              "size": 10,
              "solidity": 0.2
             }
            },
            "type": "barpolar"
           }
          ],
          "carpet": [
           {
            "aaxis": {
             "endlinecolor": "#2a3f5f",
             "gridcolor": "white",
             "linecolor": "white",
             "minorgridcolor": "white",
             "startlinecolor": "#2a3f5f"
            },
            "baxis": {
             "endlinecolor": "#2a3f5f",
             "gridcolor": "white",
             "linecolor": "white",
             "minorgridcolor": "white",
             "startlinecolor": "#2a3f5f"
            },
            "type": "carpet"
           }
          ],
          "choropleth": [
           {
            "colorbar": {
             "outlinewidth": 0,
             "ticks": ""
            },
            "type": "choropleth"
           }
          ],
          "contour": [
           {
            "colorbar": {
             "outlinewidth": 0,
             "ticks": ""
            },
            "colorscale": [
             [
              0,
              "#0d0887"
             ],
             [
              0.1111111111111111,
              "#46039f"
             ],
             [
              0.2222222222222222,
              "#7201a8"
             ],
             [
              0.3333333333333333,
              "#9c179e"
             ],
             [
              0.4444444444444444,
              "#bd3786"
             ],
             [
              0.5555555555555556,
              "#d8576b"
             ],
             [
              0.6666666666666666,
              "#ed7953"
             ],
             [
              0.7777777777777778,
              "#fb9f3a"
             ],
             [
              0.8888888888888888,
              "#fdca26"
             ],
             [
              1,
              "#f0f921"
             ]
            ],
            "type": "contour"
           }
          ],
          "contourcarpet": [
           {
            "colorbar": {
             "outlinewidth": 0,
             "ticks": ""
            },
            "type": "contourcarpet"
           }
          ],
          "heatmap": [
           {
            "colorbar": {
             "outlinewidth": 0,
             "ticks": ""
            },
            "colorscale": [
             [
              0,
              "#0d0887"
             ],
             [
              0.1111111111111111,
              "#46039f"
             ],
             [
              0.2222222222222222,
              "#7201a8"
             ],
             [
              0.3333333333333333,
              "#9c179e"
             ],
             [
              0.4444444444444444,
              "#bd3786"
             ],
             [
              0.5555555555555556,
              "#d8576b"
             ],
             [
              0.6666666666666666,
              "#ed7953"
             ],
             [
              0.7777777777777778,
              "#fb9f3a"
             ],
             [
              0.8888888888888888,
              "#fdca26"
             ],
             [
              1,
              "#f0f921"
             ]
            ],
            "type": "heatmap"
           }
          ],
          "heatmapgl": [
           {
            "colorbar": {
             "outlinewidth": 0,
             "ticks": ""
            },
            "colorscale": [
             [
              0,
              "#0d0887"
             ],
             [
              0.1111111111111111,
              "#46039f"
             ],
             [
              0.2222222222222222,
              "#7201a8"
             ],
             [
              0.3333333333333333,
              "#9c179e"
             ],
             [
              0.4444444444444444,
              "#bd3786"
             ],
             [
              0.5555555555555556,
              "#d8576b"
             ],
             [
              0.6666666666666666,
              "#ed7953"
             ],
             [
              0.7777777777777778,
              "#fb9f3a"
             ],
             [
              0.8888888888888888,
              "#fdca26"
             ],
             [
              1,
              "#f0f921"
             ]
            ],
            "type": "heatmapgl"
           }
          ],
          "histogram": [
           {
            "marker": {
             "pattern": {
              "fillmode": "overlay",
              "size": 10,
              "solidity": 0.2
             }
            },
            "type": "histogram"
           }
          ],
          "histogram2d": [
           {
            "colorbar": {
             "outlinewidth": 0,
             "ticks": ""
            },
            "colorscale": [
             [
              0,
              "#0d0887"
             ],
             [
              0.1111111111111111,
              "#46039f"
             ],
             [
              0.2222222222222222,
              "#7201a8"
             ],
             [
              0.3333333333333333,
              "#9c179e"
             ],
             [
              0.4444444444444444,
              "#bd3786"
             ],
             [
              0.5555555555555556,
              "#d8576b"
             ],
             [
              0.6666666666666666,
              "#ed7953"
             ],
             [
              0.7777777777777778,
              "#fb9f3a"
             ],
             [
              0.8888888888888888,
              "#fdca26"
             ],
             [
              1,
              "#f0f921"
             ]
            ],
            "type": "histogram2d"
           }
          ],
          "histogram2dcontour": [
           {
            "colorbar": {
             "outlinewidth": 0,
             "ticks": ""
            },
            "colorscale": [
             [
              0,
              "#0d0887"
             ],
             [
              0.1111111111111111,
              "#46039f"
             ],
             [
              0.2222222222222222,
              "#7201a8"
             ],
             [
              0.3333333333333333,
              "#9c179e"
             ],
             [
              0.4444444444444444,
              "#bd3786"
             ],
             [
              0.5555555555555556,
              "#d8576b"
             ],
             [
              0.6666666666666666,
              "#ed7953"
             ],
             [
              0.7777777777777778,
              "#fb9f3a"
             ],
             [
              0.8888888888888888,
              "#fdca26"
             ],
             [
              1,
              "#f0f921"
             ]
            ],
            "type": "histogram2dcontour"
           }
          ],
          "mesh3d": [
           {
            "colorbar": {
             "outlinewidth": 0,
             "ticks": ""
            },
            "type": "mesh3d"
           }
          ],
          "parcoords": [
           {
            "line": {
             "colorbar": {
              "outlinewidth": 0,
              "ticks": ""
             }
            },
            "type": "parcoords"
           }
          ],
          "pie": [
           {
            "automargin": true,
            "type": "pie"
           }
          ],
          "scatter": [
           {
            "fillpattern": {
             "fillmode": "overlay",
             "size": 10,
             "solidity": 0.2
            },
            "type": "scatter"
           }
          ],
          "scatter3d": [
           {
            "line": {
             "colorbar": {
              "outlinewidth": 0,
              "ticks": ""
             }
            },
            "marker": {
             "colorbar": {
              "outlinewidth": 0,
              "ticks": ""
             }
            },
            "type": "scatter3d"
           }
          ],
          "scattercarpet": [
           {
            "marker": {
             "colorbar": {
              "outlinewidth": 0,
              "ticks": ""
             }
            },
            "type": "scattercarpet"
           }
          ],
          "scattergeo": [
           {
            "marker": {
             "colorbar": {
              "outlinewidth": 0,
              "ticks": ""
             }
            },
            "type": "scattergeo"
           }
          ],
          "scattergl": [
           {
            "marker": {
             "colorbar": {
              "outlinewidth": 0,
              "ticks": ""
             }
            },
            "type": "scattergl"
           }
          ],
          "scattermapbox": [
           {
            "marker": {
             "colorbar": {
              "outlinewidth": 0,
              "ticks": ""
             }
            },
            "type": "scattermapbox"
           }
          ],
          "scatterpolar": [
           {
            "marker": {
             "colorbar": {
              "outlinewidth": 0,
              "ticks": ""
             }
            },
            "type": "scatterpolar"
           }
          ],
          "scatterpolargl": [
           {
            "marker": {
             "colorbar": {
              "outlinewidth": 0,
              "ticks": ""
             }
            },
            "type": "scatterpolargl"
           }
          ],
          "scatterternary": [
           {
            "marker": {
             "colorbar": {
              "outlinewidth": 0,
              "ticks": ""
             }
            },
            "type": "scatterternary"
           }
          ],
          "surface": [
           {
            "colorbar": {
             "outlinewidth": 0,
             "ticks": ""
            },
            "colorscale": [
             [
              0,
              "#0d0887"
             ],
             [
              0.1111111111111111,
              "#46039f"
             ],
             [
              0.2222222222222222,
              "#7201a8"
             ],
             [
              0.3333333333333333,
              "#9c179e"
             ],
             [
              0.4444444444444444,
              "#bd3786"
             ],
             [
              0.5555555555555556,
              "#d8576b"
             ],
             [
              0.6666666666666666,
              "#ed7953"
             ],
             [
              0.7777777777777778,
              "#fb9f3a"
             ],
             [
              0.8888888888888888,
              "#fdca26"
             ],
             [
              1,
              "#f0f921"
             ]
            ],
            "type": "surface"
           }
          ],
          "table": [
           {
            "cells": {
             "fill": {
              "color": "#EBF0F8"
             },
             "line": {
              "color": "white"
             }
            },
            "header": {
             "fill": {
              "color": "#C8D4E3"
             },
             "line": {
              "color": "white"
             }
            },
            "type": "table"
           }
          ]
         },
         "layout": {
          "annotationdefaults": {
           "arrowcolor": "#2a3f5f",
           "arrowhead": 0,
           "arrowwidth": 1
          },
          "autotypenumbers": "strict",
          "coloraxis": {
           "colorbar": {
            "outlinewidth": 0,
            "ticks": ""
           }
          },
          "colorscale": {
           "diverging": [
            [
             0,
             "#8e0152"
            ],
            [
             0.1,
             "#c51b7d"
            ],
            [
             0.2,
             "#de77ae"
            ],
            [
             0.3,
             "#f1b6da"
            ],
            [
             0.4,
             "#fde0ef"
            ],
            [
             0.5,
             "#f7f7f7"
            ],
            [
             0.6,
             "#e6f5d0"
            ],
            [
             0.7,
             "#b8e186"
            ],
            [
             0.8,
             "#7fbc41"
            ],
            [
             0.9,
             "#4d9221"
            ],
            [
             1,
             "#276419"
            ]
           ],
           "sequential": [
            [
             0,
             "#0d0887"
            ],
            [
             0.1111111111111111,
             "#46039f"
            ],
            [
             0.2222222222222222,
             "#7201a8"
            ],
            [
             0.3333333333333333,
             "#9c179e"
            ],
            [
             0.4444444444444444,
             "#bd3786"
            ],
            [
             0.5555555555555556,
             "#d8576b"
            ],
            [
             0.6666666666666666,
             "#ed7953"
            ],
            [
             0.7777777777777778,
             "#fb9f3a"
            ],
            [
             0.8888888888888888,
             "#fdca26"
            ],
            [
             1,
             "#f0f921"
            ]
           ],
           "sequentialminus": [
            [
             0,
             "#0d0887"
            ],
            [
             0.1111111111111111,
             "#46039f"
            ],
            [
             0.2222222222222222,
             "#7201a8"
            ],
            [
             0.3333333333333333,
             "#9c179e"
            ],
            [
             0.4444444444444444,
             "#bd3786"
            ],
            [
             0.5555555555555556,
             "#d8576b"
            ],
            [
             0.6666666666666666,
             "#ed7953"
            ],
            [
             0.7777777777777778,
             "#fb9f3a"
            ],
            [
             0.8888888888888888,
             "#fdca26"
            ],
            [
             1,
             "#f0f921"
            ]
           ]
          },
          "colorway": [
           "#636efa",
           "#EF553B",
           "#00cc96",
           "#ab63fa",
           "#FFA15A",
           "#19d3f3",
           "#FF6692",
           "#B6E880",
           "#FF97FF",
           "#FECB52"
          ],
          "font": {
           "color": "#2a3f5f"
          },
          "geo": {
           "bgcolor": "white",
           "lakecolor": "white",
           "landcolor": "#E5ECF6",
           "showlakes": true,
           "showland": true,
           "subunitcolor": "white"
          },
          "hoverlabel": {
           "align": "left"
          },
          "hovermode": "closest",
          "mapbox": {
           "style": "light"
          },
          "paper_bgcolor": "white",
          "plot_bgcolor": "#E5ECF6",
          "polar": {
           "angularaxis": {
            "gridcolor": "white",
            "linecolor": "white",
            "ticks": ""
           },
           "bgcolor": "#E5ECF6",
           "radialaxis": {
            "gridcolor": "white",
            "linecolor": "white",
            "ticks": ""
           }
          },
          "scene": {
           "xaxis": {
            "backgroundcolor": "#E5ECF6",
            "gridcolor": "white",
            "gridwidth": 2,
            "linecolor": "white",
            "showbackground": true,
            "ticks": "",
            "zerolinecolor": "white"
           },
           "yaxis": {
            "backgroundcolor": "#E5ECF6",
            "gridcolor": "white",
            "gridwidth": 2,
            "linecolor": "white",
            "showbackground": true,
            "ticks": "",
            "zerolinecolor": "white"
           },
           "zaxis": {
            "backgroundcolor": "#E5ECF6",
            "gridcolor": "white",
            "gridwidth": 2,
            "linecolor": "white",
            "showbackground": true,
            "ticks": "",
            "zerolinecolor": "white"
           }
          },
          "shapedefaults": {
           "line": {
            "color": "#2a3f5f"
           }
          },
          "ternary": {
           "aaxis": {
            "gridcolor": "white",
            "linecolor": "white",
            "ticks": ""
           },
           "baxis": {
            "gridcolor": "white",
            "linecolor": "white",
            "ticks": ""
           },
           "bgcolor": "#E5ECF6",
           "caxis": {
            "gridcolor": "white",
            "linecolor": "white",
            "ticks": ""
           }
          },
          "title": {
           "x": 0.05
          },
          "xaxis": {
           "automargin": true,
           "gridcolor": "white",
           "linecolor": "white",
           "ticks": "",
           "title": {
            "standoff": 15
           },
           "zerolinecolor": "white",
           "zerolinewidth": 2
          },
          "yaxis": {
           "automargin": true,
           "gridcolor": "white",
           "linecolor": "white",
           "ticks": "",
           "title": {
            "standoff": 15
           },
           "zerolinecolor": "white",
           "zerolinewidth": 2
          }
         }
        },
        "xaxis": {
         "anchor": "y",
         "domain": [
          0,
          1
         ],
         "title": {
          "text": "maaliyet"
         }
        },
        "yaxis": {
         "anchor": "x",
         "domain": [
          0,
          1
         ],
         "title": {
          "text": "puan"
         }
        }
       }
      }
     },
     "metadata": {},
     "output_type": "display_data"
    }
   ],
   "source": [
    "fig = px.scatter(data, x='maaliyet', y='puan', color='ilce', size='karlılık')\n",
    "fig.show()"
   ]
  },
  {
   "cell_type": "code",
   "execution_count": 284,
   "metadata": {},
   "outputs": [],
   "source": [
    "data = data[(data['puan']>0.4) & (data['maaliyet']>250000) & (data['maaliyet']<550000) & (data['karlılık']>1.0)]"
   ]
  },
  {
   "cell_type": "code",
   "execution_count": 291,
   "metadata": {},
   "outputs": [],
   "source": [
    "data.sort_values(by=['puan', 'karlılık'], ascending=[0,0], inplace=True)"
   ]
  },
  {
   "cell_type": "code",
   "execution_count": 292,
   "metadata": {},
   "outputs": [
    {
     "data": {
      "text/html": [
       "<div>\n",
       "<style scoped>\n",
       "    .dataframe tbody tr th:only-of-type {\n",
       "        vertical-align: middle;\n",
       "    }\n",
       "\n",
       "    .dataframe tbody tr th {\n",
       "        vertical-align: top;\n",
       "    }\n",
       "\n",
       "    .dataframe thead th {\n",
       "        text-align: right;\n",
       "    }\n",
       "</style>\n",
       "<table border=\"1\" class=\"dataframe\">\n",
       "  <thead>\n",
       "    <tr style=\"text-align: right;\">\n",
       "      <th></th>\n",
       "      <th>ilce</th>\n",
       "      <th>mahalle</th>\n",
       "      <th>maaliyet</th>\n",
       "      <th>puan</th>\n",
       "      <th>karlılık</th>\n",
       "    </tr>\n",
       "  </thead>\n",
       "  <tbody>\n",
       "    <tr>\n",
       "      <th>1</th>\n",
       "      <td>BAKIRKOY</td>\n",
       "      <td>ATAKOY7-8-9-10.KISIM</td>\n",
       "      <td>525000</td>\n",
       "      <td>0.656336</td>\n",
       "      <td>1.250164</td>\n",
       "    </tr>\n",
       "    <tr>\n",
       "      <th>2</th>\n",
       "      <td>SISLI</td>\n",
       "      <td>TESVIKIYE</td>\n",
       "      <td>543000</td>\n",
       "      <td>0.649799</td>\n",
       "      <td>1.196682</td>\n",
       "    </tr>\n",
       "    <tr>\n",
       "      <th>3</th>\n",
       "      <td>BEYKOZ</td>\n",
       "      <td>ACARLAR</td>\n",
       "      <td>363000</td>\n",
       "      <td>0.643938</td>\n",
       "      <td>1.773934</td>\n",
       "    </tr>\n",
       "    <tr>\n",
       "      <th>6</th>\n",
       "      <td>ATASEHIR</td>\n",
       "      <td>ATATURK</td>\n",
       "      <td>486000</td>\n",
       "      <td>0.635512</td>\n",
       "      <td>1.307638</td>\n",
       "    </tr>\n",
       "    <tr>\n",
       "      <th>7</th>\n",
       "      <td>BAKIRKOY</td>\n",
       "      <td>ATAKOY2-5-6.KISIM</td>\n",
       "      <td>525000</td>\n",
       "      <td>0.619141</td>\n",
       "      <td>1.179317</td>\n",
       "    </tr>\n",
       "    <tr>\n",
       "      <th>9</th>\n",
       "      <td>USKUDAR</td>\n",
       "      <td>ALTUNIZADE</td>\n",
       "      <td>393000</td>\n",
       "      <td>0.614617</td>\n",
       "      <td>1.563911</td>\n",
       "    </tr>\n",
       "    <tr>\n",
       "      <th>12</th>\n",
       "      <td>BASAKSEHIR</td>\n",
       "      <td>BAHCESEHIR1.KISIM</td>\n",
       "      <td>345000</td>\n",
       "      <td>0.598788</td>\n",
       "      <td>1.735617</td>\n",
       "    </tr>\n",
       "    <tr>\n",
       "      <th>13</th>\n",
       "      <td>BEYKOZ</td>\n",
       "      <td>KANLICA</td>\n",
       "      <td>363000</td>\n",
       "      <td>0.582922</td>\n",
       "      <td>1.605845</td>\n",
       "    </tr>\n",
       "    <tr>\n",
       "      <th>15</th>\n",
       "      <td>BEYKOZ</td>\n",
       "      <td>ANADOLUHISARI</td>\n",
       "      <td>363000</td>\n",
       "      <td>0.576004</td>\n",
       "      <td>1.586789</td>\n",
       "    </tr>\n",
       "    <tr>\n",
       "      <th>17</th>\n",
       "      <td>ZEYTINBURNU</td>\n",
       "      <td>MALTEPE</td>\n",
       "      <td>360000</td>\n",
       "      <td>0.571272</td>\n",
       "      <td>1.586867</td>\n",
       "    </tr>\n",
       "  </tbody>\n",
       "</table>\n",
       "</div>"
      ],
      "text/plain": [
       "           ilce               mahalle  maaliyet      puan  karlılık\n",
       "1      BAKIRKOY  ATAKOY7-8-9-10.KISIM    525000  0.656336  1.250164\n",
       "2         SISLI             TESVIKIYE    543000  0.649799  1.196682\n",
       "3        BEYKOZ               ACARLAR    363000  0.643938  1.773934\n",
       "6      ATASEHIR               ATATURK    486000  0.635512  1.307638\n",
       "7      BAKIRKOY     ATAKOY2-5-6.KISIM    525000  0.619141  1.179317\n",
       "9       USKUDAR            ALTUNIZADE    393000  0.614617  1.563911\n",
       "12   BASAKSEHIR     BAHCESEHIR1.KISIM    345000  0.598788  1.735617\n",
       "13       BEYKOZ               KANLICA    363000  0.582922  1.605845\n",
       "15       BEYKOZ         ANADOLUHISARI    363000  0.576004  1.586789\n",
       "17  ZEYTINBURNU               MALTEPE    360000  0.571272  1.586867"
      ]
     },
     "execution_count": 292,
     "metadata": {},
     "output_type": "execute_result"
    }
   ],
   "source": [
    "data.head(10)"
   ]
  },
  {
   "cell_type": "code",
   "execution_count": 302,
   "metadata": {},
   "outputs": [
    {
     "data": {
      "text/plain": [
       "165000"
      ]
     },
     "execution_count": 302,
     "metadata": {},
     "output_type": "execute_result"
    }
   ],
   "source": [
    "choosen = pd.DataFrame()\n",
    "budget = 3000000\n",
    "for row in range(len(data)):\n",
    "    budget -= data.iloc[row]['maaliyet']\n",
    "    if budget <= 0:\n",
    "        budget += data.iloc[row]['maaliyet']\n",
    "        break\n",
    "    else:\n",
    "        choosen = pd.concat([choosen, data.iloc[[row]]], axis=0)\n",
    "\n",
    "budget"
   ]
  },
  {
   "cell_type": "code",
   "execution_count": 303,
   "metadata": {},
   "outputs": [
    {
     "data": {
      "text/html": [
       "<div>\n",
       "<style scoped>\n",
       "    .dataframe tbody tr th:only-of-type {\n",
       "        vertical-align: middle;\n",
       "    }\n",
       "\n",
       "    .dataframe tbody tr th {\n",
       "        vertical-align: top;\n",
       "    }\n",
       "\n",
       "    .dataframe thead th {\n",
       "        text-align: right;\n",
       "    }\n",
       "</style>\n",
       "<table border=\"1\" class=\"dataframe\">\n",
       "  <thead>\n",
       "    <tr style=\"text-align: right;\">\n",
       "      <th></th>\n",
       "      <th>ilce</th>\n",
       "      <th>mahalle</th>\n",
       "      <th>maaliyet</th>\n",
       "      <th>puan</th>\n",
       "      <th>karlılık</th>\n",
       "    </tr>\n",
       "  </thead>\n",
       "  <tbody>\n",
       "    <tr>\n",
       "      <th>1</th>\n",
       "      <td>BAKIRKOY</td>\n",
       "      <td>ATAKOY7-8-9-10.KISIM</td>\n",
       "      <td>525000</td>\n",
       "      <td>0.656336</td>\n",
       "      <td>1.250164</td>\n",
       "    </tr>\n",
       "    <tr>\n",
       "      <th>2</th>\n",
       "      <td>SISLI</td>\n",
       "      <td>TESVIKIYE</td>\n",
       "      <td>543000</td>\n",
       "      <td>0.649799</td>\n",
       "      <td>1.196682</td>\n",
       "    </tr>\n",
       "    <tr>\n",
       "      <th>3</th>\n",
       "      <td>BEYKOZ</td>\n",
       "      <td>ACARLAR</td>\n",
       "      <td>363000</td>\n",
       "      <td>0.643938</td>\n",
       "      <td>1.773934</td>\n",
       "    </tr>\n",
       "    <tr>\n",
       "      <th>6</th>\n",
       "      <td>ATASEHIR</td>\n",
       "      <td>ATATURK</td>\n",
       "      <td>486000</td>\n",
       "      <td>0.635512</td>\n",
       "      <td>1.307638</td>\n",
       "    </tr>\n",
       "    <tr>\n",
       "      <th>7</th>\n",
       "      <td>BAKIRKOY</td>\n",
       "      <td>ATAKOY2-5-6.KISIM</td>\n",
       "      <td>525000</td>\n",
       "      <td>0.619141</td>\n",
       "      <td>1.179317</td>\n",
       "    </tr>\n",
       "    <tr>\n",
       "      <th>9</th>\n",
       "      <td>USKUDAR</td>\n",
       "      <td>ALTUNIZADE</td>\n",
       "      <td>393000</td>\n",
       "      <td>0.614617</td>\n",
       "      <td>1.563911</td>\n",
       "    </tr>\n",
       "  </tbody>\n",
       "</table>\n",
       "</div>"
      ],
      "text/plain": [
       "       ilce               mahalle  maaliyet      puan  karlılık\n",
       "1  BAKIRKOY  ATAKOY7-8-9-10.KISIM    525000  0.656336  1.250164\n",
       "2     SISLI             TESVIKIYE    543000  0.649799  1.196682\n",
       "3    BEYKOZ               ACARLAR    363000  0.643938  1.773934\n",
       "6  ATASEHIR               ATATURK    486000  0.635512  1.307638\n",
       "7  BAKIRKOY     ATAKOY2-5-6.KISIM    525000  0.619141  1.179317\n",
       "9   USKUDAR            ALTUNIZADE    393000  0.614617  1.563911"
      ]
     },
     "execution_count": 303,
     "metadata": {},
     "output_type": "execute_result"
    }
   ],
   "source": [
    "choosen"
   ]
  },
  {
   "cell_type": "code",
   "execution_count": 313,
   "metadata": {},
   "outputs": [
    {
     "data": {
      "application/vnd.plotly.v1+json": {
       "config": {
        "plotlyServerURL": "https://plot.ly"
       },
       "data": [
        {
         "hovertemplate": "ilce=BAKIRKOY<br>maaliyet=%{x}<br>puan=%{y}<br>karlılık=%{marker.size}<extra></extra>",
         "legendgroup": "BAKIRKOY",
         "marker": {
          "color": "#636efa",
          "size": [
           1.2501644846918012,
           1.179317069136978
          ],
          "sizemode": "area",
          "sizeref": 0.004434835553716252,
          "symbol": "circle"
         },
         "mode": "markers",
         "name": "BAKIRKOY",
         "orientation": "v",
         "showlegend": true,
         "type": "scatter",
         "x": [
          525000,
          525000
         ],
         "xaxis": "x",
         "y": [
          0.6563363544631957,
          0.6191414612969135
         ],
         "yaxis": "y"
        },
        {
         "hovertemplate": "ilce=SISLI<br>maaliyet=%{x}<br>puan=%{y}<br>karlılık=%{marker.size}<extra></extra>",
         "legendgroup": "SISLI",
         "marker": {
          "color": "#EF553B",
          "size": [
           1.196682461721166
          ],
          "sizemode": "area",
          "sizeref": 0.004434835553716252,
          "symbol": "circle"
         },
         "mode": "markers",
         "name": "SISLI",
         "orientation": "v",
         "showlegend": true,
         "type": "scatter",
         "x": [
          543000
         ],
         "xaxis": "x",
         "y": [
          0.6497985767145931
         ],
         "yaxis": "y"
        },
        {
         "hovertemplate": "ilce=BEYKOZ<br>maaliyet=%{x}<br>puan=%{y}<br>karlılık=%{marker.size}<extra></extra>",
         "legendgroup": "BEYKOZ",
         "marker": {
          "color": "#00cc96",
          "size": [
           1.773934221486501
          ],
          "sizemode": "area",
          "sizeref": 0.004434835553716252,
          "symbol": "circle"
         },
         "mode": "markers",
         "name": "BEYKOZ",
         "orientation": "v",
         "showlegend": true,
         "type": "scatter",
         "x": [
          363000
         ],
         "xaxis": "x",
         "y": [
          0.6439381223995999
         ],
         "yaxis": "y"
        },
        {
         "hovertemplate": "ilce=ATASEHIR<br>maaliyet=%{x}<br>puan=%{y}<br>karlılık=%{marker.size}<extra></extra>",
         "legendgroup": "ATASEHIR",
         "marker": {
          "color": "#ab63fa",
          "size": [
           1.3076377426600836
          ],
          "sizemode": "area",
          "sizeref": 0.004434835553716252,
          "symbol": "circle"
         },
         "mode": "markers",
         "name": "ATASEHIR",
         "orientation": "v",
         "showlegend": true,
         "type": "scatter",
         "x": [
          486000
         ],
         "xaxis": "x",
         "y": [
          0.6355119429328007
         ],
         "yaxis": "y"
        },
        {
         "hovertemplate": "ilce=USKUDAR<br>maaliyet=%{x}<br>puan=%{y}<br>karlılık=%{marker.size}<extra></extra>",
         "legendgroup": "USKUDAR",
         "marker": {
          "color": "#FFA15A",
          "size": [
           1.5639113807010423
          ],
          "sizemode": "area",
          "sizeref": 0.004434835553716252,
          "symbol": "circle"
         },
         "mode": "markers",
         "name": "USKUDAR",
         "orientation": "v",
         "showlegend": true,
         "type": "scatter",
         "x": [
          393000
         ],
         "xaxis": "x",
         "y": [
          0.6146171726155096
         ],
         "yaxis": "y"
        }
       ],
       "layout": {
        "height": 600,
        "legend": {
         "itemsizing": "constant",
         "title": {
          "text": "ilce"
         },
         "tracegroupgap": 0
        },
        "margin": {
         "t": 60
        },
        "template": {
         "data": {
          "bar": [
           {
            "error_x": {
             "color": "#2a3f5f"
            },
            "error_y": {
             "color": "#2a3f5f"
            },
            "marker": {
             "line": {
              "color": "#E5ECF6",
              "width": 0.5
             },
             "pattern": {
              "fillmode": "overlay",
              "size": 10,
              "solidity": 0.2
             }
            },
            "type": "bar"
           }
          ],
          "barpolar": [
           {
            "marker": {
             "line": {
              "color": "#E5ECF6",
              "width": 0.5
             },
             "pattern": {
              "fillmode": "overlay",
              "size": 10,
              "solidity": 0.2
             }
            },
            "type": "barpolar"
           }
          ],
          "carpet": [
           {
            "aaxis": {
             "endlinecolor": "#2a3f5f",
             "gridcolor": "white",
             "linecolor": "white",
             "minorgridcolor": "white",
             "startlinecolor": "#2a3f5f"
            },
            "baxis": {
             "endlinecolor": "#2a3f5f",
             "gridcolor": "white",
             "linecolor": "white",
             "minorgridcolor": "white",
             "startlinecolor": "#2a3f5f"
            },
            "type": "carpet"
           }
          ],
          "choropleth": [
           {
            "colorbar": {
             "outlinewidth": 0,
             "ticks": ""
            },
            "type": "choropleth"
           }
          ],
          "contour": [
           {
            "colorbar": {
             "outlinewidth": 0,
             "ticks": ""
            },
            "colorscale": [
             [
              0,
              "#0d0887"
             ],
             [
              0.1111111111111111,
              "#46039f"
             ],
             [
              0.2222222222222222,
              "#7201a8"
             ],
             [
              0.3333333333333333,
              "#9c179e"
             ],
             [
              0.4444444444444444,
              "#bd3786"
             ],
             [
              0.5555555555555556,
              "#d8576b"
             ],
             [
              0.6666666666666666,
              "#ed7953"
             ],
             [
              0.7777777777777778,
              "#fb9f3a"
             ],
             [
              0.8888888888888888,
              "#fdca26"
             ],
             [
              1,
              "#f0f921"
             ]
            ],
            "type": "contour"
           }
          ],
          "contourcarpet": [
           {
            "colorbar": {
             "outlinewidth": 0,
             "ticks": ""
            },
            "type": "contourcarpet"
           }
          ],
          "heatmap": [
           {
            "colorbar": {
             "outlinewidth": 0,
             "ticks": ""
            },
            "colorscale": [
             [
              0,
              "#0d0887"
             ],
             [
              0.1111111111111111,
              "#46039f"
             ],
             [
              0.2222222222222222,
              "#7201a8"
             ],
             [
              0.3333333333333333,
              "#9c179e"
             ],
             [
              0.4444444444444444,
              "#bd3786"
             ],
             [
              0.5555555555555556,
              "#d8576b"
             ],
             [
              0.6666666666666666,
              "#ed7953"
             ],
             [
              0.7777777777777778,
              "#fb9f3a"
             ],
             [
              0.8888888888888888,
              "#fdca26"
             ],
             [
              1,
              "#f0f921"
             ]
            ],
            "type": "heatmap"
           }
          ],
          "heatmapgl": [
           {
            "colorbar": {
             "outlinewidth": 0,
             "ticks": ""
            },
            "colorscale": [
             [
              0,
              "#0d0887"
             ],
             [
              0.1111111111111111,
              "#46039f"
             ],
             [
              0.2222222222222222,
              "#7201a8"
             ],
             [
              0.3333333333333333,
              "#9c179e"
             ],
             [
              0.4444444444444444,
              "#bd3786"
             ],
             [
              0.5555555555555556,
              "#d8576b"
             ],
             [
              0.6666666666666666,
              "#ed7953"
             ],
             [
              0.7777777777777778,
              "#fb9f3a"
             ],
             [
              0.8888888888888888,
              "#fdca26"
             ],
             [
              1,
              "#f0f921"
             ]
            ],
            "type": "heatmapgl"
           }
          ],
          "histogram": [
           {
            "marker": {
             "pattern": {
              "fillmode": "overlay",
              "size": 10,
              "solidity": 0.2
             }
            },
            "type": "histogram"
           }
          ],
          "histogram2d": [
           {
            "colorbar": {
             "outlinewidth": 0,
             "ticks": ""
            },
            "colorscale": [
             [
              0,
              "#0d0887"
             ],
             [
              0.1111111111111111,
              "#46039f"
             ],
             [
              0.2222222222222222,
              "#7201a8"
             ],
             [
              0.3333333333333333,
              "#9c179e"
             ],
             [
              0.4444444444444444,
              "#bd3786"
             ],
             [
              0.5555555555555556,
              "#d8576b"
             ],
             [
              0.6666666666666666,
              "#ed7953"
             ],
             [
              0.7777777777777778,
              "#fb9f3a"
             ],
             [
              0.8888888888888888,
              "#fdca26"
             ],
             [
              1,
              "#f0f921"
             ]
            ],
            "type": "histogram2d"
           }
          ],
          "histogram2dcontour": [
           {
            "colorbar": {
             "outlinewidth": 0,
             "ticks": ""
            },
            "colorscale": [
             [
              0,
              "#0d0887"
             ],
             [
              0.1111111111111111,
              "#46039f"
             ],
             [
              0.2222222222222222,
              "#7201a8"
             ],
             [
              0.3333333333333333,
              "#9c179e"
             ],
             [
              0.4444444444444444,
              "#bd3786"
             ],
             [
              0.5555555555555556,
              "#d8576b"
             ],
             [
              0.6666666666666666,
              "#ed7953"
             ],
             [
              0.7777777777777778,
              "#fb9f3a"
             ],
             [
              0.8888888888888888,
              "#fdca26"
             ],
             [
              1,
              "#f0f921"
             ]
            ],
            "type": "histogram2dcontour"
           }
          ],
          "mesh3d": [
           {
            "colorbar": {
             "outlinewidth": 0,
             "ticks": ""
            },
            "type": "mesh3d"
           }
          ],
          "parcoords": [
           {
            "line": {
             "colorbar": {
              "outlinewidth": 0,
              "ticks": ""
             }
            },
            "type": "parcoords"
           }
          ],
          "pie": [
           {
            "automargin": true,
            "type": "pie"
           }
          ],
          "scatter": [
           {
            "fillpattern": {
             "fillmode": "overlay",
             "size": 10,
             "solidity": 0.2
            },
            "type": "scatter"
           }
          ],
          "scatter3d": [
           {
            "line": {
             "colorbar": {
              "outlinewidth": 0,
              "ticks": ""
             }
            },
            "marker": {
             "colorbar": {
              "outlinewidth": 0,
              "ticks": ""
             }
            },
            "type": "scatter3d"
           }
          ],
          "scattercarpet": [
           {
            "marker": {
             "colorbar": {
              "outlinewidth": 0,
              "ticks": ""
             }
            },
            "type": "scattercarpet"
           }
          ],
          "scattergeo": [
           {
            "marker": {
             "colorbar": {
              "outlinewidth": 0,
              "ticks": ""
             }
            },
            "type": "scattergeo"
           }
          ],
          "scattergl": [
           {
            "marker": {
             "colorbar": {
              "outlinewidth": 0,
              "ticks": ""
             }
            },
            "type": "scattergl"
           }
          ],
          "scattermapbox": [
           {
            "marker": {
             "colorbar": {
              "outlinewidth": 0,
              "ticks": ""
             }
            },
            "type": "scattermapbox"
           }
          ],
          "scatterpolar": [
           {
            "marker": {
             "colorbar": {
              "outlinewidth": 0,
              "ticks": ""
             }
            },
            "type": "scatterpolar"
           }
          ],
          "scatterpolargl": [
           {
            "marker": {
             "colorbar": {
              "outlinewidth": 0,
              "ticks": ""
             }
            },
            "type": "scatterpolargl"
           }
          ],
          "scatterternary": [
           {
            "marker": {
             "colorbar": {
              "outlinewidth": 0,
              "ticks": ""
             }
            },
            "type": "scatterternary"
           }
          ],
          "surface": [
           {
            "colorbar": {
             "outlinewidth": 0,
             "ticks": ""
            },
            "colorscale": [
             [
              0,
              "#0d0887"
             ],
             [
              0.1111111111111111,
              "#46039f"
             ],
             [
              0.2222222222222222,
              "#7201a8"
             ],
             [
              0.3333333333333333,
              "#9c179e"
             ],
             [
              0.4444444444444444,
              "#bd3786"
             ],
             [
              0.5555555555555556,
              "#d8576b"
             ],
             [
              0.6666666666666666,
              "#ed7953"
             ],
             [
              0.7777777777777778,
              "#fb9f3a"
             ],
             [
              0.8888888888888888,
              "#fdca26"
             ],
             [
              1,
              "#f0f921"
             ]
            ],
            "type": "surface"
           }
          ],
          "table": [
           {
            "cells": {
             "fill": {
              "color": "#EBF0F8"
             },
             "line": {
              "color": "white"
             }
            },
            "header": {
             "fill": {
              "color": "#C8D4E3"
             },
             "line": {
              "color": "white"
             }
            },
            "type": "table"
           }
          ]
         },
         "layout": {
          "annotationdefaults": {
           "arrowcolor": "#2a3f5f",
           "arrowhead": 0,
           "arrowwidth": 1
          },
          "autotypenumbers": "strict",
          "coloraxis": {
           "colorbar": {
            "outlinewidth": 0,
            "ticks": ""
           }
          },
          "colorscale": {
           "diverging": [
            [
             0,
             "#8e0152"
            ],
            [
             0.1,
             "#c51b7d"
            ],
            [
             0.2,
             "#de77ae"
            ],
            [
             0.3,
             "#f1b6da"
            ],
            [
             0.4,
             "#fde0ef"
            ],
            [
             0.5,
             "#f7f7f7"
            ],
            [
             0.6,
             "#e6f5d0"
            ],
            [
             0.7,
             "#b8e186"
            ],
            [
             0.8,
             "#7fbc41"
            ],
            [
             0.9,
             "#4d9221"
            ],
            [
             1,
             "#276419"
            ]
           ],
           "sequential": [
            [
             0,
             "#0d0887"
            ],
            [
             0.1111111111111111,
             "#46039f"
            ],
            [
             0.2222222222222222,
             "#7201a8"
            ],
            [
             0.3333333333333333,
             "#9c179e"
            ],
            [
             0.4444444444444444,
             "#bd3786"
            ],
            [
             0.5555555555555556,
             "#d8576b"
            ],
            [
             0.6666666666666666,
             "#ed7953"
            ],
            [
             0.7777777777777778,
             "#fb9f3a"
            ],
            [
             0.8888888888888888,
             "#fdca26"
            ],
            [
             1,
             "#f0f921"
            ]
           ],
           "sequentialminus": [
            [
             0,
             "#0d0887"
            ],
            [
             0.1111111111111111,
             "#46039f"
            ],
            [
             0.2222222222222222,
             "#7201a8"
            ],
            [
             0.3333333333333333,
             "#9c179e"
            ],
            [
             0.4444444444444444,
             "#bd3786"
            ],
            [
             0.5555555555555556,
             "#d8576b"
            ],
            [
             0.6666666666666666,
             "#ed7953"
            ],
            [
             0.7777777777777778,
             "#fb9f3a"
            ],
            [
             0.8888888888888888,
             "#fdca26"
            ],
            [
             1,
             "#f0f921"
            ]
           ]
          },
          "colorway": [
           "#636efa",
           "#EF553B",
           "#00cc96",
           "#ab63fa",
           "#FFA15A",
           "#19d3f3",
           "#FF6692",
           "#B6E880",
           "#FF97FF",
           "#FECB52"
          ],
          "font": {
           "color": "#2a3f5f"
          },
          "geo": {
           "bgcolor": "white",
           "lakecolor": "white",
           "landcolor": "#E5ECF6",
           "showlakes": true,
           "showland": true,
           "subunitcolor": "white"
          },
          "hoverlabel": {
           "align": "left"
          },
          "hovermode": "closest",
          "mapbox": {
           "style": "light"
          },
          "paper_bgcolor": "white",
          "plot_bgcolor": "#E5ECF6",
          "polar": {
           "angularaxis": {
            "gridcolor": "white",
            "linecolor": "white",
            "ticks": ""
           },
           "bgcolor": "#E5ECF6",
           "radialaxis": {
            "gridcolor": "white",
            "linecolor": "white",
            "ticks": ""
           }
          },
          "scene": {
           "xaxis": {
            "backgroundcolor": "#E5ECF6",
            "gridcolor": "white",
            "gridwidth": 2,
            "linecolor": "white",
            "showbackground": true,
            "ticks": "",
            "zerolinecolor": "white"
           },
           "yaxis": {
            "backgroundcolor": "#E5ECF6",
            "gridcolor": "white",
            "gridwidth": 2,
            "linecolor": "white",
            "showbackground": true,
            "ticks": "",
            "zerolinecolor": "white"
           },
           "zaxis": {
            "backgroundcolor": "#E5ECF6",
            "gridcolor": "white",
            "gridwidth": 2,
            "linecolor": "white",
            "showbackground": true,
            "ticks": "",
            "zerolinecolor": "white"
           }
          },
          "shapedefaults": {
           "line": {
            "color": "#2a3f5f"
           }
          },
          "ternary": {
           "aaxis": {
            "gridcolor": "white",
            "linecolor": "white",
            "ticks": ""
           },
           "baxis": {
            "gridcolor": "white",
            "linecolor": "white",
            "ticks": ""
           },
           "bgcolor": "#E5ECF6",
           "caxis": {
            "gridcolor": "white",
            "linecolor": "white",
            "ticks": ""
           }
          },
          "title": {
           "x": 0.05
          },
          "xaxis": {
           "automargin": true,
           "gridcolor": "white",
           "linecolor": "white",
           "ticks": "",
           "title": {
            "standoff": 15
           },
           "zerolinecolor": "white",
           "zerolinewidth": 2
          },
          "yaxis": {
           "automargin": true,
           "gridcolor": "white",
           "linecolor": "white",
           "ticks": "",
           "title": {
            "standoff": 15
           },
           "zerolinecolor": "white",
           "zerolinewidth": 2
          }
         }
        },
        "title": {
         "text": "Seçilen Mahalleler"
        },
        "width": 900,
        "xaxis": {
         "anchor": "y",
         "domain": [
          0,
          1
         ],
         "title": {
          "text": "maaliyet"
         }
        },
        "yaxis": {
         "anchor": "x",
         "domain": [
          0,
          1
         ],
         "title": {
          "text": "puan"
         }
        }
       }
      }
     },
     "metadata": {},
     "output_type": "display_data"
    }
   ],
   "source": [
    "fig = px.scatter(choosen, x='maaliyet', y='puan', color='ilce', size='karlılık')\n",
    "fig.update_layout(title='Seçilen Mahalleler', height=600, width=900)\n",
    "fig.show()"
   ]
  },
  {
   "cell_type": "code",
   "execution_count": 314,
   "metadata": {},
   "outputs": [],
   "source": [
    "choosen.to_csv('../Datasets/PROCESSED/choosen.csv', index=False)"
   ]
  }
 ],
 "metadata": {
  "kernelspec": {
   "display_name": "Python 3",
   "language": "python",
   "name": "python3"
  },
  "language_info": {
   "codemirror_mode": {
    "name": "ipython",
    "version": 3
   },
   "file_extension": ".py",
   "mimetype": "text/x-python",
   "name": "python",
   "nbconvert_exporter": "python",
   "pygments_lexer": "ipython3",
   "version": "3.11.2"
  },
  "orig_nbformat": 4
 },
 "nbformat": 4,
 "nbformat_minor": 2
}
