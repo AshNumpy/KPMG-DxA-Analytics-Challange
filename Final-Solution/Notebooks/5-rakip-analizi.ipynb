{
 "cells": [
  {
   "cell_type": "code",
   "execution_count": 79,
   "metadata": {},
   "outputs": [],
   "source": [
    "import pandas as pd \n",
    "import numpy as np \n",
    "import plotly.express as px"
   ]
  },
  {
   "cell_type": "code",
   "execution_count": 80,
   "metadata": {},
   "outputs": [
    {
     "data": {
      "text/html": [
       "<div>\n",
       "<style scoped>\n",
       "    .dataframe tbody tr th:only-of-type {\n",
       "        vertical-align: middle;\n",
       "    }\n",
       "\n",
       "    .dataframe tbody tr th {\n",
       "        vertical-align: top;\n",
       "    }\n",
       "\n",
       "    .dataframe thead th {\n",
       "        text-align: right;\n",
       "    }\n",
       "</style>\n",
       "<table border=\"1\" class=\"dataframe\">\n",
       "  <thead>\n",
       "    <tr style=\"text-align: right;\">\n",
       "      <th></th>\n",
       "      <th>İLÇE ADI</th>\n",
       "      <th>MAHALLE ADI</th>\n",
       "      <th>SES</th>\n",
       "      <th>SES SKORU</th>\n",
       "    </tr>\n",
       "  </thead>\n",
       "  <tbody>\n",
       "    <tr>\n",
       "      <th>0</th>\n",
       "      <td>ADALAR</td>\n",
       "      <td>BURGAZADA</td>\n",
       "      <td>B</td>\n",
       "      <td>62.5</td>\n",
       "    </tr>\n",
       "    <tr>\n",
       "      <th>1</th>\n",
       "      <td>ADALAR</td>\n",
       "      <td>HEYBELIADA</td>\n",
       "      <td>B</td>\n",
       "      <td>62.5</td>\n",
       "    </tr>\n",
       "    <tr>\n",
       "      <th>2</th>\n",
       "      <td>ADALAR</td>\n",
       "      <td>KINALIADA</td>\n",
       "      <td>C</td>\n",
       "      <td>37.5</td>\n",
       "    </tr>\n",
       "    <tr>\n",
       "      <th>3</th>\n",
       "      <td>ADALAR</td>\n",
       "      <td>MADEN</td>\n",
       "      <td>B</td>\n",
       "      <td>62.5</td>\n",
       "    </tr>\n",
       "    <tr>\n",
       "      <th>4</th>\n",
       "      <td>ADALAR</td>\n",
       "      <td>NIZAM</td>\n",
       "      <td>B+</td>\n",
       "      <td>75.0</td>\n",
       "    </tr>\n",
       "  </tbody>\n",
       "</table>\n",
       "</div>"
      ],
      "text/plain": [
       "  İLÇE ADI MAHALLE ADI SES  SES SKORU\n",
       "0   ADALAR   BURGAZADA   B       62.5\n",
       "1   ADALAR  HEYBELIADA   B       62.5\n",
       "2   ADALAR   KINALIADA   C       37.5\n",
       "3   ADALAR       MADEN   B       62.5\n",
       "4   ADALAR       NIZAM  B+       75.0"
      ]
     },
     "execution_count": 80,
     "metadata": {},
     "output_type": "execute_result"
    }
   ],
   "source": [
    "ses = pd.read_csv(\"../Datasets/PROCESSED/ses2.csv\")\n",
    "ses.head()"
   ]
  },
  {
   "cell_type": "code",
   "execution_count": 81,
   "metadata": {},
   "outputs": [
    {
     "data": {
      "text/html": [
       "<div>\n",
       "<style scoped>\n",
       "    .dataframe tbody tr th:only-of-type {\n",
       "        vertical-align: middle;\n",
       "    }\n",
       "\n",
       "    .dataframe tbody tr th {\n",
       "        vertical-align: top;\n",
       "    }\n",
       "\n",
       "    .dataframe thead th {\n",
       "        text-align: right;\n",
       "    }\n",
       "</style>\n",
       "<table border=\"1\" class=\"dataframe\">\n",
       "  <thead>\n",
       "    <tr style=\"text-align: right;\">\n",
       "      <th></th>\n",
       "      <th>sehir</th>\n",
       "      <th>acik_adres</th>\n",
       "      <th>ilce</th>\n",
       "      <th>mahalle</th>\n",
       "      <th>nufus_yogunlugu</th>\n",
       "      <th>nufus</th>\n",
       "      <th>yuzolcumu</th>\n",
       "      <th>maliyet</th>\n",
       "      <th>İLÇE ADI</th>\n",
       "      <th>MAHALLE ADI</th>\n",
       "      <th>SES</th>\n",
       "      <th>SES SKORU</th>\n",
       "    </tr>\n",
       "  </thead>\n",
       "  <tbody>\n",
       "    <tr>\n",
       "      <th>0</th>\n",
       "      <td>İSTANBUL</td>\n",
       "      <td>KOCATEPE MAH PAŞA CAD NO:3, FORUM ISTANBUL AVM...</td>\n",
       "      <td>BAYRAMPASA</td>\n",
       "      <td>KOCATEPE</td>\n",
       "      <td>12394.0</td>\n",
       "      <td>21448</td>\n",
       "      <td>1.7</td>\n",
       "      <td>300000</td>\n",
       "      <td>BAYRAMPASA</td>\n",
       "      <td>KOCATEPE</td>\n",
       "      <td>C</td>\n",
       "      <td>37.5</td>\n",
       "    </tr>\n",
       "    <tr>\n",
       "      <th>1</th>\n",
       "      <td>İSTANBUL</td>\n",
       "      <td>MAHMUTBEY MAHALLESİ TAŞOCAĞI YOLU CAD. A BLOK ...</td>\n",
       "      <td>BAGCILAR</td>\n",
       "      <td>MAHMUTBEY</td>\n",
       "      <td>5225.0</td>\n",
       "      <td>24596</td>\n",
       "      <td>4.7</td>\n",
       "      <td>315000</td>\n",
       "      <td>BAGCILAR</td>\n",
       "      <td>MAHMUTBEY</td>\n",
       "      <td>C</td>\n",
       "      <td>37.5</td>\n",
       "    </tr>\n",
       "    <tr>\n",
       "      <th>2</th>\n",
       "      <td>İSTANBUL</td>\n",
       "      <td>MASLAK MAHALLESI, AHİ EVRAN CAD NO:6/A 42 SHOP...</td>\n",
       "      <td>SARIYER</td>\n",
       "      <td>MASLAK</td>\n",
       "      <td>1328.0</td>\n",
       "      <td>8091</td>\n",
       "      <td>6.1</td>\n",
       "      <td>819000</td>\n",
       "      <td>SARIYER</td>\n",
       "      <td>MASLAK</td>\n",
       "      <td>A</td>\n",
       "      <td>87.5</td>\n",
       "    </tr>\n",
       "  </tbody>\n",
       "</table>\n",
       "</div>"
      ],
      "text/plain": [
       "      sehir                                         acik_adres        ilce  \\\n",
       "0  İSTANBUL  KOCATEPE MAH PAŞA CAD NO:3, FORUM ISTANBUL AVM...  BAYRAMPASA   \n",
       "1  İSTANBUL  MAHMUTBEY MAHALLESİ TAŞOCAĞI YOLU CAD. A BLOK ...    BAGCILAR   \n",
       "2  İSTANBUL  MASLAK MAHALLESI, AHİ EVRAN CAD NO:6/A 42 SHOP...     SARIYER   \n",
       "\n",
       "     mahalle  nufus_yogunlugu  nufus  yuzolcumu  maliyet    İLÇE ADI  \\\n",
       "0   KOCATEPE          12394.0  21448        1.7   300000  BAYRAMPASA   \n",
       "1  MAHMUTBEY           5225.0  24596        4.7   315000    BAGCILAR   \n",
       "2     MASLAK           1328.0   8091        6.1   819000     SARIYER   \n",
       "\n",
       "  MAHALLE ADI SES  SES SKORU  \n",
       "0    KOCATEPE   C       37.5  \n",
       "1   MAHMUTBEY   C       37.5  \n",
       "2      MASLAK   A       87.5  "
      ]
     },
     "execution_count": 81,
     "metadata": {},
     "output_type": "execute_result"
    }
   ],
   "source": [
    "brew = pd.read_csv(\"../Datasets/PROCESSED/brewstation.csv\")\n",
    "brew['mahalle'] = brew['mahalle'].str.replace(\" \", \"\")\n",
    "brew = pd.merge(brew, ses, left_on=['ilce','mahalle'], right_on=[\"İLÇE ADI\", 'MAHALLE ADI'], how=\"left\")\n",
    "brew.head(3)"
   ]
  },
  {
   "cell_type": "code",
   "execution_count": 82,
   "metadata": {},
   "outputs": [],
   "source": [
    "brew.drop(['acik_adres','yuzolcumu', 'sehir','SES','MAHALLE ADI','İLÇE ADI'], axis=1, inplace=True)"
   ]
  },
  {
   "cell_type": "code",
   "execution_count": 83,
   "metadata": {},
   "outputs": [
    {
     "data": {
      "text/html": [
       "<div>\n",
       "<style scoped>\n",
       "    .dataframe tbody tr th:only-of-type {\n",
       "        vertical-align: middle;\n",
       "    }\n",
       "\n",
       "    .dataframe tbody tr th {\n",
       "        vertical-align: top;\n",
       "    }\n",
       "\n",
       "    .dataframe thead th {\n",
       "        text-align: right;\n",
       "    }\n",
       "</style>\n",
       "<table border=\"1\" class=\"dataframe\">\n",
       "  <thead>\n",
       "    <tr style=\"text-align: right;\">\n",
       "      <th></th>\n",
       "      <th>İLÇE ADI</th>\n",
       "      <th>MAHALLE ADI</th>\n",
       "      <th>SES SKORU</th>\n",
       "      <th>nufus</th>\n",
       "      <th>nufus_yogunlugu</th>\n",
       "      <th>maliyet</th>\n",
       "      <th>agirlikli_puan</th>\n",
       "    </tr>\n",
       "  </thead>\n",
       "  <tbody>\n",
       "    <tr>\n",
       "      <th>0</th>\n",
       "      <td>KADIKOY</td>\n",
       "      <td>CAFERAGA</td>\n",
       "      <td>100.0</td>\n",
       "      <td>23977</td>\n",
       "      <td>19324.0</td>\n",
       "      <td>567000</td>\n",
       "      <td>0.658805</td>\n",
       "    </tr>\n",
       "    <tr>\n",
       "      <th>1</th>\n",
       "      <td>BAKIRKOY</td>\n",
       "      <td>ATAKOY7-8-9-10.KISIM</td>\n",
       "      <td>100.0</td>\n",
       "      <td>24444</td>\n",
       "      <td>11918.0</td>\n",
       "      <td>525000</td>\n",
       "      <td>0.656336</td>\n",
       "    </tr>\n",
       "    <tr>\n",
       "      <th>2</th>\n",
       "      <td>SISLI</td>\n",
       "      <td>TESVIKIYE</td>\n",
       "      <td>100.0</td>\n",
       "      <td>11522</td>\n",
       "      <td>25431.0</td>\n",
       "      <td>543000</td>\n",
       "      <td>0.649799</td>\n",
       "    </tr>\n",
       "    <tr>\n",
       "      <th>3</th>\n",
       "      <td>BEYKOZ</td>\n",
       "      <td>ACARLAR</td>\n",
       "      <td>100.0</td>\n",
       "      <td>7319</td>\n",
       "      <td>1346.0</td>\n",
       "      <td>363000</td>\n",
       "      <td>0.643938</td>\n",
       "    </tr>\n",
       "    <tr>\n",
       "      <th>4</th>\n",
       "      <td>KADIKOY</td>\n",
       "      <td>SUADIYE</td>\n",
       "      <td>100.0</td>\n",
       "      <td>22484</td>\n",
       "      <td>15157.0</td>\n",
       "      <td>567000</td>\n",
       "      <td>0.640568</td>\n",
       "    </tr>\n",
       "  </tbody>\n",
       "</table>\n",
       "</div>"
      ],
      "text/plain": [
       "   İLÇE ADI           MAHALLE ADI  SES SKORU  nufus  nufus_yogunlugu  maliyet  \\\n",
       "0   KADIKOY              CAFERAGA      100.0  23977          19324.0   567000   \n",
       "1  BAKIRKOY  ATAKOY7-8-9-10.KISIM      100.0  24444          11918.0   525000   \n",
       "2     SISLI             TESVIKIYE      100.0  11522          25431.0   543000   \n",
       "3    BEYKOZ               ACARLAR      100.0   7319           1346.0   363000   \n",
       "4   KADIKOY               SUADIYE      100.0  22484          15157.0   567000   \n",
       "\n",
       "   agirlikli_puan  \n",
       "0        0.658805  \n",
       "1        0.656336  \n",
       "2        0.649799  \n",
       "3        0.643938  \n",
       "4        0.640568  "
      ]
     },
     "execution_count": 83,
     "metadata": {},
     "output_type": "execute_result"
    }
   ],
   "source": [
    "database = pd.read_csv(\"../Datasets/PROCESSED/database.csv\")\n",
    "database.head()"
   ]
  },
  {
   "cell_type": "code",
   "execution_count": 84,
   "metadata": {},
   "outputs": [],
   "source": [
    "from sklearn.preprocessing import MinMaxScaler\n",
    "\n",
    "nufus_yog_scaler = MinMaxScaler()\n",
    "database[\"nufus_yogunlugu_agirlik\"] = nufus_yog_scaler.fit_transform(database[[\"nufus_yogunlugu\"]])\n",
    "\n",
    "nufus_scaler = MinMaxScaler()\n",
    "database[\"nufus_agirlik\"] = nufus_scaler.fit_transform(database[[\"nufus\"]])\n",
    "\n",
    "maaliyet_scaler = MinMaxScaler()\n",
    "database[\"maliyet_agirlik\"] = 1 - maaliyet_scaler.fit_transform(database[[\"maliyet\"]])\n",
    "\n",
    "ses_scaler = MinMaxScaler()\n",
    "database[\"ses_agirlik\"] = ses_scaler.fit_transform(database[[\"SES SKORU\"]])\n",
    "\n",
    "database[\"agirlikli_puan\"] = (database[\"nufus_yogunlugu_agirlik\"] * 0.2\n",
    "                            + database[\"nufus_agirlik\"] * 0.1\n",
    "                            + database[\"maliyet_agirlik\"] * 0.3\n",
    "                            + database[\"ses_agirlik\"] * 0.4)\n",
    "\n",
    "database = database.sort_values('agirlikli_puan', ascending=False)"
   ]
  },
  {
   "cell_type": "code",
   "execution_count": 85,
   "metadata": {},
   "outputs": [
    {
     "data": {
      "text/html": [
       "<div>\n",
       "<style scoped>\n",
       "    .dataframe tbody tr th:only-of-type {\n",
       "        vertical-align: middle;\n",
       "    }\n",
       "\n",
       "    .dataframe tbody tr th {\n",
       "        vertical-align: top;\n",
       "    }\n",
       "\n",
       "    .dataframe thead th {\n",
       "        text-align: right;\n",
       "    }\n",
       "</style>\n",
       "<table border=\"1\" class=\"dataframe\">\n",
       "  <thead>\n",
       "    <tr style=\"text-align: right;\">\n",
       "      <th></th>\n",
       "      <th>İLÇE ADI</th>\n",
       "      <th>MAHALLE ADI</th>\n",
       "      <th>SES SKORU</th>\n",
       "      <th>nufus</th>\n",
       "      <th>nufus_yogunlugu</th>\n",
       "      <th>maliyet</th>\n",
       "      <th>agirlikli_puan</th>\n",
       "      <th>nufus_yogunlugu_agirlik</th>\n",
       "      <th>nufus_agirlik</th>\n",
       "      <th>maliyet_agirlik</th>\n",
       "      <th>ses_agirlik</th>\n",
       "    </tr>\n",
       "  </thead>\n",
       "  <tbody>\n",
       "    <tr>\n",
       "      <th>0</th>\n",
       "      <td>KADIKOY</td>\n",
       "      <td>CAFERAGA</td>\n",
       "      <td>100.0</td>\n",
       "      <td>23977</td>\n",
       "      <td>19324.0</td>\n",
       "      <td>567000</td>\n",
       "      <td>0.658805</td>\n",
       "      <td>0.311412</td>\n",
       "      <td>0.770911</td>\n",
       "      <td>0.398104</td>\n",
       "      <td>1.0</td>\n",
       "    </tr>\n",
       "    <tr>\n",
       "      <th>1</th>\n",
       "      <td>BAKIRKOY</td>\n",
       "      <td>ATAKOY7-8-9-10.KISIM</td>\n",
       "      <td>100.0</td>\n",
       "      <td>24444</td>\n",
       "      <td>11918.0</td>\n",
       "      <td>525000</td>\n",
       "      <td>0.656336</td>\n",
       "      <td>0.192032</td>\n",
       "      <td>0.785935</td>\n",
       "      <td>0.464455</td>\n",
       "      <td>1.0</td>\n",
       "    </tr>\n",
       "    <tr>\n",
       "      <th>2</th>\n",
       "      <td>SISLI</td>\n",
       "      <td>TESVIKIYE</td>\n",
       "      <td>100.0</td>\n",
       "      <td>11522</td>\n",
       "      <td>25431.0</td>\n",
       "      <td>543000</td>\n",
       "      <td>0.649799</td>\n",
       "      <td>0.409853</td>\n",
       "      <td>0.370223</td>\n",
       "      <td>0.436019</td>\n",
       "      <td>1.0</td>\n",
       "    </tr>\n",
       "    <tr>\n",
       "      <th>3</th>\n",
       "      <td>BEYKOZ</td>\n",
       "      <td>ACARLAR</td>\n",
       "      <td>100.0</td>\n",
       "      <td>7319</td>\n",
       "      <td>1346.0</td>\n",
       "      <td>363000</td>\n",
       "      <td>0.643938</td>\n",
       "      <td>0.021618</td>\n",
       "      <td>0.235008</td>\n",
       "      <td>0.720379</td>\n",
       "      <td>1.0</td>\n",
       "    </tr>\n",
       "    <tr>\n",
       "      <th>4</th>\n",
       "      <td>KADIKOY</td>\n",
       "      <td>SUADIYE</td>\n",
       "      <td>100.0</td>\n",
       "      <td>22484</td>\n",
       "      <td>15157.0</td>\n",
       "      <td>567000</td>\n",
       "      <td>0.640568</td>\n",
       "      <td>0.244243</td>\n",
       "      <td>0.722880</td>\n",
       "      <td>0.398104</td>\n",
       "      <td>1.0</td>\n",
       "    </tr>\n",
       "  </tbody>\n",
       "</table>\n",
       "</div>"
      ],
      "text/plain": [
       "   İLÇE ADI           MAHALLE ADI  SES SKORU  nufus  nufus_yogunlugu  maliyet  \\\n",
       "0   KADIKOY              CAFERAGA      100.0  23977          19324.0   567000   \n",
       "1  BAKIRKOY  ATAKOY7-8-9-10.KISIM      100.0  24444          11918.0   525000   \n",
       "2     SISLI             TESVIKIYE      100.0  11522          25431.0   543000   \n",
       "3    BEYKOZ               ACARLAR      100.0   7319           1346.0   363000   \n",
       "4   KADIKOY               SUADIYE      100.0  22484          15157.0   567000   \n",
       "\n",
       "   agirlikli_puan  nufus_yogunlugu_agirlik  nufus_agirlik  maliyet_agirlik  \\\n",
       "0        0.658805                 0.311412       0.770911         0.398104   \n",
       "1        0.656336                 0.192032       0.785935         0.464455   \n",
       "2        0.649799                 0.409853       0.370223         0.436019   \n",
       "3        0.643938                 0.021618       0.235008         0.720379   \n",
       "4        0.640568                 0.244243       0.722880         0.398104   \n",
       "\n",
       "   ses_agirlik  \n",
       "0          1.0  \n",
       "1          1.0  \n",
       "2          1.0  \n",
       "3          1.0  \n",
       "4          1.0  "
      ]
     },
     "execution_count": 85,
     "metadata": {},
     "output_type": "execute_result"
    }
   ],
   "source": [
    "database.head()"
   ]
  },
  {
   "cell_type": "code",
   "execution_count": 86,
   "metadata": {},
   "outputs": [
    {
     "data": {
      "text/html": [
       "<div>\n",
       "<style scoped>\n",
       "    .dataframe tbody tr th:only-of-type {\n",
       "        vertical-align: middle;\n",
       "    }\n",
       "\n",
       "    .dataframe tbody tr th {\n",
       "        vertical-align: top;\n",
       "    }\n",
       "\n",
       "    .dataframe thead th {\n",
       "        text-align: right;\n",
       "    }\n",
       "</style>\n",
       "<table border=\"1\" class=\"dataframe\">\n",
       "  <thead>\n",
       "    <tr style=\"text-align: right;\">\n",
       "      <th></th>\n",
       "      <th>ilce</th>\n",
       "      <th>mahalle</th>\n",
       "      <th>nufus_yogunlugu</th>\n",
       "      <th>nufus</th>\n",
       "      <th>maliyet</th>\n",
       "      <th>SES SKORU</th>\n",
       "    </tr>\n",
       "  </thead>\n",
       "  <tbody>\n",
       "    <tr>\n",
       "      <th>0</th>\n",
       "      <td>BAYRAMPASA</td>\n",
       "      <td>KOCATEPE</td>\n",
       "      <td>12394.0</td>\n",
       "      <td>21448</td>\n",
       "      <td>300000</td>\n",
       "      <td>37.5</td>\n",
       "    </tr>\n",
       "    <tr>\n",
       "      <th>1</th>\n",
       "      <td>BAGCILAR</td>\n",
       "      <td>MAHMUTBEY</td>\n",
       "      <td>5225.0</td>\n",
       "      <td>24596</td>\n",
       "      <td>315000</td>\n",
       "      <td>37.5</td>\n",
       "    </tr>\n",
       "    <tr>\n",
       "      <th>2</th>\n",
       "      <td>SARIYER</td>\n",
       "      <td>MASLAK</td>\n",
       "      <td>1328.0</td>\n",
       "      <td>8091</td>\n",
       "      <td>819000</td>\n",
       "      <td>87.5</td>\n",
       "    </tr>\n",
       "  </tbody>\n",
       "</table>\n",
       "</div>"
      ],
      "text/plain": [
       "         ilce    mahalle  nufus_yogunlugu  nufus  maliyet  SES SKORU\n",
       "0  BAYRAMPASA   KOCATEPE          12394.0  21448   300000       37.5\n",
       "1    BAGCILAR  MAHMUTBEY           5225.0  24596   315000       37.5\n",
       "2     SARIYER     MASLAK           1328.0   8091   819000       87.5"
      ]
     },
     "execution_count": 86,
     "metadata": {},
     "output_type": "execute_result"
    }
   ],
   "source": [
    "brew.head(3)"
   ]
  },
  {
   "cell_type": "code",
   "execution_count": 87,
   "metadata": {},
   "outputs": [],
   "source": [
    "brew[\"nufus_yogunlugu_agirlik\"] = nufus_yog_scaler.transform(brew[[\"nufus_yogunlugu\"]])\n",
    "\n",
    "brew[\"nufus_agirlik\"] = nufus_scaler.transform(brew[[\"nufus\"]])\n",
    "\n",
    "brew[\"maliyet_agirlik\"] = 1 - maaliyet_scaler.transform(brew[[\"maliyet\"]])\n",
    "\n",
    "brew[\"ses_agirlik\"] = ses_scaler.transform(brew[[\"SES SKORU\"]])\n",
    "\n",
    "brew[\"agirlikli_puan\"] = (brew[\"nufus_yogunlugu_agirlik\"] * 0.2\n",
    "                            + brew[\"nufus_agirlik\"] * 0.1\n",
    "                            + brew[\"maliyet_agirlik\"] * 0.3\n",
    "                            + brew[\"ses_agirlik\"] * 0.4)\n",
    "\n",
    "brew = brew.sort_values('agirlikli_puan', ascending=False)"
   ]
  },
  {
   "cell_type": "code",
   "execution_count": 88,
   "metadata": {},
   "outputs": [
    {
     "data": {
      "text/html": [
       "<div>\n",
       "<style scoped>\n",
       "    .dataframe tbody tr th:only-of-type {\n",
       "        vertical-align: middle;\n",
       "    }\n",
       "\n",
       "    .dataframe tbody tr th {\n",
       "        vertical-align: top;\n",
       "    }\n",
       "\n",
       "    .dataframe thead th {\n",
       "        text-align: right;\n",
       "    }\n",
       "</style>\n",
       "<table border=\"1\" class=\"dataframe\">\n",
       "  <thead>\n",
       "    <tr style=\"text-align: right;\">\n",
       "      <th></th>\n",
       "      <th>ilce</th>\n",
       "      <th>mahalle</th>\n",
       "      <th>nufus_yogunlugu</th>\n",
       "      <th>nufus</th>\n",
       "      <th>maliyet</th>\n",
       "      <th>SES SKORU</th>\n",
       "      <th>nufus_yogunlugu_agirlik</th>\n",
       "      <th>nufus_agirlik</th>\n",
       "      <th>maliyet_agirlik</th>\n",
       "      <th>ses_agirlik</th>\n",
       "      <th>agirlikli_puan</th>\n",
       "    </tr>\n",
       "  </thead>\n",
       "  <tbody>\n",
       "    <tr>\n",
       "      <th>247</th>\n",
       "      <td>KUCUKCEKMECE</td>\n",
       "      <td>ATAKENT</td>\n",
       "      <td>10949.0</td>\n",
       "      <td>93229</td>\n",
       "      <td>315000</td>\n",
       "      <td>75.0</td>\n",
       "      <td>0.176412</td>\n",
       "      <td>2.998810</td>\n",
       "      <td>0.796209</td>\n",
       "      <td>0.714286</td>\n",
       "      <td>0.859740</td>\n",
       "    </tr>\n",
       "    <tr>\n",
       "      <th>28</th>\n",
       "      <td>KUCUKCEKMECE</td>\n",
       "      <td>ATAKENT</td>\n",
       "      <td>10949.0</td>\n",
       "      <td>93229</td>\n",
       "      <td>315000</td>\n",
       "      <td>75.0</td>\n",
       "      <td>0.176412</td>\n",
       "      <td>2.998810</td>\n",
       "      <td>0.796209</td>\n",
       "      <td>0.714286</td>\n",
       "      <td>0.859740</td>\n",
       "    </tr>\n",
       "    <tr>\n",
       "      <th>52</th>\n",
       "      <td>BEYLIKDUZU</td>\n",
       "      <td>ADNANKAHVECI</td>\n",
       "      <td>18865.0</td>\n",
       "      <td>86584</td>\n",
       "      <td>291000</td>\n",
       "      <td>62.5</td>\n",
       "      <td>0.304013</td>\n",
       "      <td>2.785034</td>\n",
       "      <td>0.834123</td>\n",
       "      <td>0.571429</td>\n",
       "      <td>0.818114</td>\n",
       "    </tr>\n",
       "    <tr>\n",
       "      <th>54</th>\n",
       "      <td>BEYLIKDUZU</td>\n",
       "      <td>ADNANKAHVECI</td>\n",
       "      <td>18865.0</td>\n",
       "      <td>86584</td>\n",
       "      <td>291000</td>\n",
       "      <td>62.5</td>\n",
       "      <td>0.304013</td>\n",
       "      <td>2.785034</td>\n",
       "      <td>0.834123</td>\n",
       "      <td>0.571429</td>\n",
       "      <td>0.818114</td>\n",
       "    </tr>\n",
       "    <tr>\n",
       "      <th>69</th>\n",
       "      <td>BAHCELIEVLER</td>\n",
       "      <td>BAHCELIEVLER</td>\n",
       "      <td>19452.0</td>\n",
       "      <td>61832</td>\n",
       "      <td>264000</td>\n",
       "      <td>75.0</td>\n",
       "      <td>0.313475</td>\n",
       "      <td>1.988740</td>\n",
       "      <td>0.876777</td>\n",
       "      <td>0.714286</td>\n",
       "      <td>0.810317</td>\n",
       "    </tr>\n",
       "  </tbody>\n",
       "</table>\n",
       "</div>"
      ],
      "text/plain": [
       "             ilce       mahalle  nufus_yogunlugu  nufus  maliyet  SES SKORU  \\\n",
       "247  KUCUKCEKMECE       ATAKENT          10949.0  93229   315000       75.0   \n",
       "28   KUCUKCEKMECE       ATAKENT          10949.0  93229   315000       75.0   \n",
       "52     BEYLIKDUZU  ADNANKAHVECI          18865.0  86584   291000       62.5   \n",
       "54     BEYLIKDUZU  ADNANKAHVECI          18865.0  86584   291000       62.5   \n",
       "69   BAHCELIEVLER  BAHCELIEVLER          19452.0  61832   264000       75.0   \n",
       "\n",
       "     nufus_yogunlugu_agirlik  nufus_agirlik  maliyet_agirlik  ses_agirlik  \\\n",
       "247                 0.176412       2.998810         0.796209     0.714286   \n",
       "28                  0.176412       2.998810         0.796209     0.714286   \n",
       "52                  0.304013       2.785034         0.834123     0.571429   \n",
       "54                  0.304013       2.785034         0.834123     0.571429   \n",
       "69                  0.313475       1.988740         0.876777     0.714286   \n",
       "\n",
       "     agirlikli_puan  \n",
       "247        0.859740  \n",
       "28         0.859740  \n",
       "52         0.818114  \n",
       "54         0.818114  \n",
       "69         0.810317  "
      ]
     },
     "execution_count": 88,
     "metadata": {},
     "output_type": "execute_result"
    }
   ],
   "source": [
    "brew.head()"
   ]
  },
  {
   "cell_type": "code",
   "execution_count": 89,
   "metadata": {},
   "outputs": [
    {
     "data": {
      "text/plain": [
       "(0.8597402484891683, 0.1727336921708834)"
      ]
     },
     "execution_count": 89,
     "metadata": {},
     "output_type": "execute_result"
    }
   ],
   "source": [
    "brew['agirlikli_puan'].max(), brew['agirlikli_puan'].min()"
   ]
  },
  {
   "cell_type": "code",
   "execution_count": 90,
   "metadata": {},
   "outputs": [
    {
     "data": {
      "text/html": [
       "<div>\n",
       "<style scoped>\n",
       "    .dataframe tbody tr th:only-of-type {\n",
       "        vertical-align: middle;\n",
       "    }\n",
       "\n",
       "    .dataframe tbody tr th {\n",
       "        vertical-align: top;\n",
       "    }\n",
       "\n",
       "    .dataframe thead th {\n",
       "        text-align: right;\n",
       "    }\n",
       "</style>\n",
       "<table border=\"1\" class=\"dataframe\">\n",
       "  <thead>\n",
       "    <tr style=\"text-align: right;\">\n",
       "      <th></th>\n",
       "      <th>ilce</th>\n",
       "      <th>mahalle</th>\n",
       "      <th>nufus_yogunlugu</th>\n",
       "      <th>nufus</th>\n",
       "      <th>maliyet</th>\n",
       "      <th>SES SKORU</th>\n",
       "      <th>nufus_yogunlugu_agirlik</th>\n",
       "      <th>nufus_agirlik</th>\n",
       "      <th>maliyet_agirlik</th>\n",
       "      <th>ses_agirlik</th>\n",
       "      <th>agirlikli_puan</th>\n",
       "    </tr>\n",
       "  </thead>\n",
       "  <tbody>\n",
       "    <tr>\n",
       "      <th>248</th>\n",
       "      <td>BEYOGLU</td>\n",
       "      <td>KEMANKESKARAMUSTAFAPASA</td>\n",
       "      <td>905.0</td>\n",
       "      <td>128</td>\n",
       "      <td>582000</td>\n",
       "      <td>25.0</td>\n",
       "      <td>0.014509</td>\n",
       "      <td>0.003667</td>\n",
       "      <td>0.374408</td>\n",
       "      <td>0.142857</td>\n",
       "      <td>0.172734</td>\n",
       "    </tr>\n",
       "    <tr>\n",
       "      <th>83</th>\n",
       "      <td>BEYOGLU</td>\n",
       "      <td>KEMANKESKARAMUSTAFAPASA</td>\n",
       "      <td>905.0</td>\n",
       "      <td>128</td>\n",
       "      <td>582000</td>\n",
       "      <td>25.0</td>\n",
       "      <td>0.014509</td>\n",
       "      <td>0.003667</td>\n",
       "      <td>0.374408</td>\n",
       "      <td>0.142857</td>\n",
       "      <td>0.172734</td>\n",
       "    </tr>\n",
       "    <tr>\n",
       "      <th>81</th>\n",
       "      <td>BEYOGLU</td>\n",
       "      <td>KEMANKESKARAMUSTAFAPASA</td>\n",
       "      <td>905.0</td>\n",
       "      <td>128</td>\n",
       "      <td>582000</td>\n",
       "      <td>25.0</td>\n",
       "      <td>0.014509</td>\n",
       "      <td>0.003667</td>\n",
       "      <td>0.374408</td>\n",
       "      <td>0.142857</td>\n",
       "      <td>0.172734</td>\n",
       "    </tr>\n",
       "    <tr>\n",
       "      <th>134</th>\n",
       "      <td>BEYOGLU</td>\n",
       "      <td>SEHITMUHTAR</td>\n",
       "      <td>15608.0</td>\n",
       "      <td>1493</td>\n",
       "      <td>582000</td>\n",
       "      <td>25.0</td>\n",
       "      <td>0.251512</td>\n",
       "      <td>0.047581</td>\n",
       "      <td>0.374408</td>\n",
       "      <td>0.142857</td>\n",
       "      <td>0.224526</td>\n",
       "    </tr>\n",
       "    <tr>\n",
       "      <th>260</th>\n",
       "      <td>SARIYER</td>\n",
       "      <td>AYAZAGA</td>\n",
       "      <td>2264.0</td>\n",
       "      <td>35317</td>\n",
       "      <td>819000</td>\n",
       "      <td>37.5</td>\n",
       "      <td>0.036415</td>\n",
       "      <td>1.135729</td>\n",
       "      <td>0.000000</td>\n",
       "      <td>0.285714</td>\n",
       "      <td>0.235142</td>\n",
       "    </tr>\n",
       "    <tr>\n",
       "      <th>261</th>\n",
       "      <td>SARIYER</td>\n",
       "      <td>AYAZAGA</td>\n",
       "      <td>2264.0</td>\n",
       "      <td>35317</td>\n",
       "      <td>819000</td>\n",
       "      <td>37.5</td>\n",
       "      <td>0.036415</td>\n",
       "      <td>1.135729</td>\n",
       "      <td>0.000000</td>\n",
       "      <td>0.285714</td>\n",
       "      <td>0.235142</td>\n",
       "    </tr>\n",
       "    <tr>\n",
       "      <th>232</th>\n",
       "      <td>SARIYER</td>\n",
       "      <td>AYAZAGA</td>\n",
       "      <td>2264.0</td>\n",
       "      <td>35317</td>\n",
       "      <td>819000</td>\n",
       "      <td>37.5</td>\n",
       "      <td>0.036415</td>\n",
       "      <td>1.135729</td>\n",
       "      <td>0.000000</td>\n",
       "      <td>0.285714</td>\n",
       "      <td>0.235142</td>\n",
       "    </tr>\n",
       "    <tr>\n",
       "      <th>263</th>\n",
       "      <td>SARIYER</td>\n",
       "      <td>AYAZAGA</td>\n",
       "      <td>2264.0</td>\n",
       "      <td>35317</td>\n",
       "      <td>819000</td>\n",
       "      <td>37.5</td>\n",
       "      <td>0.036415</td>\n",
       "      <td>1.135729</td>\n",
       "      <td>0.000000</td>\n",
       "      <td>0.285714</td>\n",
       "      <td>0.235142</td>\n",
       "    </tr>\n",
       "    <tr>\n",
       "      <th>262</th>\n",
       "      <td>SARIYER</td>\n",
       "      <td>AYAZAGA</td>\n",
       "      <td>2264.0</td>\n",
       "      <td>35317</td>\n",
       "      <td>819000</td>\n",
       "      <td>37.5</td>\n",
       "      <td>0.036415</td>\n",
       "      <td>1.135729</td>\n",
       "      <td>0.000000</td>\n",
       "      <td>0.285714</td>\n",
       "      <td>0.235142</td>\n",
       "    </tr>\n",
       "    <tr>\n",
       "      <th>224</th>\n",
       "      <td>BEYKOZ</td>\n",
       "      <td>RUZGARLIBAHCE</td>\n",
       "      <td>2331.0</td>\n",
       "      <td>8011</td>\n",
       "      <td>363000</td>\n",
       "      <td>12.5</td>\n",
       "      <td>0.037495</td>\n",
       "      <td>0.257271</td>\n",
       "      <td>0.720379</td>\n",
       "      <td>0.000000</td>\n",
       "      <td>0.249340</td>\n",
       "    </tr>\n",
       "  </tbody>\n",
       "</table>\n",
       "</div>"
      ],
      "text/plain": [
       "        ilce                  mahalle  nufus_yogunlugu  nufus  maliyet  \\\n",
       "248  BEYOGLU  KEMANKESKARAMUSTAFAPASA            905.0    128   582000   \n",
       "83   BEYOGLU  KEMANKESKARAMUSTAFAPASA            905.0    128   582000   \n",
       "81   BEYOGLU  KEMANKESKARAMUSTAFAPASA            905.0    128   582000   \n",
       "134  BEYOGLU              SEHITMUHTAR          15608.0   1493   582000   \n",
       "260  SARIYER                  AYAZAGA           2264.0  35317   819000   \n",
       "261  SARIYER                  AYAZAGA           2264.0  35317   819000   \n",
       "232  SARIYER                  AYAZAGA           2264.0  35317   819000   \n",
       "263  SARIYER                  AYAZAGA           2264.0  35317   819000   \n",
       "262  SARIYER                  AYAZAGA           2264.0  35317   819000   \n",
       "224   BEYKOZ            RUZGARLIBAHCE           2331.0   8011   363000   \n",
       "\n",
       "     SES SKORU  nufus_yogunlugu_agirlik  nufus_agirlik  maliyet_agirlik  \\\n",
       "248       25.0                 0.014509       0.003667         0.374408   \n",
       "83        25.0                 0.014509       0.003667         0.374408   \n",
       "81        25.0                 0.014509       0.003667         0.374408   \n",
       "134       25.0                 0.251512       0.047581         0.374408   \n",
       "260       37.5                 0.036415       1.135729         0.000000   \n",
       "261       37.5                 0.036415       1.135729         0.000000   \n",
       "232       37.5                 0.036415       1.135729         0.000000   \n",
       "263       37.5                 0.036415       1.135729         0.000000   \n",
       "262       37.5                 0.036415       1.135729         0.000000   \n",
       "224       12.5                 0.037495       0.257271         0.720379   \n",
       "\n",
       "     ses_agirlik  agirlikli_puan  \n",
       "248     0.142857        0.172734  \n",
       "83      0.142857        0.172734  \n",
       "81      0.142857        0.172734  \n",
       "134     0.142857        0.224526  \n",
       "260     0.285714        0.235142  \n",
       "261     0.285714        0.235142  \n",
       "232     0.285714        0.235142  \n",
       "263     0.285714        0.235142  \n",
       "262     0.285714        0.235142  \n",
       "224     0.000000        0.249340  "
      ]
     },
     "execution_count": 90,
     "metadata": {},
     "output_type": "execute_result"
    }
   ],
   "source": [
    "brew.sort_values('agirlikli_puan', ascending=True).head(10)"
   ]
  },
  {
   "cell_type": "code",
   "execution_count": 91,
   "metadata": {},
   "outputs": [
    {
     "data": {
      "application/vnd.plotly.v1+json": {
       "config": {
        "plotlyServerURL": "https://plot.ly"
       },
       "data": [
        {
         "alignmentgroup": "True",
         "hovertemplate": "agirlikli_puan=%{x}<extra></extra>",
         "legendgroup": "",
         "marker": {
          "color": "#636efa"
         },
         "name": "",
         "notched": false,
         "offsetgroup": "",
         "orientation": "h",
         "showlegend": false,
         "type": "box",
         "x": [
          0.8597402484891683,
          0.8597402484891683,
          0.8181144542482118,
          0.8181144542482118,
          0.8103165445849337,
          0.8103165445849337,
          0.7139656620650808,
          0.711114062887302,
          0.711114062887302,
          0.7002982723976133,
          0.7002982723976133,
          0.6980442997634635,
          0.6914434744245646,
          0.6914434744245646,
          0.6914434744245646,
          0.6731599840711113,
          0.6731599840711113,
          0.6731599840711113,
          0.6682678822843658,
          0.6682678822843658,
          0.6588047960161603,
          0.6588047960161603,
          0.6588047960161603,
          0.6563363544631957,
          0.6563363544631957,
          0.6562328309956178,
          0.6497985767145931,
          0.6485130986050178,
          0.6485130986050178,
          0.6439381223995999,
          0.6439381223995999,
          0.640801990540709,
          0.640801990540709,
          0.640801990540709,
          0.640801990540709,
          0.640801990540709,
          0.6405677850604778,
          0.6405677850604778,
          0.6405677850604778,
          0.6394691306535372,
          0.6364637143597893,
          0.6357332430959434,
          0.6355119429328007,
          0.6355119429328007,
          0.6355119429328007,
          0.6355119429328007,
          0.6355119429328007,
          0.6329034550983959,
          0.6329034550983959,
          0.6303177424436626,
          0.6303177424436626,
          0.6303177424436626,
          0.6290316722090585,
          0.6281530614314348,
          0.6281530614314348,
          0.6262798090876067,
          0.6256307721300162,
          0.6256307721300162,
          0.6256307721300162,
          0.6249695639956034,
          0.6246778547589952,
          0.6246778547589952,
          0.6203741770800869,
          0.6191414612969135,
          0.6188997660642359,
          0.6188997660642359,
          0.6158038480356928,
          0.6146171726155096,
          0.6146171726155096,
          0.6146171726155096,
          0.6146171726155096,
          0.613877407967159,
          0.613877407967159,
          0.613877407967159,
          0.6121981452487846,
          0.6098318662575425,
          0.6071986205158711,
          0.6061546211560442,
          0.6034701944124068,
          0.6018395611842791,
          0.6018395611842791,
          0.6017825378840731,
          0.6016790574897489,
          0.5980270642998282,
          0.5980270642998282,
          0.5980270642998282,
          0.596990683205599,
          0.596990683205599,
          0.5913632734309064,
          0.579561827044482,
          0.5780633682692912,
          0.5780633682692912,
          0.5780633682692912,
          0.5780633682692912,
          0.5780633682692912,
          0.5757526150789263,
          0.575121791335631,
          0.5741943632978009,
          0.5741943632978009,
          0.5712722157833797,
          0.5664293511281038,
          0.5653149382857261,
          0.5644349015137236,
          0.5644349015137236,
          0.5612832258739002,
          0.5612293135360789,
          0.5612293135360789,
          0.5579628860501291,
          0.5579628860501291,
          0.5564467765136754,
          0.5523446913289599,
          0.5476027460343945,
          0.5468728501201139,
          0.5461099005942597,
          0.5459969200317333,
          0.5459969200317333,
          0.5422029837206893,
          0.5422029837206893,
          0.5418739560646957,
          0.5399342530585275,
          0.5390826772849302,
          0.5380569360797473,
          0.5380569360797473,
          0.5357154005259306,
          0.5330355890525003,
          0.5330355890525003,
          0.5290884714886379,
          0.5272035768740109,
          0.5258233393247724,
          0.5258233393247724,
          0.5242705201580429,
          0.5242489628340685,
          0.5242489628340685,
          0.5237711474835565,
          0.5236085802494495,
          0.5236085802494495,
          0.5236085802494495,
          0.5236085802494495,
          0.5187202417746001,
          0.5158134634640237,
          0.5133717401151097,
          0.5133717401151097,
          0.5110692967369542,
          0.5108543572966302,
          0.5108543572966302,
          0.5108543572966302,
          0.5108543572966302,
          0.5108543572966302,
          0.5108543572966302,
          0.5108543572966302,
          0.5090727455494151,
          0.5090727455494151,
          0.5082508569748669,
          0.507539693486648,
          0.5049069079978469,
          0.5023709446429735,
          0.5023709446429735,
          0.5022813707959028,
          0.5022813707959028,
          0.5022813707959028,
          0.500203027783097,
          0.5000117626524971,
          0.49902866207857877,
          0.49635773216682555,
          0.495948693506206,
          0.4921255147888847,
          0.4921255147888847,
          0.4911114366520637,
          0.4911114366520637,
          0.4902915273671404,
          0.4902915273671404,
          0.4902915273671404,
          0.48774735810214637,
          0.48218282510224175,
          0.48218282510224175,
          0.48218282510224175,
          0.47797860541667514,
          0.47797860541667514,
          0.4747718419378952,
          0.4700114513002922,
          0.4691533062692417,
          0.4691533062692417,
          0.4691533062692417,
          0.4691533062692417,
          0.4679389363378963,
          0.46776501324891684,
          0.46776501324891684,
          0.46776501324891684,
          0.46776501324891684,
          0.4675780722014716,
          0.46747689339353826,
          0.4576947278435799,
          0.4558680812962747,
          0.4558680812962747,
          0.4545287707147607,
          0.4528495798790502,
          0.4506488161104501,
          0.4506488161104501,
          0.449059721718274,
          0.449059721718274,
          0.449059721718274,
          0.4468785597906519,
          0.4468785597906519,
          0.4465324692219251,
          0.4403738452924511,
          0.43949190385942505,
          0.43949190385942505,
          0.43949190385942505,
          0.4338744622459151,
          0.4338744622459151,
          0.4280163054403791,
          0.425254021628093,
          0.4247601610002097,
          0.4247601610002097,
          0.4247601610002097,
          0.4114438865904044,
          0.4114438865904044,
          0.4114438865904044,
          0.4110127580230097,
          0.4087254810241623,
          0.40550214897801173,
          0.4011882615979933,
          0.4007428789863425,
          0.4006586718199548,
          0.3945173571142464,
          0.3790496608493338,
          0.37659782532287955,
          0.3765934663958954,
          0.3731070842342568,
          0.3731070842342568,
          0.3731070842342568,
          0.3731070842342568,
          0.3731070842342568,
          0.3731070842342568,
          0.37067891403970094,
          0.37067891403970094,
          0.3666011659981796,
          0.36314354398818177,
          0.36314354398818177,
          0.36314354398818177,
          0.3610050470714133,
          0.3609204314561204,
          0.36042143691780215,
          0.35965072011682786,
          0.3141522377007921,
          0.3141522377007921,
          0.312924876583304,
          0.312924876583304,
          0.31046113408178655,
          0.3101744982042772,
          0.3101744982042772,
          0.3101744982042772,
          0.3101744982042772,
          0.299139792570185,
          0.2839824398896972,
          0.2605466652906855,
          0.2605466652906855,
          0.2581013712124325,
          0.24933986727572133,
          0.24933986727572133,
          0.235141674791434,
          0.235141674791434,
          0.235141674791434,
          0.235141674791434,
          0.235141674791434,
          0.22452568720822977,
          0.1727336921708834,
          0.1727336921708834,
          0.1727336921708834,
          null,
          null,
          null,
          null,
          null,
          null,
          null,
          null,
          null,
          null
         ],
         "x0": " ",
         "xaxis": "x",
         "y0": " ",
         "yaxis": "y"
        }
       ],
       "layout": {
        "boxmode": "group",
        "legend": {
         "tracegroupgap": 0
        },
        "template": {
         "data": {
          "bar": [
           {
            "error_x": {
             "color": "#2a3f5f"
            },
            "error_y": {
             "color": "#2a3f5f"
            },
            "marker": {
             "line": {
              "color": "#E5ECF6",
              "width": 0.5
             },
             "pattern": {
              "fillmode": "overlay",
              "size": 10,
              "solidity": 0.2
             }
            },
            "type": "bar"
           }
          ],
          "barpolar": [
           {
            "marker": {
             "line": {
              "color": "#E5ECF6",
              "width": 0.5
             },
             "pattern": {
              "fillmode": "overlay",
              "size": 10,
              "solidity": 0.2
             }
            },
            "type": "barpolar"
           }
          ],
          "carpet": [
           {
            "aaxis": {
             "endlinecolor": "#2a3f5f",
             "gridcolor": "white",
             "linecolor": "white",
             "minorgridcolor": "white",
             "startlinecolor": "#2a3f5f"
            },
            "baxis": {
             "endlinecolor": "#2a3f5f",
             "gridcolor": "white",
             "linecolor": "white",
             "minorgridcolor": "white",
             "startlinecolor": "#2a3f5f"
            },
            "type": "carpet"
           }
          ],
          "choropleth": [
           {
            "colorbar": {
             "outlinewidth": 0,
             "ticks": ""
            },
            "type": "choropleth"
           }
          ],
          "contour": [
           {
            "colorbar": {
             "outlinewidth": 0,
             "ticks": ""
            },
            "colorscale": [
             [
              0,
              "#0d0887"
             ],
             [
              0.1111111111111111,
              "#46039f"
             ],
             [
              0.2222222222222222,
              "#7201a8"
             ],
             [
              0.3333333333333333,
              "#9c179e"
             ],
             [
              0.4444444444444444,
              "#bd3786"
             ],
             [
              0.5555555555555556,
              "#d8576b"
             ],
             [
              0.6666666666666666,
              "#ed7953"
             ],
             [
              0.7777777777777778,
              "#fb9f3a"
             ],
             [
              0.8888888888888888,
              "#fdca26"
             ],
             [
              1,
              "#f0f921"
             ]
            ],
            "type": "contour"
           }
          ],
          "contourcarpet": [
           {
            "colorbar": {
             "outlinewidth": 0,
             "ticks": ""
            },
            "type": "contourcarpet"
           }
          ],
          "heatmap": [
           {
            "colorbar": {
             "outlinewidth": 0,
             "ticks": ""
            },
            "colorscale": [
             [
              0,
              "#0d0887"
             ],
             [
              0.1111111111111111,
              "#46039f"
             ],
             [
              0.2222222222222222,
              "#7201a8"
             ],
             [
              0.3333333333333333,
              "#9c179e"
             ],
             [
              0.4444444444444444,
              "#bd3786"
             ],
             [
              0.5555555555555556,
              "#d8576b"
             ],
             [
              0.6666666666666666,
              "#ed7953"
             ],
             [
              0.7777777777777778,
              "#fb9f3a"
             ],
             [
              0.8888888888888888,
              "#fdca26"
             ],
             [
              1,
              "#f0f921"
             ]
            ],
            "type": "heatmap"
           }
          ],
          "heatmapgl": [
           {
            "colorbar": {
             "outlinewidth": 0,
             "ticks": ""
            },
            "colorscale": [
             [
              0,
              "#0d0887"
             ],
             [
              0.1111111111111111,
              "#46039f"
             ],
             [
              0.2222222222222222,
              "#7201a8"
             ],
             [
              0.3333333333333333,
              "#9c179e"
             ],
             [
              0.4444444444444444,
              "#bd3786"
             ],
             [
              0.5555555555555556,
              "#d8576b"
             ],
             [
              0.6666666666666666,
              "#ed7953"
             ],
             [
              0.7777777777777778,
              "#fb9f3a"
             ],
             [
              0.8888888888888888,
              "#fdca26"
             ],
             [
              1,
              "#f0f921"
             ]
            ],
            "type": "heatmapgl"
           }
          ],
          "histogram": [
           {
            "marker": {
             "pattern": {
              "fillmode": "overlay",
              "size": 10,
              "solidity": 0.2
             }
            },
            "type": "histogram"
           }
          ],
          "histogram2d": [
           {
            "colorbar": {
             "outlinewidth": 0,
             "ticks": ""
            },
            "colorscale": [
             [
              0,
              "#0d0887"
             ],
             [
              0.1111111111111111,
              "#46039f"
             ],
             [
              0.2222222222222222,
              "#7201a8"
             ],
             [
              0.3333333333333333,
              "#9c179e"
             ],
             [
              0.4444444444444444,
              "#bd3786"
             ],
             [
              0.5555555555555556,
              "#d8576b"
             ],
             [
              0.6666666666666666,
              "#ed7953"
             ],
             [
              0.7777777777777778,
              "#fb9f3a"
             ],
             [
              0.8888888888888888,
              "#fdca26"
             ],
             [
              1,
              "#f0f921"
             ]
            ],
            "type": "histogram2d"
           }
          ],
          "histogram2dcontour": [
           {
            "colorbar": {
             "outlinewidth": 0,
             "ticks": ""
            },
            "colorscale": [
             [
              0,
              "#0d0887"
             ],
             [
              0.1111111111111111,
              "#46039f"
             ],
             [
              0.2222222222222222,
              "#7201a8"
             ],
             [
              0.3333333333333333,
              "#9c179e"
             ],
             [
              0.4444444444444444,
              "#bd3786"
             ],
             [
              0.5555555555555556,
              "#d8576b"
             ],
             [
              0.6666666666666666,
              "#ed7953"
             ],
             [
              0.7777777777777778,
              "#fb9f3a"
             ],
             [
              0.8888888888888888,
              "#fdca26"
             ],
             [
              1,
              "#f0f921"
             ]
            ],
            "type": "histogram2dcontour"
           }
          ],
          "mesh3d": [
           {
            "colorbar": {
             "outlinewidth": 0,
             "ticks": ""
            },
            "type": "mesh3d"
           }
          ],
          "parcoords": [
           {
            "line": {
             "colorbar": {
              "outlinewidth": 0,
              "ticks": ""
             }
            },
            "type": "parcoords"
           }
          ],
          "pie": [
           {
            "automargin": true,
            "type": "pie"
           }
          ],
          "scatter": [
           {
            "fillpattern": {
             "fillmode": "overlay",
             "size": 10,
             "solidity": 0.2
            },
            "type": "scatter"
           }
          ],
          "scatter3d": [
           {
            "line": {
             "colorbar": {
              "outlinewidth": 0,
              "ticks": ""
             }
            },
            "marker": {
             "colorbar": {
              "outlinewidth": 0,
              "ticks": ""
             }
            },
            "type": "scatter3d"
           }
          ],
          "scattercarpet": [
           {
            "marker": {
             "colorbar": {
              "outlinewidth": 0,
              "ticks": ""
             }
            },
            "type": "scattercarpet"
           }
          ],
          "scattergeo": [
           {
            "marker": {
             "colorbar": {
              "outlinewidth": 0,
              "ticks": ""
             }
            },
            "type": "scattergeo"
           }
          ],
          "scattergl": [
           {
            "marker": {
             "colorbar": {
              "outlinewidth": 0,
              "ticks": ""
             }
            },
            "type": "scattergl"
           }
          ],
          "scattermapbox": [
           {
            "marker": {
             "colorbar": {
              "outlinewidth": 0,
              "ticks": ""
             }
            },
            "type": "scattermapbox"
           }
          ],
          "scatterpolar": [
           {
            "marker": {
             "colorbar": {
              "outlinewidth": 0,
              "ticks": ""
             }
            },
            "type": "scatterpolar"
           }
          ],
          "scatterpolargl": [
           {
            "marker": {
             "colorbar": {
              "outlinewidth": 0,
              "ticks": ""
             }
            },
            "type": "scatterpolargl"
           }
          ],
          "scatterternary": [
           {
            "marker": {
             "colorbar": {
              "outlinewidth": 0,
              "ticks": ""
             }
            },
            "type": "scatterternary"
           }
          ],
          "surface": [
           {
            "colorbar": {
             "outlinewidth": 0,
             "ticks": ""
            },
            "colorscale": [
             [
              0,
              "#0d0887"
             ],
             [
              0.1111111111111111,
              "#46039f"
             ],
             [
              0.2222222222222222,
              "#7201a8"
             ],
             [
              0.3333333333333333,
              "#9c179e"
             ],
             [
              0.4444444444444444,
              "#bd3786"
             ],
             [
              0.5555555555555556,
              "#d8576b"
             ],
             [
              0.6666666666666666,
              "#ed7953"
             ],
             [
              0.7777777777777778,
              "#fb9f3a"
             ],
             [
              0.8888888888888888,
              "#fdca26"
             ],
             [
              1,
              "#f0f921"
             ]
            ],
            "type": "surface"
           }
          ],
          "table": [
           {
            "cells": {
             "fill": {
              "color": "#EBF0F8"
             },
             "line": {
              "color": "white"
             }
            },
            "header": {
             "fill": {
              "color": "#C8D4E3"
             },
             "line": {
              "color": "white"
             }
            },
            "type": "table"
           }
          ]
         },
         "layout": {
          "annotationdefaults": {
           "arrowcolor": "#2a3f5f",
           "arrowhead": 0,
           "arrowwidth": 1
          },
          "autotypenumbers": "strict",
          "coloraxis": {
           "colorbar": {
            "outlinewidth": 0,
            "ticks": ""
           }
          },
          "colorscale": {
           "diverging": [
            [
             0,
             "#8e0152"
            ],
            [
             0.1,
             "#c51b7d"
            ],
            [
             0.2,
             "#de77ae"
            ],
            [
             0.3,
             "#f1b6da"
            ],
            [
             0.4,
             "#fde0ef"
            ],
            [
             0.5,
             "#f7f7f7"
            ],
            [
             0.6,
             "#e6f5d0"
            ],
            [
             0.7,
             "#b8e186"
            ],
            [
             0.8,
             "#7fbc41"
            ],
            [
             0.9,
             "#4d9221"
            ],
            [
             1,
             "#276419"
            ]
           ],
           "sequential": [
            [
             0,
             "#0d0887"
            ],
            [
             0.1111111111111111,
             "#46039f"
            ],
            [
             0.2222222222222222,
             "#7201a8"
            ],
            [
             0.3333333333333333,
             "#9c179e"
            ],
            [
             0.4444444444444444,
             "#bd3786"
            ],
            [
             0.5555555555555556,
             "#d8576b"
            ],
            [
             0.6666666666666666,
             "#ed7953"
            ],
            [
             0.7777777777777778,
             "#fb9f3a"
            ],
            [
             0.8888888888888888,
             "#fdca26"
            ],
            [
             1,
             "#f0f921"
            ]
           ],
           "sequentialminus": [
            [
             0,
             "#0d0887"
            ],
            [
             0.1111111111111111,
             "#46039f"
            ],
            [
             0.2222222222222222,
             "#7201a8"
            ],
            [
             0.3333333333333333,
             "#9c179e"
            ],
            [
             0.4444444444444444,
             "#bd3786"
            ],
            [
             0.5555555555555556,
             "#d8576b"
            ],
            [
             0.6666666666666666,
             "#ed7953"
            ],
            [
             0.7777777777777778,
             "#fb9f3a"
            ],
            [
             0.8888888888888888,
             "#fdca26"
            ],
            [
             1,
             "#f0f921"
            ]
           ]
          },
          "colorway": [
           "#636efa",
           "#EF553B",
           "#00cc96",
           "#ab63fa",
           "#FFA15A",
           "#19d3f3",
           "#FF6692",
           "#B6E880",
           "#FF97FF",
           "#FECB52"
          ],
          "font": {
           "color": "#2a3f5f"
          },
          "geo": {
           "bgcolor": "white",
           "lakecolor": "white",
           "landcolor": "#E5ECF6",
           "showlakes": true,
           "showland": true,
           "subunitcolor": "white"
          },
          "hoverlabel": {
           "align": "left"
          },
          "hovermode": "closest",
          "mapbox": {
           "style": "light"
          },
          "paper_bgcolor": "white",
          "plot_bgcolor": "#E5ECF6",
          "polar": {
           "angularaxis": {
            "gridcolor": "white",
            "linecolor": "white",
            "ticks": ""
           },
           "bgcolor": "#E5ECF6",
           "radialaxis": {
            "gridcolor": "white",
            "linecolor": "white",
            "ticks": ""
           }
          },
          "scene": {
           "xaxis": {
            "backgroundcolor": "#E5ECF6",
            "gridcolor": "white",
            "gridwidth": 2,
            "linecolor": "white",
            "showbackground": true,
            "ticks": "",
            "zerolinecolor": "white"
           },
           "yaxis": {
            "backgroundcolor": "#E5ECF6",
            "gridcolor": "white",
            "gridwidth": 2,
            "linecolor": "white",
            "showbackground": true,
            "ticks": "",
            "zerolinecolor": "white"
           },
           "zaxis": {
            "backgroundcolor": "#E5ECF6",
            "gridcolor": "white",
            "gridwidth": 2,
            "linecolor": "white",
            "showbackground": true,
            "ticks": "",
            "zerolinecolor": "white"
           }
          },
          "shapedefaults": {
           "line": {
            "color": "#2a3f5f"
           }
          },
          "ternary": {
           "aaxis": {
            "gridcolor": "white",
            "linecolor": "white",
            "ticks": ""
           },
           "baxis": {
            "gridcolor": "white",
            "linecolor": "white",
            "ticks": ""
           },
           "bgcolor": "#E5ECF6",
           "caxis": {
            "gridcolor": "white",
            "linecolor": "white",
            "ticks": ""
           }
          },
          "title": {
           "x": 0.05
          },
          "xaxis": {
           "automargin": true,
           "gridcolor": "white",
           "linecolor": "white",
           "ticks": "",
           "title": {
            "standoff": 15
           },
           "zerolinecolor": "white",
           "zerolinewidth": 2
          },
          "yaxis": {
           "automargin": true,
           "gridcolor": "white",
           "linecolor": "white",
           "ticks": "",
           "title": {
            "standoff": 15
           },
           "zerolinecolor": "white",
           "zerolinewidth": 2
          }
         }
        },
        "title": {
         "text": "Brewstation'ların ilçelere göre ağırlıklı puanları"
        },
        "xaxis": {
         "anchor": "y",
         "domain": [
          0,
          1
         ],
         "title": {
          "text": "agirlikli_puan"
         }
        },
        "yaxis": {
         "anchor": "x",
         "domain": [
          0,
          1
         ]
        }
       }
      }
     },
     "metadata": {},
     "output_type": "display_data"
    }
   ],
   "source": [
    "fig = px.box(brew, x=\"agirlikli_puan\", orientation='h', title=\"Brewstation'ların ilçelere göre ağırlıklı puanları\")\n",
    "fig.show()"
   ]
  },
  {
   "cell_type": "code",
   "execution_count": 92,
   "metadata": {},
   "outputs": [
    {
     "data": {
      "text/html": [
       "<div>\n",
       "<style scoped>\n",
       "    .dataframe tbody tr th:only-of-type {\n",
       "        vertical-align: middle;\n",
       "    }\n",
       "\n",
       "    .dataframe tbody tr th {\n",
       "        vertical-align: top;\n",
       "    }\n",
       "\n",
       "    .dataframe thead th {\n",
       "        text-align: right;\n",
       "    }\n",
       "</style>\n",
       "<table border=\"1\" class=\"dataframe\">\n",
       "  <thead>\n",
       "    <tr style=\"text-align: right;\">\n",
       "      <th></th>\n",
       "      <th>ilce</th>\n",
       "      <th>counts</th>\n",
       "    </tr>\n",
       "  </thead>\n",
       "  <tbody>\n",
       "    <tr>\n",
       "      <th>27</th>\n",
       "      <td>SISLI</td>\n",
       "      <td>22</td>\n",
       "    </tr>\n",
       "    <tr>\n",
       "      <th>25</th>\n",
       "      <td>SARIYER</td>\n",
       "      <td>22</td>\n",
       "    </tr>\n",
       "    <tr>\n",
       "      <th>18</th>\n",
       "      <td>KADIKOY</td>\n",
       "      <td>22</td>\n",
       "    </tr>\n",
       "    <tr>\n",
       "      <th>1</th>\n",
       "      <td>ATASEHIR</td>\n",
       "      <td>18</td>\n",
       "    </tr>\n",
       "    <tr>\n",
       "      <th>8</th>\n",
       "      <td>BESIKTAS</td>\n",
       "      <td>18</td>\n",
       "    </tr>\n",
       "    <tr>\n",
       "      <th>5</th>\n",
       "      <td>BAKIRKOY</td>\n",
       "      <td>14</td>\n",
       "    </tr>\n",
       "    <tr>\n",
       "      <th>32</th>\n",
       "      <td>USKUDAR</td>\n",
       "      <td>12</td>\n",
       "    </tr>\n",
       "    <tr>\n",
       "      <th>31</th>\n",
       "      <td>UMRANIYE</td>\n",
       "      <td>12</td>\n",
       "    </tr>\n",
       "    <tr>\n",
       "      <th>30</th>\n",
       "      <td>TUZLA</td>\n",
       "      <td>10</td>\n",
       "    </tr>\n",
       "    <tr>\n",
       "      <th>22</th>\n",
       "      <td>MALTEPE</td>\n",
       "      <td>10</td>\n",
       "    </tr>\n",
       "  </tbody>\n",
       "</table>\n",
       "</div>"
      ],
      "text/plain": [
       "        ilce  counts\n",
       "27     SISLI      22\n",
       "25   SARIYER      22\n",
       "18   KADIKOY      22\n",
       "1   ATASEHIR      18\n",
       "8   BESIKTAS      18\n",
       "5   BAKIRKOY      14\n",
       "32   USKUDAR      12\n",
       "31  UMRANIYE      12\n",
       "30     TUZLA      10\n",
       "22   MALTEPE      10"
      ]
     },
     "execution_count": 92,
     "metadata": {},
     "output_type": "execute_result"
    }
   ],
   "source": [
    "brew.groupby(['ilce']).size().reset_index(name='counts').sort_values('counts', ascending=False).head(10)"
   ]
  },
  {
   "cell_type": "code",
   "execution_count": 93,
   "metadata": {},
   "outputs": [
    {
     "data": {
      "application/vnd.plotly.v1+json": {
       "config": {
        "plotlyServerURL": "https://plot.ly"
       },
       "data": [
        {
         "alignmentgroup": "True",
         "hovertemplate": "ilce=%{x}<br>counts=%{y}<extra></extra>",
         "legendgroup": "SISLI",
         "marker": {
          "color": "#636efa",
          "pattern": {
           "shape": ""
          }
         },
         "name": "SISLI",
         "offsetgroup": "SISLI",
         "orientation": "v",
         "showlegend": true,
         "textposition": "auto",
         "type": "bar",
         "x": [
          "SISLI"
         ],
         "xaxis": "x",
         "y": [
          22
         ],
         "yaxis": "y"
        },
        {
         "alignmentgroup": "True",
         "hovertemplate": "ilce=%{x}<br>counts=%{y}<extra></extra>",
         "legendgroup": "SARIYER",
         "marker": {
          "color": "#EF553B",
          "pattern": {
           "shape": ""
          }
         },
         "name": "SARIYER",
         "offsetgroup": "SARIYER",
         "orientation": "v",
         "showlegend": true,
         "textposition": "auto",
         "type": "bar",
         "x": [
          "SARIYER"
         ],
         "xaxis": "x",
         "y": [
          22
         ],
         "yaxis": "y"
        },
        {
         "alignmentgroup": "True",
         "hovertemplate": "ilce=%{x}<br>counts=%{y}<extra></extra>",
         "legendgroup": "KADIKOY",
         "marker": {
          "color": "#00cc96",
          "pattern": {
           "shape": ""
          }
         },
         "name": "KADIKOY",
         "offsetgroup": "KADIKOY",
         "orientation": "v",
         "showlegend": true,
         "textposition": "auto",
         "type": "bar",
         "x": [
          "KADIKOY"
         ],
         "xaxis": "x",
         "y": [
          22
         ],
         "yaxis": "y"
        },
        {
         "alignmentgroup": "True",
         "hovertemplate": "ilce=%{x}<br>counts=%{y}<extra></extra>",
         "legendgroup": "ATASEHIR",
         "marker": {
          "color": "#ab63fa",
          "pattern": {
           "shape": ""
          }
         },
         "name": "ATASEHIR",
         "offsetgroup": "ATASEHIR",
         "orientation": "v",
         "showlegend": true,
         "textposition": "auto",
         "type": "bar",
         "x": [
          "ATASEHIR"
         ],
         "xaxis": "x",
         "y": [
          18
         ],
         "yaxis": "y"
        },
        {
         "alignmentgroup": "True",
         "hovertemplate": "ilce=%{x}<br>counts=%{y}<extra></extra>",
         "legendgroup": "BESIKTAS",
         "marker": {
          "color": "#FFA15A",
          "pattern": {
           "shape": ""
          }
         },
         "name": "BESIKTAS",
         "offsetgroup": "BESIKTAS",
         "orientation": "v",
         "showlegend": true,
         "textposition": "auto",
         "type": "bar",
         "x": [
          "BESIKTAS"
         ],
         "xaxis": "x",
         "y": [
          18
         ],
         "yaxis": "y"
        },
        {
         "alignmentgroup": "True",
         "hovertemplate": "ilce=%{x}<br>counts=%{y}<extra></extra>",
         "legendgroup": "BAKIRKOY",
         "marker": {
          "color": "#19d3f3",
          "pattern": {
           "shape": ""
          }
         },
         "name": "BAKIRKOY",
         "offsetgroup": "BAKIRKOY",
         "orientation": "v",
         "showlegend": true,
         "textposition": "auto",
         "type": "bar",
         "x": [
          "BAKIRKOY"
         ],
         "xaxis": "x",
         "y": [
          14
         ],
         "yaxis": "y"
        },
        {
         "alignmentgroup": "True",
         "hovertemplate": "ilce=%{x}<br>counts=%{y}<extra></extra>",
         "legendgroup": "USKUDAR",
         "marker": {
          "color": "#FF6692",
          "pattern": {
           "shape": ""
          }
         },
         "name": "USKUDAR",
         "offsetgroup": "USKUDAR",
         "orientation": "v",
         "showlegend": true,
         "textposition": "auto",
         "type": "bar",
         "x": [
          "USKUDAR"
         ],
         "xaxis": "x",
         "y": [
          12
         ],
         "yaxis": "y"
        },
        {
         "alignmentgroup": "True",
         "hovertemplate": "ilce=%{x}<br>counts=%{y}<extra></extra>",
         "legendgroup": "UMRANIYE",
         "marker": {
          "color": "#B6E880",
          "pattern": {
           "shape": ""
          }
         },
         "name": "UMRANIYE",
         "offsetgroup": "UMRANIYE",
         "orientation": "v",
         "showlegend": true,
         "textposition": "auto",
         "type": "bar",
         "x": [
          "UMRANIYE"
         ],
         "xaxis": "x",
         "y": [
          12
         ],
         "yaxis": "y"
        },
        {
         "alignmentgroup": "True",
         "hovertemplate": "ilce=%{x}<br>counts=%{y}<extra></extra>",
         "legendgroup": "TUZLA",
         "marker": {
          "color": "#FF97FF",
          "pattern": {
           "shape": ""
          }
         },
         "name": "TUZLA",
         "offsetgroup": "TUZLA",
         "orientation": "v",
         "showlegend": true,
         "textposition": "auto",
         "type": "bar",
         "x": [
          "TUZLA"
         ],
         "xaxis": "x",
         "y": [
          10
         ],
         "yaxis": "y"
        },
        {
         "alignmentgroup": "True",
         "hovertemplate": "ilce=%{x}<br>counts=%{y}<extra></extra>",
         "legendgroup": "MALTEPE",
         "marker": {
          "color": "#FECB52",
          "pattern": {
           "shape": ""
          }
         },
         "name": "MALTEPE",
         "offsetgroup": "MALTEPE",
         "orientation": "v",
         "showlegend": true,
         "textposition": "auto",
         "type": "bar",
         "x": [
          "MALTEPE"
         ],
         "xaxis": "x",
         "y": [
          10
         ],
         "yaxis": "y"
        },
        {
         "alignmentgroup": "True",
         "hovertemplate": "ilce=%{x}<br>counts=%{y}<extra></extra>",
         "legendgroup": "BEYOGLU",
         "marker": {
          "color": "#636efa",
          "pattern": {
           "shape": ""
          }
         },
         "name": "BEYOGLU",
         "offsetgroup": "BEYOGLU",
         "orientation": "v",
         "showlegend": true,
         "textposition": "auto",
         "type": "bar",
         "x": [
          "BEYOGLU"
         ],
         "xaxis": "x",
         "y": [
          9
         ],
         "yaxis": "y"
        },
        {
         "alignmentgroup": "True",
         "hovertemplate": "ilce=%{x}<br>counts=%{y}<extra></extra>",
         "legendgroup": "BASAKSEHIR",
         "marker": {
          "color": "#EF553B",
          "pattern": {
           "shape": ""
          }
         },
         "name": "BASAKSEHIR",
         "offsetgroup": "BASAKSEHIR",
         "orientation": "v",
         "showlegend": true,
         "textposition": "auto",
         "type": "bar",
         "x": [
          "BASAKSEHIR"
         ],
         "xaxis": "x",
         "y": [
          9
         ],
         "yaxis": "y"
        },
        {
         "alignmentgroup": "True",
         "hovertemplate": "ilce=%{x}<br>counts=%{y}<extra></extra>",
         "legendgroup": "BAGCILAR",
         "marker": {
          "color": "#00cc96",
          "pattern": {
           "shape": ""
          }
         },
         "name": "BAGCILAR",
         "offsetgroup": "BAGCILAR",
         "orientation": "v",
         "showlegend": true,
         "textposition": "auto",
         "type": "bar",
         "x": [
          "BAGCILAR"
         ],
         "xaxis": "x",
         "y": [
          9
         ],
         "yaxis": "y"
        },
        {
         "alignmentgroup": "True",
         "hovertemplate": "ilce=%{x}<br>counts=%{y}<extra></extra>",
         "legendgroup": "EYUPSULTAN",
         "marker": {
          "color": "#ab63fa",
          "pattern": {
           "shape": ""
          }
         },
         "name": "EYUPSULTAN",
         "offsetgroup": "EYUPSULTAN",
         "orientation": "v",
         "showlegend": true,
         "textposition": "auto",
         "type": "bar",
         "x": [
          "EYUPSULTAN"
         ],
         "xaxis": "x",
         "y": [
          7
         ],
         "yaxis": "y"
        },
        {
         "alignmentgroup": "True",
         "hovertemplate": "ilce=%{x}<br>counts=%{y}<extra></extra>",
         "legendgroup": "KAGITHANE",
         "marker": {
          "color": "#FFA15A",
          "pattern": {
           "shape": ""
          }
         },
         "name": "KAGITHANE",
         "offsetgroup": "KAGITHANE",
         "orientation": "v",
         "showlegend": true,
         "textposition": "auto",
         "type": "bar",
         "x": [
          "KAGITHANE"
         ],
         "xaxis": "x",
         "y": [
          7
         ],
         "yaxis": "y"
        },
        {
         "alignmentgroup": "True",
         "hovertemplate": "ilce=%{x}<br>counts=%{y}<extra></extra>",
         "legendgroup": "PENDIK",
         "marker": {
          "color": "#19d3f3",
          "pattern": {
           "shape": ""
          }
         },
         "name": "PENDIK",
         "offsetgroup": "PENDIK",
         "orientation": "v",
         "showlegend": true,
         "textposition": "auto",
         "type": "bar",
         "x": [
          "PENDIK"
         ],
         "xaxis": "x",
         "y": [
          6
         ],
         "yaxis": "y"
        },
        {
         "alignmentgroup": "True",
         "hovertemplate": "ilce=%{x}<br>counts=%{y}<extra></extra>",
         "legendgroup": "KUCUKCEKMECE",
         "marker": {
          "color": "#FF6692",
          "pattern": {
           "shape": ""
          }
         },
         "name": "KUCUKCEKMECE",
         "offsetgroup": "KUCUKCEKMECE",
         "orientation": "v",
         "showlegend": true,
         "textposition": "auto",
         "type": "bar",
         "x": [
          "KUCUKCEKMECE"
         ],
         "xaxis": "x",
         "y": [
          6
         ],
         "yaxis": "y"
        },
        {
         "alignmentgroup": "True",
         "hovertemplate": "ilce=%{x}<br>counts=%{y}<extra></extra>",
         "legendgroup": "KARTAL",
         "marker": {
          "color": "#B6E880",
          "pattern": {
           "shape": ""
          }
         },
         "name": "KARTAL",
         "offsetgroup": "KARTAL",
         "orientation": "v",
         "showlegend": true,
         "textposition": "auto",
         "type": "bar",
         "x": [
          "KARTAL"
         ],
         "xaxis": "x",
         "y": [
          6
         ],
         "yaxis": "y"
        },
        {
         "alignmentgroup": "True",
         "hovertemplate": "ilce=%{x}<br>counts=%{y}<extra></extra>",
         "legendgroup": "BUYUKCEKMECE",
         "marker": {
          "color": "#FF97FF",
          "pattern": {
           "shape": ""
          }
         },
         "name": "BUYUKCEKMECE",
         "offsetgroup": "BUYUKCEKMECE",
         "orientation": "v",
         "showlegend": true,
         "textposition": "auto",
         "type": "bar",
         "x": [
          "BUYUKCEKMECE"
         ],
         "xaxis": "x",
         "y": [
          6
         ],
         "yaxis": "y"
        },
        {
         "alignmentgroup": "True",
         "hovertemplate": "ilce=%{x}<br>counts=%{y}<extra></extra>",
         "legendgroup": "ESENYURT",
         "marker": {
          "color": "#FECB52",
          "pattern": {
           "shape": ""
          }
         },
         "name": "ESENYURT",
         "offsetgroup": "ESENYURT",
         "orientation": "v",
         "showlegend": true,
         "textposition": "auto",
         "type": "bar",
         "x": [
          "ESENYURT"
         ],
         "xaxis": "x",
         "y": [
          6
         ],
         "yaxis": "y"
        }
       ],
       "layout": {
        "barmode": "relative",
        "height": 400,
        "legend": {
         "title": {
          "text": "ilce"
         },
         "tracegroupgap": 0
        },
        "showlegend": false,
        "template": {
         "data": {
          "bar": [
           {
            "error_x": {
             "color": "#2a3f5f"
            },
            "error_y": {
             "color": "#2a3f5f"
            },
            "marker": {
             "line": {
              "color": "#E5ECF6",
              "width": 0.5
             },
             "pattern": {
              "fillmode": "overlay",
              "size": 10,
              "solidity": 0.2
             }
            },
            "type": "bar"
           }
          ],
          "barpolar": [
           {
            "marker": {
             "line": {
              "color": "#E5ECF6",
              "width": 0.5
             },
             "pattern": {
              "fillmode": "overlay",
              "size": 10,
              "solidity": 0.2
             }
            },
            "type": "barpolar"
           }
          ],
          "carpet": [
           {
            "aaxis": {
             "endlinecolor": "#2a3f5f",
             "gridcolor": "white",
             "linecolor": "white",
             "minorgridcolor": "white",
             "startlinecolor": "#2a3f5f"
            },
            "baxis": {
             "endlinecolor": "#2a3f5f",
             "gridcolor": "white",
             "linecolor": "white",
             "minorgridcolor": "white",
             "startlinecolor": "#2a3f5f"
            },
            "type": "carpet"
           }
          ],
          "choropleth": [
           {
            "colorbar": {
             "outlinewidth": 0,
             "ticks": ""
            },
            "type": "choropleth"
           }
          ],
          "contour": [
           {
            "colorbar": {
             "outlinewidth": 0,
             "ticks": ""
            },
            "colorscale": [
             [
              0,
              "#0d0887"
             ],
             [
              0.1111111111111111,
              "#46039f"
             ],
             [
              0.2222222222222222,
              "#7201a8"
             ],
             [
              0.3333333333333333,
              "#9c179e"
             ],
             [
              0.4444444444444444,
              "#bd3786"
             ],
             [
              0.5555555555555556,
              "#d8576b"
             ],
             [
              0.6666666666666666,
              "#ed7953"
             ],
             [
              0.7777777777777778,
              "#fb9f3a"
             ],
             [
              0.8888888888888888,
              "#fdca26"
             ],
             [
              1,
              "#f0f921"
             ]
            ],
            "type": "contour"
           }
          ],
          "contourcarpet": [
           {
            "colorbar": {
             "outlinewidth": 0,
             "ticks": ""
            },
            "type": "contourcarpet"
           }
          ],
          "heatmap": [
           {
            "colorbar": {
             "outlinewidth": 0,
             "ticks": ""
            },
            "colorscale": [
             [
              0,
              "#0d0887"
             ],
             [
              0.1111111111111111,
              "#46039f"
             ],
             [
              0.2222222222222222,
              "#7201a8"
             ],
             [
              0.3333333333333333,
              "#9c179e"
             ],
             [
              0.4444444444444444,
              "#bd3786"
             ],
             [
              0.5555555555555556,
              "#d8576b"
             ],
             [
              0.6666666666666666,
              "#ed7953"
             ],
             [
              0.7777777777777778,
              "#fb9f3a"
             ],
             [
              0.8888888888888888,
              "#fdca26"
             ],
             [
              1,
              "#f0f921"
             ]
            ],
            "type": "heatmap"
           }
          ],
          "heatmapgl": [
           {
            "colorbar": {
             "outlinewidth": 0,
             "ticks": ""
            },
            "colorscale": [
             [
              0,
              "#0d0887"
             ],
             [
              0.1111111111111111,
              "#46039f"
             ],
             [
              0.2222222222222222,
              "#7201a8"
             ],
             [
              0.3333333333333333,
              "#9c179e"
             ],
             [
              0.4444444444444444,
              "#bd3786"
             ],
             [
              0.5555555555555556,
              "#d8576b"
             ],
             [
              0.6666666666666666,
              "#ed7953"
             ],
             [
              0.7777777777777778,
              "#fb9f3a"
             ],
             [
              0.8888888888888888,
              "#fdca26"
             ],
             [
              1,
              "#f0f921"
             ]
            ],
            "type": "heatmapgl"
           }
          ],
          "histogram": [
           {
            "marker": {
             "pattern": {
              "fillmode": "overlay",
              "size": 10,
              "solidity": 0.2
             }
            },
            "type": "histogram"
           }
          ],
          "histogram2d": [
           {
            "colorbar": {
             "outlinewidth": 0,
             "ticks": ""
            },
            "colorscale": [
             [
              0,
              "#0d0887"
             ],
             [
              0.1111111111111111,
              "#46039f"
             ],
             [
              0.2222222222222222,
              "#7201a8"
             ],
             [
              0.3333333333333333,
              "#9c179e"
             ],
             [
              0.4444444444444444,
              "#bd3786"
             ],
             [
              0.5555555555555556,
              "#d8576b"
             ],
             [
              0.6666666666666666,
              "#ed7953"
             ],
             [
              0.7777777777777778,
              "#fb9f3a"
             ],
             [
              0.8888888888888888,
              "#fdca26"
             ],
             [
              1,
              "#f0f921"
             ]
            ],
            "type": "histogram2d"
           }
          ],
          "histogram2dcontour": [
           {
            "colorbar": {
             "outlinewidth": 0,
             "ticks": ""
            },
            "colorscale": [
             [
              0,
              "#0d0887"
             ],
             [
              0.1111111111111111,
              "#46039f"
             ],
             [
              0.2222222222222222,
              "#7201a8"
             ],
             [
              0.3333333333333333,
              "#9c179e"
             ],
             [
              0.4444444444444444,
              "#bd3786"
             ],
             [
              0.5555555555555556,
              "#d8576b"
             ],
             [
              0.6666666666666666,
              "#ed7953"
             ],
             [
              0.7777777777777778,
              "#fb9f3a"
             ],
             [
              0.8888888888888888,
              "#fdca26"
             ],
             [
              1,
              "#f0f921"
             ]
            ],
            "type": "histogram2dcontour"
           }
          ],
          "mesh3d": [
           {
            "colorbar": {
             "outlinewidth": 0,
             "ticks": ""
            },
            "type": "mesh3d"
           }
          ],
          "parcoords": [
           {
            "line": {
             "colorbar": {
              "outlinewidth": 0,
              "ticks": ""
             }
            },
            "type": "parcoords"
           }
          ],
          "pie": [
           {
            "automargin": true,
            "type": "pie"
           }
          ],
          "scatter": [
           {
            "fillpattern": {
             "fillmode": "overlay",
             "size": 10,
             "solidity": 0.2
            },
            "type": "scatter"
           }
          ],
          "scatter3d": [
           {
            "line": {
             "colorbar": {
              "outlinewidth": 0,
              "ticks": ""
             }
            },
            "marker": {
             "colorbar": {
              "outlinewidth": 0,
              "ticks": ""
             }
            },
            "type": "scatter3d"
           }
          ],
          "scattercarpet": [
           {
            "marker": {
             "colorbar": {
              "outlinewidth": 0,
              "ticks": ""
             }
            },
            "type": "scattercarpet"
           }
          ],
          "scattergeo": [
           {
            "marker": {
             "colorbar": {
              "outlinewidth": 0,
              "ticks": ""
             }
            },
            "type": "scattergeo"
           }
          ],
          "scattergl": [
           {
            "marker": {
             "colorbar": {
              "outlinewidth": 0,
              "ticks": ""
             }
            },
            "type": "scattergl"
           }
          ],
          "scattermapbox": [
           {
            "marker": {
             "colorbar": {
              "outlinewidth": 0,
              "ticks": ""
             }
            },
            "type": "scattermapbox"
           }
          ],
          "scatterpolar": [
           {
            "marker": {
             "colorbar": {
              "outlinewidth": 0,
              "ticks": ""
             }
            },
            "type": "scatterpolar"
           }
          ],
          "scatterpolargl": [
           {
            "marker": {
             "colorbar": {
              "outlinewidth": 0,
              "ticks": ""
             }
            },
            "type": "scatterpolargl"
           }
          ],
          "scatterternary": [
           {
            "marker": {
             "colorbar": {
              "outlinewidth": 0,
              "ticks": ""
             }
            },
            "type": "scatterternary"
           }
          ],
          "surface": [
           {
            "colorbar": {
             "outlinewidth": 0,
             "ticks": ""
            },
            "colorscale": [
             [
              0,
              "#0d0887"
             ],
             [
              0.1111111111111111,
              "#46039f"
             ],
             [
              0.2222222222222222,
              "#7201a8"
             ],
             [
              0.3333333333333333,
              "#9c179e"
             ],
             [
              0.4444444444444444,
              "#bd3786"
             ],
             [
              0.5555555555555556,
              "#d8576b"
             ],
             [
              0.6666666666666666,
              "#ed7953"
             ],
             [
              0.7777777777777778,
              "#fb9f3a"
             ],
             [
              0.8888888888888888,
              "#fdca26"
             ],
             [
              1,
              "#f0f921"
             ]
            ],
            "type": "surface"
           }
          ],
          "table": [
           {
            "cells": {
             "fill": {
              "color": "#EBF0F8"
             },
             "line": {
              "color": "white"
             }
            },
            "header": {
             "fill": {
              "color": "#C8D4E3"
             },
             "line": {
              "color": "white"
             }
            },
            "type": "table"
           }
          ]
         },
         "layout": {
          "annotationdefaults": {
           "arrowcolor": "#2a3f5f",
           "arrowhead": 0,
           "arrowwidth": 1
          },
          "autotypenumbers": "strict",
          "coloraxis": {
           "colorbar": {
            "outlinewidth": 0,
            "ticks": ""
           }
          },
          "colorscale": {
           "diverging": [
            [
             0,
             "#8e0152"
            ],
            [
             0.1,
             "#c51b7d"
            ],
            [
             0.2,
             "#de77ae"
            ],
            [
             0.3,
             "#f1b6da"
            ],
            [
             0.4,
             "#fde0ef"
            ],
            [
             0.5,
             "#f7f7f7"
            ],
            [
             0.6,
             "#e6f5d0"
            ],
            [
             0.7,
             "#b8e186"
            ],
            [
             0.8,
             "#7fbc41"
            ],
            [
             0.9,
             "#4d9221"
            ],
            [
             1,
             "#276419"
            ]
           ],
           "sequential": [
            [
             0,
             "#0d0887"
            ],
            [
             0.1111111111111111,
             "#46039f"
            ],
            [
             0.2222222222222222,
             "#7201a8"
            ],
            [
             0.3333333333333333,
             "#9c179e"
            ],
            [
             0.4444444444444444,
             "#bd3786"
            ],
            [
             0.5555555555555556,
             "#d8576b"
            ],
            [
             0.6666666666666666,
             "#ed7953"
            ],
            [
             0.7777777777777778,
             "#fb9f3a"
            ],
            [
             0.8888888888888888,
             "#fdca26"
            ],
            [
             1,
             "#f0f921"
            ]
           ],
           "sequentialminus": [
            [
             0,
             "#0d0887"
            ],
            [
             0.1111111111111111,
             "#46039f"
            ],
            [
             0.2222222222222222,
             "#7201a8"
            ],
            [
             0.3333333333333333,
             "#9c179e"
            ],
            [
             0.4444444444444444,
             "#bd3786"
            ],
            [
             0.5555555555555556,
             "#d8576b"
            ],
            [
             0.6666666666666666,
             "#ed7953"
            ],
            [
             0.7777777777777778,
             "#fb9f3a"
            ],
            [
             0.8888888888888888,
             "#fdca26"
            ],
            [
             1,
             "#f0f921"
            ]
           ]
          },
          "colorway": [
           "#636efa",
           "#EF553B",
           "#00cc96",
           "#ab63fa",
           "#FFA15A",
           "#19d3f3",
           "#FF6692",
           "#B6E880",
           "#FF97FF",
           "#FECB52"
          ],
          "font": {
           "color": "#2a3f5f"
          },
          "geo": {
           "bgcolor": "white",
           "lakecolor": "white",
           "landcolor": "#E5ECF6",
           "showlakes": true,
           "showland": true,
           "subunitcolor": "white"
          },
          "hoverlabel": {
           "align": "left"
          },
          "hovermode": "closest",
          "mapbox": {
           "style": "light"
          },
          "paper_bgcolor": "white",
          "plot_bgcolor": "#E5ECF6",
          "polar": {
           "angularaxis": {
            "gridcolor": "white",
            "linecolor": "white",
            "ticks": ""
           },
           "bgcolor": "#E5ECF6",
           "radialaxis": {
            "gridcolor": "white",
            "linecolor": "white",
            "ticks": ""
           }
          },
          "scene": {
           "xaxis": {
            "backgroundcolor": "#E5ECF6",
            "gridcolor": "white",
            "gridwidth": 2,
            "linecolor": "white",
            "showbackground": true,
            "ticks": "",
            "zerolinecolor": "white"
           },
           "yaxis": {
            "backgroundcolor": "#E5ECF6",
            "gridcolor": "white",
            "gridwidth": 2,
            "linecolor": "white",
            "showbackground": true,
            "ticks": "",
            "zerolinecolor": "white"
           },
           "zaxis": {
            "backgroundcolor": "#E5ECF6",
            "gridcolor": "white",
            "gridwidth": 2,
            "linecolor": "white",
            "showbackground": true,
            "ticks": "",
            "zerolinecolor": "white"
           }
          },
          "shapedefaults": {
           "line": {
            "color": "#2a3f5f"
           }
          },
          "ternary": {
           "aaxis": {
            "gridcolor": "white",
            "linecolor": "white",
            "ticks": ""
           },
           "baxis": {
            "gridcolor": "white",
            "linecolor": "white",
            "ticks": ""
           },
           "bgcolor": "#E5ECF6",
           "caxis": {
            "gridcolor": "white",
            "linecolor": "white",
            "ticks": ""
           }
          },
          "title": {
           "x": 0.05
          },
          "xaxis": {
           "automargin": true,
           "gridcolor": "white",
           "linecolor": "white",
           "ticks": "",
           "title": {
            "standoff": 15
           },
           "zerolinecolor": "white",
           "zerolinewidth": 2
          },
          "yaxis": {
           "automargin": true,
           "gridcolor": "white",
           "linecolor": "white",
           "ticks": "",
           "title": {
            "standoff": 15
           },
           "zerolinecolor": "white",
           "zerolinewidth": 2
          }
         }
        },
        "title": {
         "text": "Brewstation'ların ilçelere göre sayıları"
        },
        "width": 1000,
        "xaxis": {
         "anchor": "y",
         "categoryarray": [
          "SISLI",
          "SARIYER",
          "KADIKOY",
          "ATASEHIR",
          "BESIKTAS",
          "BAKIRKOY",
          "USKUDAR",
          "UMRANIYE",
          "TUZLA",
          "MALTEPE",
          "BEYOGLU",
          "BASAKSEHIR",
          "BAGCILAR",
          "EYUPSULTAN",
          "KAGITHANE",
          "PENDIK",
          "KUCUKCEKMECE",
          "KARTAL",
          "BUYUKCEKMECE",
          "ESENYURT"
         ],
         "categoryorder": "array",
         "domain": [
          0,
          1
         ],
         "title": {
          "text": "ilce"
         }
        },
        "yaxis": {
         "anchor": "x",
         "domain": [
          0,
          1
         ],
         "title": {
          "text": "counts"
         }
        }
       }
      }
     },
     "metadata": {},
     "output_type": "display_data"
    }
   ],
   "source": [
    "fig = px.bar(brew.groupby(['ilce']).size().reset_index(name='counts').sort_values('counts', ascending=False).head(20),\n",
    "                y='counts', x='ilce', title=\"Brewstation'ların ilçelere göre sayıları\", color='ilce')\n",
    "fig.update_layout(showlegend=False, width=1000, height=400)\n",
    "fig.show()"
   ]
  },
  {
   "cell_type": "code",
   "execution_count": 94,
   "metadata": {},
   "outputs": [],
   "source": [
    "brew.fillna(0, inplace=True)"
   ]
  },
  {
   "cell_type": "code",
   "execution_count": 95,
   "metadata": {},
   "outputs": [
    {
     "data": {
      "application/vnd.plotly.v1+json": {
       "config": {
        "plotlyServerURL": "https://plot.ly"
       },
       "data": [
        {
         "hovertemplate": "ilce=KUCUKCEKMECE<br>agirlikli_puan=%{x}<br>nufus_yogunlugu=%{y}<br>SES SKORU=%{marker.size}<extra></extra>",
         "legendgroup": "KUCUKCEKMECE",
         "marker": {
          "color": "#636efa",
          "size": [
           75,
           75,
           25,
           12.5,
           50,
           0
          ],
          "sizemode": "area",
          "sizeref": 0.25,
          "symbol": "circle"
         },
         "mode": "markers",
         "name": "KUCUKCEKMECE",
         "orientation": "v",
         "showlegend": true,
         "type": "scatter",
         "x": [
          0.8597402484891683,
          0.8597402484891683,
          0.6562328309956178,
          0.5653149382857261,
          0.4679389363378963,
          0
         ],
         "xaxis": "x",
         "y": [
          10949,
          10949,
          38862,
          48041,
          13817,
          17716
         ],
         "yaxis": "y"
        },
        {
         "hovertemplate": "ilce=BEYLIKDUZU<br>agirlikli_puan=%{x}<br>nufus_yogunlugu=%{y}<br>SES SKORU=%{marker.size}<extra></extra>",
         "legendgroup": "BEYLIKDUZU",
         "marker": {
          "color": "#EF553B",
          "size": [
           62.5,
           62.5,
           62.5,
           62.5,
           62.5,
           37.5
          ],
          "sizemode": "area",
          "sizeref": 0.25,
          "symbol": "circle"
         },
         "mode": "markers",
         "name": "BEYLIKDUZU",
         "orientation": "v",
         "showlegend": true,
         "type": "scatter",
         "x": [
          0.8181144542482118,
          0.8181144542482118,
          0.711114062887302,
          0.711114062887302,
          0.579561827044482,
          0.4700114513002922
         ],
         "xaxis": "x",
         "y": [
          18865,
          18865,
          20286,
          20286,
          4790,
          5232
         ],
         "yaxis": "y"
        },
        {
         "hovertemplate": "ilce=BAHCELIEVLER<br>agirlikli_puan=%{x}<br>nufus_yogunlugu=%{y}<br>SES SKORU=%{marker.size}<extra></extra>",
         "legendgroup": "BAHCELIEVLER",
         "marker": {
          "color": "#00cc96",
          "size": [
           75,
           75
          ],
          "sizemode": "area",
          "sizeref": 0.25,
          "symbol": "circle"
         },
         "mode": "markers",
         "name": "BAHCELIEVLER",
         "orientation": "v",
         "showlegend": true,
         "type": "scatter",
         "x": [
          0.8103165445849337,
          0.8103165445849337
         ],
         "xaxis": "x",
         "y": [
          19452,
          19452
         ],
         "yaxis": "y"
        },
        {
         "hovertemplate": "ilce=FATIH<br>agirlikli_puan=%{x}<br>nufus_yogunlugu=%{y}<br>SES SKORU=%{marker.size}<extra></extra>",
         "legendgroup": "FATIH",
         "marker": {
          "color": "#ab63fa",
          "size": [
           62.5,
           50,
           37.5,
           25,
           25
          ],
          "sizemode": "area",
          "sizeref": 0.25,
          "symbol": "circle"
         },
         "mode": "markers",
         "name": "FATIH",
         "orientation": "v",
         "showlegend": true,
         "type": "scatter",
         "x": [
          0.7139656620650808,
          0.5757526150789263,
          0.4011882615979933,
          0.4006586718199548,
          0.2839824398896972
         ],
         "xaxis": "x",
         "y": [
          56537,
          39543,
          18549,
          29292,
          1027
         ],
         "yaxis": "y"
        },
        {
         "hovertemplate": "ilce=ATASEHIR<br>agirlikli_puan=%{x}<br>nufus_yogunlugu=%{y}<br>SES SKORU=%{marker.size}<extra></extra>",
         "legendgroup": "ATASEHIR",
         "marker": {
          "color": "#FFA15A",
          "size": [
           62.5,
           62.5,
           87.5,
           87.5,
           87.5,
           87.5,
           87.5,
           87.5,
           87.5,
           87.5,
           87.5,
           87.5,
           75,
           75,
           75,
           75,
           75,
           37.5
          ],
          "sizemode": "area",
          "sizeref": 0.25,
          "symbol": "circle"
         },
         "mode": "markers",
         "name": "ATASEHIR",
         "orientation": "v",
         "showlegend": true,
         "type": "scatter",
         "x": [
          0.7002982723976133,
          0.7002982723976133,
          0.640801990540709,
          0.640801990540709,
          0.640801990540709,
          0.640801990540709,
          0.640801990540709,
          0.6355119429328007,
          0.6355119429328007,
          0.6355119429328007,
          0.6355119429328007,
          0.6355119429328007,
          0.5780633682692912,
          0.5780633682692912,
          0.5780633682692912,
          0.5780633682692912,
          0.5780633682692912,
          0.3609204314561204
         ],
         "xaxis": "x",
         "y": [
          21205,
          21205,
          11065,
          11065,
          11065,
          11065,
          11065,
          11843,
          11843,
          11843,
          11843,
          11843,
          12777,
          12777,
          12777,
          12777,
          12777,
          16164
         ],
         "yaxis": "y"
        },
        {
         "hovertemplate": "ilce=BASAKSEHIR<br>agirlikli_puan=%{x}<br>nufus_yogunlugu=%{y}<br>SES SKORU=%{marker.size}<extra></extra>",
         "legendgroup": "BASAKSEHIR",
         "marker": {
          "color": "#19d3f3",
          "size": [
           62.5,
           50,
           62.5,
           62.5,
           37.5,
           37.5,
           37.5,
           37.5,
           37.5
          ],
          "sizemode": "area",
          "sizeref": 0.25,
          "symbol": "circle"
         },
         "mode": "markers",
         "name": "BASAKSEHIR",
         "orientation": "v",
         "showlegend": true,
         "type": "scatter",
         "x": [
          0.6980442997634635,
          0.6071986205158711,
          0.6018395611842791,
          0.6018395611842791,
          0.596990683205599,
          0.596990683205599,
          0.4114438865904044,
          0.4114438865904044,
          0.4114438865904044
         ],
         "xaxis": "x",
         "y": [
          5851,
          7185,
          4770,
          4770,
          5408,
          5408,
          1443,
          1443,
          1443
         ],
         "yaxis": "y"
        },
        {
         "hovertemplate": "ilce=PENDIK<br>agirlikli_puan=%{x}<br>nufus_yogunlugu=%{y}<br>SES SKORU=%{marker.size}<extra></extra>",
         "legendgroup": "PENDIK",
         "marker": {
          "color": "#FF6692",
          "size": [
           62.5,
           62.5,
           62.5,
           37.5,
           12.5,
           12.5
          ],
          "sizemode": "area",
          "sizeref": 0.25,
          "symbol": "circle"
         },
         "mode": "markers",
         "name": "PENDIK",
         "orientation": "v",
         "showlegend": true,
         "type": "scatter",
         "x": [
          0.6914434744245646,
          0.6914434744245646,
          0.6914434744245646,
          0.5664293511281038,
          0.2605466652906855,
          0.2605466652906855
         ],
         "xaxis": "x",
         "y": [
          8697,
          8697,
          8697,
          14944,
          251,
          251
         ],
         "yaxis": "y"
        },
        {
         "hovertemplate": "ilce=USKUDAR<br>agirlikli_puan=%{x}<br>nufus_yogunlugu=%{y}<br>SES SKORU=%{marker.size}<extra></extra>",
         "legendgroup": "USKUDAR",
         "marker": {
          "color": "#B6E880",
          "size": [
           87.5,
           87.5,
           87.5,
           87.5,
           87.5,
           87.5,
           87.5,
           62.5,
           62.5,
           62.5,
           62.5,
           37.5
          ],
          "sizemode": "area",
          "sizeref": 0.25,
          "symbol": "circle"
         },
         "mode": "markers",
         "name": "USKUDAR",
         "orientation": "v",
         "showlegend": true,
         "type": "scatter",
         "x": [
          0.6731599840711113,
          0.6731599840711113,
          0.6731599840711113,
          0.6146171726155096,
          0.6146171726155096,
          0.6146171726155096,
          0.6146171726155096,
          0.613877407967159,
          0.613877407967159,
          0.613877407967159,
          0.5461099005942597,
          0.4465324692219251
         ],
         "xaxis": "x",
         "y": [
          15154,
          15154,
          15154,
          7833,
          7833,
          7833,
          7833,
          22820,
          22820,
          22820,
          23838,
          19536
         ],
         "yaxis": "y"
        },
        {
         "hovertemplate": "ilce=GAZIOSMANPASA<br>agirlikli_puan=%{x}<br>nufus_yogunlugu=%{y}<br>SES SKORU=%{marker.size}<extra></extra>",
         "legendgroup": "GAZIOSMANPASA",
         "marker": {
          "color": "#FF97FF",
          "size": [
           25,
           25
          ],
          "sizemode": "area",
          "sizeref": 0.25,
          "symbol": "circle"
         },
         "mode": "markers",
         "name": "GAZIOSMANPASA",
         "orientation": "v",
         "showlegend": true,
         "type": "scatter",
         "x": [
          0.6682678822843658,
          0.6682678822843658
         ],
         "xaxis": "x",
         "y": [
          53003,
          53003
         ],
         "yaxis": "y"
        },
        {
         "hovertemplate": "ilce=KADIKOY<br>agirlikli_puan=%{x}<br>nufus_yogunlugu=%{y}<br>SES SKORU=%{marker.size}<extra></extra>",
         "legendgroup": "KADIKOY",
         "marker": {
          "color": "#FECB52",
          "size": [
           100,
           100,
           100,
           87.5,
           87.5,
           100,
           100,
           100,
           87.5,
           87.5,
           87.5,
           87.5,
           87.5,
           87.5,
           87.5,
           87.5,
           87.5,
           100,
           87.5,
           87.5,
           87.5,
           87.5
          ],
          "sizemode": "area",
          "sizeref": 0.25,
          "symbol": "circle"
         },
         "mode": "markers",
         "name": "KADIKOY",
         "orientation": "v",
         "showlegend": true,
         "type": "scatter",
         "x": [
          0.6588047960161603,
          0.6588047960161603,
          0.6588047960161603,
          0.6485130986050178,
          0.6485130986050178,
          0.6405677850604778,
          0.6405677850604778,
          0.6405677850604778,
          0.6394691306535372,
          0.6364637143597893,
          0.6329034550983959,
          0.6329034550983959,
          0.6281530614314348,
          0.6281530614314348,
          0.6203741770800869,
          0.6188997660642359,
          0.6188997660642359,
          0.6098318662575425,
          0.5236085802494495,
          0.5236085802494495,
          0.5236085802494495,
          0.5236085802494495
         ],
         "xaxis": "x",
         "y": [
          19324,
          19324,
          19324,
          23691,
          23691,
          15157,
          15157,
          15157,
          19792,
          23013,
          22695,
          22695,
          20983,
          20983,
          17671,
          24161,
          24161,
          10440,
          11217,
          11217,
          11217,
          11217
         ],
         "yaxis": "y"
        },
        {
         "hovertemplate": "ilce=BAKIRKOY<br>agirlikli_puan=%{x}<br>nufus_yogunlugu=%{y}<br>SES SKORU=%{marker.size}<extra></extra>",
         "legendgroup": "BAKIRKOY",
         "marker": {
          "color": "#636efa",
          "size": [
           100,
           100,
           100,
           87.5,
           87.5,
           75,
           75,
           75,
           75,
           75,
           75,
           87.5,
           62.5,
           62.5
          ],
          "sizemode": "area",
          "sizeref": 0.25,
          "symbol": "circle"
         },
         "mode": "markers",
         "name": "BAKIRKOY",
         "orientation": "v",
         "showlegend": true,
         "type": "scatter",
         "x": [
          0.6563363544631957,
          0.6563363544631957,
          0.6191414612969135,
          0.5644349015137236,
          0.5644349015137236,
          0.5459969200317333,
          0.5459969200317333,
          0.5290884714886379,
          0.5022813707959028,
          0.5022813707959028,
          0.5022813707959028,
          0.495948693506206,
          0.47797860541667514,
          0.47797860541667514
         ],
         "xaxis": "x",
         "y": [
          11918,
          11918,
          11131,
          1794,
          1794,
          9388,
          9388,
          11368,
          18610,
          18610,
          18610,
          2622,
          10086,
          10086
         ],
         "yaxis": "y"
        },
        {
         "hovertemplate": "ilce=SISLI<br>agirlikli_puan=%{x}<br>nufus_yogunlugu=%{y}<br>SES SKORU=%{marker.size}<extra></extra>",
         "legendgroup": "SISLI",
         "marker": {
          "color": "#EF553B",
          "size": [
           100,
           75,
           75,
           87.5,
           87.5,
           87.5,
           87.5,
           75,
           75,
           87.5,
           87.5,
           75,
           87.5,
           87.5,
           87.5,
           87.5,
           87.5,
           87.5,
           87.5,
           87.5,
           87.5,
           87.5
          ],
          "sizemode": "area",
          "sizeref": 0.25,
          "symbol": "circle"
         },
         "mode": "markers",
         "name": "SISLI",
         "orientation": "v",
         "showlegend": true,
         "type": "scatter",
         "x": [
          0.6497985767145931,
          0.6246778547589952,
          0.6246778547589952,
          0.6121981452487846,
          0.5612293135360789,
          0.5612293135360789,
          0.5564467765136754,
          0.5380569360797473,
          0.5380569360797473,
          0.5330355890525003,
          0.5330355890525003,
          0.5272035768740109,
          0.5187202417746001,
          0.5108543572966302,
          0.5108543572966302,
          0.5108543572966302,
          0.5108543572966302,
          0.5108543572966302,
          0.5108543572966302,
          0.5108543572966302,
          0.4921255147888847,
          0.4921255147888847
         ],
         "xaxis": "x",
         "y": [
          25431,
          44410,
          44410,
          25700,
          19941,
          19941,
          12072,
          26284,
          26284,
          16748,
          16748,
          26446,
          10690,
          4514,
          4514,
          4514,
          4514,
          4514,
          4514,
          4514,
          3247,
          3247
         ],
         "yaxis": "y"
        },
        {
         "hovertemplate": "ilce=BEYKOZ<br>agirlikli_puan=%{x}<br>nufus_yogunlugu=%{y}<br>SES SKORU=%{marker.size}<extra></extra>",
         "legendgroup": "BEYKOZ",
         "marker": {
          "color": "#00cc96",
          "size": [
           100,
           100,
           87.5,
           62.5,
           12.5,
           12.5
          ],
          "sizemode": "area",
          "sizeref": 0.25,
          "symbol": "circle"
         },
         "mode": "markers",
         "name": "BEYKOZ",
         "orientation": "v",
         "showlegend": true,
         "type": "scatter",
         "x": [
          0.6439381223995999,
          0.6439381223995999,
          0.6034701944124068,
          0.5612832258739002,
          0.24933986727572133,
          0.24933986727572133
         ],
         "xaxis": "x",
         "y": [
          1346,
          1346,
          3827,
          13862,
          2331,
          2331
         ],
         "yaxis": "y"
        },
        {
         "hovertemplate": "ilce=ESENYURT<br>agirlikli_puan=%{x}<br>nufus_yogunlugu=%{y}<br>SES SKORU=%{marker.size}<extra></extra>",
         "legendgroup": "ESENYURT",
         "marker": {
          "color": "#ab63fa",
          "size": [
           25,
           25,
           62.5,
           37.5,
           37.5,
           37.5
          ],
          "sizemode": "area",
          "sizeref": 0.25,
          "symbol": "circle"
         },
         "mode": "markers",
         "name": "ESENYURT",
         "orientation": "v",
         "showlegend": true,
         "type": "scatter",
         "x": [
          0.6357332430959434,
          0.6017825378840731,
          0.575121791335631,
          0.5158134634640237,
          0.4468785597906519,
          0.4468785597906519
         ],
         "xaxis": "x",
         "y": [
          59240,
          62919,
          13117,
          19359,
          7167,
          7167
         ],
         "yaxis": "y"
        },
        {
         "hovertemplate": "ilce=EYUPSULTAN<br>agirlikli_puan=%{x}<br>nufus_yogunlugu=%{y}<br>SES SKORU=%{marker.size}<extra></extra>",
         "legendgroup": "EYUPSULTAN",
         "marker": {
          "color": "#FFA15A",
          "size": [
           87.5,
           87.5,
           87.5,
           37.5,
           50,
           37.5,
           0
          ],
          "sizemode": "area",
          "sizeref": 0.25,
          "symbol": "circle"
         },
         "mode": "markers",
         "name": "EYUPSULTAN",
         "orientation": "v",
         "showlegend": true,
         "type": "scatter",
         "x": [
          0.6303177424436626,
          0.6303177424436626,
          0.6303177424436626,
          0.5000117626524971,
          0.36042143691780215,
          0.31046113408178655,
          0
         ],
         "xaxis": "x",
         "y": [
          1261,
          1261,
          1261,
          30091,
          2820,
          5012,
          12719
         ],
         "yaxis": "y"
        },
        {
         "hovertemplate": "ilce=UMRANIYE<br>agirlikli_puan=%{x}<br>nufus_yogunlugu=%{y}<br>SES SKORU=%{marker.size}<extra></extra>",
         "legendgroup": "UMRANIYE",
         "marker": {
          "color": "#19d3f3",
          "size": [
           62.5,
           75,
           50,
           75,
           75,
           75,
           75,
           37.5,
           37.5,
           37.5,
           37.5,
           37.5
          ],
          "sizemode": "area",
          "sizeref": 0.25,
          "symbol": "circle"
         },
         "mode": "markers",
         "name": "UMRANIYE",
         "orientation": "v",
         "showlegend": true,
         "type": "scatter",
         "x": [
          0.6290316722090585,
          0.5468728501201139,
          0.5237711474835565,
          0.5133717401151097,
          0.5133717401151097,
          0.5090727455494151,
          0.5090727455494151,
          0.46776501324891684,
          0.46776501324891684,
          0.46776501324891684,
          0.46776501324891684,
          0.4280163054403791
         ],
         "xaxis": "x",
         "y": [
          33665,
          6872,
          16653,
          955,
          955,
          1287,
          1287,
          14444,
          14444,
          14444,
          14444,
          11369
         ],
         "yaxis": "y"
        },
        {
         "hovertemplate": "ilce=AVCILAR<br>agirlikli_puan=%{x}<br>nufus_yogunlugu=%{y}<br>SES SKORU=%{marker.size}<extra></extra>",
         "legendgroup": "AVCILAR",
         "marker": {
          "color": "#FF6692",
          "size": [
           50,
           62.5
          ],
          "sizemode": "area",
          "sizeref": 0.25,
          "symbol": "circle"
         },
         "mode": "markers",
         "name": "AVCILAR",
         "orientation": "v",
         "showlegend": true,
         "type": "scatter",
         "x": [
          0.6262798090876067,
          0.5913632734309064
         ],
         "xaxis": "x",
         "y": [
          4657,
          7623
         ],
         "yaxis": "y"
        },
        {
         "hovertemplate": "ilce=MALTEPE<br>agirlikli_puan=%{x}<br>nufus_yogunlugu=%{y}<br>SES SKORU=%{marker.size}<extra></extra>",
         "legendgroup": "MALTEPE",
         "marker": {
          "color": "#B6E880",
          "size": [
           75,
           75,
           75,
           75,
           62.5,
           62.5,
           62.5,
           62.5,
           62.5,
           62.5
          ],
          "sizemode": "area",
          "sizeref": 0.25,
          "symbol": "circle"
         },
         "mode": "markers",
         "name": "MALTEPE",
         "orientation": "v",
         "showlegend": true,
         "type": "scatter",
         "x": [
          0.6256307721300162,
          0.6256307721300162,
          0.6256307721300162,
          0.6158038480356928,
          0.6016790574897489,
          0.5980270642998282,
          0.5980270642998282,
          0.5980270642998282,
          0.5422029837206893,
          0.5422029837206893
         ],
         "xaxis": "x",
         "y": [
          23378,
          23378,
          23378,
          17406,
          22494,
          16245,
          16245,
          16245,
          14180,
          14180
         ],
         "yaxis": "y"
        },
        {
         "hovertemplate": "ilce=BUYUKCEKMECE<br>agirlikli_puan=%{x}<br>nufus_yogunlugu=%{y}<br>SES SKORU=%{marker.size}<extra></extra>",
         "legendgroup": "BUYUKCEKMECE",
         "marker": {
          "color": "#FF97FF",
          "size": [
           75,
           50,
           50,
           50,
           50,
           0
          ],
          "sizemode": "area",
          "sizeref": 0.25,
          "symbol": "circle"
         },
         "mode": "markers",
         "name": "BUYUKCEKMECE",
         "orientation": "v",
         "showlegend": true,
         "type": "scatter",
         "x": [
          0.6249695639956034,
          0.5418739560646957,
          0.5357154005259306,
          0.5082508569748669,
          0.4675780722014716,
          0
         ],
         "xaxis": "x",
         "y": [
          9356,
          15106,
          13530,
          4962,
          3195,
          712
         ],
         "yaxis": "y"
        },
        {
         "hovertemplate": "ilce=SULTANGAZI<br>agirlikli_puan=%{x}<br>nufus_yogunlugu=%{y}<br>SES SKORU=%{marker.size}<extra></extra>",
         "legendgroup": "SULTANGAZI",
         "marker": {
          "color": "#FECB52",
          "size": [
           25
          ],
          "sizemode": "area",
          "sizeref": 0.25,
          "symbol": "circle"
         },
         "mode": "markers",
         "name": "SULTANGAZI",
         "orientation": "v",
         "showlegend": true,
         "type": "scatter",
         "x": [
          0.6061546211560442
         ],
         "xaxis": "x",
         "y": [
          36974
         ],
         "yaxis": "y"
        },
        {
         "hovertemplate": "ilce=KAGITHANE<br>agirlikli_puan=%{x}<br>nufus_yogunlugu=%{y}<br>SES SKORU=%{marker.size}<extra></extra>",
         "legendgroup": "KAGITHANE",
         "marker": {
          "color": "#636efa",
          "size": [
           75,
           75,
           50,
           50,
           50,
           37.5,
           0
          ],
          "sizemode": "area",
          "sizeref": 0.25,
          "symbol": "circle"
         },
         "mode": "markers",
         "name": "KAGITHANE",
         "orientation": "v",
         "showlegend": true,
         "type": "scatter",
         "x": [
          0.5741943632978009,
          0.5741943632978009,
          0.5258233393247724,
          0.5258233393247724,
          0.4747718419378952,
          0.46747689339353826,
          0
         ],
         "xaxis": "x",
         "y": [
          14618,
          14618,
          35434,
          35434,
          11336,
          44854,
          49207
         ],
         "yaxis": "y"
        },
        {
         "hovertemplate": "ilce=ZEYTINBURNU<br>agirlikli_puan=%{x}<br>nufus_yogunlugu=%{y}<br>SES SKORU=%{marker.size}<extra></extra>",
         "legendgroup": "ZEYTINBURNU",
         "marker": {
          "color": "#EF553B",
          "size": [
           87.5,
           62.5,
           62.5
          ],
          "sizemode": "area",
          "sizeref": 0.25,
          "symbol": "circle"
         },
         "mode": "markers",
         "name": "ZEYTINBURNU",
         "orientation": "v",
         "showlegend": true,
         "type": "scatter",
         "x": [
          0.5712722157833797,
          0.4558680812962747,
          0.4558680812962747
         ],
         "xaxis": "x",
         "y": [
          807,
          973,
          973
         ],
         "yaxis": "y"
        },
        {
         "hovertemplate": "ilce=KARTAL<br>agirlikli_puan=%{x}<br>nufus_yogunlugu=%{y}<br>SES SKORU=%{marker.size}<extra></extra>",
         "legendgroup": "KARTAL",
         "marker": {
          "color": "#00cc96",
          "size": [
           75,
           75,
           37.5,
           37.5,
           37.5,
           0
          ],
          "sizemode": "area",
          "sizeref": 0.25,
          "symbol": "circle"
         },
         "mode": "markers",
         "name": "KARTAL",
         "orientation": "v",
         "showlegend": true,
         "type": "scatter",
         "x": [
          0.5579628860501291,
          0.5579628860501291,
          0.5399342530585275,
          0.4506488161104501,
          0.4506488161104501,
          0
         ],
         "xaxis": "x",
         "y": [
          6099,
          6099,
          23557,
          10531,
          10531,
          15196
         ],
         "yaxis": "y"
        },
        {
         "hovertemplate": "ilce=TUZLA<br>agirlikli_puan=%{x}<br>nufus_yogunlugu=%{y}<br>SES SKORU=%{marker.size}<extra></extra>",
         "legendgroup": "TUZLA",
         "marker": {
          "color": "#ab63fa",
          "size": [
           62.5,
           50,
           62.5,
           50,
           50,
           50,
           37.5,
           25,
           25,
           25
          ],
          "sizemode": "area",
          "sizeref": 0.25,
          "symbol": "circle"
         },
         "mode": "markers",
         "name": "TUZLA",
         "orientation": "v",
         "showlegend": true,
         "type": "scatter",
         "x": [
          0.5523446913289599,
          0.5242705201580429,
          0.507539693486648,
          0.4247601610002097,
          0.4247601610002097,
          0.4247601610002097,
          0.40550214897801173,
          0.3765934663958954,
          0.3141522377007921,
          0.3141522377007921
         ],
         "xaxis": "x",
         "y": [
          3737,
          8339,
          4123,
          377,
          377,
          377,
          2806,
          11484,
          94.8,
          94.8
         ],
         "yaxis": "y"
        },
        {
         "hovertemplate": "ilce=BAYRAMPASA<br>agirlikli_puan=%{x}<br>nufus_yogunlugu=%{y}<br>SES SKORU=%{marker.size}<extra></extra>",
         "legendgroup": "BAYRAMPASA",
         "marker": {
          "color": "#FFA15A",
          "size": [
           25,
           37.5,
           37.5,
           37.5,
           37.5
          ],
          "sizemode": "area",
          "sizeref": 0.25,
          "symbol": "circle"
         },
         "mode": "markers",
         "name": "BAYRAMPASA",
         "orientation": "v",
         "showlegend": true,
         "type": "scatter",
         "x": [
          0.5476027460343945,
          0.4691533062692417,
          0.4691533062692417,
          0.4691533062692417,
          0.4691533062692417
         ],
         "xaxis": "x",
         "y": [
          42019,
          12394,
          12394,
          12394,
          12394
         ],
         "yaxis": "y"
        },
        {
         "hovertemplate": "ilce=BEYOGLU<br>agirlikli_puan=%{x}<br>nufus_yogunlugu=%{y}<br>SES SKORU=%{marker.size}<extra></extra>",
         "legendgroup": "BEYOGLU",
         "marker": {
          "color": "#19d3f3",
          "size": [
           100,
           87.5,
           25,
           62.5,
           25,
           25,
           25,
           25,
           0
          ],
          "sizemode": "area",
          "sizeref": 0.25,
          "symbol": "circle"
         },
         "mode": "markers",
         "name": "BEYOGLU",
         "orientation": "v",
         "showlegend": true,
         "type": "scatter",
         "x": [
          0.5390826772849302,
          0.49635773216682555,
          0.3666011659981796,
          0.35965072011682786,
          0.22452568720822977,
          0.1727336921708834,
          0.1727336921708834,
          0.1727336921708834,
          0
         ],
         "xaxis": "x",
         "y": [
          6215,
          10321,
          45817,
          5375,
          15608,
          905,
          905,
          905,
          17346
         ],
         "yaxis": "y"
        },
        {
         "hovertemplate": "ilce=SILIVRI<br>agirlikli_puan=%{x}<br>nufus_yogunlugu=%{y}<br>SES SKORU=%{marker.size}<extra></extra>",
         "legendgroup": "SILIVRI",
         "marker": {
          "color": "#FF6692",
          "size": [
           37.5,
           37.5,
           12.5,
           12.5
          ],
          "sizemode": "area",
          "sizeref": 0.25,
          "symbol": "circle"
         },
         "mode": "markers",
         "name": "SILIVRI",
         "orientation": "v",
         "showlegend": true,
         "type": "scatter",
         "x": [
          0.5242489628340685,
          0.5242489628340685,
          0.312924876583304,
          0.312924876583304
         ],
         "xaxis": "x",
         "y": [
          1368,
          1368,
          227,
          227
         ],
         "yaxis": "y"
        },
        {
         "hovertemplate": "ilce=SANCAKTEPE<br>agirlikli_puan=%{x}<br>nufus_yogunlugu=%{y}<br>SES SKORU=%{marker.size}<extra></extra>",
         "legendgroup": "SANCAKTEPE",
         "marker": {
          "color": "#B6E880",
          "size": [
           37.5,
           25,
           12.5
          ],
          "sizemode": "area",
          "sizeref": 0.25,
          "symbol": "circle"
         },
         "mode": "markers",
         "name": "SANCAKTEPE",
         "orientation": "v",
         "showlegend": true,
         "type": "scatter",
         "x": [
          0.5110692967369542,
          0.4528495798790502,
          0.37659782532287955
         ],
         "xaxis": "x",
         "y": [
          8093,
          17699,
          12576
         ],
         "yaxis": "y"
        },
        {
         "hovertemplate": "ilce=SULTANBEYLI<br>agirlikli_puan=%{x}<br>nufus_yogunlugu=%{y}<br>SES SKORU=%{marker.size}<extra></extra>",
         "legendgroup": "SULTANBEYLI",
         "marker": {
          "color": "#FF97FF",
          "size": [
           25
          ],
          "sizemode": "area",
          "sizeref": 0.25,
          "symbol": "circle"
         },
         "mode": "markers",
         "name": "SULTANBEYLI",
         "orientation": "v",
         "showlegend": true,
         "type": "scatter",
         "x": [
          0.5049069079978469
         ],
         "xaxis": "x",
         "y": [
          21049
         ],
         "yaxis": "y"
        },
        {
         "hovertemplate": "ilce=BESIKTAS<br>agirlikli_puan=%{x}<br>nufus_yogunlugu=%{y}<br>SES SKORU=%{marker.size}<extra></extra>",
         "legendgroup": "BESIKTAS",
         "marker": {
          "color": "#FECB52",
          "size": [
           87.5,
           87.5,
           100,
           100,
           100,
           100,
           87.5,
           100,
           100,
           100,
           100,
           100,
           87.5,
           75,
           87.5,
           87.5,
           75,
           0
          ],
          "sizemode": "area",
          "sizeref": 0.25,
          "symbol": "circle"
         },
         "mode": "markers",
         "name": "BESIKTAS",
         "orientation": "v",
         "showlegend": true,
         "type": "scatter",
         "x": [
          0.5023709446429735,
          0.5023709446429735,
          0.49902866207857877,
          0.4902915273671404,
          0.4902915273671404,
          0.4902915273671404,
          0.48774735810214637,
          0.4576947278435799,
          0.4545287707147607,
          0.43949190385942505,
          0.43949190385942505,
          0.43949190385942505,
          0.425254021628093,
          0.4110127580230097,
          0.4007428789863425,
          0.3945173571142464,
          0.3610050470714133,
          0
         ],
         "xaxis": "x",
         "y": [
          26466,
          26466,
          12153,
          9854,
          9854,
          9854,
          24288,
          6826,
          4880,
          2956,
          2956,
          2956,
          9867,
          21967,
          5581,
          5988,
          14670,
          10356
         ],
         "yaxis": "y"
        },
        {
         "hovertemplate": "ilce=CEKMEKOY<br>agirlikli_puan=%{x}<br>nufus_yogunlugu=%{y}<br>SES SKORU=%{marker.size}<extra></extra>",
         "legendgroup": "CEKMEKOY",
         "marker": {
          "color": "#636efa",
          "size": [
           50,
           62.5,
           62.5,
           62.5
          ],
          "sizemode": "area",
          "sizeref": 0.25,
          "symbol": "circle"
         },
         "mode": "markers",
         "name": "CEKMEKOY",
         "orientation": "v",
         "showlegend": true,
         "type": "scatter",
         "x": [
          0.500203027783097,
          0.48218282510224175,
          0.48218282510224175,
          0.48218282510224175
         ],
         "xaxis": "x",
         "y": [
          2925,
          88.3,
          88.3,
          88.3
         ],
         "yaxis": "y"
        },
        {
         "hovertemplate": "ilce=BAGCILAR<br>agirlikli_puan=%{x}<br>nufus_yogunlugu=%{y}<br>SES SKORU=%{marker.size}<extra></extra>",
         "legendgroup": "BAGCILAR",
         "marker": {
          "color": "#EF553B",
          "size": [
           25,
           25,
           37.5,
           37.5,
           37.5,
           37.5,
           0,
           0,
           0
          ],
          "sizemode": "area",
          "sizeref": 0.25,
          "symbol": "circle"
         },
         "mode": "markers",
         "name": "BAGCILAR",
         "orientation": "v",
         "showlegend": true,
         "type": "scatter",
         "x": [
          0.4911114366520637,
          0.4911114366520637,
          0.449059721718274,
          0.449059721718274,
          0.449059721718274,
          0.4403738452924511,
          0,
          0,
          0
         ],
         "xaxis": "x",
         "y": [
          23064,
          23064,
          5225,
          5225,
          5225,
          11425,
          26817,
          26817,
          26817
         ],
         "yaxis": "y"
        },
        {
         "hovertemplate": "ilce=SARIYER<br>agirlikli_puan=%{x}<br>nufus_yogunlugu=%{y}<br>SES SKORU=%{marker.size}<extra></extra>",
         "legendgroup": "SARIYER",
         "marker": {
          "color": "#00cc96",
          "size": [
           87.5,
           87.5,
           87.5,
           87.5,
           87.5,
           87.5,
           87.5,
           87.5,
           87.5,
           87.5,
           87.5,
           87.5,
           75,
           75,
           75,
           62.5,
           50,
           37.5,
           37.5,
           37.5,
           37.5,
           37.5
          ],
          "sizemode": "area",
          "sizeref": 0.25,
          "symbol": "circle"
         },
         "mode": "markers",
         "name": "SARIYER",
         "orientation": "v",
         "showlegend": true,
         "type": "scatter",
         "x": [
          0.4338744622459151,
          0.4338744622459151,
          0.4087254810241623,
          0.3790496608493338,
          0.3731070842342568,
          0.3731070842342568,
          0.3731070842342568,
          0.3731070842342568,
          0.3731070842342568,
          0.3731070842342568,
          0.37067891403970094,
          0.37067891403970094,
          0.36314354398818177,
          0.36314354398818177,
          0.36314354398818177,
          0.299139792570185,
          0.2581013712124325,
          0.235141674791434,
          0.235141674791434,
          0.235141674791434,
          0.235141674791434,
          0.235141674791434
         ],
         "xaxis": "x",
         "y": [
          12196,
          12196,
          1623,
          3314,
          1328,
          1328,
          1328,
          1328,
          1328,
          1328,
          488,
          488,
          6171,
          6171,
          6171,
          9185,
          15300,
          2264,
          2264,
          2264,
          2264,
          2264
         ],
         "yaxis": "y"
        },
        {
         "hovertemplate": "ilce=ARNAVUTKOY<br>agirlikli_puan=%{x}<br>nufus_yogunlugu=%{y}<br>SES SKORU=%{marker.size}<extra></extra>",
         "legendgroup": "ARNAVUTKOY",
         "marker": {
          "color": "#ab63fa",
          "size": [
           12.5,
           12.5,
           12.5,
           12.5
          ],
          "sizemode": "area",
          "sizeref": 0.25,
          "symbol": "circle"
         },
         "mode": "markers",
         "name": "ARNAVUTKOY",
         "orientation": "v",
         "showlegend": true,
         "type": "scatter",
         "x": [
          0.3101744982042772,
          0.3101744982042772,
          0.3101744982042772,
          0.3101744982042772
         ],
         "xaxis": "x",
         "y": [
          149,
          149,
          149,
          149
         ],
         "yaxis": "y"
        }
       ],
       "layout": {
        "height": 450,
        "legend": {
         "itemsizing": "constant",
         "orientation": "h",
         "title": {
          "text": "ilce"
         },
         "tracegroupgap": 0,
         "x": 1,
         "xanchor": "right",
         "y": 1.02,
         "yanchor": "bottom"
        },
        "margin": {
         "t": 60
        },
        "template": {
         "data": {
          "bar": [
           {
            "error_x": {
             "color": "#2a3f5f"
            },
            "error_y": {
             "color": "#2a3f5f"
            },
            "marker": {
             "line": {
              "color": "#E5ECF6",
              "width": 0.5
             },
             "pattern": {
              "fillmode": "overlay",
              "size": 10,
              "solidity": 0.2
             }
            },
            "type": "bar"
           }
          ],
          "barpolar": [
           {
            "marker": {
             "line": {
              "color": "#E5ECF6",
              "width": 0.5
             },
             "pattern": {
              "fillmode": "overlay",
              "size": 10,
              "solidity": 0.2
             }
            },
            "type": "barpolar"
           }
          ],
          "carpet": [
           {
            "aaxis": {
             "endlinecolor": "#2a3f5f",
             "gridcolor": "white",
             "linecolor": "white",
             "minorgridcolor": "white",
             "startlinecolor": "#2a3f5f"
            },
            "baxis": {
             "endlinecolor": "#2a3f5f",
             "gridcolor": "white",
             "linecolor": "white",
             "minorgridcolor": "white",
             "startlinecolor": "#2a3f5f"
            },
            "type": "carpet"
           }
          ],
          "choropleth": [
           {
            "colorbar": {
             "outlinewidth": 0,
             "ticks": ""
            },
            "type": "choropleth"
           }
          ],
          "contour": [
           {
            "colorbar": {
             "outlinewidth": 0,
             "ticks": ""
            },
            "colorscale": [
             [
              0,
              "#0d0887"
             ],
             [
              0.1111111111111111,
              "#46039f"
             ],
             [
              0.2222222222222222,
              "#7201a8"
             ],
             [
              0.3333333333333333,
              "#9c179e"
             ],
             [
              0.4444444444444444,
              "#bd3786"
             ],
             [
              0.5555555555555556,
              "#d8576b"
             ],
             [
              0.6666666666666666,
              "#ed7953"
             ],
             [
              0.7777777777777778,
              "#fb9f3a"
             ],
             [
              0.8888888888888888,
              "#fdca26"
             ],
             [
              1,
              "#f0f921"
             ]
            ],
            "type": "contour"
           }
          ],
          "contourcarpet": [
           {
            "colorbar": {
             "outlinewidth": 0,
             "ticks": ""
            },
            "type": "contourcarpet"
           }
          ],
          "heatmap": [
           {
            "colorbar": {
             "outlinewidth": 0,
             "ticks": ""
            },
            "colorscale": [
             [
              0,
              "#0d0887"
             ],
             [
              0.1111111111111111,
              "#46039f"
             ],
             [
              0.2222222222222222,
              "#7201a8"
             ],
             [
              0.3333333333333333,
              "#9c179e"
             ],
             [
              0.4444444444444444,
              "#bd3786"
             ],
             [
              0.5555555555555556,
              "#d8576b"
             ],
             [
              0.6666666666666666,
              "#ed7953"
             ],
             [
              0.7777777777777778,
              "#fb9f3a"
             ],
             [
              0.8888888888888888,
              "#fdca26"
             ],
             [
              1,
              "#f0f921"
             ]
            ],
            "type": "heatmap"
           }
          ],
          "heatmapgl": [
           {
            "colorbar": {
             "outlinewidth": 0,
             "ticks": ""
            },
            "colorscale": [
             [
              0,
              "#0d0887"
             ],
             [
              0.1111111111111111,
              "#46039f"
             ],
             [
              0.2222222222222222,
              "#7201a8"
             ],
             [
              0.3333333333333333,
              "#9c179e"
             ],
             [
              0.4444444444444444,
              "#bd3786"
             ],
             [
              0.5555555555555556,
              "#d8576b"
             ],
             [
              0.6666666666666666,
              "#ed7953"
             ],
             [
              0.7777777777777778,
              "#fb9f3a"
             ],
             [
              0.8888888888888888,
              "#fdca26"
             ],
             [
              1,
              "#f0f921"
             ]
            ],
            "type": "heatmapgl"
           }
          ],
          "histogram": [
           {
            "marker": {
             "pattern": {
              "fillmode": "overlay",
              "size": 10,
              "solidity": 0.2
             }
            },
            "type": "histogram"
           }
          ],
          "histogram2d": [
           {
            "colorbar": {
             "outlinewidth": 0,
             "ticks": ""
            },
            "colorscale": [
             [
              0,
              "#0d0887"
             ],
             [
              0.1111111111111111,
              "#46039f"
             ],
             [
              0.2222222222222222,
              "#7201a8"
             ],
             [
              0.3333333333333333,
              "#9c179e"
             ],
             [
              0.4444444444444444,
              "#bd3786"
             ],
             [
              0.5555555555555556,
              "#d8576b"
             ],
             [
              0.6666666666666666,
              "#ed7953"
             ],
             [
              0.7777777777777778,
              "#fb9f3a"
             ],
             [
              0.8888888888888888,
              "#fdca26"
             ],
             [
              1,
              "#f0f921"
             ]
            ],
            "type": "histogram2d"
           }
          ],
          "histogram2dcontour": [
           {
            "colorbar": {
             "outlinewidth": 0,
             "ticks": ""
            },
            "colorscale": [
             [
              0,
              "#0d0887"
             ],
             [
              0.1111111111111111,
              "#46039f"
             ],
             [
              0.2222222222222222,
              "#7201a8"
             ],
             [
              0.3333333333333333,
              "#9c179e"
             ],
             [
              0.4444444444444444,
              "#bd3786"
             ],
             [
              0.5555555555555556,
              "#d8576b"
             ],
             [
              0.6666666666666666,
              "#ed7953"
             ],
             [
              0.7777777777777778,
              "#fb9f3a"
             ],
             [
              0.8888888888888888,
              "#fdca26"
             ],
             [
              1,
              "#f0f921"
             ]
            ],
            "type": "histogram2dcontour"
           }
          ],
          "mesh3d": [
           {
            "colorbar": {
             "outlinewidth": 0,
             "ticks": ""
            },
            "type": "mesh3d"
           }
          ],
          "parcoords": [
           {
            "line": {
             "colorbar": {
              "outlinewidth": 0,
              "ticks": ""
             }
            },
            "type": "parcoords"
           }
          ],
          "pie": [
           {
            "automargin": true,
            "type": "pie"
           }
          ],
          "scatter": [
           {
            "fillpattern": {
             "fillmode": "overlay",
             "size": 10,
             "solidity": 0.2
            },
            "type": "scatter"
           }
          ],
          "scatter3d": [
           {
            "line": {
             "colorbar": {
              "outlinewidth": 0,
              "ticks": ""
             }
            },
            "marker": {
             "colorbar": {
              "outlinewidth": 0,
              "ticks": ""
             }
            },
            "type": "scatter3d"
           }
          ],
          "scattercarpet": [
           {
            "marker": {
             "colorbar": {
              "outlinewidth": 0,
              "ticks": ""
             }
            },
            "type": "scattercarpet"
           }
          ],
          "scattergeo": [
           {
            "marker": {
             "colorbar": {
              "outlinewidth": 0,
              "ticks": ""
             }
            },
            "type": "scattergeo"
           }
          ],
          "scattergl": [
           {
            "marker": {
             "colorbar": {
              "outlinewidth": 0,
              "ticks": ""
             }
            },
            "type": "scattergl"
           }
          ],
          "scattermapbox": [
           {
            "marker": {
             "colorbar": {
              "outlinewidth": 0,
              "ticks": ""
             }
            },
            "type": "scattermapbox"
           }
          ],
          "scatterpolar": [
           {
            "marker": {
             "colorbar": {
              "outlinewidth": 0,
              "ticks": ""
             }
            },
            "type": "scatterpolar"
           }
          ],
          "scatterpolargl": [
           {
            "marker": {
             "colorbar": {
              "outlinewidth": 0,
              "ticks": ""
             }
            },
            "type": "scatterpolargl"
           }
          ],
          "scatterternary": [
           {
            "marker": {
             "colorbar": {
              "outlinewidth": 0,
              "ticks": ""
             }
            },
            "type": "scatterternary"
           }
          ],
          "surface": [
           {
            "colorbar": {
             "outlinewidth": 0,
             "ticks": ""
            },
            "colorscale": [
             [
              0,
              "#0d0887"
             ],
             [
              0.1111111111111111,
              "#46039f"
             ],
             [
              0.2222222222222222,
              "#7201a8"
             ],
             [
              0.3333333333333333,
              "#9c179e"
             ],
             [
              0.4444444444444444,
              "#bd3786"
             ],
             [
              0.5555555555555556,
              "#d8576b"
             ],
             [
              0.6666666666666666,
              "#ed7953"
             ],
             [
              0.7777777777777778,
              "#fb9f3a"
             ],
             [
              0.8888888888888888,
              "#fdca26"
             ],
             [
              1,
              "#f0f921"
             ]
            ],
            "type": "surface"
           }
          ],
          "table": [
           {
            "cells": {
             "fill": {
              "color": "#EBF0F8"
             },
             "line": {
              "color": "white"
             }
            },
            "header": {
             "fill": {
              "color": "#C8D4E3"
             },
             "line": {
              "color": "white"
             }
            },
            "type": "table"
           }
          ]
         },
         "layout": {
          "annotationdefaults": {
           "arrowcolor": "#2a3f5f",
           "arrowhead": 0,
           "arrowwidth": 1
          },
          "autotypenumbers": "strict",
          "coloraxis": {
           "colorbar": {
            "outlinewidth": 0,
            "ticks": ""
           }
          },
          "colorscale": {
           "diverging": [
            [
             0,
             "#8e0152"
            ],
            [
             0.1,
             "#c51b7d"
            ],
            [
             0.2,
             "#de77ae"
            ],
            [
             0.3,
             "#f1b6da"
            ],
            [
             0.4,
             "#fde0ef"
            ],
            [
             0.5,
             "#f7f7f7"
            ],
            [
             0.6,
             "#e6f5d0"
            ],
            [
             0.7,
             "#b8e186"
            ],
            [
             0.8,
             "#7fbc41"
            ],
            [
             0.9,
             "#4d9221"
            ],
            [
             1,
             "#276419"
            ]
           ],
           "sequential": [
            [
             0,
             "#0d0887"
            ],
            [
             0.1111111111111111,
             "#46039f"
            ],
            [
             0.2222222222222222,
             "#7201a8"
            ],
            [
             0.3333333333333333,
             "#9c179e"
            ],
            [
             0.4444444444444444,
             "#bd3786"
            ],
            [
             0.5555555555555556,
             "#d8576b"
            ],
            [
             0.6666666666666666,
             "#ed7953"
            ],
            [
             0.7777777777777778,
             "#fb9f3a"
            ],
            [
             0.8888888888888888,
             "#fdca26"
            ],
            [
             1,
             "#f0f921"
            ]
           ],
           "sequentialminus": [
            [
             0,
             "#0d0887"
            ],
            [
             0.1111111111111111,
             "#46039f"
            ],
            [
             0.2222222222222222,
             "#7201a8"
            ],
            [
             0.3333333333333333,
             "#9c179e"
            ],
            [
             0.4444444444444444,
             "#bd3786"
            ],
            [
             0.5555555555555556,
             "#d8576b"
            ],
            [
             0.6666666666666666,
             "#ed7953"
            ],
            [
             0.7777777777777778,
             "#fb9f3a"
            ],
            [
             0.8888888888888888,
             "#fdca26"
            ],
            [
             1,
             "#f0f921"
            ]
           ]
          },
          "colorway": [
           "#636efa",
           "#EF553B",
           "#00cc96",
           "#ab63fa",
           "#FFA15A",
           "#19d3f3",
           "#FF6692",
           "#B6E880",
           "#FF97FF",
           "#FECB52"
          ],
          "font": {
           "color": "#2a3f5f"
          },
          "geo": {
           "bgcolor": "white",
           "lakecolor": "white",
           "landcolor": "#E5ECF6",
           "showlakes": true,
           "showland": true,
           "subunitcolor": "white"
          },
          "hoverlabel": {
           "align": "left"
          },
          "hovermode": "closest",
          "mapbox": {
           "style": "light"
          },
          "paper_bgcolor": "white",
          "plot_bgcolor": "#E5ECF6",
          "polar": {
           "angularaxis": {
            "gridcolor": "white",
            "linecolor": "white",
            "ticks": ""
           },
           "bgcolor": "#E5ECF6",
           "radialaxis": {
            "gridcolor": "white",
            "linecolor": "white",
            "ticks": ""
           }
          },
          "scene": {
           "xaxis": {
            "backgroundcolor": "#E5ECF6",
            "gridcolor": "white",
            "gridwidth": 2,
            "linecolor": "white",
            "showbackground": true,
            "ticks": "",
            "zerolinecolor": "white"
           },
           "yaxis": {
            "backgroundcolor": "#E5ECF6",
            "gridcolor": "white",
            "gridwidth": 2,
            "linecolor": "white",
            "showbackground": true,
            "ticks": "",
            "zerolinecolor": "white"
           },
           "zaxis": {
            "backgroundcolor": "#E5ECF6",
            "gridcolor": "white",
            "gridwidth": 2,
            "linecolor": "white",
            "showbackground": true,
            "ticks": "",
            "zerolinecolor": "white"
           }
          },
          "shapedefaults": {
           "line": {
            "color": "#2a3f5f"
           }
          },
          "ternary": {
           "aaxis": {
            "gridcolor": "white",
            "linecolor": "white",
            "ticks": ""
           },
           "baxis": {
            "gridcolor": "white",
            "linecolor": "white",
            "ticks": ""
           },
           "bgcolor": "#E5ECF6",
           "caxis": {
            "gridcolor": "white",
            "linecolor": "white",
            "ticks": ""
           }
          },
          "title": {
           "x": 0.05
          },
          "xaxis": {
           "automargin": true,
           "gridcolor": "white",
           "linecolor": "white",
           "ticks": "",
           "title": {
            "standoff": 15
           },
           "zerolinecolor": "white",
           "zerolinewidth": 2
          },
          "yaxis": {
           "automargin": true,
           "gridcolor": "white",
           "linecolor": "white",
           "ticks": "",
           "title": {
            "standoff": 15
           },
           "zerolinecolor": "white",
           "zerolinewidth": 2
          }
         }
        },
        "width": 1400,
        "xaxis": {
         "anchor": "y",
         "domain": [
          0,
          1
         ],
         "title": {
          "text": "agirlikli_puan"
         }
        },
        "yaxis": {
         "anchor": "x",
         "domain": [
          0,
          1
         ],
         "title": {
          "text": "nufus_yogunlugu"
         }
        }
       }
      }
     },
     "metadata": {},
     "output_type": "display_data"
    }
   ],
   "source": [
    "fig = px.scatter(brew, x='agirlikli_puan', y='nufus_yogunlugu', size='SES SKORU', color='ilce')\n",
    "fig.update_layout(legend=dict(orientation=\"h\", yanchor=\"bottom\", y=1.02, xanchor=\"right\", x=1),\n",
    "                  width=1400, height=450)\n",
    "fig.show()"
   ]
  },
  {
   "cell_type": "code",
   "execution_count": 96,
   "metadata": {},
   "outputs": [],
   "source": [
    "brewstation = brew.groupby(['ilce','mahalle']).size().reset_index(name=\"brew_sube_sayisi\")"
   ]
  },
  {
   "cell_type": "code",
   "execution_count": 97,
   "metadata": {},
   "outputs": [
    {
     "data": {
      "text/html": [
       "<div>\n",
       "<style scoped>\n",
       "    .dataframe tbody tr th:only-of-type {\n",
       "        vertical-align: middle;\n",
       "    }\n",
       "\n",
       "    .dataframe tbody tr th {\n",
       "        vertical-align: top;\n",
       "    }\n",
       "\n",
       "    .dataframe thead th {\n",
       "        text-align: right;\n",
       "    }\n",
       "</style>\n",
       "<table border=\"1\" class=\"dataframe\">\n",
       "  <thead>\n",
       "    <tr style=\"text-align: right;\">\n",
       "      <th></th>\n",
       "      <th>ilce</th>\n",
       "      <th>mahalle</th>\n",
       "      <th>brew_sube_sayisi</th>\n",
       "    </tr>\n",
       "  </thead>\n",
       "  <tbody>\n",
       "    <tr>\n",
       "      <th>0</th>\n",
       "      <td>ARNAVUTKOY</td>\n",
       "      <td>TAYAKADIN</td>\n",
       "      <td>4</td>\n",
       "    </tr>\n",
       "    <tr>\n",
       "      <th>1</th>\n",
       "      <td>ATASEHIR</td>\n",
       "      <td>ATATURK</td>\n",
       "      <td>5</td>\n",
       "    </tr>\n",
       "    <tr>\n",
       "      <th>2</th>\n",
       "      <td>ATASEHIR</td>\n",
       "      <td>BARBAROS</td>\n",
       "      <td>5</td>\n",
       "    </tr>\n",
       "    <tr>\n",
       "      <th>3</th>\n",
       "      <td>ATASEHIR</td>\n",
       "      <td>ICERENKOY</td>\n",
       "      <td>2</td>\n",
       "    </tr>\n",
       "    <tr>\n",
       "      <th>4</th>\n",
       "      <td>ATASEHIR</td>\n",
       "      <td>KUCUKBAKKALKOY</td>\n",
       "      <td>5</td>\n",
       "    </tr>\n",
       "  </tbody>\n",
       "</table>\n",
       "</div>"
      ],
      "text/plain": [
       "         ilce         mahalle  brew_sube_sayisi\n",
       "0  ARNAVUTKOY       TAYAKADIN                 4\n",
       "1    ATASEHIR         ATATURK                 5\n",
       "2    ATASEHIR        BARBAROS                 5\n",
       "3    ATASEHIR       ICERENKOY                 2\n",
       "4    ATASEHIR  KUCUKBAKKALKOY                 5"
      ]
     },
     "execution_count": 97,
     "metadata": {},
     "output_type": "execute_result"
    }
   ],
   "source": [
    "brewstation.head()"
   ]
  },
  {
   "cell_type": "code",
   "execution_count": 98,
   "metadata": {},
   "outputs": [
    {
     "data": {
      "text/html": [
       "<div>\n",
       "<style scoped>\n",
       "    .dataframe tbody tr th:only-of-type {\n",
       "        vertical-align: middle;\n",
       "    }\n",
       "\n",
       "    .dataframe tbody tr th {\n",
       "        vertical-align: top;\n",
       "    }\n",
       "\n",
       "    .dataframe thead th {\n",
       "        text-align: right;\n",
       "    }\n",
       "</style>\n",
       "<table border=\"1\" class=\"dataframe\">\n",
       "  <thead>\n",
       "    <tr style=\"text-align: right;\">\n",
       "      <th></th>\n",
       "      <th>İLÇE ADI</th>\n",
       "      <th>MAHALLE ADI</th>\n",
       "      <th>SES SKORU</th>\n",
       "      <th>nufus</th>\n",
       "      <th>nufus_yogunlugu</th>\n",
       "      <th>maliyet</th>\n",
       "      <th>agirlikli_puan</th>\n",
       "      <th>nufus_yogunlugu_agirlik</th>\n",
       "      <th>nufus_agirlik</th>\n",
       "      <th>maliyet_agirlik</th>\n",
       "      <th>ses_agirlik</th>\n",
       "    </tr>\n",
       "  </thead>\n",
       "  <tbody>\n",
       "    <tr>\n",
       "      <th>0</th>\n",
       "      <td>KADIKOY</td>\n",
       "      <td>CAFERAGA</td>\n",
       "      <td>100.0</td>\n",
       "      <td>23977</td>\n",
       "      <td>19324.0</td>\n",
       "      <td>567000</td>\n",
       "      <td>0.658805</td>\n",
       "      <td>0.311412</td>\n",
       "      <td>0.770911</td>\n",
       "      <td>0.398104</td>\n",
       "      <td>1.0</td>\n",
       "    </tr>\n",
       "    <tr>\n",
       "      <th>1</th>\n",
       "      <td>BAKIRKOY</td>\n",
       "      <td>ATAKOY7-8-9-10.KISIM</td>\n",
       "      <td>100.0</td>\n",
       "      <td>24444</td>\n",
       "      <td>11918.0</td>\n",
       "      <td>525000</td>\n",
       "      <td>0.656336</td>\n",
       "      <td>0.192032</td>\n",
       "      <td>0.785935</td>\n",
       "      <td>0.464455</td>\n",
       "      <td>1.0</td>\n",
       "    </tr>\n",
       "    <tr>\n",
       "      <th>2</th>\n",
       "      <td>SISLI</td>\n",
       "      <td>TESVIKIYE</td>\n",
       "      <td>100.0</td>\n",
       "      <td>11522</td>\n",
       "      <td>25431.0</td>\n",
       "      <td>543000</td>\n",
       "      <td>0.649799</td>\n",
       "      <td>0.409853</td>\n",
       "      <td>0.370223</td>\n",
       "      <td>0.436019</td>\n",
       "      <td>1.0</td>\n",
       "    </tr>\n",
       "    <tr>\n",
       "      <th>3</th>\n",
       "      <td>BEYKOZ</td>\n",
       "      <td>ACARLAR</td>\n",
       "      <td>100.0</td>\n",
       "      <td>7319</td>\n",
       "      <td>1346.0</td>\n",
       "      <td>363000</td>\n",
       "      <td>0.643938</td>\n",
       "      <td>0.021618</td>\n",
       "      <td>0.235008</td>\n",
       "      <td>0.720379</td>\n",
       "      <td>1.0</td>\n",
       "    </tr>\n",
       "    <tr>\n",
       "      <th>4</th>\n",
       "      <td>KADIKOY</td>\n",
       "      <td>SUADIYE</td>\n",
       "      <td>100.0</td>\n",
       "      <td>22484</td>\n",
       "      <td>15157.0</td>\n",
       "      <td>567000</td>\n",
       "      <td>0.640568</td>\n",
       "      <td>0.244243</td>\n",
       "      <td>0.722880</td>\n",
       "      <td>0.398104</td>\n",
       "      <td>1.0</td>\n",
       "    </tr>\n",
       "  </tbody>\n",
       "</table>\n",
       "</div>"
      ],
      "text/plain": [
       "   İLÇE ADI           MAHALLE ADI  SES SKORU  nufus  nufus_yogunlugu  maliyet  \\\n",
       "0   KADIKOY              CAFERAGA      100.0  23977          19324.0   567000   \n",
       "1  BAKIRKOY  ATAKOY7-8-9-10.KISIM      100.0  24444          11918.0   525000   \n",
       "2     SISLI             TESVIKIYE      100.0  11522          25431.0   543000   \n",
       "3    BEYKOZ               ACARLAR      100.0   7319           1346.0   363000   \n",
       "4   KADIKOY               SUADIYE      100.0  22484          15157.0   567000   \n",
       "\n",
       "   agirlikli_puan  nufus_yogunlugu_agirlik  nufus_agirlik  maliyet_agirlik  \\\n",
       "0        0.658805                 0.311412       0.770911         0.398104   \n",
       "1        0.656336                 0.192032       0.785935         0.464455   \n",
       "2        0.649799                 0.409853       0.370223         0.436019   \n",
       "3        0.643938                 0.021618       0.235008         0.720379   \n",
       "4        0.640568                 0.244243       0.722880         0.398104   \n",
       "\n",
       "   ses_agirlik  \n",
       "0          1.0  \n",
       "1          1.0  \n",
       "2          1.0  \n",
       "3          1.0  \n",
       "4          1.0  "
      ]
     },
     "execution_count": 98,
     "metadata": {},
     "output_type": "execute_result"
    }
   ],
   "source": [
    "database.head()"
   ]
  },
  {
   "cell_type": "code",
   "execution_count": 99,
   "metadata": {},
   "outputs": [],
   "source": [
    "database = pd.merge(database, brewstation, left_on=['İLÇE ADI','MAHALLE ADI'], right_on=['ilce','mahalle'], how=\"left\")"
   ]
  },
  {
   "cell_type": "code",
   "execution_count": 100,
   "metadata": {},
   "outputs": [],
   "source": [
    "database.drop(['ilce','mahalle'], axis=1, inplace=True)"
   ]
  },
  {
   "cell_type": "code",
   "execution_count": 101,
   "metadata": {},
   "outputs": [],
   "source": [
    "database['brew_sube_sayisi'].fillna(0, inplace=True)"
   ]
  },
  {
   "cell_type": "code",
   "execution_count": 102,
   "metadata": {},
   "outputs": [],
   "source": [
    "database.to_csv(\"../Datasets/PROCESSED/database.csv\", index=False)"
   ]
  }
 ],
 "metadata": {
  "kernelspec": {
   "display_name": "Python 3",
   "language": "python",
   "name": "python3"
  },
  "language_info": {
   "codemirror_mode": {
    "name": "ipython",
    "version": 3
   },
   "file_extension": ".py",
   "mimetype": "text/x-python",
   "name": "python",
   "nbconvert_exporter": "python",
   "pygments_lexer": "ipython3",
   "version": "3.11.2"
  },
  "orig_nbformat": 4
 },
 "nbformat": 4,
 "nbformat_minor": 2
}
